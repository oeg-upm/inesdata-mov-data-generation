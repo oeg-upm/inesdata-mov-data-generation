{
 "cells": [
  {
   "cell_type": "markdown",
   "metadata": {},
   "source": [
    "<div id=\"top\">\n",
    "<!-- <div style=\"background-image: url(https://www.emtmadrid.es/getattachment/da3be644-cb9d-44db-8011-e3f40f1c5c34); opacity: 0.2\"/> -->\n",
    "<img src=\"https://www.gmv.com/sites/default/files/content/image/2021/11/03/115/gmv_rgbredblack.png\" alt=\"GMV Logo\" style=\"width: 200px\">\n",
    "<img src=\"https://www.upm.es/sfs/Rectorado/Gabinete%20del%20Rector/Logos/UPM/CEI/LOGOTIPO%20leyenda%20color%20JPG%20p.png\" alt=\"UPM Logo\" style=\"float: right; width: 200px\">\n",
    "<h1><b>EDA: Informo dataset 🚦</b></h1>\n",
    "<h5 style=\"text-align: right\">INESDATA-MOV</h5>\n",
    "</div>\n",
    "\n",
    "\n",
    "# Análisis EDA\n",
    "En este cuaderno se realiza el análisis de datos exploratorio (EDA) del dataset de [Informo](https://informo.madrid.es/#/realtime?panel=live). Una vez realizado el análisis de calidad se estudiará para el dataset resultante:\n",
    "\n",
    "* Valores nulos y unicidad de las variables\n",
    "* Correlaciones entre las variables\n",
    "\n",
    "Con ello se pretende hacer un filtrado de las variables que no dispongan de información relevante para el modelo o variables con la misma información. Por otro lado se hará un estudio de los valores nulos para, en caso de que sea pertinente, reconstruir estos datos. \n"
   ]
  },
  {
   "cell_type": "code",
   "execution_count": 91,
   "metadata": {},
   "outputs": [],
   "source": [
    "import os\n",
    "import statistics\n",
    "import random\n",
    "import polars as pl\n",
    "import pandas as pd\n",
    "import seaborn as sns\n",
    "import polars.selectors as cs\n",
    "import matplotlib.pyplot as plt\n",
    "from datetime import datetime, timedelta\n",
    "\n",
    "import warnings\n",
    "\n",
    "warnings.filterwarnings(\"ignore\")"
   ]
  },
  {
   "cell_type": "code",
   "execution_count": 92,
   "metadata": {},
   "outputs": [],
   "source": [
    "ROOT_PATH = os.path.dirname(os.path.dirname(os.path.dirname(os.path.abspath(os.getcwd()))))\n",
    "DATA_PATH = os.path.join(ROOT_PATH, \"data\", \"processed\")\n",
    "INFORMO_DATA_PATH = os.path.join(DATA_PATH, \"informo\")"
   ]
  },
  {
   "cell_type": "markdown",
   "metadata": {},
   "source": [
    "## Dataset"
   ]
  },
  {
   "cell_type": "code",
   "execution_count": 93,
   "metadata": {},
   "outputs": [],
   "source": [
    "sample_data = pl.scan_csv(os.path.join(INFORMO_DATA_PATH, \"2024\", \"03\",\"13\", f\"informo_20240313.csv\"),ignore_errors=True)"
   ]
  },
  {
   "cell_type": "code",
   "execution_count": 94,
   "metadata": {},
   "outputs": [
    {
     "data": {
      "text/html": [
       "<div><style>\n",
       ".dataframe > thead > tr,\n",
       ".dataframe > tbody > tr {\n",
       "  text-align: right;\n",
       "  white-space: pre-wrap;\n",
       "}\n",
       "</style>\n",
       "<small>shape: (853_114, 15)</small><table border=\"1\" class=\"dataframe\"><thead><tr><th>idelem</th><th>descripcion</th><th>accesoAsociado</th><th>intensidad</th><th>ocupacion</th><th>carga</th><th>nivelServicio</th><th>intensidadSat</th><th>error</th><th>subarea</th><th>st_x</th><th>st_y</th><th>velocidad</th><th>datetime</th><th>date</th></tr><tr><td>i64</td><td>str</td><td>i64</td><td>i64</td><td>i64</td><td>i64</td><td>i64</td><td>i64</td><td>str</td><td>i64</td><td>str</td><td>str</td><td>i64</td><td>str</td><td>str</td></tr></thead><tbody><tr><td>6711</td><td>null</td><td>null</td><td>3840</td><td>30</td><td>105</td><td>1</td><td>null</td><td>&quot;N&quot;</td><td>null</td><td>&quot;442306,1965845…</td><td>&quot;4481615,716877…</td><td>37</td><td>&quot;2024-03-13 07:…</td><td>&quot;2024-03-13&quot;</td></tr><tr><td>10112</td><td>&quot;Arturo Soria -…</td><td>4604002</td><td>740</td><td>4</td><td>29</td><td>1</td><td>2438</td><td>&quot;N&quot;</td><td>3203</td><td>&quot;443972,0182132…</td><td>&quot;4478986,477391…</td><td>null</td><td>&quot;2024-03-13 07:…</td><td>&quot;2024-03-13&quot;</td></tr><tr><td>6038</td><td>&quot;Torrelaguna  -…</td><td>4627002</td><td>380</td><td>2</td><td>28</td><td>1</td><td>1390</td><td>&quot;N&quot;</td><td>3246</td><td>&quot;443981,9555378…</td><td>&quot;4478451,452544…</td><td>null</td><td>&quot;2024-03-13 07:…</td><td>&quot;2024-03-13&quot;</td></tr><tr><td>6039</td><td>&quot;Torrelaguna  -…</td><td>4628002</td><td>840</td><td>6</td><td>24</td><td>0</td><td>3000</td><td>&quot;N&quot;</td><td>3215</td><td>&quot;443984,1391077…</td><td>&quot;4478277,302264…</td><td>null</td><td>&quot;2024-03-13 07:…</td><td>&quot;2024-03-13&quot;</td></tr><tr><td>6040</td><td>&quot;Torrelaguna  -…</td><td>4628001</td><td>520</td><td>5</td><td>31</td><td>1</td><td>2000</td><td>&quot;N&quot;</td><td>3215</td><td>&quot;444079,3042011…</td><td>&quot;4478026,603977…</td><td>null</td><td>&quot;2024-03-13 07:…</td><td>&quot;2024-03-13&quot;</td></tr><tr><td>&hellip;</td><td>&hellip;</td><td>&hellip;</td><td>&hellip;</td><td>&hellip;</td><td>&hellip;</td><td>&hellip;</td><td>&hellip;</td><td>&hellip;</td><td>&hellip;</td><td>&hellip;</td><td>&hellip;</td><td>&hellip;</td><td>&hellip;</td><td>&hellip;</td></tr><tr><td>10031</td><td>&quot;Narcís Monturi…</td><td>4304002</td><td>20</td><td>0</td><td>2</td><td>0</td><td>775</td><td>&quot;N&quot;</td><td>314</td><td>&quot;440656,7563117…</td><td>&quot;4481793,239724…</td><td>null</td><td>&quot;2024-03-13 22:…</td><td>&quot;2024-03-13&quot;</td></tr><tr><td>10463</td><td>&quot;Av. Ilustració…</td><td>null</td><td>700</td><td>1</td><td>14</td><td>0</td><td>4420</td><td>&quot;N&quot;</td><td>314</td><td>&quot;440789,2294428…</td><td>&quot;4481734,191243…</td><td>null</td><td>&quot;2024-03-13 22:…</td><td>&quot;2024-03-13&quot;</td></tr><tr><td>3421</td><td>&quot;Bravo Murillo …</td><td>6201004</td><td>480</td><td>1</td><td>16</td><td>0</td><td>2900</td><td>&quot;N&quot;</td><td>304</td><td>&quot;441453,9700354…</td><td>&quot;4479675,623063…</td><td>null</td><td>&quot;2024-03-13 22:…</td><td>&quot;2024-03-13&quot;</td></tr><tr><td>3423</td><td>&quot;Lateral Pº Cas…</td><td>6003012</td><td>280</td><td>2</td><td>8</td><td>0</td><td>3200</td><td>&quot;N&quot;</td><td>301</td><td>&quot;441493,7615599…</td><td>&quot;4479352,765088…</td><td>null</td><td>&quot;2024-03-13 22:…</td><td>&quot;2024-03-13&quot;</td></tr><tr><td>10899</td><td>&quot;Av. Entrevías …</td><td>6805002</td><td>220</td><td>1</td><td>17</td><td>0</td><td>1800</td><td>&quot;N&quot;</td><td>3008</td><td>&quot;443058,8945281…</td><td>&quot;4470747,452195…</td><td>null</td><td>&quot;2024-03-13 22:…</td><td>&quot;2024-03-13&quot;</td></tr></tbody></table></div>"
      ],
      "text/plain": [
       "shape: (853_114, 15)\n",
       "┌────────┬────────────┬────────────┬───────────┬───┬───────────┬───────────┬───────────┬───────────┐\n",
       "│ idelem ┆ descripcio ┆ accesoAsoc ┆ intensida ┆ … ┆ st_y      ┆ velocidad ┆ datetime  ┆ date      │\n",
       "│ ---    ┆ n          ┆ iado       ┆ d         ┆   ┆ ---       ┆ ---       ┆ ---       ┆ ---       │\n",
       "│ i64    ┆ ---        ┆ ---        ┆ ---       ┆   ┆ str       ┆ i64       ┆ str       ┆ str       │\n",
       "│        ┆ str        ┆ i64        ┆ i64       ┆   ┆           ┆           ┆           ┆           │\n",
       "╞════════╪════════════╪════════════╪═══════════╪═══╪═══════════╪═══════════╪═══════════╪═══════════╡\n",
       "│ 6711   ┆ null       ┆ null       ┆ 3840      ┆ … ┆ 4481615,7 ┆ 37        ┆ 2024-03-1 ┆ 2024-03-1 │\n",
       "│        ┆            ┆            ┆           ┆   ┆ 1687789   ┆           ┆ 3         ┆ 3         │\n",
       "│        ┆            ┆            ┆           ┆   ┆           ┆           ┆ 07:55:08  ┆           │\n",
       "│ 10112  ┆ Arturo     ┆ 4604002    ┆ 740       ┆ … ┆ 4478986,4 ┆ null      ┆ 2024-03-1 ┆ 2024-03-1 │\n",
       "│        ┆ Soria -    ┆            ┆           ┆   ┆ 7739102   ┆           ┆ 3         ┆ 3         │\n",
       "│        ┆ Pablo      ┆            ┆           ┆   ┆           ┆           ┆ 07:55:08  ┆           │\n",
       "│        ┆ Vidal -    ┆            ┆           ┆   ┆           ┆           ┆           ┆           │\n",
       "│        ┆ Vic…       ┆            ┆           ┆   ┆           ┆           ┆           ┆           │\n",
       "│ 6038   ┆ Torrelagun ┆ 4627002    ┆ 380       ┆ … ┆ 4478451,4 ┆ null      ┆ 2024-03-1 ┆ 2024-03-1 │\n",
       "│        ┆ a  -       ┆            ┆           ┆   ┆ 5254494   ┆           ┆ 3         ┆ 3         │\n",
       "│        ┆ Arturo Bal ┆            ┆           ┆   ┆           ┆           ┆ 07:55:08  ┆           │\n",
       "│        ┆ dasano-…   ┆            ┆           ┆   ┆           ┆           ┆           ┆           │\n",
       "│ 6039   ┆ Torrelagun ┆ 4628002    ┆ 840       ┆ … ┆ 4478277,3 ┆ null      ┆ 2024-03-1 ┆ 2024-03-1 │\n",
       "│        ┆ a  - Av.   ┆            ┆           ┆   ┆ 0226478   ┆           ┆ 3         ┆ 3         │\n",
       "│        ┆ Ramón y    ┆            ┆           ┆   ┆           ┆           ┆ 07:55:08  ┆           │\n",
       "│        ┆ Cajal…     ┆            ┆           ┆   ┆           ┆           ┆           ┆           │\n",
       "│ 6040   ┆ Torrelagun ┆ 4628001    ┆ 520       ┆ … ┆ 4478026,6 ┆ null      ┆ 2024-03-1 ┆ 2024-03-1 │\n",
       "│        ┆ a  - Sorza ┆            ┆           ┆   ┆ 0397703   ┆           ┆ 3         ┆ 3         │\n",
       "│        ┆ no-Acceso  ┆            ┆           ┆   ┆           ┆           ┆ 07:55:08  ┆           │\n",
       "│        ┆ M3…        ┆            ┆           ┆   ┆           ┆           ┆           ┆           │\n",
       "│ …      ┆ …          ┆ …          ┆ …         ┆ … ┆ …         ┆ …         ┆ …         ┆ …         │\n",
       "│ 10031  ┆ Narcís     ┆ 4304002    ┆ 20        ┆ … ┆ 4481793,2 ┆ null      ┆ 2024-03-1 ┆ 2024-03-1 │\n",
       "│        ┆ Monturiol  ┆            ┆           ┆   ┆ 3972478   ┆           ┆ 3         ┆ 3         │\n",
       "│        ┆ N-S -      ┆            ┆           ┆   ┆           ┆           ┆ 22:50:11  ┆           │\n",
       "│        ┆ Sangenjo-… ┆            ┆           ┆   ┆           ┆           ┆           ┆           │\n",
       "│ 10463  ┆ Av. Ilustr ┆ null       ┆ 700       ┆ … ┆ 4481734,1 ┆ null      ┆ 2024-03-1 ┆ 2024-03-1 │\n",
       "│        ┆ ación O-E  ┆            ┆           ┆   ┆ 912437    ┆           ┆ 3         ┆ 3         │\n",
       "│        ┆ (Azobispo  ┆            ┆           ┆   ┆           ┆           ┆ 22:50:11  ┆           │\n",
       "│        ┆ Mo…        ┆            ┆           ┆   ┆           ┆           ┆           ┆           │\n",
       "│ 3421   ┆ Bravo      ┆ 6201004    ┆ 480       ┆ … ┆ 4479675,6 ┆ null      ┆ 2024-03-1 ┆ 2024-03-1 │\n",
       "│        ┆ Murillo    ┆            ┆           ┆   ┆ 2306307   ┆           ┆ 3         ┆ 3         │\n",
       "│        ┆ E-O - Pl.C ┆            ┆           ┆   ┆           ┆           ┆ 22:50:11  ┆           │\n",
       "│        ┆ astilla-…  ┆            ┆           ┆   ┆           ┆           ┆           ┆           │\n",
       "│ 3423   ┆ Lateral Pº ┆ 6003012    ┆ 280       ┆ … ┆ 4479352,7 ┆ null      ┆ 2024-03-1 ┆ 2024-03-1 │\n",
       "│        ┆ Castellana ┆            ┆           ┆   ┆ 6508833   ┆           ┆ 3         ┆ 3         │\n",
       "│        ┆ N-S -      ┆            ┆           ┆   ┆           ┆           ┆ 22:50:11  ┆           │\n",
       "│        ┆ Pl.C…      ┆            ┆           ┆   ┆           ┆           ┆           ┆           │\n",
       "│ 10899  ┆ Av.        ┆ 6805002    ┆ 220       ┆ … ┆ 4470747,4 ┆ null      ┆ 2024-03-1 ┆ 2024-03-1 │\n",
       "│        ┆ Entrevías  ┆            ┆           ┆   ┆ 5219509   ┆           ┆ 3         ┆ 3         │\n",
       "│        ┆ - Mejorana ┆            ┆           ┆   ┆           ┆           ┆ 22:50:11  ┆           │\n",
       "│        ┆ -Sierra …  ┆            ┆           ┆   ┆           ┆           ┆           ┆           │\n",
       "└────────┴────────────┴────────────┴───────────┴───┴───────────┴───────────┴───────────┴───────────┘"
      ]
     },
     "execution_count": 94,
     "metadata": {},
     "output_type": "execute_result"
    }
   ],
   "source": [
    "sample_data.collect()"
   ]
  },
  {
   "cell_type": "markdown",
   "metadata": {},
   "source": [
    "### Variables numéricas"
   ]
  },
  {
   "cell_type": "code",
   "execution_count": 95,
   "metadata": {},
   "outputs": [
    {
     "data": {
      "text/html": [
       "<div><style>\n",
       ".dataframe > thead > tr,\n",
       ".dataframe > tbody > tr {\n",
       "  text-align: right;\n",
       "  white-space: pre-wrap;\n",
       "}\n",
       "</style>\n",
       "<small>shape: (5, 9)</small><table border=\"1\" class=\"dataframe\"><thead><tr><th>idelem</th><th>accesoAsociado</th><th>intensidad</th><th>ocupacion</th><th>carga</th><th>nivelServicio</th><th>intensidadSat</th><th>subarea</th><th>velocidad</th></tr><tr><td>i64</td><td>i64</td><td>i64</td><td>i64</td><td>i64</td><td>i64</td><td>i64</td><td>i64</td><td>i64</td></tr></thead><tbody><tr><td>6711</td><td>null</td><td>3840</td><td>30</td><td>105</td><td>1</td><td>null</td><td>null</td><td>37</td></tr><tr><td>10112</td><td>4604002</td><td>740</td><td>4</td><td>29</td><td>1</td><td>2438</td><td>3203</td><td>null</td></tr><tr><td>6038</td><td>4627002</td><td>380</td><td>2</td><td>28</td><td>1</td><td>1390</td><td>3246</td><td>null</td></tr><tr><td>6039</td><td>4628002</td><td>840</td><td>6</td><td>24</td><td>0</td><td>3000</td><td>3215</td><td>null</td></tr><tr><td>6040</td><td>4628001</td><td>520</td><td>5</td><td>31</td><td>1</td><td>2000</td><td>3215</td><td>null</td></tr></tbody></table></div>"
      ],
      "text/plain": [
       "shape: (5, 9)\n",
       "┌────────┬────────────┬────────────┬───────────┬───┬────────────┬────────────┬─────────┬───────────┐\n",
       "│ idelem ┆ accesoAsoc ┆ intensidad ┆ ocupacion ┆ … ┆ nivelServi ┆ intensidad ┆ subarea ┆ velocidad │\n",
       "│ ---    ┆ iado       ┆ ---        ┆ ---       ┆   ┆ cio        ┆ Sat        ┆ ---     ┆ ---       │\n",
       "│ i64    ┆ ---        ┆ i64        ┆ i64       ┆   ┆ ---        ┆ ---        ┆ i64     ┆ i64       │\n",
       "│        ┆ i64        ┆            ┆           ┆   ┆ i64        ┆ i64        ┆         ┆           │\n",
       "╞════════╪════════════╪════════════╪═══════════╪═══╪════════════╪════════════╪═════════╪═══════════╡\n",
       "│ 6711   ┆ null       ┆ 3840       ┆ 30        ┆ … ┆ 1          ┆ null       ┆ null    ┆ 37        │\n",
       "│ 10112  ┆ 4604002    ┆ 740        ┆ 4         ┆ … ┆ 1          ┆ 2438       ┆ 3203    ┆ null      │\n",
       "│ 6038   ┆ 4627002    ┆ 380        ┆ 2         ┆ … ┆ 1          ┆ 1390       ┆ 3246    ┆ null      │\n",
       "│ 6039   ┆ 4628002    ┆ 840        ┆ 6         ┆ … ┆ 0          ┆ 3000       ┆ 3215    ┆ null      │\n",
       "│ 6040   ┆ 4628001    ┆ 520        ┆ 5         ┆ … ┆ 1          ┆ 2000       ┆ 3215    ┆ null      │\n",
       "└────────┴────────────┴────────────┴───────────┴───┴────────────┴────────────┴─────────┴───────────┘"
      ]
     },
     "execution_count": 95,
     "metadata": {},
     "output_type": "execute_result"
    }
   ],
   "source": [
    "sample_data.select(cs.numeric()).head().collect()"
   ]
  },
  {
   "cell_type": "markdown",
   "metadata": {},
   "source": [
    "### Variables categóricas"
   ]
  },
  {
   "cell_type": "code",
   "execution_count": 96,
   "metadata": {},
   "outputs": [
    {
     "data": {
      "text/html": [
       "<div><style>\n",
       ".dataframe > thead > tr,\n",
       ".dataframe > tbody > tr {\n",
       "  text-align: right;\n",
       "  white-space: pre-wrap;\n",
       "}\n",
       "</style>\n",
       "<small>shape: (5, 6)</small><table border=\"1\" class=\"dataframe\"><thead><tr><th>descripcion</th><th>error</th><th>st_x</th><th>st_y</th><th>datetime</th><th>date</th></tr><tr><td>str</td><td>str</td><td>str</td><td>str</td><td>str</td><td>str</td></tr></thead><tbody><tr><td>null</td><td>&quot;N&quot;</td><td>&quot;442306,1965845…</td><td>&quot;4481615,716877…</td><td>&quot;2024-03-13 07:…</td><td>&quot;2024-03-13&quot;</td></tr><tr><td>&quot;Arturo Soria -…</td><td>&quot;N&quot;</td><td>&quot;443972,0182132…</td><td>&quot;4478986,477391…</td><td>&quot;2024-03-13 07:…</td><td>&quot;2024-03-13&quot;</td></tr><tr><td>&quot;Torrelaguna  -…</td><td>&quot;N&quot;</td><td>&quot;443981,9555378…</td><td>&quot;4478451,452544…</td><td>&quot;2024-03-13 07:…</td><td>&quot;2024-03-13&quot;</td></tr><tr><td>&quot;Torrelaguna  -…</td><td>&quot;N&quot;</td><td>&quot;443984,1391077…</td><td>&quot;4478277,302264…</td><td>&quot;2024-03-13 07:…</td><td>&quot;2024-03-13&quot;</td></tr><tr><td>&quot;Torrelaguna  -…</td><td>&quot;N&quot;</td><td>&quot;444079,3042011…</td><td>&quot;4478026,603977…</td><td>&quot;2024-03-13 07:…</td><td>&quot;2024-03-13&quot;</td></tr></tbody></table></div>"
      ],
      "text/plain": [
       "shape: (5, 6)\n",
       "┌────────────────┬───────┬──────────────────┬──────────────────┬──────────────────────┬────────────┐\n",
       "│ descripcion    ┆ error ┆ st_x             ┆ st_y             ┆ datetime             ┆ date       │\n",
       "│ ---            ┆ ---   ┆ ---              ┆ ---              ┆ ---                  ┆ ---        │\n",
       "│ str            ┆ str   ┆ str              ┆ str              ┆ str                  ┆ str        │\n",
       "╞════════════════╪═══════╪══════════════════╪══════════════════╪══════════════════════╪════════════╡\n",
       "│ null           ┆ N     ┆ 442306,196584557 ┆ 4481615,71687789 ┆ 2024-03-13 07:55:08  ┆ 2024-03-13 │\n",
       "│ Arturo Soria - ┆ N     ┆ 443972,01821329  ┆ 4478986,47739102 ┆ 2024-03-13 07:55:08  ┆ 2024-03-13 │\n",
       "│ Pablo Vidal -  ┆       ┆                  ┆                  ┆                      ┆            │\n",
       "│ Vic…           ┆       ┆                  ┆                  ┆                      ┆            │\n",
       "│ Torrelaguna  - ┆ N     ┆ 443981,955537857 ┆ 4478451,45254494 ┆ 2024-03-13 07:55:08  ┆ 2024-03-13 │\n",
       "│ Arturo         ┆       ┆                  ┆                  ┆                      ┆            │\n",
       "│ Baldasano-…    ┆       ┆                  ┆                  ┆                      ┆            │\n",
       "│ Torrelaguna  - ┆ N     ┆ 443984,139107713 ┆ 4478277,30226478 ┆ 2024-03-13 07:55:08  ┆ 2024-03-13 │\n",
       "│ Av. Ramón y    ┆       ┆                  ┆                  ┆                      ┆            │\n",
       "│ Cajal…         ┆       ┆                  ┆                  ┆                      ┆            │\n",
       "│ Torrelaguna  - ┆ N     ┆ 444079,304201131 ┆ 4478026,60397703 ┆ 2024-03-13 07:55:08  ┆ 2024-03-13 │\n",
       "│ Sorzano-Acceso ┆       ┆                  ┆                  ┆                      ┆            │\n",
       "│ M3…            ┆       ┆                  ┆                  ┆                      ┆            │\n",
       "└────────────────┴───────┴──────────────────┴──────────────────┴──────────────────────┴────────────┘"
      ]
     },
     "execution_count": 96,
     "metadata": {},
     "output_type": "execute_result"
    }
   ],
   "source": [
    "sample_data.select(cs.string()).head().collect()"
   ]
  },
  {
   "cell_type": "markdown",
   "metadata": {},
   "source": [
    "## Preprocesamiento previo"
   ]
  },
  {
   "cell_type": "code",
   "execution_count": 97,
   "metadata": {},
   "outputs": [
    {
     "data": {
      "text/html": [
       "<div><style>\n",
       ".dataframe > thead > tr,\n",
       ".dataframe > tbody > tr {\n",
       "  text-align: right;\n",
       "  white-space: pre-wrap;\n",
       "}\n",
       "</style>\n",
       "<small>shape: (5, 13)</small><table border=\"1\" class=\"dataframe\"><thead><tr><th>idelem</th><th>descripcion</th><th>accesoAsociado</th><th>intensidad</th><th>ocupacion</th><th>carga</th><th>nivelServicio</th><th>intensidadSat</th><th>subarea</th><th>st_x</th><th>st_y</th><th>datetime</th><th>date</th></tr><tr><td>i64</td><td>str</td><td>i64</td><td>i64</td><td>i64</td><td>i64</td><td>i64</td><td>i64</td><td>i64</td><td>str</td><td>str</td><td>str</td><td>str</td></tr></thead><tbody><tr><td>6711</td><td>null</td><td>null</td><td>3840</td><td>30</td><td>105</td><td>1</td><td>null</td><td>null</td><td>&quot;442306,1965845…</td><td>&quot;4481615,716877…</td><td>&quot;2024-03-13 07:…</td><td>&quot;2024-03-13&quot;</td></tr><tr><td>10112</td><td>&quot;Arturo Soria -…</td><td>4604002</td><td>740</td><td>4</td><td>29</td><td>1</td><td>2438</td><td>3203</td><td>&quot;443972,0182132…</td><td>&quot;4478986,477391…</td><td>&quot;2024-03-13 07:…</td><td>&quot;2024-03-13&quot;</td></tr><tr><td>6038</td><td>&quot;Torrelaguna  -…</td><td>4627002</td><td>380</td><td>2</td><td>28</td><td>1</td><td>1390</td><td>3246</td><td>&quot;443981,9555378…</td><td>&quot;4478451,452544…</td><td>&quot;2024-03-13 07:…</td><td>&quot;2024-03-13&quot;</td></tr><tr><td>6039</td><td>&quot;Torrelaguna  -…</td><td>4628002</td><td>840</td><td>6</td><td>24</td><td>0</td><td>3000</td><td>3215</td><td>&quot;443984,1391077…</td><td>&quot;4478277,302264…</td><td>&quot;2024-03-13 07:…</td><td>&quot;2024-03-13&quot;</td></tr><tr><td>6040</td><td>&quot;Torrelaguna  -…</td><td>4628001</td><td>520</td><td>5</td><td>31</td><td>1</td><td>2000</td><td>3215</td><td>&quot;444079,3042011…</td><td>&quot;4478026,603977…</td><td>&quot;2024-03-13 07:…</td><td>&quot;2024-03-13&quot;</td></tr></tbody></table></div>"
      ],
      "text/plain": [
       "shape: (5, 13)\n",
       "┌────────┬────────────┬────────────┬───────────┬───┬───────────┬───────────┬───────────┬───────────┐\n",
       "│ idelem ┆ descripcio ┆ accesoAsoc ┆ intensida ┆ … ┆ st_x      ┆ st_y      ┆ datetime  ┆ date      │\n",
       "│ ---    ┆ n          ┆ iado       ┆ d         ┆   ┆ ---       ┆ ---       ┆ ---       ┆ ---       │\n",
       "│ i64    ┆ ---        ┆ ---        ┆ ---       ┆   ┆ str       ┆ str       ┆ str       ┆ str       │\n",
       "│        ┆ str        ┆ i64        ┆ i64       ┆   ┆           ┆           ┆           ┆           │\n",
       "╞════════╪════════════╪════════════╪═══════════╪═══╪═══════════╪═══════════╪═══════════╪═══════════╡\n",
       "│ 6711   ┆ null       ┆ null       ┆ 3840      ┆ … ┆ 442306,19 ┆ 4481615,7 ┆ 2024-03-1 ┆ 2024-03-1 │\n",
       "│        ┆            ┆            ┆           ┆   ┆ 6584557   ┆ 1687789   ┆ 3         ┆ 3         │\n",
       "│        ┆            ┆            ┆           ┆   ┆           ┆           ┆ 07:55:08  ┆           │\n",
       "│ 10112  ┆ Arturo     ┆ 4604002    ┆ 740       ┆ … ┆ 443972,01 ┆ 4478986,4 ┆ 2024-03-1 ┆ 2024-03-1 │\n",
       "│        ┆ Soria -    ┆            ┆           ┆   ┆ 821329    ┆ 7739102   ┆ 3         ┆ 3         │\n",
       "│        ┆ Pablo      ┆            ┆           ┆   ┆           ┆           ┆ 07:55:08  ┆           │\n",
       "│        ┆ Vidal -    ┆            ┆           ┆   ┆           ┆           ┆           ┆           │\n",
       "│        ┆ Vic…       ┆            ┆           ┆   ┆           ┆           ┆           ┆           │\n",
       "│ 6038   ┆ Torrelagun ┆ 4627002    ┆ 380       ┆ … ┆ 443981,95 ┆ 4478451,4 ┆ 2024-03-1 ┆ 2024-03-1 │\n",
       "│        ┆ a  -       ┆            ┆           ┆   ┆ 5537857   ┆ 5254494   ┆ 3         ┆ 3         │\n",
       "│        ┆ Arturo Bal ┆            ┆           ┆   ┆           ┆           ┆ 07:55:08  ┆           │\n",
       "│        ┆ dasano-…   ┆            ┆           ┆   ┆           ┆           ┆           ┆           │\n",
       "│ 6039   ┆ Torrelagun ┆ 4628002    ┆ 840       ┆ … ┆ 443984,13 ┆ 4478277,3 ┆ 2024-03-1 ┆ 2024-03-1 │\n",
       "│        ┆ a  - Av.   ┆            ┆           ┆   ┆ 9107713   ┆ 0226478   ┆ 3         ┆ 3         │\n",
       "│        ┆ Ramón y    ┆            ┆           ┆   ┆           ┆           ┆ 07:55:08  ┆           │\n",
       "│        ┆ Cajal…     ┆            ┆           ┆   ┆           ┆           ┆           ┆           │\n",
       "│ 6040   ┆ Torrelagun ┆ 4628001    ┆ 520       ┆ … ┆ 444079,30 ┆ 4478026,6 ┆ 2024-03-1 ┆ 2024-03-1 │\n",
       "│        ┆ a  - Sorza ┆            ┆           ┆   ┆ 4201131   ┆ 0397703   ┆ 3         ┆ 3         │\n",
       "│        ┆ no-Acceso  ┆            ┆           ┆   ┆           ┆           ┆ 07:55:08  ┆           │\n",
       "│        ┆ M3…        ┆            ┆           ┆   ┆           ┆           ┆           ┆           │\n",
       "└────────┴────────────┴────────────┴───────────┴───┴───────────┴───────────┴───────────┴───────────┘"
      ]
     },
     "execution_count": 97,
     "metadata": {},
     "output_type": "execute_result"
    }
   ],
   "source": [
    "# Este es el preprocesamiento obtenido del QA\n",
    "sample_data = sample_data.filter(pl.col('idelem').is_not_null(),pl.col('error')=='N').drop('velocidad','error')\n",
    "sample_data.head().collect()"
   ]
  },
  {
   "cell_type": "markdown",
   "metadata": {},
   "source": [
    "### Conversión de variables"
   ]
  },
  {
   "cell_type": "code",
   "execution_count": 98,
   "metadata": {},
   "outputs": [],
   "source": [
    "sample_data = sample_data.with_columns(\n",
    "    pl.col('datetime').map_elements(lambda x: datetime.strptime(x, \"%Y-%m-%d %H:%M:%S\")),\n",
    "    pl.col('date').cast(pl.Date)\n",
    ")\n"
   ]
  },
  {
   "cell_type": "code",
   "execution_count": 99,
   "metadata": {},
   "outputs": [
    {
     "data": {
      "text/html": [
       "<div><style>\n",
       ".dataframe > thead > tr,\n",
       ".dataframe > tbody > tr {\n",
       "  text-align: right;\n",
       "  white-space: pre-wrap;\n",
       "}\n",
       "</style>\n",
       "<small>shape: (5, 13)</small><table border=\"1\" class=\"dataframe\"><thead><tr><th>idelem</th><th>descripcion</th><th>accesoAsociado</th><th>intensidad</th><th>ocupacion</th><th>carga</th><th>nivelServicio</th><th>intensidadSat</th><th>subarea</th><th>st_x</th><th>st_y</th><th>datetime</th><th>date</th></tr><tr><td>i64</td><td>str</td><td>i64</td><td>i64</td><td>i64</td><td>i64</td><td>i64</td><td>i64</td><td>i64</td><td>str</td><td>str</td><td>datetime[μs]</td><td>date</td></tr></thead><tbody><tr><td>6711</td><td>null</td><td>null</td><td>3840</td><td>30</td><td>105</td><td>1</td><td>null</td><td>null</td><td>&quot;442306,1965845…</td><td>&quot;4481615,716877…</td><td>2024-03-13 07:55:08</td><td>2024-03-13</td></tr><tr><td>10112</td><td>&quot;Arturo Soria -…</td><td>4604002</td><td>740</td><td>4</td><td>29</td><td>1</td><td>2438</td><td>3203</td><td>&quot;443972,0182132…</td><td>&quot;4478986,477391…</td><td>2024-03-13 07:55:08</td><td>2024-03-13</td></tr><tr><td>6038</td><td>&quot;Torrelaguna  -…</td><td>4627002</td><td>380</td><td>2</td><td>28</td><td>1</td><td>1390</td><td>3246</td><td>&quot;443981,9555378…</td><td>&quot;4478451,452544…</td><td>2024-03-13 07:55:08</td><td>2024-03-13</td></tr><tr><td>6039</td><td>&quot;Torrelaguna  -…</td><td>4628002</td><td>840</td><td>6</td><td>24</td><td>0</td><td>3000</td><td>3215</td><td>&quot;443984,1391077…</td><td>&quot;4478277,302264…</td><td>2024-03-13 07:55:08</td><td>2024-03-13</td></tr><tr><td>6040</td><td>&quot;Torrelaguna  -…</td><td>4628001</td><td>520</td><td>5</td><td>31</td><td>1</td><td>2000</td><td>3215</td><td>&quot;444079,3042011…</td><td>&quot;4478026,603977…</td><td>2024-03-13 07:55:08</td><td>2024-03-13</td></tr></tbody></table></div>"
      ],
      "text/plain": [
       "shape: (5, 13)\n",
       "┌────────┬────────────┬────────────┬───────────┬───┬───────────┬───────────┬───────────┬───────────┐\n",
       "│ idelem ┆ descripcio ┆ accesoAsoc ┆ intensida ┆ … ┆ st_x      ┆ st_y      ┆ datetime  ┆ date      │\n",
       "│ ---    ┆ n          ┆ iado       ┆ d         ┆   ┆ ---       ┆ ---       ┆ ---       ┆ ---       │\n",
       "│ i64    ┆ ---        ┆ ---        ┆ ---       ┆   ┆ str       ┆ str       ┆ datetime[ ┆ date      │\n",
       "│        ┆ str        ┆ i64        ┆ i64       ┆   ┆           ┆           ┆ μs]       ┆           │\n",
       "╞════════╪════════════╪════════════╪═══════════╪═══╪═══════════╪═══════════╪═══════════╪═══════════╡\n",
       "│ 6711   ┆ null       ┆ null       ┆ 3840      ┆ … ┆ 442306,19 ┆ 4481615,7 ┆ 2024-03-1 ┆ 2024-03-1 │\n",
       "│        ┆            ┆            ┆           ┆   ┆ 6584557   ┆ 1687789   ┆ 3         ┆ 3         │\n",
       "│        ┆            ┆            ┆           ┆   ┆           ┆           ┆ 07:55:08  ┆           │\n",
       "│ 10112  ┆ Arturo     ┆ 4604002    ┆ 740       ┆ … ┆ 443972,01 ┆ 4478986,4 ┆ 2024-03-1 ┆ 2024-03-1 │\n",
       "│        ┆ Soria -    ┆            ┆           ┆   ┆ 821329    ┆ 7739102   ┆ 3         ┆ 3         │\n",
       "│        ┆ Pablo      ┆            ┆           ┆   ┆           ┆           ┆ 07:55:08  ┆           │\n",
       "│        ┆ Vidal -    ┆            ┆           ┆   ┆           ┆           ┆           ┆           │\n",
       "│        ┆ Vic…       ┆            ┆           ┆   ┆           ┆           ┆           ┆           │\n",
       "│ 6038   ┆ Torrelagun ┆ 4627002    ┆ 380       ┆ … ┆ 443981,95 ┆ 4478451,4 ┆ 2024-03-1 ┆ 2024-03-1 │\n",
       "│        ┆ a  -       ┆            ┆           ┆   ┆ 5537857   ┆ 5254494   ┆ 3         ┆ 3         │\n",
       "│        ┆ Arturo Bal ┆            ┆           ┆   ┆           ┆           ┆ 07:55:08  ┆           │\n",
       "│        ┆ dasano-…   ┆            ┆           ┆   ┆           ┆           ┆           ┆           │\n",
       "│ 6039   ┆ Torrelagun ┆ 4628002    ┆ 840       ┆ … ┆ 443984,13 ┆ 4478277,3 ┆ 2024-03-1 ┆ 2024-03-1 │\n",
       "│        ┆ a  - Av.   ┆            ┆           ┆   ┆ 9107713   ┆ 0226478   ┆ 3         ┆ 3         │\n",
       "│        ┆ Ramón y    ┆            ┆           ┆   ┆           ┆           ┆ 07:55:08  ┆           │\n",
       "│        ┆ Cajal…     ┆            ┆           ┆   ┆           ┆           ┆           ┆           │\n",
       "│ 6040   ┆ Torrelagun ┆ 4628001    ┆ 520       ┆ … ┆ 444079,30 ┆ 4478026,6 ┆ 2024-03-1 ┆ 2024-03-1 │\n",
       "│        ┆ a  - Sorza ┆            ┆           ┆   ┆ 4201131   ┆ 0397703   ┆ 3         ┆ 3         │\n",
       "│        ┆ no-Acceso  ┆            ┆           ┆   ┆           ┆           ┆ 07:55:08  ┆           │\n",
       "│        ┆ M3…        ┆            ┆           ┆   ┆           ┆           ┆           ┆           │\n",
       "└────────┴────────────┴────────────┴───────────┴───┴───────────┴───────────┴───────────┴───────────┘"
      ]
     },
     "execution_count": 99,
     "metadata": {},
     "output_type": "execute_result"
    }
   ],
   "source": [
    "sample_data.head().collect()"
   ]
  },
  {
   "cell_type": "markdown",
   "metadata": {},
   "source": [
    "### Creamos la PK "
   ]
  },
  {
   "cell_type": "code",
   "execution_count": 100,
   "metadata": {},
   "outputs": [
    {
     "data": {
      "text/html": [
       "<div><style>\n",
       ".dataframe > thead > tr,\n",
       ".dataframe > tbody > tr {\n",
       "  text-align: right;\n",
       "  white-space: pre-wrap;\n",
       "}\n",
       "</style>\n",
       "<small>shape: (5, 14)</small><table border=\"1\" class=\"dataframe\"><thead><tr><th>idelem</th><th>descripcion</th><th>accesoAsociado</th><th>intensidad</th><th>ocupacion</th><th>carga</th><th>nivelServicio</th><th>intensidadSat</th><th>subarea</th><th>st_x</th><th>st_y</th><th>datetime</th><th>date</th><th>PK</th></tr><tr><td>i64</td><td>str</td><td>i64</td><td>i64</td><td>i64</td><td>i64</td><td>i64</td><td>i64</td><td>i64</td><td>str</td><td>str</td><td>datetime[μs]</td><td>date</td><td>str</td></tr></thead><tbody><tr><td>6711</td><td>null</td><td>null</td><td>3840</td><td>30</td><td>105</td><td>1</td><td>null</td><td>null</td><td>&quot;442306,1965845…</td><td>&quot;4481615,716877…</td><td>2024-03-13 07:55:08</td><td>2024-03-13</td><td>null</td></tr><tr><td>10112</td><td>&quot;Arturo Soria -…</td><td>4604002</td><td>740</td><td>4</td><td>29</td><td>1</td><td>2438</td><td>3203</td><td>&quot;443972,0182132…</td><td>&quot;4478986,477391…</td><td>2024-03-13 07:55:08</td><td>2024-03-13</td><td>&quot;2024-03-13 07:…</td></tr><tr><td>6038</td><td>&quot;Torrelaguna  -…</td><td>4627002</td><td>380</td><td>2</td><td>28</td><td>1</td><td>1390</td><td>3246</td><td>&quot;443981,9555378…</td><td>&quot;4478451,452544…</td><td>2024-03-13 07:55:08</td><td>2024-03-13</td><td>&quot;2024-03-13 07:…</td></tr><tr><td>6039</td><td>&quot;Torrelaguna  -…</td><td>4628002</td><td>840</td><td>6</td><td>24</td><td>0</td><td>3000</td><td>3215</td><td>&quot;443984,1391077…</td><td>&quot;4478277,302264…</td><td>2024-03-13 07:55:08</td><td>2024-03-13</td><td>&quot;2024-03-13 07:…</td></tr><tr><td>6040</td><td>&quot;Torrelaguna  -…</td><td>4628001</td><td>520</td><td>5</td><td>31</td><td>1</td><td>2000</td><td>3215</td><td>&quot;444079,3042011…</td><td>&quot;4478026,603977…</td><td>2024-03-13 07:55:08</td><td>2024-03-13</td><td>&quot;2024-03-13 07:…</td></tr></tbody></table></div>"
      ],
      "text/plain": [
       "shape: (5, 14)\n",
       "┌────────┬────────────┬────────────┬───────────┬───┬───────────┬───────────┬───────────┬───────────┐\n",
       "│ idelem ┆ descripcio ┆ accesoAsoc ┆ intensida ┆ … ┆ st_y      ┆ datetime  ┆ date      ┆ PK        │\n",
       "│ ---    ┆ n          ┆ iado       ┆ d         ┆   ┆ ---       ┆ ---       ┆ ---       ┆ ---       │\n",
       "│ i64    ┆ ---        ┆ ---        ┆ ---       ┆   ┆ str       ┆ datetime[ ┆ date      ┆ str       │\n",
       "│        ┆ str        ┆ i64        ┆ i64       ┆   ┆           ┆ μs]       ┆           ┆           │\n",
       "╞════════╪════════════╪════════════╪═══════════╪═══╪═══════════╪═══════════╪═══════════╪═══════════╡\n",
       "│ 6711   ┆ null       ┆ null       ┆ 3840      ┆ … ┆ 4481615,7 ┆ 2024-03-1 ┆ 2024-03-1 ┆ null      │\n",
       "│        ┆            ┆            ┆           ┆   ┆ 1687789   ┆ 3         ┆ 3         ┆           │\n",
       "│        ┆            ┆            ┆           ┆   ┆           ┆ 07:55:08  ┆           ┆           │\n",
       "│ 10112  ┆ Arturo     ┆ 4604002    ┆ 740       ┆ … ┆ 4478986,4 ┆ 2024-03-1 ┆ 2024-03-1 ┆ 2024-03-1 │\n",
       "│        ┆ Soria -    ┆            ┆           ┆   ┆ 7739102   ┆ 3         ┆ 3         ┆ 3 07:55:0 │\n",
       "│        ┆ Pablo      ┆            ┆           ┆   ┆           ┆ 07:55:08  ┆           ┆ 8.000000_ │\n",
       "│        ┆ Vidal -    ┆            ┆           ┆   ┆           ┆           ┆           ┆ I1011…    │\n",
       "│        ┆ Vic…       ┆            ┆           ┆   ┆           ┆           ┆           ┆           │\n",
       "│ 6038   ┆ Torrelagun ┆ 4627002    ┆ 380       ┆ … ┆ 4478451,4 ┆ 2024-03-1 ┆ 2024-03-1 ┆ 2024-03-1 │\n",
       "│        ┆ a  -       ┆            ┆           ┆   ┆ 5254494   ┆ 3         ┆ 3         ┆ 3 07:55:0 │\n",
       "│        ┆ Arturo Bal ┆            ┆           ┆   ┆           ┆ 07:55:08  ┆           ┆ 8.000000_ │\n",
       "│        ┆ dasano-…   ┆            ┆           ┆   ┆           ┆           ┆           ┆ I6038…    │\n",
       "│ 6039   ┆ Torrelagun ┆ 4628002    ┆ 840       ┆ … ┆ 4478277,3 ┆ 2024-03-1 ┆ 2024-03-1 ┆ 2024-03-1 │\n",
       "│        ┆ a  - Av.   ┆            ┆           ┆   ┆ 0226478   ┆ 3         ┆ 3         ┆ 3 07:55:0 │\n",
       "│        ┆ Ramón y    ┆            ┆           ┆   ┆           ┆ 07:55:08  ┆           ┆ 8.000000_ │\n",
       "│        ┆ Cajal…     ┆            ┆           ┆   ┆           ┆           ┆           ┆ I6039…    │\n",
       "│ 6040   ┆ Torrelagun ┆ 4628001    ┆ 520       ┆ … ┆ 4478026,6 ┆ 2024-03-1 ┆ 2024-03-1 ┆ 2024-03-1 │\n",
       "│        ┆ a  - Sorza ┆            ┆           ┆   ┆ 0397703   ┆ 3         ┆ 3         ┆ 3 07:55:0 │\n",
       "│        ┆ no-Acceso  ┆            ┆           ┆   ┆           ┆ 07:55:08  ┆           ┆ 8.000000_ │\n",
       "│        ┆ M3…        ┆            ┆           ┆   ┆           ┆           ┆           ┆ I6040…    │\n",
       "└────────┴────────────┴────────────┴───────────┴───┴───────────┴───────────┴───────────┴───────────┘"
      ]
     },
     "execution_count": 100,
     "metadata": {},
     "output_type": "execute_result"
    }
   ],
   "source": [
    "sample_data = sample_data.with_columns((pl.col('datetime').cast(pl.String)+\"_I\"+pl.col('idelem').cast(pl.String)+\"_S\"+pl.col('subarea').cast(pl.String)).alias('PK'))\n",
    "sample_data.head().collect()"
   ]
  },
  {
   "cell_type": "markdown",
   "metadata": {},
   "source": [
    "## Matriz de confusión"
   ]
  },
  {
   "cell_type": "code",
   "execution_count": 101,
   "metadata": {},
   "outputs": [],
   "source": [
    "numeric_var = ['accesoAsociado', 'intensidad', 'ocupacion', 'carga', 'intensidadSat','nivelServicio']"
   ]
  },
  {
   "cell_type": "code",
   "execution_count": 102,
   "metadata": {},
   "outputs": [],
   "source": [
    "sample_data_df = sample_data.collect()"
   ]
  },
  {
   "cell_type": "code",
   "execution_count": 103,
   "metadata": {},
   "outputs": [],
   "source": [
    "matrix = [[0] * len(numeric_var) for _ in range(len(numeric_var))]\n",
    "for i in range(0,len(numeric_var)):\n",
    "    for j in range(0,len(numeric_var)):\n",
    "        matrix[i][j] = sample_data_df.select(pl.corr(numeric_var[i],numeric_var[j])).item()"
   ]
  },
  {
   "cell_type": "code",
   "execution_count": 104,
   "metadata": {},
   "outputs": [],
   "source": [
    "matrix_corr = pd.DataFrame(matrix, columns=numeric_var,index=numeric_var).apply(lambda col: col.round(4))"
   ]
  },
  {
   "cell_type": "code",
   "execution_count": 105,
   "metadata": {},
   "outputs": [
    {
     "data": {
      "text/html": [
       "<div>\n",
       "<style scoped>\n",
       "    .dataframe tbody tr th:only-of-type {\n",
       "        vertical-align: middle;\n",
       "    }\n",
       "\n",
       "    .dataframe tbody tr th {\n",
       "        vertical-align: top;\n",
       "    }\n",
       "\n",
       "    .dataframe thead th {\n",
       "        text-align: right;\n",
       "    }\n",
       "</style>\n",
       "<table border=\"1\" class=\"dataframe\">\n",
       "  <thead>\n",
       "    <tr style=\"text-align: right;\">\n",
       "      <th></th>\n",
       "      <th>accesoAsociado</th>\n",
       "      <th>intensidad</th>\n",
       "      <th>ocupacion</th>\n",
       "      <th>carga</th>\n",
       "      <th>intensidadSat</th>\n",
       "      <th>nivelServicio</th>\n",
       "    </tr>\n",
       "  </thead>\n",
       "  <tbody>\n",
       "    <tr>\n",
       "      <th>accesoAsociado</th>\n",
       "      <td>1.0000</td>\n",
       "      <td>0.0806</td>\n",
       "      <td>-0.0571</td>\n",
       "      <td>0.0834</td>\n",
       "      <td>-0.1260</td>\n",
       "      <td>0.0469</td>\n",
       "    </tr>\n",
       "    <tr>\n",
       "      <th>intensidad</th>\n",
       "      <td>0.0806</td>\n",
       "      <td>1.0000</td>\n",
       "      <td>0.1169</td>\n",
       "      <td>0.6407</td>\n",
       "      <td>0.5804</td>\n",
       "      <td>0.2241</td>\n",
       "    </tr>\n",
       "    <tr>\n",
       "      <th>ocupacion</th>\n",
       "      <td>-0.0571</td>\n",
       "      <td>0.1169</td>\n",
       "      <td>1.0000</td>\n",
       "      <td>0.5722</td>\n",
       "      <td>-0.0734</td>\n",
       "      <td>0.6011</td>\n",
       "    </tr>\n",
       "    <tr>\n",
       "      <th>carga</th>\n",
       "      <td>0.0834</td>\n",
       "      <td>0.6407</td>\n",
       "      <td>0.5722</td>\n",
       "      <td>1.0000</td>\n",
       "      <td>-0.0684</td>\n",
       "      <td>0.7278</td>\n",
       "    </tr>\n",
       "    <tr>\n",
       "      <th>intensidadSat</th>\n",
       "      <td>-0.1260</td>\n",
       "      <td>0.5804</td>\n",
       "      <td>-0.0734</td>\n",
       "      <td>-0.0684</td>\n",
       "      <td>1.0000</td>\n",
       "      <td>-0.0730</td>\n",
       "    </tr>\n",
       "    <tr>\n",
       "      <th>nivelServicio</th>\n",
       "      <td>0.0469</td>\n",
       "      <td>0.2241</td>\n",
       "      <td>0.6011</td>\n",
       "      <td>0.7278</td>\n",
       "      <td>-0.0730</td>\n",
       "      <td>1.0000</td>\n",
       "    </tr>\n",
       "  </tbody>\n",
       "</table>\n",
       "</div>"
      ],
      "text/plain": [
       "                accesoAsociado  intensidad  ocupacion   carga  intensidadSat  \\\n",
       "accesoAsociado          1.0000      0.0806    -0.0571  0.0834        -0.1260   \n",
       "intensidad              0.0806      1.0000     0.1169  0.6407         0.5804   \n",
       "ocupacion              -0.0571      0.1169     1.0000  0.5722        -0.0734   \n",
       "carga                   0.0834      0.6407     0.5722  1.0000        -0.0684   \n",
       "intensidadSat          -0.1260      0.5804    -0.0734 -0.0684         1.0000   \n",
       "nivelServicio           0.0469      0.2241     0.6011  0.7278        -0.0730   \n",
       "\n",
       "                nivelServicio  \n",
       "accesoAsociado         0.0469  \n",
       "intensidad             0.2241  \n",
       "ocupacion              0.6011  \n",
       "carga                  0.7278  \n",
       "intensidadSat         -0.0730  \n",
       "nivelServicio          1.0000  "
      ]
     },
     "execution_count": 105,
     "metadata": {},
     "output_type": "execute_result"
    }
   ],
   "source": [
    "matrix_corr"
   ]
  },
  {
   "cell_type": "code",
   "execution_count": 106,
   "metadata": {},
   "outputs": [
    {
     "data": {
      "text/plain": [
       "<Axes: >"
      ]
     },
     "execution_count": 106,
     "metadata": {},
     "output_type": "execute_result"
    },
    {
     "data": {
      "image/png": "[encoded data removed]",
      "text/plain": [
       "<Figure size 640x480 with 2 Axes>"
      ]
     },
     "metadata": {},
     "output_type": "display_data"
    }
   ],
   "source": [
    "sns.heatmap(matrix_corr, cmap='coolwarm',vmin=-1, vmax=1,annot=True)"
   ]
  },
  {
   "cell_type": "code",
   "execution_count": 107,
   "metadata": {},
   "outputs": [],
   "source": [
    "matrix_corr.to_csv('/home/mlia/proyectos/data-generation/docs/notebooks/aux/matrix_corr_informo.csv', index=False)"
   ]
  },
  {
   "cell_type": "markdown",
   "metadata": {},
   "source": [
    "De esta matriz de confusión obtenemos que las variables más correladas entre sí son:\n",
    "- `Intensidad` y `carga`\n",
    "- `Intensidad` e `IntensidadSat`\n",
    "- `Intensidad` y `NivelServicio`\n",
    "- `Ocupación` y `carga`\n",
    "- `Carga` y `NivelServicio`\n"
   ]
  },
  {
   "cell_type": "markdown",
   "metadata": {},
   "source": [
    "## Estudio por variables"
   ]
  },
  {
   "cell_type": "code",
   "execution_count": 108,
   "metadata": {},
   "outputs": [
    {
     "data": {
      "text/html": [
       "<div><style>\n",
       ".dataframe > thead > tr,\n",
       ".dataframe > tbody > tr {\n",
       "  text-align: right;\n",
       "  white-space: pre-wrap;\n",
       "}\n",
       "</style>\n",
       "<small>shape: (9, 15)</small><table border=\"1\" class=\"dataframe\"><thead><tr><th>statistic</th><th>idelem</th><th>descripcion</th><th>accesoAsociado</th><th>intensidad</th><th>ocupacion</th><th>carga</th><th>nivelServicio</th><th>intensidadSat</th><th>subarea</th><th>st_x</th><th>st_y</th><th>datetime</th><th>date</th><th>PK</th></tr><tr><td>str</td><td>f64</td><td>str</td><td>f64</td><td>f64</td><td>f64</td><td>f64</td><td>f64</td><td>f64</td><td>f64</td><td>str</td><td>str</td><td>str</td><td>str</td><td>str</td></tr></thead><tbody><tr><td>&quot;count&quot;</td><td>804296.0</td><td>&quot;754248&quot;</td><td>683771.0</td><td>804296.0</td><td>804296.0</td><td>804296.0</td><td>803942.0</td><td>754248.0</td><td>754248.0</td><td>&quot;804296&quot;</td><td>&quot;804296&quot;</td><td>&quot;804296&quot;</td><td>&quot;804296&quot;</td><td>&quot;754248&quot;</td></tr><tr><td>&quot;null_count&quot;</td><td>0.0</td><td>&quot;50048&quot;</td><td>120525.0</td><td>0.0</td><td>0.0</td><td>0.0</td><td>354.0</td><td>50048.0</td><td>50048.0</td><td>&quot;0&quot;</td><td>&quot;0&quot;</td><td>&quot;0&quot;</td><td>&quot;0&quot;</td><td>&quot;50048&quot;</td></tr><tr><td>&quot;mean&quot;</td><td>6723.767336</td><td>null</td><td>2.5684e6</td><td>539.280347</td><td>8.622539</td><td>27.497086</td><td>0.522764</td><td>2014.450624</td><td>20947.215391</td><td>null</td><td>null</td><td>null</td><td>&quot;2024-03-13&quot;</td><td>null</td></tr><tr><td>&quot;std&quot;</td><td>2569.768409</td><td>null</td><td>2.8468e6</td><td>727.708937</td><td>14.600438</td><td>21.320518</td><td>0.721251</td><td>1172.177108</td><td>42749.711245</td><td>null</td><td>null</td><td>null</td><td>null</td><td>null</td></tr><tr><td>&quot;min&quot;</td><td>3395.0</td><td>&quot;(AFO)R. YBARRA…</td><td>0.0</td><td>-1.0</td><td>-1.0</td><td>-1.0</td><td>-1.0</td><td>50.0</td><td>0.0</td><td>&quot;429060,7904544…</td><td>&quot;4464901,554260…</td><td>null</td><td>&quot;2024-03-13&quot;</td><td>&quot;2024-03-13 07:…</td></tr><tr><td>&quot;25%&quot;</td><td>4679.0</td><td>null</td><td>312203.0</td><td>127.0</td><td>1.0</td><td>11.0</td><td>0.0</td><td>1200.0</td><td>1712.0</td><td>null</td><td>null</td><td>null</td><td>&quot;2024-03-13&quot;</td><td>null</td></tr><tr><td>&quot;50%&quot;</td><td>5917.0</td><td>null</td><td>843101.0</td><td>300.0</td><td>4.0</td><td>23.0</td><td>0.0</td><td>1570.0</td><td>3101.0</td><td>null</td><td>null</td><td>null</td><td>&quot;2024-03-13&quot;</td><td>null</td></tr><tr><td>&quot;75%&quot;</td><td>9999.0</td><td>null</td><td>5.503003e6</td><td>660.0</td><td>8.0</td><td>39.0</td><td>1.0</td><td>3000.0</td><td>3702.0</td><td>null</td><td>null</td><td>null</td><td>&quot;2024-03-13&quot;</td><td>null</td></tr><tr><td>&quot;max&quot;</td><td>11300.0</td><td>&quot;Ángel Luis Her…</td><td>9.905004e6</td><td>17900.0</td><td>100.0</td><td>346.0</td><td>3.0</td><td>9000.0</td><td>130043.0</td><td>&quot;450772,2789719…</td><td>&quot;4485212,993851…</td><td>null</td><td>&quot;2024-03-13&quot;</td><td>&quot;2024-03-13 22:…</td></tr></tbody></table></div>"
      ],
      "text/plain": [
       "shape: (9, 15)\n",
       "┌───────────┬───────────┬───────────┬───────────┬───┬───────────┬──────────┬───────────┬───────────┐\n",
       "│ statistic ┆ idelem    ┆ descripci ┆ accesoAso ┆ … ┆ st_y      ┆ datetime ┆ date      ┆ PK        │\n",
       "│ ---       ┆ ---       ┆ on        ┆ ciado     ┆   ┆ ---       ┆ ---      ┆ ---       ┆ ---       │\n",
       "│ str       ┆ f64       ┆ ---       ┆ ---       ┆   ┆ str       ┆ str      ┆ str       ┆ str       │\n",
       "│           ┆           ┆ str       ┆ f64       ┆   ┆           ┆          ┆           ┆           │\n",
       "╞═══════════╪═══════════╪═══════════╪═══════════╪═══╪═══════════╪══════════╪═══════════╪═══════════╡\n",
       "│ count     ┆ 804296.0  ┆ 754248    ┆ 683771.0  ┆ … ┆ 804296    ┆ 804296   ┆ 804296    ┆ 754248    │\n",
       "│ null_coun ┆ 0.0       ┆ 50048     ┆ 120525.0  ┆ … ┆ 0         ┆ 0        ┆ 0         ┆ 50048     │\n",
       "│ t         ┆           ┆           ┆           ┆   ┆           ┆          ┆           ┆           │\n",
       "│ mean      ┆ 6723.7673 ┆ null      ┆ 2.5684e6  ┆ … ┆ null      ┆ null     ┆ 2024-03-1 ┆ null      │\n",
       "│           ┆ 36        ┆           ┆           ┆   ┆           ┆          ┆ 3         ┆           │\n",
       "│ std       ┆ 2569.7684 ┆ null      ┆ 2.8468e6  ┆ … ┆ null      ┆ null     ┆ null      ┆ null      │\n",
       "│           ┆ 09        ┆           ┆           ┆   ┆           ┆          ┆           ┆           │\n",
       "│ min       ┆ 3395.0    ┆ (AFO)R.   ┆ 0.0       ┆ … ┆ 4464901,5 ┆ null     ┆ 2024-03-1 ┆ 2024-03-1 │\n",
       "│           ┆           ┆ YBARRA    ┆           ┆   ┆ 5426055   ┆          ┆ 3         ┆ 3 07:55:0 │\n",
       "│           ┆           ┆ N-S(M.    ┆           ┆   ┆           ┆          ┆           ┆ 8.000000_ │\n",
       "│           ┆           ┆ USERA-D.  ┆           ┆   ┆           ┆          ┆           ┆ I1000…    │\n",
       "│           ┆           ┆ B…        ┆           ┆   ┆           ┆          ┆           ┆           │\n",
       "│ 25%       ┆ 4679.0    ┆ null      ┆ 312203.0  ┆ … ┆ null      ┆ null     ┆ 2024-03-1 ┆ null      │\n",
       "│           ┆           ┆           ┆           ┆   ┆           ┆          ┆ 3         ┆           │\n",
       "│ 50%       ┆ 5917.0    ┆ null      ┆ 843101.0  ┆ … ┆ null      ┆ null     ┆ 2024-03-1 ┆ null      │\n",
       "│           ┆           ┆           ┆           ┆   ┆           ┆          ┆ 3         ┆           │\n",
       "│ 75%       ┆ 9999.0    ┆ null      ┆ 5.503003e ┆ … ┆ null      ┆ null     ┆ 2024-03-1 ┆ null      │\n",
       "│           ┆           ┆           ┆ 6         ┆   ┆           ┆          ┆ 3         ┆           │\n",
       "│ max       ┆ 11300.0   ┆ Ángel     ┆ 9.905004e ┆ … ┆ 4485212,9 ┆ null     ┆ 2024-03-1 ┆ 2024-03-1 │\n",
       "│           ┆           ┆ Luis      ┆ 6         ┆   ┆ 9385152   ┆          ┆ 3         ┆ 3 22:50:1 │\n",
       "│           ┆           ┆ Herrán -  ┆           ┆   ┆           ┆          ┆           ┆ 1.000000_ │\n",
       "│           ┆           ┆ Valdetorr ┆           ┆   ┆           ┆          ┆           ┆ I9999…    │\n",
       "│           ┆           ┆ es …      ┆           ┆   ┆           ┆          ┆           ┆           │\n",
       "└───────────┴───────────┴───────────┴───────────┴───┴───────────┴──────────┴───────────┴───────────┘"
      ]
     },
     "execution_count": 108,
     "metadata": {},
     "output_type": "execute_result"
    }
   ],
   "source": [
    "sample_data.describe()"
   ]
  },
  {
   "cell_type": "markdown",
   "metadata": {},
   "source": [
    "**Variable `intensidad`**"
   ]
  },
  {
   "cell_type": "code",
   "execution_count": 109,
   "metadata": {},
   "outputs": [
    {
     "data": {
      "text/html": [
       "<div><style>\n",
       ".dataframe > thead > tr,\n",
       ".dataframe > tbody > tr {\n",
       "  text-align: right;\n",
       "  white-space: pre-wrap;\n",
       "}\n",
       "</style>\n",
       "<small>shape: (5, 2)</small><table border=\"1\" class=\"dataframe\"><thead><tr><th>intensidad</th><th>count</th></tr><tr><td>i64</td><td>u32</td></tr></thead><tbody><tr><td>17900</td><td>1</td></tr><tr><td>16420</td><td>1</td></tr><tr><td>12060</td><td>1</td></tr><tr><td>11000</td><td>1</td></tr><tr><td>9800</td><td>1</td></tr></tbody></table></div>"
      ],
      "text/plain": [
       "shape: (5, 2)\n",
       "┌────────────┬───────┐\n",
       "│ intensidad ┆ count │\n",
       "│ ---        ┆ ---   │\n",
       "│ i64        ┆ u32   │\n",
       "╞════════════╪═══════╡\n",
       "│ 17900      ┆ 1     │\n",
       "│ 16420      ┆ 1     │\n",
       "│ 12060      ┆ 1     │\n",
       "│ 11000      ┆ 1     │\n",
       "│ 9800       ┆ 1     │\n",
       "└────────────┴───────┘"
      ]
     },
     "execution_count": 109,
     "metadata": {},
     "output_type": "execute_result"
    }
   ],
   "source": [
    "sample_data.group_by(pl.col('intensidad')).count().sort('intensidad',descending=True).head().collect()\n"
   ]
  },
  {
   "cell_type": "markdown",
   "metadata": {},
   "source": [
    "Identificadores con mayor intensidad"
   ]
  },
  {
   "cell_type": "code",
   "execution_count": 110,
   "metadata": {},
   "outputs": [
    {
     "data": {},
     "metadata": {},
     "output_type": "display_data"
    },
    {
     "data": {
      "application/vnd.holoviews_exec.v0+json": "",
      "text/html": [
       "<div id='p1872'>\n",
       "  <div id=\"f3dcd78c-6079-414d-aef2-6bba0efed366\" data-root-id=\"p1872\" style=\"display: contents;\"></div>\n",
       "</div>\n",
       "<script type=\"application/javascript\">(function(root) {\n",
       "  var docs_json = {\"33adfed1-4aa1-4e4e-8595-534a41c02bca\":{\"version\":\"3.4.0\",\"title\":\"Bokeh Application\",\"roots\":[{\"type\":\"object\",\"name\":\"Row\",\"id\":\"p1872\",\"attributes\":{\"name\":\"Row02465\",\"tags\":[\"embedded\"],\"stylesheets\":[\"\\n:host(.pn-loading):before, .pn-loading:before {\\n  background-color: #c3c3c3;\\n  mask-size: auto calc(min(50%, 400px));\\n  -webkit-mask-size: auto calc(min(50%, 400px));\\n}\",{\"type\":\"object\",\"name\":\"ImportedStyleSheet\",\"id\":\"p1875\",\"attributes\":{\"url\":\"https://cdn.holoviz.org/panel/1.4.0/dist/css/loading.css\"}},{\"type\":\"object\",\"name\":\"ImportedStyleSheet\",\"id\":\"p1931\",\"attributes\":{\"url\":\"https://cdn.holoviz.org/panel/1.4.0/dist/css/listpanel.css\"}},{\"type\":\"object\",\"name\":\"ImportedStyleSheet\",\"id\":\"p1873\",\"attributes\":{\"url\":\"https://cdn.holoviz.org/panel/1.4.0/dist/bundled/theme/default.css\"}},{\"type\":\"object\",\"name\":\"ImportedStyleSheet\",\"id\":\"p1874\",\"attributes\":{\"url\":\"https://cdn.holoviz.org/panel/1.4.0/dist/bundled/theme/native.css\"}}],\"min_width\":700,\"margin\":0,\"sizing_mode\":\"stretch_width\",\"align\":\"start\",\"children\":[{\"type\":\"object\",\"name\":\"Spacer\",\"id\":\"p1876\",\"attributes\":{\"name\":\"HSpacer02472\",\"stylesheets\":[\"\\n:host(.pn-loading):before, .pn-loading:before {\\n  background-color: #c3c3c3;\\n  mask-size: auto calc(min(50%, 400px));\\n  -webkit-mask-size: auto calc(min(50%, 400px));\\n}\",{\"id\":\"p1875\"},{\"id\":\"p1873\"},{\"id\":\"p1874\"}],\"margin\":0,\"sizing_mode\":\"stretch_width\",\"align\":\"start\"}},{\"type\":\"object\",\"name\":\"Figure\",\"id\":\"p1884\",\"attributes\":{\"width\":700,\"height\":300,\"margin\":[5,10],\"sizing_mode\":\"fixed\",\"align\":\"start\",\"x_range\":{\"type\":\"object\",\"name\":\"FactorRange\",\"id\":\"p1877\",\"attributes\":{\"tags\":[[[\"idelem\",\"idelem\",null]],[]],\"factors\":[\"6070\",\"3819\",\"6727\",\"6666\",\"6733\",\"6747\",\"6725\",\"3716\",\"6679\",\"3820\"]}},\"y_range\":{\"type\":\"object\",\"name\":\"Range1d\",\"id\":\"p1878\",\"attributes\":{\"tags\":[[[\"intensidad\",\"intensidad\",null]],{\"type\":\"map\",\"entries\":[[\"invert_yaxis\",false],[\"autorange\",false]]}],\"end\":18922.0,\"reset_start\":0.0,\"reset_end\":18922.0}},\"x_scale\":{\"type\":\"object\",\"name\":\"CategoricalScale\",\"id\":\"p1894\"},\"y_scale\":{\"type\":\"object\",\"name\":\"LinearScale\",\"id\":\"p1895\"},\"title\":{\"type\":\"object\",\"name\":\"Title\",\"id\":\"p1887\",\"attributes\":{\"text_color\":\"black\",\"text_font_size\":\"12pt\"}},\"renderers\":[{\"type\":\"object\",\"name\":\"GlyphRenderer\",\"id\":\"p1924\",\"attributes\":{\"data_source\":{\"type\":\"object\",\"name\":\"ColumnDataSource\",\"id\":\"p1915\",\"attributes\":{\"selected\":{\"type\":\"object\",\"name\":\"Selection\",\"id\":\"p1916\",\"attributes\":{\"indices\":[],\"line_indices\":[]}},\"selection_policy\":{\"type\":\"object\",\"name\":\"UnionRenderers\",\"id\":\"p1917\"},\"data\":{\"type\":\"map\",\"entries\":[[\"idelem\",[\"6070\",\"3819\",\"6727\",\"6666\",\"6733\",\"6747\",\"6725\",\"3716\",\"6679\",\"3820\"]],[\"intensidad\",{\"type\":\"ndarray\",\"array\":{\"type\":\"bytes\",\"data\":\"7EUAANwjAACgIwAAOCIAAAwhAAAMIQAAWCAAADggAAAcIAAAAB4AAA==\"},\"shape\":[10],\"dtype\":\"int32\",\"order\":\"little\"}]]}}},\"view\":{\"type\":\"object\",\"name\":\"CDSView\",\"id\":\"p1925\",\"attributes\":{\"filter\":{\"type\":\"object\",\"name\":\"AllIndices\",\"id\":\"p1926\"}}},\"glyph\":{\"type\":\"object\",\"name\":\"VBar\",\"id\":\"p1921\",\"attributes\":{\"tags\":[\"apply_ranges\"],\"x\":{\"type\":\"field\",\"field\":\"idelem\"},\"width\":{\"type\":\"value\",\"value\":0.8},\"top\":{\"type\":\"field\",\"field\":\"intensidad\"},\"fill_color\":{\"type\":\"value\",\"value\":\"#30a2da\"},\"hatch_color\":{\"type\":\"value\",\"value\":\"#30a2da\"}}},\"selection_glyph\":{\"type\":\"object\",\"name\":\"VBar\",\"id\":\"p1927\",\"attributes\":{\"tags\":[\"apply_ranges\"],\"x\":{\"type\":\"field\",\"field\":\"idelem\"},\"width\":{\"type\":\"value\",\"value\":0.8},\"bottom\":{\"type\":\"value\",\"value\":0},\"top\":{\"type\":\"field\",\"field\":\"intensidad\"},\"line_color\":{\"type\":\"value\",\"value\":\"black\"},\"line_alpha\":{\"type\":\"value\",\"value\":1.0},\"line_width\":{\"type\":\"value\",\"value\":1},\"line_join\":{\"type\":\"value\",\"value\":\"bevel\"},\"line_cap\":{\"type\":\"value\",\"value\":\"butt\"},\"line_dash\":{\"type\":\"value\",\"value\":[]},\"line_dash_offset\":{\"type\":\"value\",\"value\":0},\"fill_color\":{\"type\":\"value\",\"value\":\"#30a2da\"},\"fill_alpha\":{\"type\":\"value\",\"value\":1.0},\"hatch_color\":{\"type\":\"value\",\"value\":\"#30a2da\"},\"hatch_alpha\":{\"type\":\"value\",\"value\":1.0},\"hatch_scale\":{\"type\":\"value\",\"value\":12.0},\"hatch_pattern\":{\"type\":\"value\",\"value\":null},\"hatch_weight\":{\"type\":\"value\",\"value\":1.0}}},\"nonselection_glyph\":{\"type\":\"object\",\"name\":\"VBar\",\"id\":\"p1922\",\"attributes\":{\"tags\":[\"apply_ranges\"],\"x\":{\"type\":\"field\",\"field\":\"idelem\"},\"width\":{\"type\":\"value\",\"value\":0.8},\"top\":{\"type\":\"field\",\"field\":\"intensidad\"},\"line_alpha\":{\"type\":\"value\",\"value\":0.1},\"fill_color\":{\"type\":\"value\",\"value\":\"#30a2da\"},\"fill_alpha\":{\"type\":\"value\",\"value\":0.1},\"hatch_color\":{\"type\":\"value\",\"value\":\"#30a2da\"},\"hatch_alpha\":{\"type\":\"value\",\"value\":0.1}}},\"muted_glyph\":{\"type\":\"object\",\"name\":\"VBar\",\"id\":\"p1923\",\"attributes\":{\"tags\":[\"apply_ranges\"],\"x\":{\"type\":\"field\",\"field\":\"idelem\"},\"width\":{\"type\":\"value\",\"value\":0.8},\"top\":{\"type\":\"field\",\"field\":\"intensidad\"},\"line_alpha\":{\"type\":\"value\",\"value\":0.2},\"fill_color\":{\"type\":\"value\",\"value\":\"#30a2da\"},\"fill_alpha\":{\"type\":\"value\",\"value\":0.2},\"hatch_color\":{\"type\":\"value\",\"value\":\"#30a2da\"},\"hatch_alpha\":{\"type\":\"value\",\"value\":0.2}}}}}],\"toolbar\":{\"type\":\"object\",\"name\":\"Toolbar\",\"id\":\"p1893\",\"attributes\":{\"tools\":[{\"type\":\"object\",\"name\":\"WheelZoomTool\",\"id\":\"p1882\",\"attributes\":{\"tags\":[\"hv_created\"],\"renderers\":\"auto\",\"zoom_together\":\"none\"}},{\"type\":\"object\",\"name\":\"HoverTool\",\"id\":\"p1883\",\"attributes\":{\"tags\":[\"hv_created\"],\"renderers\":[{\"id\":\"p1924\"}],\"tooltips\":[[\"idelem\",\"@{idelem}\"],[\"intensidad\",\"@{intensidad}\"]]}},{\"type\":\"object\",\"name\":\"SaveTool\",\"id\":\"p1906\"},{\"type\":\"object\",\"name\":\"PanTool\",\"id\":\"p1907\"},{\"type\":\"object\",\"name\":\"BoxZoomTool\",\"id\":\"p1908\",\"attributes\":{\"overlay\":{\"type\":\"object\",\"name\":\"BoxAnnotation\",\"id\":\"p1909\",\"attributes\":{\"syncable\":false,\"level\":\"overlay\",\"visible\":false,\"left\":{\"type\":\"number\",\"value\":\"nan\"},\"right\":{\"type\":\"number\",\"value\":\"nan\"},\"top\":{\"type\":\"number\",\"value\":\"nan\"},\"bottom\":{\"type\":\"number\",\"value\":\"nan\"},\"left_units\":\"canvas\",\"right_units\":\"canvas\",\"top_units\":\"canvas\",\"bottom_units\":\"canvas\",\"line_color\":\"black\",\"line_alpha\":1.0,\"line_width\":2,\"line_dash\":[4,4],\"fill_color\":\"lightgrey\",\"fill_alpha\":0.5}}}},{\"type\":\"object\",\"name\":\"ResetTool\",\"id\":\"p1914\"}],\"active_drag\":{\"id\":\"p1907\"},\"active_scroll\":{\"id\":\"p1882\"}}},\"left\":[{\"type\":\"object\",\"name\":\"LinearAxis\",\"id\":\"p1901\",\"attributes\":{\"ticker\":{\"type\":\"object\",\"name\":\"BasicTicker\",\"id\":\"p1902\",\"attributes\":{\"mantissas\":[1,2,5]}},\"formatter\":{\"type\":\"object\",\"name\":\"BasicTickFormatter\",\"id\":\"p1903\"},\"axis_label\":\"intensidad\",\"major_label_policy\":{\"type\":\"object\",\"name\":\"AllLabels\",\"id\":\"p1904\"}}}],\"below\":[{\"type\":\"object\",\"name\":\"CategoricalAxis\",\"id\":\"p1896\",\"attributes\":{\"ticker\":{\"type\":\"object\",\"name\":\"CategoricalTicker\",\"id\":\"p1897\"},\"formatter\":{\"type\":\"object\",\"name\":\"CategoricalTickFormatter\",\"id\":\"p1898\"},\"axis_label\":\"idelem\",\"major_label_policy\":{\"type\":\"object\",\"name\":\"AllLabels\",\"id\":\"p1899\"}}}],\"center\":[{\"type\":\"object\",\"name\":\"Grid\",\"id\":\"p1900\",\"attributes\":{\"axis\":{\"id\":\"p1896\"},\"grid_line_color\":null}},{\"type\":\"object\",\"name\":\"Grid\",\"id\":\"p1905\",\"attributes\":{\"dimension\":1,\"axis\":{\"id\":\"p1901\"},\"grid_line_color\":null}}],\"min_border_top\":10,\"min_border_bottom\":10,\"min_border_left\":10,\"min_border_right\":10,\"output_backend\":\"webgl\"}},{\"type\":\"object\",\"name\":\"Spacer\",\"id\":\"p1929\",\"attributes\":{\"name\":\"HSpacer02473\",\"stylesheets\":[\"\\n:host(.pn-loading):before, .pn-loading:before {\\n  background-color: #c3c3c3;\\n  mask-size: auto calc(min(50%, 400px));\\n  -webkit-mask-size: auto calc(min(50%, 400px));\\n}\",{\"id\":\"p1875\"},{\"id\":\"p1873\"},{\"id\":\"p1874\"}],\"margin\":0,\"sizing_mode\":\"stretch_width\",\"align\":\"start\"}}]}}],\"defs\":[{\"type\":\"model\",\"name\":\"ReactiveHTML1\"},{\"type\":\"model\",\"name\":\"FlexBox1\",\"properties\":[{\"name\":\"align_content\",\"kind\":\"Any\",\"default\":\"flex-start\"},{\"name\":\"align_items\",\"kind\":\"Any\",\"default\":\"flex-start\"},{\"name\":\"flex_direction\",\"kind\":\"Any\",\"default\":\"row\"},{\"name\":\"flex_wrap\",\"kind\":\"Any\",\"default\":\"wrap\"},{\"name\":\"justify_content\",\"kind\":\"Any\",\"default\":\"flex-start\"},{\"name\":\"gap\",\"kind\":\"Any\",\"default\":\"\"}]},{\"type\":\"model\",\"name\":\"FloatPanel1\",\"properties\":[{\"name\":\"config\",\"kind\":\"Any\",\"default\":{\"type\":\"map\"}},{\"name\":\"contained\",\"kind\":\"Any\",\"default\":true},{\"name\":\"position\",\"kind\":\"Any\",\"default\":\"right-top\"},{\"name\":\"offsetx\",\"kind\":\"Any\",\"default\":null},{\"name\":\"offsety\",\"kind\":\"Any\",\"default\":null},{\"name\":\"theme\",\"kind\":\"Any\",\"default\":\"primary\"},{\"name\":\"status\",\"kind\":\"Any\",\"default\":\"normalized\"}]},{\"type\":\"model\",\"name\":\"GridStack1\",\"properties\":[{\"name\":\"mode\",\"kind\":\"Any\",\"default\":\"warn\"},{\"name\":\"ncols\",\"kind\":\"Any\",\"default\":null},{\"name\":\"nrows\",\"kind\":\"Any\",\"default\":null},{\"name\":\"allow_resize\",\"kind\":\"Any\",\"default\":true},{\"name\":\"allow_drag\",\"kind\":\"Any\",\"default\":true},{\"name\":\"state\",\"kind\":\"Any\",\"default\":[]}]},{\"type\":\"model\",\"name\":\"drag1\",\"properties\":[{\"name\":\"slider_width\",\"kind\":\"Any\",\"default\":5},{\"name\":\"slider_color\",\"kind\":\"Any\",\"default\":\"black\"},{\"name\":\"value\",\"kind\":\"Any\",\"default\":50}]},{\"type\":\"model\",\"name\":\"click1\",\"properties\":[{\"name\":\"terminal_output\",\"kind\":\"Any\",\"default\":\"\"},{\"name\":\"debug_name\",\"kind\":\"Any\",\"default\":\"\"},{\"name\":\"clears\",\"kind\":\"Any\",\"default\":0}]},{\"type\":\"model\",\"name\":\"FastWrapper1\",\"properties\":[{\"name\":\"object\",\"kind\":\"Any\",\"default\":null},{\"name\":\"style\",\"kind\":\"Any\",\"default\":null}]},{\"type\":\"model\",\"name\":\"NotificationAreaBase1\",\"properties\":[{\"name\":\"js_events\",\"kind\":\"Any\",\"default\":{\"type\":\"map\"}},{\"name\":\"position\",\"kind\":\"Any\",\"default\":\"bottom-right\"},{\"name\":\"_clear\",\"kind\":\"Any\",\"default\":0}]},{\"type\":\"model\",\"name\":\"NotificationArea1\",\"properties\":[{\"name\":\"js_events\",\"kind\":\"Any\",\"default\":{\"type\":\"map\"}},{\"name\":\"notifications\",\"kind\":\"Any\",\"default\":[]},{\"name\":\"position\",\"kind\":\"Any\",\"default\":\"bottom-right\"},{\"name\":\"_clear\",\"kind\":\"Any\",\"default\":0},{\"name\":\"types\",\"kind\":\"Any\",\"default\":[{\"type\":\"map\",\"entries\":[[\"type\",\"warning\"],[\"background\",\"#ffc107\"],[\"icon\",{\"type\":\"map\",\"entries\":[[\"className\",\"fas fa-exclamation-triangle\"],[\"tagName\",\"i\"],[\"color\",\"white\"]]}]]},{\"type\":\"map\",\"entries\":[[\"type\",\"info\"],[\"background\",\"#007bff\"],[\"icon\",{\"type\":\"map\",\"entries\":[[\"className\",\"fas fa-info-circle\"],[\"tagName\",\"i\"],[\"color\",\"white\"]]}]]}]}]},{\"type\":\"model\",\"name\":\"Notification\",\"properties\":[{\"name\":\"background\",\"kind\":\"Any\",\"default\":null},{\"name\":\"duration\",\"kind\":\"Any\",\"default\":3000},{\"name\":\"icon\",\"kind\":\"Any\",\"default\":null},{\"name\":\"message\",\"kind\":\"Any\",\"default\":\"\"},{\"name\":\"notification_type\",\"kind\":\"Any\",\"default\":null},{\"name\":\"_destroyed\",\"kind\":\"Any\",\"default\":false}]},{\"type\":\"model\",\"name\":\"TemplateActions1\",\"properties\":[{\"name\":\"open_modal\",\"kind\":\"Any\",\"default\":0},{\"name\":\"close_modal\",\"kind\":\"Any\",\"default\":0}]},{\"type\":\"model\",\"name\":\"BootstrapTemplateActions1\",\"properties\":[{\"name\":\"open_modal\",\"kind\":\"Any\",\"default\":0},{\"name\":\"close_modal\",\"kind\":\"Any\",\"default\":0}]},{\"type\":\"model\",\"name\":\"TemplateEditor1\",\"properties\":[{\"name\":\"layout\",\"kind\":\"Any\",\"default\":[]}]},{\"type\":\"model\",\"name\":\"MaterialTemplateActions1\",\"properties\":[{\"name\":\"open_modal\",\"kind\":\"Any\",\"default\":0},{\"name\":\"close_modal\",\"kind\":\"Any\",\"default\":0}]},{\"type\":\"model\",\"name\":\"copy_to_clipboard1\",\"properties\":[{\"name\":\"fill\",\"kind\":\"Any\",\"default\":\"none\"},{\"name\":\"value\",\"kind\":\"Any\",\"default\":null}]}]}};\n",
       "  var render_items = [{\"docid\":\"33adfed1-4aa1-4e4e-8595-534a41c02bca\",\"roots\":{\"p1872\":\"f3dcd78c-6079-414d-aef2-6bba0efed366\"},\"root_ids\":[\"p1872\"]}];\n",
       "  var docs = Object.values(docs_json)\n",
       "  if (!docs) {\n",
       "    return\n",
       "  }\n",
       "  const py_version = docs[0].version.replace('rc', '-rc.').replace('.dev', '-dev.')\n",
       "  function embed_document(root) {\n",
       "    var Bokeh = get_bokeh(root)\n",
       "    Bokeh.embed.embed_items_notebook(docs_json, render_items);\n",
       "    for (const render_item of render_items) {\n",
       "      for (const root_id of render_item.root_ids) {\n",
       "\tconst id_el = document.getElementById(root_id)\n",
       "\tif (id_el.children.length && (id_el.children[0].className === 'bk-root')) {\n",
       "\t  const root_el = id_el.children[0]\n",
       "\t  root_el.id = root_el.id + '-rendered'\n",
       "\t}\n",
       "      }\n",
       "    }\n",
       "  }\n",
       "  function get_bokeh(root) {\n",
       "    if (root.Bokeh === undefined) {\n",
       "      return null\n",
       "    } else if (root.Bokeh.version !== py_version) {\n",
       "      if (root.Bokeh.versions === undefined || !root.Bokeh.versions.has(py_version)) {\n",
       "\treturn null\n",
       "      }\n",
       "      return root.Bokeh.versions.get(py_version);\n",
       "    } else if (root.Bokeh.version === py_version) {\n",
       "      return root.Bokeh\n",
       "    }\n",
       "    return null\n",
       "  }\n",
       "  function is_loaded(root) {\n",
       "    var Bokeh = get_bokeh(root)\n",
       "    return (Bokeh != null && Bokeh.Panel !== undefined)\n",
       "  }\n",
       "  if (is_loaded(root)) {\n",
       "    embed_document(root);\n",
       "  } else {\n",
       "    var attempts = 0;\n",
       "    var timer = setInterval(function(root) {\n",
       "      if (is_loaded(root)) {\n",
       "        clearInterval(timer);\n",
       "        embed_document(root);\n",
       "      } else if (document.readyState == \"complete\") {\n",
       "        attempts++;\n",
       "        if (attempts > 200) {\n",
       "          clearInterval(timer);\n",
       "\t  var Bokeh = get_bokeh(root)\n",
       "\t  if (Bokeh == null || Bokeh.Panel == null) {\n",
       "            console.warn(\"Panel: ERROR: Unable to run Panel code because Bokeh or Panel library is missing\");\n",
       "\t  } else {\n",
       "\t    console.warn(\"Panel: WARNING: Attempting to render but not all required libraries could be resolved.\")\n",
       "\t    embed_document(root)\n",
       "\t  }\n",
       "        }\n",
       "      }\n",
       "    }, 25, root)\n",
       "  }\n",
       "})(window);</script>"
      ],
      "text/plain": [
       ":Bars   [idelem]   (intensidad)"
      ]
     },
     "execution_count": 110,
     "metadata": {
      "application/vnd.holoviews_exec.v0+json": {
       "id": "p1872"
      }
     },
     "output_type": "execute_result"
    }
   ],
   "source": [
    "sample_data.group_by(pl.col('idelem')).max().sort('intensidad',descending=True).select(pl.col('idelem'),pl.col('intensidad')).head(10).collect().plot.bar(x='idelem', y='intensidad')"
   ]
  },
  {
   "cell_type": "markdown",
   "metadata": {},
   "source": [
    "Zonas con mayor intensidad"
   ]
  },
  {
   "cell_type": "code",
   "execution_count": 111,
   "metadata": {},
   "outputs": [
    {
     "data": {},
     "metadata": {},
     "output_type": "display_data"
    },
    {
     "data": {
      "application/vnd.holoviews_exec.v0+json": "",
      "text/html": [
       "<div id='p1934'>\n",
       "  <div id=\"ebef935f-6c36-49b3-9617-44db4db5e628\" data-root-id=\"p1934\" style=\"display: contents;\"></div>\n",
       "</div>\n",
       "<script type=\"application/javascript\">(function(root) {\n",
       "  var docs_json = {\"5d4a516d-bc59-42ec-8e10-1cbf2d71b15e\":{\"version\":\"3.4.0\",\"title\":\"Bokeh Application\",\"roots\":[{\"type\":\"object\",\"name\":\"Row\",\"id\":\"p1934\",\"attributes\":{\"name\":\"Row02574\",\"tags\":[\"embedded\"],\"stylesheets\":[\"\\n:host(.pn-loading):before, .pn-loading:before {\\n  background-color: #c3c3c3;\\n  mask-size: auto calc(min(50%, 400px));\\n  -webkit-mask-size: auto calc(min(50%, 400px));\\n}\",{\"type\":\"object\",\"name\":\"ImportedStyleSheet\",\"id\":\"p1937\",\"attributes\":{\"url\":\"https://cdn.holoviz.org/panel/1.4.0/dist/css/loading.css\"}},{\"type\":\"object\",\"name\":\"ImportedStyleSheet\",\"id\":\"p1993\",\"attributes\":{\"url\":\"https://cdn.holoviz.org/panel/1.4.0/dist/css/listpanel.css\"}},{\"type\":\"object\",\"name\":\"ImportedStyleSheet\",\"id\":\"p1935\",\"attributes\":{\"url\":\"https://cdn.holoviz.org/panel/1.4.0/dist/bundled/theme/default.css\"}},{\"type\":\"object\",\"name\":\"ImportedStyleSheet\",\"id\":\"p1936\",\"attributes\":{\"url\":\"https://cdn.holoviz.org/panel/1.4.0/dist/bundled/theme/native.css\"}}],\"min_width\":700,\"margin\":0,\"sizing_mode\":\"stretch_width\",\"align\":\"start\",\"children\":[{\"type\":\"object\",\"name\":\"Spacer\",\"id\":\"p1938\",\"attributes\":{\"name\":\"HSpacer02581\",\"stylesheets\":[\"\\n:host(.pn-loading):before, .pn-loading:before {\\n  background-color: #c3c3c3;\\n  mask-size: auto calc(min(50%, 400px));\\n  -webkit-mask-size: auto calc(min(50%, 400px));\\n}\",{\"id\":\"p1937\"},{\"id\":\"p1935\"},{\"id\":\"p1936\"}],\"margin\":0,\"sizing_mode\":\"stretch_width\",\"align\":\"start\"}},{\"type\":\"object\",\"name\":\"Figure\",\"id\":\"p1946\",\"attributes\":{\"width\":700,\"height\":300,\"margin\":[5,10],\"sizing_mode\":\"fixed\",\"align\":\"start\",\"x_range\":{\"type\":\"object\",\"name\":\"FactorRange\",\"id\":\"p1939\",\"attributes\":{\"tags\":[[[\"descripcion\",\"descripcion\",null]],[]],\"factors\":[\"Arturo Soria  - Cultura-Dalia\",\"REYES CATOLICOS N-S (DR. JIMENEZ DIAZ - AV. MEMORIA)\",\"(AFOROS) ALCALA E-O(PL. INDEPENDENCIA-PL. CIBELES)\",\"AV.TOREROS E-O(NRA.SRAGUADALUPE-TOREROS)(GIRO A JULIO CAMBA)\",\"(AFOROS) Po DEL PRADO S-N(ESPALTER-PL.CANOVA CASTILLO)\",\"(AFOROS) Po DEL  PRADO N-S(PL. PLATERIAS-GTA. CARLOS V)\",\"(AFOROS) Po DEL PRADO N-S(PL. PLATERIAS-GTA. CARLOS V)\",\"Pl. Alsacia - Malmoe-Hermanos Garc\\u00eda Noblejas\",\"(AFOROS)Po DEL PRADO S-N(ESPALTER-PL. CANOVAS  DEL CASTILLO)\",\"(AFOROS) STA Ma CABEZA N-S (LATERAL DRCHO.-IZQDO-TUNEL)\"]}},\"y_range\":{\"type\":\"object\",\"name\":\"Range1d\",\"id\":\"p1940\",\"attributes\":{\"tags\":[[[\"intensidad\",\"intensidad\",null]],{\"type\":\"map\",\"entries\":[[\"invert_yaxis\",false],[\"autorange\",false]]}],\"end\":19132.0,\"reset_start\":0.0,\"reset_end\":19132.0}},\"x_scale\":{\"type\":\"object\",\"name\":\"CategoricalScale\",\"id\":\"p1956\"},\"y_scale\":{\"type\":\"object\",\"name\":\"LinearScale\",\"id\":\"p1957\"},\"title\":{\"type\":\"object\",\"name\":\"Title\",\"id\":\"p1949\",\"attributes\":{\"text_color\":\"black\",\"text_font_size\":\"12pt\"}},\"renderers\":[{\"type\":\"object\",\"name\":\"GlyphRenderer\",\"id\":\"p1986\",\"attributes\":{\"data_source\":{\"type\":\"object\",\"name\":\"ColumnDataSource\",\"id\":\"p1977\",\"attributes\":{\"selected\":{\"type\":\"object\",\"name\":\"Selection\",\"id\":\"p1978\",\"attributes\":{\"indices\":[],\"line_indices\":[]}},\"selection_policy\":{\"type\":\"object\",\"name\":\"UnionRenderers\",\"id\":\"p1979\"},\"data\":{\"type\":\"map\",\"entries\":[[\"descripcion\",[\"Arturo Soria  - Cultura-Dalia\",\"REYES CATOLICOS N-S (DR. JIMENEZ DIAZ - AV. MEMORIA)\",\"(AFOROS) ALCALA E-O(PL. INDEPENDENCIA-PL. CIBELES)\",\"AV.TOREROS E-O(NRA.SRAGUADALUPE-TOREROS)(GIRO A JULIO CAMBA)\",\"(AFOROS) Po DEL PRADO S-N(ESPALTER-PL.CANOVA CASTILLO)\",\"(AFOROS) Po DEL  PRADO N-S(PL. PLATERIAS-GTA. CARLOS V)\",\"(AFOROS) Po DEL PRADO N-S(PL. PLATERIAS-GTA. CARLOS V)\",\"Pl. Alsacia - Malmoe-Hermanos Garc\\u00eda Noblejas\",\"(AFOROS)Po DEL PRADO S-N(ESPALTER-PL. CANOVAS  DEL CASTILLO)\",\"(AFOROS) STA Ma CABEZA N-S (LATERAL DRCHO.-IZQDO-TUNEL)\"]],[\"intensidad\",{\"type\":\"ndarray\",\"array\":{\"type\":\"bytes\",\"data\":\"7EUAADggAADUHAAAJBgAAOgXAACsFwAAgBYAADAWAAAIFgAAzBUAAA==\"},\"shape\":[10],\"dtype\":\"int32\",\"order\":\"little\"}]]}}},\"view\":{\"type\":\"object\",\"name\":\"CDSView\",\"id\":\"p1987\",\"attributes\":{\"filter\":{\"type\":\"object\",\"name\":\"AllIndices\",\"id\":\"p1988\"}}},\"glyph\":{\"type\":\"object\",\"name\":\"VBar\",\"id\":\"p1983\",\"attributes\":{\"tags\":[\"apply_ranges\"],\"x\":{\"type\":\"field\",\"field\":\"descripcion\"},\"width\":{\"type\":\"value\",\"value\":0.8},\"top\":{\"type\":\"field\",\"field\":\"intensidad\"},\"fill_color\":{\"type\":\"value\",\"value\":\"#30a2da\"},\"hatch_color\":{\"type\":\"value\",\"value\":\"#30a2da\"}}},\"selection_glyph\":{\"type\":\"object\",\"name\":\"VBar\",\"id\":\"p1989\",\"attributes\":{\"tags\":[\"apply_ranges\"],\"x\":{\"type\":\"field\",\"field\":\"descripcion\"},\"width\":{\"type\":\"value\",\"value\":0.8},\"bottom\":{\"type\":\"value\",\"value\":0},\"top\":{\"type\":\"field\",\"field\":\"intensidad\"},\"line_color\":{\"type\":\"value\",\"value\":\"black\"},\"line_alpha\":{\"type\":\"value\",\"value\":1.0},\"line_width\":{\"type\":\"value\",\"value\":1},\"line_join\":{\"type\":\"value\",\"value\":\"bevel\"},\"line_cap\":{\"type\":\"value\",\"value\":\"butt\"},\"line_dash\":{\"type\":\"value\",\"value\":[]},\"line_dash_offset\":{\"type\":\"value\",\"value\":0},\"fill_color\":{\"type\":\"value\",\"value\":\"#30a2da\"},\"fill_alpha\":{\"type\":\"value\",\"value\":1.0},\"hatch_color\":{\"type\":\"value\",\"value\":\"#30a2da\"},\"hatch_alpha\":{\"type\":\"value\",\"value\":1.0},\"hatch_scale\":{\"type\":\"value\",\"value\":12.0},\"hatch_pattern\":{\"type\":\"value\",\"value\":null},\"hatch_weight\":{\"type\":\"value\",\"value\":1.0}}},\"nonselection_glyph\":{\"type\":\"object\",\"name\":\"VBar\",\"id\":\"p1984\",\"attributes\":{\"tags\":[\"apply_ranges\"],\"x\":{\"type\":\"field\",\"field\":\"descripcion\"},\"width\":{\"type\":\"value\",\"value\":0.8},\"top\":{\"type\":\"field\",\"field\":\"intensidad\"},\"line_alpha\":{\"type\":\"value\",\"value\":0.1},\"fill_color\":{\"type\":\"value\",\"value\":\"#30a2da\"},\"fill_alpha\":{\"type\":\"value\",\"value\":0.1},\"hatch_color\":{\"type\":\"value\",\"value\":\"#30a2da\"},\"hatch_alpha\":{\"type\":\"value\",\"value\":0.1}}},\"muted_glyph\":{\"type\":\"object\",\"name\":\"VBar\",\"id\":\"p1985\",\"attributes\":{\"tags\":[\"apply_ranges\"],\"x\":{\"type\":\"field\",\"field\":\"descripcion\"},\"width\":{\"type\":\"value\",\"value\":0.8},\"top\":{\"type\":\"field\",\"field\":\"intensidad\"},\"line_alpha\":{\"type\":\"value\",\"value\":0.2},\"fill_color\":{\"type\":\"value\",\"value\":\"#30a2da\"},\"fill_alpha\":{\"type\":\"value\",\"value\":0.2},\"hatch_color\":{\"type\":\"value\",\"value\":\"#30a2da\"},\"hatch_alpha\":{\"type\":\"value\",\"value\":0.2}}}}}],\"toolbar\":{\"type\":\"object\",\"name\":\"Toolbar\",\"id\":\"p1955\",\"attributes\":{\"tools\":[{\"type\":\"object\",\"name\":\"WheelZoomTool\",\"id\":\"p1944\",\"attributes\":{\"tags\":[\"hv_created\"],\"renderers\":\"auto\",\"zoom_together\":\"none\"}},{\"type\":\"object\",\"name\":\"HoverTool\",\"id\":\"p1945\",\"attributes\":{\"tags\":[\"hv_created\"],\"renderers\":[{\"id\":\"p1986\"}],\"tooltips\":[[\"descripcion\",\"@{descripcion}\"],[\"intensidad\",\"@{intensidad}\"]]}},{\"type\":\"object\",\"name\":\"SaveTool\",\"id\":\"p1968\"},{\"type\":\"object\",\"name\":\"PanTool\",\"id\":\"p1969\"},{\"type\":\"object\",\"name\":\"BoxZoomTool\",\"id\":\"p1970\",\"attributes\":{\"overlay\":{\"type\":\"object\",\"name\":\"BoxAnnotation\",\"id\":\"p1971\",\"attributes\":{\"syncable\":false,\"level\":\"overlay\",\"visible\":false,\"left\":{\"type\":\"number\",\"value\":\"nan\"},\"right\":{\"type\":\"number\",\"value\":\"nan\"},\"top\":{\"type\":\"number\",\"value\":\"nan\"},\"bottom\":{\"type\":\"number\",\"value\":\"nan\"},\"left_units\":\"canvas\",\"right_units\":\"canvas\",\"top_units\":\"canvas\",\"bottom_units\":\"canvas\",\"line_color\":\"black\",\"line_alpha\":1.0,\"line_width\":2,\"line_dash\":[4,4],\"fill_color\":\"lightgrey\",\"fill_alpha\":0.5}}}},{\"type\":\"object\",\"name\":\"ResetTool\",\"id\":\"p1976\"}],\"active_drag\":{\"id\":\"p1969\"},\"active_scroll\":{\"id\":\"p1944\"}}},\"left\":[{\"type\":\"object\",\"name\":\"LinearAxis\",\"id\":\"p1963\",\"attributes\":{\"ticker\":{\"type\":\"object\",\"name\":\"BasicTicker\",\"id\":\"p1964\",\"attributes\":{\"mantissas\":[1,2,5]}},\"formatter\":{\"type\":\"object\",\"name\":\"BasicTickFormatter\",\"id\":\"p1965\"},\"axis_label\":\"intensidad\",\"major_label_policy\":{\"type\":\"object\",\"name\":\"AllLabels\",\"id\":\"p1966\"}}}],\"below\":[{\"type\":\"object\",\"name\":\"CategoricalAxis\",\"id\":\"p1958\",\"attributes\":{\"ticker\":{\"type\":\"object\",\"name\":\"CategoricalTicker\",\"id\":\"p1959\"},\"formatter\":{\"type\":\"object\",\"name\":\"CategoricalTickFormatter\",\"id\":\"p1960\"},\"axis_label\":\"descripcion\",\"major_label_orientation\":0.3490658503988659,\"major_label_policy\":{\"type\":\"object\",\"name\":\"AllLabels\",\"id\":\"p1961\"}}}],\"center\":[{\"type\":\"object\",\"name\":\"Grid\",\"id\":\"p1962\",\"attributes\":{\"axis\":{\"id\":\"p1958\"},\"grid_line_color\":null}},{\"type\":\"object\",\"name\":\"Grid\",\"id\":\"p1967\",\"attributes\":{\"dimension\":1,\"axis\":{\"id\":\"p1963\"},\"grid_line_color\":null}}],\"min_border_top\":10,\"min_border_bottom\":10,\"min_border_left\":10,\"min_border_right\":10,\"output_backend\":\"webgl\"}},{\"type\":\"object\",\"name\":\"Spacer\",\"id\":\"p1991\",\"attributes\":{\"name\":\"HSpacer02582\",\"stylesheets\":[\"\\n:host(.pn-loading):before, .pn-loading:before {\\n  background-color: #c3c3c3;\\n  mask-size: auto calc(min(50%, 400px));\\n  -webkit-mask-size: auto calc(min(50%, 400px));\\n}\",{\"id\":\"p1937\"},{\"id\":\"p1935\"},{\"id\":\"p1936\"}],\"margin\":0,\"sizing_mode\":\"stretch_width\",\"align\":\"start\"}}]}}],\"defs\":[{\"type\":\"model\",\"name\":\"ReactiveHTML1\"},{\"type\":\"model\",\"name\":\"FlexBox1\",\"properties\":[{\"name\":\"align_content\",\"kind\":\"Any\",\"default\":\"flex-start\"},{\"name\":\"align_items\",\"kind\":\"Any\",\"default\":\"flex-start\"},{\"name\":\"flex_direction\",\"kind\":\"Any\",\"default\":\"row\"},{\"name\":\"flex_wrap\",\"kind\":\"Any\",\"default\":\"wrap\"},{\"name\":\"justify_content\",\"kind\":\"Any\",\"default\":\"flex-start\"},{\"name\":\"gap\",\"kind\":\"Any\",\"default\":\"\"}]},{\"type\":\"model\",\"name\":\"FloatPanel1\",\"properties\":[{\"name\":\"config\",\"kind\":\"Any\",\"default\":{\"type\":\"map\"}},{\"name\":\"contained\",\"kind\":\"Any\",\"default\":true},{\"name\":\"position\",\"kind\":\"Any\",\"default\":\"right-top\"},{\"name\":\"offsetx\",\"kind\":\"Any\",\"default\":null},{\"name\":\"offsety\",\"kind\":\"Any\",\"default\":null},{\"name\":\"theme\",\"kind\":\"Any\",\"default\":\"primary\"},{\"name\":\"status\",\"kind\":\"Any\",\"default\":\"normalized\"}]},{\"type\":\"model\",\"name\":\"GridStack1\",\"properties\":[{\"name\":\"mode\",\"kind\":\"Any\",\"default\":\"warn\"},{\"name\":\"ncols\",\"kind\":\"Any\",\"default\":null},{\"name\":\"nrows\",\"kind\":\"Any\",\"default\":null},{\"name\":\"allow_resize\",\"kind\":\"Any\",\"default\":true},{\"name\":\"allow_drag\",\"kind\":\"Any\",\"default\":true},{\"name\":\"state\",\"kind\":\"Any\",\"default\":[]}]},{\"type\":\"model\",\"name\":\"drag1\",\"properties\":[{\"name\":\"slider_width\",\"kind\":\"Any\",\"default\":5},{\"name\":\"slider_color\",\"kind\":\"Any\",\"default\":\"black\"},{\"name\":\"value\",\"kind\":\"Any\",\"default\":50}]},{\"type\":\"model\",\"name\":\"click1\",\"properties\":[{\"name\":\"terminal_output\",\"kind\":\"Any\",\"default\":\"\"},{\"name\":\"debug_name\",\"kind\":\"Any\",\"default\":\"\"},{\"name\":\"clears\",\"kind\":\"Any\",\"default\":0}]},{\"type\":\"model\",\"name\":\"FastWrapper1\",\"properties\":[{\"name\":\"object\",\"kind\":\"Any\",\"default\":null},{\"name\":\"style\",\"kind\":\"Any\",\"default\":null}]},{\"type\":\"model\",\"name\":\"NotificationAreaBase1\",\"properties\":[{\"name\":\"js_events\",\"kind\":\"Any\",\"default\":{\"type\":\"map\"}},{\"name\":\"position\",\"kind\":\"Any\",\"default\":\"bottom-right\"},{\"name\":\"_clear\",\"kind\":\"Any\",\"default\":0}]},{\"type\":\"model\",\"name\":\"NotificationArea1\",\"properties\":[{\"name\":\"js_events\",\"kind\":\"Any\",\"default\":{\"type\":\"map\"}},{\"name\":\"notifications\",\"kind\":\"Any\",\"default\":[]},{\"name\":\"position\",\"kind\":\"Any\",\"default\":\"bottom-right\"},{\"name\":\"_clear\",\"kind\":\"Any\",\"default\":0},{\"name\":\"types\",\"kind\":\"Any\",\"default\":[{\"type\":\"map\",\"entries\":[[\"type\",\"warning\"],[\"background\",\"#ffc107\"],[\"icon\",{\"type\":\"map\",\"entries\":[[\"className\",\"fas fa-exclamation-triangle\"],[\"tagName\",\"i\"],[\"color\",\"white\"]]}]]},{\"type\":\"map\",\"entries\":[[\"type\",\"info\"],[\"background\",\"#007bff\"],[\"icon\",{\"type\":\"map\",\"entries\":[[\"className\",\"fas fa-info-circle\"],[\"tagName\",\"i\"],[\"color\",\"white\"]]}]]}]}]},{\"type\":\"model\",\"name\":\"Notification\",\"properties\":[{\"name\":\"background\",\"kind\":\"Any\",\"default\":null},{\"name\":\"duration\",\"kind\":\"Any\",\"default\":3000},{\"name\":\"icon\",\"kind\":\"Any\",\"default\":null},{\"name\":\"message\",\"kind\":\"Any\",\"default\":\"\"},{\"name\":\"notification_type\",\"kind\":\"Any\",\"default\":null},{\"name\":\"_destroyed\",\"kind\":\"Any\",\"default\":false}]},{\"type\":\"model\",\"name\":\"TemplateActions1\",\"properties\":[{\"name\":\"open_modal\",\"kind\":\"Any\",\"default\":0},{\"name\":\"close_modal\",\"kind\":\"Any\",\"default\":0}]},{\"type\":\"model\",\"name\":\"BootstrapTemplateActions1\",\"properties\":[{\"name\":\"open_modal\",\"kind\":\"Any\",\"default\":0},{\"name\":\"close_modal\",\"kind\":\"Any\",\"default\":0}]},{\"type\":\"model\",\"name\":\"TemplateEditor1\",\"properties\":[{\"name\":\"layout\",\"kind\":\"Any\",\"default\":[]}]},{\"type\":\"model\",\"name\":\"MaterialTemplateActions1\",\"properties\":[{\"name\":\"open_modal\",\"kind\":\"Any\",\"default\":0},{\"name\":\"close_modal\",\"kind\":\"Any\",\"default\":0}]},{\"type\":\"model\",\"name\":\"copy_to_clipboard1\",\"properties\":[{\"name\":\"fill\",\"kind\":\"Any\",\"default\":\"none\"},{\"name\":\"value\",\"kind\":\"Any\",\"default\":null}]}]}};\n",
       "  var render_items = [{\"docid\":\"5d4a516d-bc59-42ec-8e10-1cbf2d71b15e\",\"roots\":{\"p1934\":\"ebef935f-6c36-49b3-9617-44db4db5e628\"},\"root_ids\":[\"p1934\"]}];\n",
       "  var docs = Object.values(docs_json)\n",
       "  if (!docs) {\n",
       "    return\n",
       "  }\n",
       "  const py_version = docs[0].version.replace('rc', '-rc.').replace('.dev', '-dev.')\n",
       "  function embed_document(root) {\n",
       "    var Bokeh = get_bokeh(root)\n",
       "    Bokeh.embed.embed_items_notebook(docs_json, render_items);\n",
       "    for (const render_item of render_items) {\n",
       "      for (const root_id of render_item.root_ids) {\n",
       "\tconst id_el = document.getElementById(root_id)\n",
       "\tif (id_el.children.length && (id_el.children[0].className === 'bk-root')) {\n",
       "\t  const root_el = id_el.children[0]\n",
       "\t  root_el.id = root_el.id + '-rendered'\n",
       "\t}\n",
       "      }\n",
       "    }\n",
       "  }\n",
       "  function get_bokeh(root) {\n",
       "    if (root.Bokeh === undefined) {\n",
       "      return null\n",
       "    } else if (root.Bokeh.version !== py_version) {\n",
       "      if (root.Bokeh.versions === undefined || !root.Bokeh.versions.has(py_version)) {\n",
       "\treturn null\n",
       "      }\n",
       "      return root.Bokeh.versions.get(py_version);\n",
       "    } else if (root.Bokeh.version === py_version) {\n",
       "      return root.Bokeh\n",
       "    }\n",
       "    return null\n",
       "  }\n",
       "  function is_loaded(root) {\n",
       "    var Bokeh = get_bokeh(root)\n",
       "    return (Bokeh != null && Bokeh.Panel !== undefined)\n",
       "  }\n",
       "  if (is_loaded(root)) {\n",
       "    embed_document(root);\n",
       "  } else {\n",
       "    var attempts = 0;\n",
       "    var timer = setInterval(function(root) {\n",
       "      if (is_loaded(root)) {\n",
       "        clearInterval(timer);\n",
       "        embed_document(root);\n",
       "      } else if (document.readyState == \"complete\") {\n",
       "        attempts++;\n",
       "        if (attempts > 200) {\n",
       "          clearInterval(timer);\n",
       "\t  var Bokeh = get_bokeh(root)\n",
       "\t  if (Bokeh == null || Bokeh.Panel == null) {\n",
       "            console.warn(\"Panel: ERROR: Unable to run Panel code because Bokeh or Panel library is missing\");\n",
       "\t  } else {\n",
       "\t    console.warn(\"Panel: WARNING: Attempting to render but not all required libraries could be resolved.\")\n",
       "\t    embed_document(root)\n",
       "\t  }\n",
       "        }\n",
       "      }\n",
       "    }, 25, root)\n",
       "  }\n",
       "})(window);</script>"
      ],
      "text/plain": [
       ":Bars   [descripcion]   (intensidad)"
      ]
     },
     "execution_count": 111,
     "metadata": {
      "application/vnd.holoviews_exec.v0+json": {
       "id": "p1934"
      }
     },
     "output_type": "execute_result"
    }
   ],
   "source": [
    "sample_data.filter(pl.col('descripcion').is_not_null()).group_by(pl.col('descripcion')).max().sort('intensidad',descending=True).select(pl.col('descripcion'),pl.col('intensidad')).head(10).collect().plot.bar(x='descripcion', y='intensidad',rot=20)"
   ]
  },
  {
   "cell_type": "markdown",
   "metadata": {},
   "source": [
    "**Variable `ocupacion`**"
   ]
  },
  {
   "cell_type": "code",
   "execution_count": 112,
   "metadata": {},
   "outputs": [
    {
     "data": {
      "text/html": [
       "<div><style>\n",
       ".dataframe > thead > tr,\n",
       ".dataframe > tbody > tr {\n",
       "  text-align: right;\n",
       "  white-space: pre-wrap;\n",
       "}\n",
       "</style>\n",
       "<small>shape: (5, 2)</small><table border=\"1\" class=\"dataframe\"><thead><tr><th>ocupacion</th><th>count</th></tr><tr><td>i64</td><td>u32</td></tr></thead><tbody><tr><td>100</td><td>699</td></tr><tr><td>99</td><td>103</td></tr><tr><td>98</td><td>285</td></tr><tr><td>97</td><td>228</td></tr><tr><td>96</td><td>144</td></tr></tbody></table></div>"
      ],
      "text/plain": [
       "shape: (5, 2)\n",
       "┌───────────┬───────┐\n",
       "│ ocupacion ┆ count │\n",
       "│ ---       ┆ ---   │\n",
       "│ i64       ┆ u32   │\n",
       "╞═══════════╪═══════╡\n",
       "│ 100       ┆ 699   │\n",
       "│ 99        ┆ 103   │\n",
       "│ 98        ┆ 285   │\n",
       "│ 97        ┆ 228   │\n",
       "│ 96        ┆ 144   │\n",
       "└───────────┴───────┘"
      ]
     },
     "execution_count": 112,
     "metadata": {},
     "output_type": "execute_result"
    }
   ],
   "source": [
    "sample_data.group_by(pl.col('ocupacion')).count().sort('ocupacion',descending=True).head().collect()"
   ]
  },
  {
   "cell_type": "markdown",
   "metadata": {},
   "source": [
    "Zonas que se llenan el mayor número de veces"
   ]
  },
  {
   "cell_type": "code",
   "execution_count": 113,
   "metadata": {},
   "outputs": [
    {
     "data": {},
     "metadata": {},
     "output_type": "display_data"
    },
    {
     "data": {
      "application/vnd.holoviews_exec.v0+json": "",
      "text/html": [
       "<div id='p1996'>\n",
       "  <div id=\"e869654c-d71d-4e1c-ae00-7c73e3f11da5\" data-root-id=\"p1996\" style=\"display: contents;\"></div>\n",
       "</div>\n",
       "<script type=\"application/javascript\">(function(root) {\n",
       "  var docs_json = {\"7f938ecd-0def-4040-92aa-4c567f643d12\":{\"version\":\"3.4.0\",\"title\":\"Bokeh Application\",\"roots\":[{\"type\":\"object\",\"name\":\"Row\",\"id\":\"p1996\",\"attributes\":{\"name\":\"Row02683\",\"tags\":[\"embedded\"],\"stylesheets\":[\"\\n:host(.pn-loading):before, .pn-loading:before {\\n  background-color: #c3c3c3;\\n  mask-size: auto calc(min(50%, 400px));\\n  -webkit-mask-size: auto calc(min(50%, 400px));\\n}\",{\"type\":\"object\",\"name\":\"ImportedStyleSheet\",\"id\":\"p1999\",\"attributes\":{\"url\":\"https://cdn.holoviz.org/panel/1.4.0/dist/css/loading.css\"}},{\"type\":\"object\",\"name\":\"ImportedStyleSheet\",\"id\":\"p2055\",\"attributes\":{\"url\":\"https://cdn.holoviz.org/panel/1.4.0/dist/css/listpanel.css\"}},{\"type\":\"object\",\"name\":\"ImportedStyleSheet\",\"id\":\"p1997\",\"attributes\":{\"url\":\"https://cdn.holoviz.org/panel/1.4.0/dist/bundled/theme/default.css\"}},{\"type\":\"object\",\"name\":\"ImportedStyleSheet\",\"id\":\"p1998\",\"attributes\":{\"url\":\"https://cdn.holoviz.org/panel/1.4.0/dist/bundled/theme/native.css\"}}],\"min_width\":700,\"margin\":0,\"sizing_mode\":\"stretch_width\",\"align\":\"start\",\"children\":[{\"type\":\"object\",\"name\":\"Spacer\",\"id\":\"p2000\",\"attributes\":{\"name\":\"HSpacer02690\",\"stylesheets\":[\"\\n:host(.pn-loading):before, .pn-loading:before {\\n  background-color: #c3c3c3;\\n  mask-size: auto calc(min(50%, 400px));\\n  -webkit-mask-size: auto calc(min(50%, 400px));\\n}\",{\"id\":\"p1999\"},{\"id\":\"p1997\"},{\"id\":\"p1998\"}],\"margin\":0,\"sizing_mode\":\"stretch_width\",\"align\":\"start\"}},{\"type\":\"object\",\"name\":\"Figure\",\"id\":\"p2008\",\"attributes\":{\"width\":700,\"height\":300,\"margin\":[5,10],\"sizing_mode\":\"fixed\",\"align\":\"start\",\"x_range\":{\"type\":\"object\",\"name\":\"FactorRange\",\"id\":\"p2001\",\"attributes\":{\"tags\":[[[\"descripcion\",\"descripcion\",null]],[]],\"factors\":[\"Av. Ensanche de Vallecas - Rafael Le\\u00f3n-Jos\\u00e9 Guti\\u00e9rrez\",\"Av. Ensanche de Vallecas (carriles centrales) - P.P.-M-45\",\"(CARRIL BUS) MONASTERIO HUELGAS N-S (AV. MONASTERIO SUSO Y YUSO-  MONASTERIO DE EL PAULAR)\",\"Av. Albufera - Cantalapiedra-Josefa D\\u00edaz\",\"(TACTICO)JOSE CADALSO S-N(VALLE INCLAN-AV. LAS AGUILAS)\",\"(MICRO) LAGUNA MARQUESADO E-O(GIRO A SAN EZEQUIEL)\",\"GUETARIA S-N(ALZOLA-VILLABONA)\",\"GUETARIA N-S(OREJA-REGIL)\",\"(TACTICO) VALLE PAS ANTES GR-7 E-O (GIRO GLORIETA PARTIDA)\",\"(TACTICO) ALCALDE SAINZ BARANDA O-E(GIRO IZQ. A VAQUERIAS\"]}},\"y_range\":{\"type\":\"object\",\"name\":\"Range1d\",\"id\":\"p2002\",\"attributes\":{\"tags\":[[[\"count\",\"count\",null]],{\"type\":\"map\",\"entries\":[[\"invert_yaxis\",false],[\"autorange\",false]]}],\"end\":226.4,\"reset_start\":0.0,\"reset_end\":226.4}},\"x_scale\":{\"type\":\"object\",\"name\":\"CategoricalScale\",\"id\":\"p2018\"},\"y_scale\":{\"type\":\"object\",\"name\":\"LinearScale\",\"id\":\"p2019\"},\"title\":{\"type\":\"object\",\"name\":\"Title\",\"id\":\"p2011\",\"attributes\":{\"text_color\":\"black\",\"text_font_size\":\"12pt\"}},\"renderers\":[{\"type\":\"object\",\"name\":\"GlyphRenderer\",\"id\":\"p2048\",\"attributes\":{\"data_source\":{\"type\":\"object\",\"name\":\"ColumnDataSource\",\"id\":\"p2039\",\"attributes\":{\"selected\":{\"type\":\"object\",\"name\":\"Selection\",\"id\":\"p2040\",\"attributes\":{\"indices\":[],\"line_indices\":[]}},\"selection_policy\":{\"type\":\"object\",\"name\":\"UnionRenderers\",\"id\":\"p2041\"},\"data\":{\"type\":\"map\",\"entries\":[[\"descripcion\",[\"Av. Ensanche de Vallecas - Rafael Le\\u00f3n-Jos\\u00e9 Guti\\u00e9rrez\",\"Av. Ensanche de Vallecas (carriles centrales) - P.P.-M-45\",\"(CARRIL BUS) MONASTERIO HUELGAS N-S (AV. MONASTERIO SUSO Y YUSO-  MONASTERIO DE EL PAULAR)\",\"Av. Albufera - Cantalapiedra-Josefa D\\u00edaz\",\"(TACTICO)JOSE CADALSO S-N(VALLE INCLAN-AV. LAS AGUILAS)\",\"(MICRO) LAGUNA MARQUESADO E-O(GIRO A SAN EZEQUIEL)\",\"GUETARIA S-N(ALZOLA-VILLABONA)\",\"GUETARIA N-S(OREJA-REGIL)\",\"(TACTICO) VALLE PAS ANTES GR-7 E-O (GIRO GLORIETA PARTIDA)\",\"(TACTICO) ALCALDE SAINZ BARANDA O-E(GIRO IZQ. A VAQUERIAS\"]],[\"count\",{\"type\":\"ndarray\",\"array\":{\"type\":\"bytes\",\"data\":\"3gAAANcAAADEAAAAtAAAALMAAACzAAAAswAAALMAAACzAAAAsgAAAA==\"},\"shape\":[10],\"dtype\":\"uint32\",\"order\":\"little\"}]]}}},\"view\":{\"type\":\"object\",\"name\":\"CDSView\",\"id\":\"p2049\",\"attributes\":{\"filter\":{\"type\":\"object\",\"name\":\"AllIndices\",\"id\":\"p2050\"}}},\"glyph\":{\"type\":\"object\",\"name\":\"VBar\",\"id\":\"p2045\",\"attributes\":{\"tags\":[\"apply_ranges\"],\"x\":{\"type\":\"field\",\"field\":\"descripcion\"},\"width\":{\"type\":\"value\",\"value\":0.8},\"top\":{\"type\":\"field\",\"field\":\"count\"},\"fill_color\":{\"type\":\"value\",\"value\":\"#30a2da\"},\"hatch_color\":{\"type\":\"value\",\"value\":\"#30a2da\"}}},\"selection_glyph\":{\"type\":\"object\",\"name\":\"VBar\",\"id\":\"p2051\",\"attributes\":{\"tags\":[\"apply_ranges\"],\"x\":{\"type\":\"field\",\"field\":\"descripcion\"},\"width\":{\"type\":\"value\",\"value\":0.8},\"bottom\":{\"type\":\"value\",\"value\":0},\"top\":{\"type\":\"field\",\"field\":\"count\"},\"line_color\":{\"type\":\"value\",\"value\":\"black\"},\"line_alpha\":{\"type\":\"value\",\"value\":1.0},\"line_width\":{\"type\":\"value\",\"value\":1},\"line_join\":{\"type\":\"value\",\"value\":\"bevel\"},\"line_cap\":{\"type\":\"value\",\"value\":\"butt\"},\"line_dash\":{\"type\":\"value\",\"value\":[]},\"line_dash_offset\":{\"type\":\"value\",\"value\":0},\"fill_color\":{\"type\":\"value\",\"value\":\"#30a2da\"},\"fill_alpha\":{\"type\":\"value\",\"value\":1.0},\"hatch_color\":{\"type\":\"value\",\"value\":\"#30a2da\"},\"hatch_alpha\":{\"type\":\"value\",\"value\":1.0},\"hatch_scale\":{\"type\":\"value\",\"value\":12.0},\"hatch_pattern\":{\"type\":\"value\",\"value\":null},\"hatch_weight\":{\"type\":\"value\",\"value\":1.0}}},\"nonselection_glyph\":{\"type\":\"object\",\"name\":\"VBar\",\"id\":\"p2046\",\"attributes\":{\"tags\":[\"apply_ranges\"],\"x\":{\"type\":\"field\",\"field\":\"descripcion\"},\"width\":{\"type\":\"value\",\"value\":0.8},\"top\":{\"type\":\"field\",\"field\":\"count\"},\"line_alpha\":{\"type\":\"value\",\"value\":0.1},\"fill_color\":{\"type\":\"value\",\"value\":\"#30a2da\"},\"fill_alpha\":{\"type\":\"value\",\"value\":0.1},\"hatch_color\":{\"type\":\"value\",\"value\":\"#30a2da\"},\"hatch_alpha\":{\"type\":\"value\",\"value\":0.1}}},\"muted_glyph\":{\"type\":\"object\",\"name\":\"VBar\",\"id\":\"p2047\",\"attributes\":{\"tags\":[\"apply_ranges\"],\"x\":{\"type\":\"field\",\"field\":\"descripcion\"},\"width\":{\"type\":\"value\",\"value\":0.8},\"top\":{\"type\":\"field\",\"field\":\"count\"},\"line_alpha\":{\"type\":\"value\",\"value\":0.2},\"fill_color\":{\"type\":\"value\",\"value\":\"#30a2da\"},\"fill_alpha\":{\"type\":\"value\",\"value\":0.2},\"hatch_color\":{\"type\":\"value\",\"value\":\"#30a2da\"},\"hatch_alpha\":{\"type\":\"value\",\"value\":0.2}}}}}],\"toolbar\":{\"type\":\"object\",\"name\":\"Toolbar\",\"id\":\"p2017\",\"attributes\":{\"tools\":[{\"type\":\"object\",\"name\":\"WheelZoomTool\",\"id\":\"p2006\",\"attributes\":{\"tags\":[\"hv_created\"],\"renderers\":\"auto\",\"zoom_together\":\"none\"}},{\"type\":\"object\",\"name\":\"HoverTool\",\"id\":\"p2007\",\"attributes\":{\"tags\":[\"hv_created\"],\"renderers\":[{\"id\":\"p2048\"}],\"tooltips\":[[\"descripcion\",\"@{descripcion}\"],[\"count\",\"@{count}\"]]}},{\"type\":\"object\",\"name\":\"SaveTool\",\"id\":\"p2030\"},{\"type\":\"object\",\"name\":\"PanTool\",\"id\":\"p2031\"},{\"type\":\"object\",\"name\":\"BoxZoomTool\",\"id\":\"p2032\",\"attributes\":{\"overlay\":{\"type\":\"object\",\"name\":\"BoxAnnotation\",\"id\":\"p2033\",\"attributes\":{\"syncable\":false,\"level\":\"overlay\",\"visible\":false,\"left\":{\"type\":\"number\",\"value\":\"nan\"},\"right\":{\"type\":\"number\",\"value\":\"nan\"},\"top\":{\"type\":\"number\",\"value\":\"nan\"},\"bottom\":{\"type\":\"number\",\"value\":\"nan\"},\"left_units\":\"canvas\",\"right_units\":\"canvas\",\"top_units\":\"canvas\",\"bottom_units\":\"canvas\",\"line_color\":\"black\",\"line_alpha\":1.0,\"line_width\":2,\"line_dash\":[4,4],\"fill_color\":\"lightgrey\",\"fill_alpha\":0.5}}}},{\"type\":\"object\",\"name\":\"ResetTool\",\"id\":\"p2038\"}],\"active_drag\":{\"id\":\"p2031\"},\"active_scroll\":{\"id\":\"p2006\"}}},\"left\":[{\"type\":\"object\",\"name\":\"LinearAxis\",\"id\":\"p2025\",\"attributes\":{\"ticker\":{\"type\":\"object\",\"name\":\"BasicTicker\",\"id\":\"p2026\",\"attributes\":{\"mantissas\":[1,2,5]}},\"formatter\":{\"type\":\"object\",\"name\":\"BasicTickFormatter\",\"id\":\"p2027\"},\"axis_label\":\"N\\u00famero de veces que tiene ocupaci\\u00f3n total\",\"major_label_policy\":{\"type\":\"object\",\"name\":\"AllLabels\",\"id\":\"p2028\"}}}],\"below\":[{\"type\":\"object\",\"name\":\"CategoricalAxis\",\"id\":\"p2020\",\"attributes\":{\"ticker\":{\"type\":\"object\",\"name\":\"CategoricalTicker\",\"id\":\"p2021\"},\"formatter\":{\"type\":\"object\",\"name\":\"CategoricalTickFormatter\",\"id\":\"p2022\"},\"axis_label\":\"descripcion\",\"major_label_orientation\":0.2617993877991494,\"major_label_policy\":{\"type\":\"object\",\"name\":\"AllLabels\",\"id\":\"p2023\"}}}],\"center\":[{\"type\":\"object\",\"name\":\"Grid\",\"id\":\"p2024\",\"attributes\":{\"axis\":{\"id\":\"p2020\"},\"grid_line_color\":null}},{\"type\":\"object\",\"name\":\"Grid\",\"id\":\"p2029\",\"attributes\":{\"dimension\":1,\"axis\":{\"id\":\"p2025\"},\"grid_line_color\":null}}],\"min_border_top\":10,\"min_border_bottom\":10,\"min_border_left\":10,\"min_border_right\":10,\"output_backend\":\"webgl\"}},{\"type\":\"object\",\"name\":\"Spacer\",\"id\":\"p2053\",\"attributes\":{\"name\":\"HSpacer02691\",\"stylesheets\":[\"\\n:host(.pn-loading):before, .pn-loading:before {\\n  background-color: #c3c3c3;\\n  mask-size: auto calc(min(50%, 400px));\\n  -webkit-mask-size: auto calc(min(50%, 400px));\\n}\",{\"id\":\"p1999\"},{\"id\":\"p1997\"},{\"id\":\"p1998\"}],\"margin\":0,\"sizing_mode\":\"stretch_width\",\"align\":\"start\"}}]}}],\"defs\":[{\"type\":\"model\",\"name\":\"ReactiveHTML1\"},{\"type\":\"model\",\"name\":\"FlexBox1\",\"properties\":[{\"name\":\"align_content\",\"kind\":\"Any\",\"default\":\"flex-start\"},{\"name\":\"align_items\",\"kind\":\"Any\",\"default\":\"flex-start\"},{\"name\":\"flex_direction\",\"kind\":\"Any\",\"default\":\"row\"},{\"name\":\"flex_wrap\",\"kind\":\"Any\",\"default\":\"wrap\"},{\"name\":\"justify_content\",\"kind\":\"Any\",\"default\":\"flex-start\"},{\"name\":\"gap\",\"kind\":\"Any\",\"default\":\"\"}]},{\"type\":\"model\",\"name\":\"FloatPanel1\",\"properties\":[{\"name\":\"config\",\"kind\":\"Any\",\"default\":{\"type\":\"map\"}},{\"name\":\"contained\",\"kind\":\"Any\",\"default\":true},{\"name\":\"position\",\"kind\":\"Any\",\"default\":\"right-top\"},{\"name\":\"offsetx\",\"kind\":\"Any\",\"default\":null},{\"name\":\"offsety\",\"kind\":\"Any\",\"default\":null},{\"name\":\"theme\",\"kind\":\"Any\",\"default\":\"primary\"},{\"name\":\"status\",\"kind\":\"Any\",\"default\":\"normalized\"}]},{\"type\":\"model\",\"name\":\"GridStack1\",\"properties\":[{\"name\":\"mode\",\"kind\":\"Any\",\"default\":\"warn\"},{\"name\":\"ncols\",\"kind\":\"Any\",\"default\":null},{\"name\":\"nrows\",\"kind\":\"Any\",\"default\":null},{\"name\":\"allow_resize\",\"kind\":\"Any\",\"default\":true},{\"name\":\"allow_drag\",\"kind\":\"Any\",\"default\":true},{\"name\":\"state\",\"kind\":\"Any\",\"default\":[]}]},{\"type\":\"model\",\"name\":\"drag1\",\"properties\":[{\"name\":\"slider_width\",\"kind\":\"Any\",\"default\":5},{\"name\":\"slider_color\",\"kind\":\"Any\",\"default\":\"black\"},{\"name\":\"value\",\"kind\":\"Any\",\"default\":50}]},{\"type\":\"model\",\"name\":\"click1\",\"properties\":[{\"name\":\"terminal_output\",\"kind\":\"Any\",\"default\":\"\"},{\"name\":\"debug_name\",\"kind\":\"Any\",\"default\":\"\"},{\"name\":\"clears\",\"kind\":\"Any\",\"default\":0}]},{\"type\":\"model\",\"name\":\"FastWrapper1\",\"properties\":[{\"name\":\"object\",\"kind\":\"Any\",\"default\":null},{\"name\":\"style\",\"kind\":\"Any\",\"default\":null}]},{\"type\":\"model\",\"name\":\"NotificationAreaBase1\",\"properties\":[{\"name\":\"js_events\",\"kind\":\"Any\",\"default\":{\"type\":\"map\"}},{\"name\":\"position\",\"kind\":\"Any\",\"default\":\"bottom-right\"},{\"name\":\"_clear\",\"kind\":\"Any\",\"default\":0}]},{\"type\":\"model\",\"name\":\"NotificationArea1\",\"properties\":[{\"name\":\"js_events\",\"kind\":\"Any\",\"default\":{\"type\":\"map\"}},{\"name\":\"notifications\",\"kind\":\"Any\",\"default\":[]},{\"name\":\"position\",\"kind\":\"Any\",\"default\":\"bottom-right\"},{\"name\":\"_clear\",\"kind\":\"Any\",\"default\":0},{\"name\":\"types\",\"kind\":\"Any\",\"default\":[{\"type\":\"map\",\"entries\":[[\"type\",\"warning\"],[\"background\",\"#ffc107\"],[\"icon\",{\"type\":\"map\",\"entries\":[[\"className\",\"fas fa-exclamation-triangle\"],[\"tagName\",\"i\"],[\"color\",\"white\"]]}]]},{\"type\":\"map\",\"entries\":[[\"type\",\"info\"],[\"background\",\"#007bff\"],[\"icon\",{\"type\":\"map\",\"entries\":[[\"className\",\"fas fa-info-circle\"],[\"tagName\",\"i\"],[\"color\",\"white\"]]}]]}]}]},{\"type\":\"model\",\"name\":\"Notification\",\"properties\":[{\"name\":\"background\",\"kind\":\"Any\",\"default\":null},{\"name\":\"duration\",\"kind\":\"Any\",\"default\":3000},{\"name\":\"icon\",\"kind\":\"Any\",\"default\":null},{\"name\":\"message\",\"kind\":\"Any\",\"default\":\"\"},{\"name\":\"notification_type\",\"kind\":\"Any\",\"default\":null},{\"name\":\"_destroyed\",\"kind\":\"Any\",\"default\":false}]},{\"type\":\"model\",\"name\":\"TemplateActions1\",\"properties\":[{\"name\":\"open_modal\",\"kind\":\"Any\",\"default\":0},{\"name\":\"close_modal\",\"kind\":\"Any\",\"default\":0}]},{\"type\":\"model\",\"name\":\"BootstrapTemplateActions1\",\"properties\":[{\"name\":\"open_modal\",\"kind\":\"Any\",\"default\":0},{\"name\":\"close_modal\",\"kind\":\"Any\",\"default\":0}]},{\"type\":\"model\",\"name\":\"TemplateEditor1\",\"properties\":[{\"name\":\"layout\",\"kind\":\"Any\",\"default\":[]}]},{\"type\":\"model\",\"name\":\"MaterialTemplateActions1\",\"properties\":[{\"name\":\"open_modal\",\"kind\":\"Any\",\"default\":0},{\"name\":\"close_modal\",\"kind\":\"Any\",\"default\":0}]},{\"type\":\"model\",\"name\":\"copy_to_clipboard1\",\"properties\":[{\"name\":\"fill\",\"kind\":\"Any\",\"default\":\"none\"},{\"name\":\"value\",\"kind\":\"Any\",\"default\":null}]}]}};\n",
       "  var render_items = [{\"docid\":\"7f938ecd-0def-4040-92aa-4c567f643d12\",\"roots\":{\"p1996\":\"e869654c-d71d-4e1c-ae00-7c73e3f11da5\"},\"root_ids\":[\"p1996\"]}];\n",
       "  var docs = Object.values(docs_json)\n",
       "  if (!docs) {\n",
       "    return\n",
       "  }\n",
       "  const py_version = docs[0].version.replace('rc', '-rc.').replace('.dev', '-dev.')\n",
       "  function embed_document(root) {\n",
       "    var Bokeh = get_bokeh(root)\n",
       "    Bokeh.embed.embed_items_notebook(docs_json, render_items);\n",
       "    for (const render_item of render_items) {\n",
       "      for (const root_id of render_item.root_ids) {\n",
       "\tconst id_el = document.getElementById(root_id)\n",
       "\tif (id_el.children.length && (id_el.children[0].className === 'bk-root')) {\n",
       "\t  const root_el = id_el.children[0]\n",
       "\t  root_el.id = root_el.id + '-rendered'\n",
       "\t}\n",
       "      }\n",
       "    }\n",
       "  }\n",
       "  function get_bokeh(root) {\n",
       "    if (root.Bokeh === undefined) {\n",
       "      return null\n",
       "    } else if (root.Bokeh.version !== py_version) {\n",
       "      if (root.Bokeh.versions === undefined || !root.Bokeh.versions.has(py_version)) {\n",
       "\treturn null\n",
       "      }\n",
       "      return root.Bokeh.versions.get(py_version);\n",
       "    } else if (root.Bokeh.version === py_version) {\n",
       "      return root.Bokeh\n",
       "    }\n",
       "    return null\n",
       "  }\n",
       "  function is_loaded(root) {\n",
       "    var Bokeh = get_bokeh(root)\n",
       "    return (Bokeh != null && Bokeh.Panel !== undefined)\n",
       "  }\n",
       "  if (is_loaded(root)) {\n",
       "    embed_document(root);\n",
       "  } else {\n",
       "    var attempts = 0;\n",
       "    var timer = setInterval(function(root) {\n",
       "      if (is_loaded(root)) {\n",
       "        clearInterval(timer);\n",
       "        embed_document(root);\n",
       "      } else if (document.readyState == \"complete\") {\n",
       "        attempts++;\n",
       "        if (attempts > 200) {\n",
       "          clearInterval(timer);\n",
       "\t  var Bokeh = get_bokeh(root)\n",
       "\t  if (Bokeh == null || Bokeh.Panel == null) {\n",
       "            console.warn(\"Panel: ERROR: Unable to run Panel code because Bokeh or Panel library is missing\");\n",
       "\t  } else {\n",
       "\t    console.warn(\"Panel: WARNING: Attempting to render but not all required libraries could be resolved.\")\n",
       "\t    embed_document(root)\n",
       "\t  }\n",
       "        }\n",
       "      }\n",
       "    }, 25, root)\n",
       "  }\n",
       "})(window);</script>"
      ],
      "text/plain": [
       ":Bars   [descripcion]   (count)"
      ]
     },
     "execution_count": 113,
     "metadata": {
      "application/vnd.holoviews_exec.v0+json": {
       "id": "p1996"
      }
     },
     "output_type": "execute_result"
    }
   ],
   "source": [
    "sample_data.filter(pl.col('descripcion').is_not_null()).group_by(pl.col('descripcion'),pl.col('ocupacion')).count().sort('count',descending=True).select(pl.col('descripcion'),pl.col('count')).head(10).collect().plot.bar(x='descripcion', y='count',rot=15,ylabel='Número de veces que tiene ocupación total')"
   ]
  },
  {
   "cell_type": "markdown",
   "metadata": {},
   "source": [
    "**Variable `carga`**"
   ]
  },
  {
   "cell_type": "markdown",
   "metadata": {},
   "source": [
    "Identificadores con mayor carga"
   ]
  },
  {
   "cell_type": "code",
   "execution_count": 114,
   "metadata": {},
   "outputs": [
    {
     "data": {},
     "metadata": {},
     "output_type": "display_data"
    },
    {
     "data": {
      "application/vnd.holoviews_exec.v0+json": "",
      "text/html": [
       "<div id='p2058'>\n",
       "  <div id=\"c47e7a21-0eee-4f1d-9cbe-3422bfd20b25\" data-root-id=\"p2058\" style=\"display: contents;\"></div>\n",
       "</div>\n",
       "<script type=\"application/javascript\">(function(root) {\n",
       "  var docs_json = {\"d678c456-ef0e-4c95-952f-fcf75b07fa93\":{\"version\":\"3.4.0\",\"title\":\"Bokeh Application\",\"roots\":[{\"type\":\"object\",\"name\":\"Row\",\"id\":\"p2058\",\"attributes\":{\"name\":\"Row02792\",\"tags\":[\"embedded\"],\"stylesheets\":[\"\\n:host(.pn-loading):before, .pn-loading:before {\\n  background-color: #c3c3c3;\\n  mask-size: auto calc(min(50%, 400px));\\n  -webkit-mask-size: auto calc(min(50%, 400px));\\n}\",{\"type\":\"object\",\"name\":\"ImportedStyleSheet\",\"id\":\"p2061\",\"attributes\":{\"url\":\"https://cdn.holoviz.org/panel/1.4.0/dist/css/loading.css\"}},{\"type\":\"object\",\"name\":\"ImportedStyleSheet\",\"id\":\"p2117\",\"attributes\":{\"url\":\"https://cdn.holoviz.org/panel/1.4.0/dist/css/listpanel.css\"}},{\"type\":\"object\",\"name\":\"ImportedStyleSheet\",\"id\":\"p2059\",\"attributes\":{\"url\":\"https://cdn.holoviz.org/panel/1.4.0/dist/bundled/theme/default.css\"}},{\"type\":\"object\",\"name\":\"ImportedStyleSheet\",\"id\":\"p2060\",\"attributes\":{\"url\":\"https://cdn.holoviz.org/panel/1.4.0/dist/bundled/theme/native.css\"}}],\"min_width\":700,\"margin\":0,\"sizing_mode\":\"stretch_width\",\"align\":\"start\",\"children\":[{\"type\":\"object\",\"name\":\"Spacer\",\"id\":\"p2062\",\"attributes\":{\"name\":\"HSpacer02799\",\"stylesheets\":[\"\\n:host(.pn-loading):before, .pn-loading:before {\\n  background-color: #c3c3c3;\\n  mask-size: auto calc(min(50%, 400px));\\n  -webkit-mask-size: auto calc(min(50%, 400px));\\n}\",{\"id\":\"p2061\"},{\"id\":\"p2059\"},{\"id\":\"p2060\"}],\"margin\":0,\"sizing_mode\":\"stretch_width\",\"align\":\"start\"}},{\"type\":\"object\",\"name\":\"Figure\",\"id\":\"p2070\",\"attributes\":{\"width\":700,\"height\":300,\"margin\":[5,10],\"sizing_mode\":\"fixed\",\"align\":\"start\",\"x_range\":{\"type\":\"object\",\"name\":\"FactorRange\",\"id\":\"p2063\",\"attributes\":{\"tags\":[[[\"idelem\",\"idelem\",null]],[]],\"factors\":[\"6747\",\"4658\",\"6803\",\"4491\",\"6703\",\"6767\",\"4473\",\"6914\",\"4550\",\"6724\"]}},\"y_range\":{\"type\":\"object\",\"name\":\"Range1d\",\"id\":\"p2064\",\"attributes\":{\"tags\":[[[\"carga\",\"carga\",null]],{\"type\":\"map\",\"entries\":[[\"invert_yaxis\",false],[\"autorange\",false]]}],\"end\":364.6,\"reset_start\":0.0,\"reset_end\":364.6}},\"x_scale\":{\"type\":\"object\",\"name\":\"CategoricalScale\",\"id\":\"p2080\"},\"y_scale\":{\"type\":\"object\",\"name\":\"LinearScale\",\"id\":\"p2081\"},\"title\":{\"type\":\"object\",\"name\":\"Title\",\"id\":\"p2073\",\"attributes\":{\"text_color\":\"black\",\"text_font_size\":\"12pt\"}},\"renderers\":[{\"type\":\"object\",\"name\":\"GlyphRenderer\",\"id\":\"p2110\",\"attributes\":{\"data_source\":{\"type\":\"object\",\"name\":\"ColumnDataSource\",\"id\":\"p2101\",\"attributes\":{\"selected\":{\"type\":\"object\",\"name\":\"Selection\",\"id\":\"p2102\",\"attributes\":{\"indices\":[],\"line_indices\":[]}},\"selection_policy\":{\"type\":\"object\",\"name\":\"UnionRenderers\",\"id\":\"p2103\"},\"data\":{\"type\":\"map\",\"entries\":[[\"idelem\",[\"6747\",\"4658\",\"6803\",\"4491\",\"6703\",\"6767\",\"4473\",\"6914\",\"4550\",\"6724\"]],[\"carga\",{\"type\":\"ndarray\",\"array\":{\"type\":\"bytes\",\"data\":\"WgEAABABAAD6AAAA1gAAANIAAADHAAAArwAAAKEAAAChAAAAoAAAAA==\"},\"shape\":[10],\"dtype\":\"int32\",\"order\":\"little\"}]]}}},\"view\":{\"type\":\"object\",\"name\":\"CDSView\",\"id\":\"p2111\",\"attributes\":{\"filter\":{\"type\":\"object\",\"name\":\"AllIndices\",\"id\":\"p2112\"}}},\"glyph\":{\"type\":\"object\",\"name\":\"VBar\",\"id\":\"p2107\",\"attributes\":{\"tags\":[\"apply_ranges\"],\"x\":{\"type\":\"field\",\"field\":\"idelem\"},\"width\":{\"type\":\"value\",\"value\":0.8},\"top\":{\"type\":\"field\",\"field\":\"carga\"},\"fill_color\":{\"type\":\"value\",\"value\":\"#30a2da\"},\"hatch_color\":{\"type\":\"value\",\"value\":\"#30a2da\"}}},\"selection_glyph\":{\"type\":\"object\",\"name\":\"VBar\",\"id\":\"p2113\",\"attributes\":{\"tags\":[\"apply_ranges\"],\"x\":{\"type\":\"field\",\"field\":\"idelem\"},\"width\":{\"type\":\"value\",\"value\":0.8},\"bottom\":{\"type\":\"value\",\"value\":0},\"top\":{\"type\":\"field\",\"field\":\"carga\"},\"line_color\":{\"type\":\"value\",\"value\":\"black\"},\"line_alpha\":{\"type\":\"value\",\"value\":1.0},\"line_width\":{\"type\":\"value\",\"value\":1},\"line_join\":{\"type\":\"value\",\"value\":\"bevel\"},\"line_cap\":{\"type\":\"value\",\"value\":\"butt\"},\"line_dash\":{\"type\":\"value\",\"value\":[]},\"line_dash_offset\":{\"type\":\"value\",\"value\":0},\"fill_color\":{\"type\":\"value\",\"value\":\"#30a2da\"},\"fill_alpha\":{\"type\":\"value\",\"value\":1.0},\"hatch_color\":{\"type\":\"value\",\"value\":\"#30a2da\"},\"hatch_alpha\":{\"type\":\"value\",\"value\":1.0},\"hatch_scale\":{\"type\":\"value\",\"value\":12.0},\"hatch_pattern\":{\"type\":\"value\",\"value\":null},\"hatch_weight\":{\"type\":\"value\",\"value\":1.0}}},\"nonselection_glyph\":{\"type\":\"object\",\"name\":\"VBar\",\"id\":\"p2108\",\"attributes\":{\"tags\":[\"apply_ranges\"],\"x\":{\"type\":\"field\",\"field\":\"idelem\"},\"width\":{\"type\":\"value\",\"value\":0.8},\"top\":{\"type\":\"field\",\"field\":\"carga\"},\"line_alpha\":{\"type\":\"value\",\"value\":0.1},\"fill_color\":{\"type\":\"value\",\"value\":\"#30a2da\"},\"fill_alpha\":{\"type\":\"value\",\"value\":0.1},\"hatch_color\":{\"type\":\"value\",\"value\":\"#30a2da\"},\"hatch_alpha\":{\"type\":\"value\",\"value\":0.1}}},\"muted_glyph\":{\"type\":\"object\",\"name\":\"VBar\",\"id\":\"p2109\",\"attributes\":{\"tags\":[\"apply_ranges\"],\"x\":{\"type\":\"field\",\"field\":\"idelem\"},\"width\":{\"type\":\"value\",\"value\":0.8},\"top\":{\"type\":\"field\",\"field\":\"carga\"},\"line_alpha\":{\"type\":\"value\",\"value\":0.2},\"fill_color\":{\"type\":\"value\",\"value\":\"#30a2da\"},\"fill_alpha\":{\"type\":\"value\",\"value\":0.2},\"hatch_color\":{\"type\":\"value\",\"value\":\"#30a2da\"},\"hatch_alpha\":{\"type\":\"value\",\"value\":0.2}}}}}],\"toolbar\":{\"type\":\"object\",\"name\":\"Toolbar\",\"id\":\"p2079\",\"attributes\":{\"tools\":[{\"type\":\"object\",\"name\":\"WheelZoomTool\",\"id\":\"p2068\",\"attributes\":{\"tags\":[\"hv_created\"],\"renderers\":\"auto\",\"zoom_together\":\"none\"}},{\"type\":\"object\",\"name\":\"HoverTool\",\"id\":\"p2069\",\"attributes\":{\"tags\":[\"hv_created\"],\"renderers\":[{\"id\":\"p2110\"}],\"tooltips\":[[\"idelem\",\"@{idelem}\"],[\"carga\",\"@{carga}\"]]}},{\"type\":\"object\",\"name\":\"SaveTool\",\"id\":\"p2092\"},{\"type\":\"object\",\"name\":\"PanTool\",\"id\":\"p2093\"},{\"type\":\"object\",\"name\":\"BoxZoomTool\",\"id\":\"p2094\",\"attributes\":{\"overlay\":{\"type\":\"object\",\"name\":\"BoxAnnotation\",\"id\":\"p2095\",\"attributes\":{\"syncable\":false,\"level\":\"overlay\",\"visible\":false,\"left\":{\"type\":\"number\",\"value\":\"nan\"},\"right\":{\"type\":\"number\",\"value\":\"nan\"},\"top\":{\"type\":\"number\",\"value\":\"nan\"},\"bottom\":{\"type\":\"number\",\"value\":\"nan\"},\"left_units\":\"canvas\",\"right_units\":\"canvas\",\"top_units\":\"canvas\",\"bottom_units\":\"canvas\",\"line_color\":\"black\",\"line_alpha\":1.0,\"line_width\":2,\"line_dash\":[4,4],\"fill_color\":\"lightgrey\",\"fill_alpha\":0.5}}}},{\"type\":\"object\",\"name\":\"ResetTool\",\"id\":\"p2100\"}],\"active_drag\":{\"id\":\"p2093\"},\"active_scroll\":{\"id\":\"p2068\"}}},\"left\":[{\"type\":\"object\",\"name\":\"LinearAxis\",\"id\":\"p2087\",\"attributes\":{\"ticker\":{\"type\":\"object\",\"name\":\"BasicTicker\",\"id\":\"p2088\",\"attributes\":{\"mantissas\":[1,2,5]}},\"formatter\":{\"type\":\"object\",\"name\":\"BasicTickFormatter\",\"id\":\"p2089\"},\"axis_label\":\"carga\",\"major_label_policy\":{\"type\":\"object\",\"name\":\"AllLabels\",\"id\":\"p2090\"}}}],\"below\":[{\"type\":\"object\",\"name\":\"CategoricalAxis\",\"id\":\"p2082\",\"attributes\":{\"ticker\":{\"type\":\"object\",\"name\":\"CategoricalTicker\",\"id\":\"p2083\"},\"formatter\":{\"type\":\"object\",\"name\":\"CategoricalTickFormatter\",\"id\":\"p2084\"},\"axis_label\":\"idelem\",\"major_label_policy\":{\"type\":\"object\",\"name\":\"AllLabels\",\"id\":\"p2085\"}}}],\"center\":[{\"type\":\"object\",\"name\":\"Grid\",\"id\":\"p2086\",\"attributes\":{\"axis\":{\"id\":\"p2082\"},\"grid_line_color\":null}},{\"type\":\"object\",\"name\":\"Grid\",\"id\":\"p2091\",\"attributes\":{\"dimension\":1,\"axis\":{\"id\":\"p2087\"},\"grid_line_color\":null}}],\"min_border_top\":10,\"min_border_bottom\":10,\"min_border_left\":10,\"min_border_right\":10,\"output_backend\":\"webgl\"}},{\"type\":\"object\",\"name\":\"Spacer\",\"id\":\"p2115\",\"attributes\":{\"name\":\"HSpacer02800\",\"stylesheets\":[\"\\n:host(.pn-loading):before, .pn-loading:before {\\n  background-color: #c3c3c3;\\n  mask-size: auto calc(min(50%, 400px));\\n  -webkit-mask-size: auto calc(min(50%, 400px));\\n}\",{\"id\":\"p2061\"},{\"id\":\"p2059\"},{\"id\":\"p2060\"}],\"margin\":0,\"sizing_mode\":\"stretch_width\",\"align\":\"start\"}}]}}],\"defs\":[{\"type\":\"model\",\"name\":\"ReactiveHTML1\"},{\"type\":\"model\",\"name\":\"FlexBox1\",\"properties\":[{\"name\":\"align_content\",\"kind\":\"Any\",\"default\":\"flex-start\"},{\"name\":\"align_items\",\"kind\":\"Any\",\"default\":\"flex-start\"},{\"name\":\"flex_direction\",\"kind\":\"Any\",\"default\":\"row\"},{\"name\":\"flex_wrap\",\"kind\":\"Any\",\"default\":\"wrap\"},{\"name\":\"justify_content\",\"kind\":\"Any\",\"default\":\"flex-start\"},{\"name\":\"gap\",\"kind\":\"Any\",\"default\":\"\"}]},{\"type\":\"model\",\"name\":\"FloatPanel1\",\"properties\":[{\"name\":\"config\",\"kind\":\"Any\",\"default\":{\"type\":\"map\"}},{\"name\":\"contained\",\"kind\":\"Any\",\"default\":true},{\"name\":\"position\",\"kind\":\"Any\",\"default\":\"right-top\"},{\"name\":\"offsetx\",\"kind\":\"Any\",\"default\":null},{\"name\":\"offsety\",\"kind\":\"Any\",\"default\":null},{\"name\":\"theme\",\"kind\":\"Any\",\"default\":\"primary\"},{\"name\":\"status\",\"kind\":\"Any\",\"default\":\"normalized\"}]},{\"type\":\"model\",\"name\":\"GridStack1\",\"properties\":[{\"name\":\"mode\",\"kind\":\"Any\",\"default\":\"warn\"},{\"name\":\"ncols\",\"kind\":\"Any\",\"default\":null},{\"name\":\"nrows\",\"kind\":\"Any\",\"default\":null},{\"name\":\"allow_resize\",\"kind\":\"Any\",\"default\":true},{\"name\":\"allow_drag\",\"kind\":\"Any\",\"default\":true},{\"name\":\"state\",\"kind\":\"Any\",\"default\":[]}]},{\"type\":\"model\",\"name\":\"drag1\",\"properties\":[{\"name\":\"slider_width\",\"kind\":\"Any\",\"default\":5},{\"name\":\"slider_color\",\"kind\":\"Any\",\"default\":\"black\"},{\"name\":\"value\",\"kind\":\"Any\",\"default\":50}]},{\"type\":\"model\",\"name\":\"click1\",\"properties\":[{\"name\":\"terminal_output\",\"kind\":\"Any\",\"default\":\"\"},{\"name\":\"debug_name\",\"kind\":\"Any\",\"default\":\"\"},{\"name\":\"clears\",\"kind\":\"Any\",\"default\":0}]},{\"type\":\"model\",\"name\":\"FastWrapper1\",\"properties\":[{\"name\":\"object\",\"kind\":\"Any\",\"default\":null},{\"name\":\"style\",\"kind\":\"Any\",\"default\":null}]},{\"type\":\"model\",\"name\":\"NotificationAreaBase1\",\"properties\":[{\"name\":\"js_events\",\"kind\":\"Any\",\"default\":{\"type\":\"map\"}},{\"name\":\"position\",\"kind\":\"Any\",\"default\":\"bottom-right\"},{\"name\":\"_clear\",\"kind\":\"Any\",\"default\":0}]},{\"type\":\"model\",\"name\":\"NotificationArea1\",\"properties\":[{\"name\":\"js_events\",\"kind\":\"Any\",\"default\":{\"type\":\"map\"}},{\"name\":\"notifications\",\"kind\":\"Any\",\"default\":[]},{\"name\":\"position\",\"kind\":\"Any\",\"default\":\"bottom-right\"},{\"name\":\"_clear\",\"kind\":\"Any\",\"default\":0},{\"name\":\"types\",\"kind\":\"Any\",\"default\":[{\"type\":\"map\",\"entries\":[[\"type\",\"warning\"],[\"background\",\"#ffc107\"],[\"icon\",{\"type\":\"map\",\"entries\":[[\"className\",\"fas fa-exclamation-triangle\"],[\"tagName\",\"i\"],[\"color\",\"white\"]]}]]},{\"type\":\"map\",\"entries\":[[\"type\",\"info\"],[\"background\",\"#007bff\"],[\"icon\",{\"type\":\"map\",\"entries\":[[\"className\",\"fas fa-info-circle\"],[\"tagName\",\"i\"],[\"color\",\"white\"]]}]]}]}]},{\"type\":\"model\",\"name\":\"Notification\",\"properties\":[{\"name\":\"background\",\"kind\":\"Any\",\"default\":null},{\"name\":\"duration\",\"kind\":\"Any\",\"default\":3000},{\"name\":\"icon\",\"kind\":\"Any\",\"default\":null},{\"name\":\"message\",\"kind\":\"Any\",\"default\":\"\"},{\"name\":\"notification_type\",\"kind\":\"Any\",\"default\":null},{\"name\":\"_destroyed\",\"kind\":\"Any\",\"default\":false}]},{\"type\":\"model\",\"name\":\"TemplateActions1\",\"properties\":[{\"name\":\"open_modal\",\"kind\":\"Any\",\"default\":0},{\"name\":\"close_modal\",\"kind\":\"Any\",\"default\":0}]},{\"type\":\"model\",\"name\":\"BootstrapTemplateActions1\",\"properties\":[{\"name\":\"open_modal\",\"kind\":\"Any\",\"default\":0},{\"name\":\"close_modal\",\"kind\":\"Any\",\"default\":0}]},{\"type\":\"model\",\"name\":\"TemplateEditor1\",\"properties\":[{\"name\":\"layout\",\"kind\":\"Any\",\"default\":[]}]},{\"type\":\"model\",\"name\":\"MaterialTemplateActions1\",\"properties\":[{\"name\":\"open_modal\",\"kind\":\"Any\",\"default\":0},{\"name\":\"close_modal\",\"kind\":\"Any\",\"default\":0}]},{\"type\":\"model\",\"name\":\"copy_to_clipboard1\",\"properties\":[{\"name\":\"fill\",\"kind\":\"Any\",\"default\":\"none\"},{\"name\":\"value\",\"kind\":\"Any\",\"default\":null}]}]}};\n",
       "  var render_items = [{\"docid\":\"d678c456-ef0e-4c95-952f-fcf75b07fa93\",\"roots\":{\"p2058\":\"c47e7a21-0eee-4f1d-9cbe-3422bfd20b25\"},\"root_ids\":[\"p2058\"]}];\n",
       "  var docs = Object.values(docs_json)\n",
       "  if (!docs) {\n",
       "    return\n",
       "  }\n",
       "  const py_version = docs[0].version.replace('rc', '-rc.').replace('.dev', '-dev.')\n",
       "  function embed_document(root) {\n",
       "    var Bokeh = get_bokeh(root)\n",
       "    Bokeh.embed.embed_items_notebook(docs_json, render_items);\n",
       "    for (const render_item of render_items) {\n",
       "      for (const root_id of render_item.root_ids) {\n",
       "\tconst id_el = document.getElementById(root_id)\n",
       "\tif (id_el.children.length && (id_el.children[0].className === 'bk-root')) {\n",
       "\t  const root_el = id_el.children[0]\n",
       "\t  root_el.id = root_el.id + '-rendered'\n",
       "\t}\n",
       "      }\n",
       "    }\n",
       "  }\n",
       "  function get_bokeh(root) {\n",
       "    if (root.Bokeh === undefined) {\n",
       "      return null\n",
       "    } else if (root.Bokeh.version !== py_version) {\n",
       "      if (root.Bokeh.versions === undefined || !root.Bokeh.versions.has(py_version)) {\n",
       "\treturn null\n",
       "      }\n",
       "      return root.Bokeh.versions.get(py_version);\n",
       "    } else if (root.Bokeh.version === py_version) {\n",
       "      return root.Bokeh\n",
       "    }\n",
       "    return null\n",
       "  }\n",
       "  function is_loaded(root) {\n",
       "    var Bokeh = get_bokeh(root)\n",
       "    return (Bokeh != null && Bokeh.Panel !== undefined)\n",
       "  }\n",
       "  if (is_loaded(root)) {\n",
       "    embed_document(root);\n",
       "  } else {\n",
       "    var attempts = 0;\n",
       "    var timer = setInterval(function(root) {\n",
       "      if (is_loaded(root)) {\n",
       "        clearInterval(timer);\n",
       "        embed_document(root);\n",
       "      } else if (document.readyState == \"complete\") {\n",
       "        attempts++;\n",
       "        if (attempts > 200) {\n",
       "          clearInterval(timer);\n",
       "\t  var Bokeh = get_bokeh(root)\n",
       "\t  if (Bokeh == null || Bokeh.Panel == null) {\n",
       "            console.warn(\"Panel: ERROR: Unable to run Panel code because Bokeh or Panel library is missing\");\n",
       "\t  } else {\n",
       "\t    console.warn(\"Panel: WARNING: Attempting to render but not all required libraries could be resolved.\")\n",
       "\t    embed_document(root)\n",
       "\t  }\n",
       "        }\n",
       "      }\n",
       "    }, 25, root)\n",
       "  }\n",
       "})(window);</script>"
      ],
      "text/plain": [
       ":Bars   [idelem]   (carga)"
      ]
     },
     "execution_count": 114,
     "metadata": {
      "application/vnd.holoviews_exec.v0+json": {
       "id": "p2058"
      }
     },
     "output_type": "execute_result"
    }
   ],
   "source": [
    "sample_data.group_by(pl.col('idelem')).max().sort('carga',descending=True).select(pl.col('idelem'),pl.col('carga')).head(10).collect().plot.bar(x='idelem', y='carga')"
   ]
  },
  {
   "cell_type": "markdown",
   "metadata": {},
   "source": [
    "Zonas con mayor carga"
   ]
  },
  {
   "cell_type": "code",
   "execution_count": 115,
   "metadata": {},
   "outputs": [
    {
     "data": {},
     "metadata": {},
     "output_type": "display_data"
    },
    {
     "data": {
      "application/vnd.holoviews_exec.v0+json": "",
      "text/html": [
       "<div id='p2120'>\n",
       "  <div id=\"a755962d-abe0-4c02-9236-7a9ae77dd165\" data-root-id=\"p2120\" style=\"display: contents;\"></div>\n",
       "</div>\n",
       "<script type=\"application/javascript\">(function(root) {\n",
       "  var docs_json = {\"5dfa8dfe-499e-40ac-b32d-e3fed60a0ef9\":{\"version\":\"3.4.0\",\"title\":\"Bokeh Application\",\"roots\":[{\"type\":\"object\",\"name\":\"Row\",\"id\":\"p2120\",\"attributes\":{\"name\":\"Row02901\",\"tags\":[\"embedded\"],\"stylesheets\":[\"\\n:host(.pn-loading):before, .pn-loading:before {\\n  background-color: #c3c3c3;\\n  mask-size: auto calc(min(50%, 400px));\\n  -webkit-mask-size: auto calc(min(50%, 400px));\\n}\",{\"type\":\"object\",\"name\":\"ImportedStyleSheet\",\"id\":\"p2123\",\"attributes\":{\"url\":\"https://cdn.holoviz.org/panel/1.4.0/dist/css/loading.css\"}},{\"type\":\"object\",\"name\":\"ImportedStyleSheet\",\"id\":\"p2179\",\"attributes\":{\"url\":\"https://cdn.holoviz.org/panel/1.4.0/dist/css/listpanel.css\"}},{\"type\":\"object\",\"name\":\"ImportedStyleSheet\",\"id\":\"p2121\",\"attributes\":{\"url\":\"https://cdn.holoviz.org/panel/1.4.0/dist/bundled/theme/default.css\"}},{\"type\":\"object\",\"name\":\"ImportedStyleSheet\",\"id\":\"p2122\",\"attributes\":{\"url\":\"https://cdn.holoviz.org/panel/1.4.0/dist/bundled/theme/native.css\"}}],\"min_width\":700,\"margin\":0,\"sizing_mode\":\"stretch_width\",\"align\":\"start\",\"children\":[{\"type\":\"object\",\"name\":\"Spacer\",\"id\":\"p2124\",\"attributes\":{\"name\":\"HSpacer02908\",\"stylesheets\":[\"\\n:host(.pn-loading):before, .pn-loading:before {\\n  background-color: #c3c3c3;\\n  mask-size: auto calc(min(50%, 400px));\\n  -webkit-mask-size: auto calc(min(50%, 400px));\\n}\",{\"id\":\"p2123\"},{\"id\":\"p2121\"},{\"id\":\"p2122\"}],\"margin\":0,\"sizing_mode\":\"stretch_width\",\"align\":\"start\"}},{\"type\":\"object\",\"name\":\"Figure\",\"id\":\"p2132\",\"attributes\":{\"width\":700,\"height\":300,\"margin\":[5,10],\"sizing_mode\":\"fixed\",\"align\":\"start\",\"x_range\":{\"type\":\"object\",\"name\":\"FactorRange\",\"id\":\"p2125\",\"attributes\":{\"tags\":[[[\"descripcion\",\"descripcion\",null]],[]],\"factors\":[\"AV.TOREROS E-O(NRA.SRAGUADALUPE-TOREROS)(GIRO A JULIO CAMBA)\",\"(TACTICO) ARQUITECTO LOPEZ OTERO N-S (GIRO IZQDA J.HERRERA)\",\"GUZMAN EL BUENO N-S (MAX AUBS-SAN FRANCISCO DE SALES)\",\"CHANTADA E-O(RIBADAVIA-AV. BETANZOS)\",\"EMBAJADORES S-N(ANTRACITA-BOLIVAR)(TUNEL A 80MTS)\",\"STA. Ma CABEZA ENTRADA CALLE 30 CAL. EXTERIOR SENTIDO A-4\",\"BATALLA DEL SALADO N-S(PALOS DE LA FRONTERA-CANARIAS)\",\"VENTURA RODRIGUEZ E-O(J.ALVAREZ MENDIZABAL-FERRAZ)\",\"(TACTICO) PARAGUAY S-N (COSTA RICA-ALFONSO XIII)\",\"(AFOROS) ALCALA E-O(PL. INDEPENDENCIA-PL. CIBELES)\"]}},\"y_range\":{\"type\":\"object\",\"name\":\"Range1d\",\"id\":\"p2126\",\"attributes\":{\"tags\":[[[\"carga\",\"carga\",null]],{\"type\":\"map\",\"entries\":[[\"invert_yaxis\",false],[\"autorange\",false]]}],\"end\":286.9,\"reset_start\":0.0,\"reset_end\":286.9}},\"x_scale\":{\"type\":\"object\",\"name\":\"CategoricalScale\",\"id\":\"p2142\"},\"y_scale\":{\"type\":\"object\",\"name\":\"LinearScale\",\"id\":\"p2143\"},\"title\":{\"type\":\"object\",\"name\":\"Title\",\"id\":\"p2135\",\"attributes\":{\"text_color\":\"black\",\"text_font_size\":\"12pt\"}},\"renderers\":[{\"type\":\"object\",\"name\":\"GlyphRenderer\",\"id\":\"p2172\",\"attributes\":{\"data_source\":{\"type\":\"object\",\"name\":\"ColumnDataSource\",\"id\":\"p2163\",\"attributes\":{\"selected\":{\"type\":\"object\",\"name\":\"Selection\",\"id\":\"p2164\",\"attributes\":{\"indices\":[],\"line_indices\":[]}},\"selection_policy\":{\"type\":\"object\",\"name\":\"UnionRenderers\",\"id\":\"p2165\"},\"data\":{\"type\":\"map\",\"entries\":[[\"descripcion\",[\"AV.TOREROS E-O(NRA.SRAGUADALUPE-TOREROS)(GIRO A JULIO CAMBA)\",\"(TACTICO) ARQUITECTO LOPEZ OTERO N-S (GIRO IZQDA J.HERRERA)\",\"GUZMAN EL BUENO N-S (MAX AUBS-SAN FRANCISCO DE SALES)\",\"CHANTADA E-O(RIBADAVIA-AV. BETANZOS)\",\"EMBAJADORES S-N(ANTRACITA-BOLIVAR)(TUNEL A 80MTS)\",\"STA. Ma CABEZA ENTRADA CALLE 30 CAL. EXTERIOR SENTIDO A-4\",\"BATALLA DEL SALADO N-S(PALOS DE LA FRONTERA-CANARIAS)\",\"VENTURA RODRIGUEZ E-O(J.ALVAREZ MENDIZABAL-FERRAZ)\",\"(TACTICO) PARAGUAY S-N (COSTA RICA-ALFONSO XIII)\",\"(AFOROS) ALCALA E-O(PL. INDEPENDENCIA-PL. CIBELES)\"]],[\"carga\",{\"type\":\"ndarray\",\"array\":{\"type\":\"bytes\",\"data\":\"EAEAANYAAACvAAAAoQAAAI4AAACIAAAAfwAAAH8AAAB9AAAAewAAAA==\"},\"shape\":[10],\"dtype\":\"int32\",\"order\":\"little\"}]]}}},\"view\":{\"type\":\"object\",\"name\":\"CDSView\",\"id\":\"p2173\",\"attributes\":{\"filter\":{\"type\":\"object\",\"name\":\"AllIndices\",\"id\":\"p2174\"}}},\"glyph\":{\"type\":\"object\",\"name\":\"VBar\",\"id\":\"p2169\",\"attributes\":{\"tags\":[\"apply_ranges\"],\"x\":{\"type\":\"field\",\"field\":\"descripcion\"},\"width\":{\"type\":\"value\",\"value\":0.8},\"top\":{\"type\":\"field\",\"field\":\"carga\"},\"fill_color\":{\"type\":\"value\",\"value\":\"#30a2da\"},\"hatch_color\":{\"type\":\"value\",\"value\":\"#30a2da\"}}},\"selection_glyph\":{\"type\":\"object\",\"name\":\"VBar\",\"id\":\"p2175\",\"attributes\":{\"tags\":[\"apply_ranges\"],\"x\":{\"type\":\"field\",\"field\":\"descripcion\"},\"width\":{\"type\":\"value\",\"value\":0.8},\"bottom\":{\"type\":\"value\",\"value\":0},\"top\":{\"type\":\"field\",\"field\":\"carga\"},\"line_color\":{\"type\":\"value\",\"value\":\"black\"},\"line_alpha\":{\"type\":\"value\",\"value\":1.0},\"line_width\":{\"type\":\"value\",\"value\":1},\"line_join\":{\"type\":\"value\",\"value\":\"bevel\"},\"line_cap\":{\"type\":\"value\",\"value\":\"butt\"},\"line_dash\":{\"type\":\"value\",\"value\":[]},\"line_dash_offset\":{\"type\":\"value\",\"value\":0},\"fill_color\":{\"type\":\"value\",\"value\":\"#30a2da\"},\"fill_alpha\":{\"type\":\"value\",\"value\":1.0},\"hatch_color\":{\"type\":\"value\",\"value\":\"#30a2da\"},\"hatch_alpha\":{\"type\":\"value\",\"value\":1.0},\"hatch_scale\":{\"type\":\"value\",\"value\":12.0},\"hatch_pattern\":{\"type\":\"value\",\"value\":null},\"hatch_weight\":{\"type\":\"value\",\"value\":1.0}}},\"nonselection_glyph\":{\"type\":\"object\",\"name\":\"VBar\",\"id\":\"p2170\",\"attributes\":{\"tags\":[\"apply_ranges\"],\"x\":{\"type\":\"field\",\"field\":\"descripcion\"},\"width\":{\"type\":\"value\",\"value\":0.8},\"top\":{\"type\":\"field\",\"field\":\"carga\"},\"line_alpha\":{\"type\":\"value\",\"value\":0.1},\"fill_color\":{\"type\":\"value\",\"value\":\"#30a2da\"},\"fill_alpha\":{\"type\":\"value\",\"value\":0.1},\"hatch_color\":{\"type\":\"value\",\"value\":\"#30a2da\"},\"hatch_alpha\":{\"type\":\"value\",\"value\":0.1}}},\"muted_glyph\":{\"type\":\"object\",\"name\":\"VBar\",\"id\":\"p2171\",\"attributes\":{\"tags\":[\"apply_ranges\"],\"x\":{\"type\":\"field\",\"field\":\"descripcion\"},\"width\":{\"type\":\"value\",\"value\":0.8},\"top\":{\"type\":\"field\",\"field\":\"carga\"},\"line_alpha\":{\"type\":\"value\",\"value\":0.2},\"fill_color\":{\"type\":\"value\",\"value\":\"#30a2da\"},\"fill_alpha\":{\"type\":\"value\",\"value\":0.2},\"hatch_color\":{\"type\":\"value\",\"value\":\"#30a2da\"},\"hatch_alpha\":{\"type\":\"value\",\"value\":0.2}}}}}],\"toolbar\":{\"type\":\"object\",\"name\":\"Toolbar\",\"id\":\"p2141\",\"attributes\":{\"tools\":[{\"type\":\"object\",\"name\":\"WheelZoomTool\",\"id\":\"p2130\",\"attributes\":{\"tags\":[\"hv_created\"],\"renderers\":\"auto\",\"zoom_together\":\"none\"}},{\"type\":\"object\",\"name\":\"HoverTool\",\"id\":\"p2131\",\"attributes\":{\"tags\":[\"hv_created\"],\"renderers\":[{\"id\":\"p2172\"}],\"tooltips\":[[\"descripcion\",\"@{descripcion}\"],[\"carga\",\"@{carga}\"]]}},{\"type\":\"object\",\"name\":\"SaveTool\",\"id\":\"p2154\"},{\"type\":\"object\",\"name\":\"PanTool\",\"id\":\"p2155\"},{\"type\":\"object\",\"name\":\"BoxZoomTool\",\"id\":\"p2156\",\"attributes\":{\"overlay\":{\"type\":\"object\",\"name\":\"BoxAnnotation\",\"id\":\"p2157\",\"attributes\":{\"syncable\":false,\"level\":\"overlay\",\"visible\":false,\"left\":{\"type\":\"number\",\"value\":\"nan\"},\"right\":{\"type\":\"number\",\"value\":\"nan\"},\"top\":{\"type\":\"number\",\"value\":\"nan\"},\"bottom\":{\"type\":\"number\",\"value\":\"nan\"},\"left_units\":\"canvas\",\"right_units\":\"canvas\",\"top_units\":\"canvas\",\"bottom_units\":\"canvas\",\"line_color\":\"black\",\"line_alpha\":1.0,\"line_width\":2,\"line_dash\":[4,4],\"fill_color\":\"lightgrey\",\"fill_alpha\":0.5}}}},{\"type\":\"object\",\"name\":\"ResetTool\",\"id\":\"p2162\"}],\"active_drag\":{\"id\":\"p2155\"},\"active_scroll\":{\"id\":\"p2130\"}}},\"left\":[{\"type\":\"object\",\"name\":\"LinearAxis\",\"id\":\"p2149\",\"attributes\":{\"ticker\":{\"type\":\"object\",\"name\":\"BasicTicker\",\"id\":\"p2150\",\"attributes\":{\"mantissas\":[1,2,5]}},\"formatter\":{\"type\":\"object\",\"name\":\"BasicTickFormatter\",\"id\":\"p2151\"},\"axis_label\":\"carga\",\"major_label_policy\":{\"type\":\"object\",\"name\":\"AllLabels\",\"id\":\"p2152\"}}}],\"below\":[{\"type\":\"object\",\"name\":\"CategoricalAxis\",\"id\":\"p2144\",\"attributes\":{\"ticker\":{\"type\":\"object\",\"name\":\"CategoricalTicker\",\"id\":\"p2145\"},\"formatter\":{\"type\":\"object\",\"name\":\"CategoricalTickFormatter\",\"id\":\"p2146\"},\"axis_label\":\"descripcion\",\"major_label_orientation\":0.2617993877991494,\"major_label_policy\":{\"type\":\"object\",\"name\":\"AllLabels\",\"id\":\"p2147\"}}}],\"center\":[{\"type\":\"object\",\"name\":\"Grid\",\"id\":\"p2148\",\"attributes\":{\"axis\":{\"id\":\"p2144\"},\"grid_line_color\":null}},{\"type\":\"object\",\"name\":\"Grid\",\"id\":\"p2153\",\"attributes\":{\"dimension\":1,\"axis\":{\"id\":\"p2149\"},\"grid_line_color\":null}}],\"min_border_top\":10,\"min_border_bottom\":10,\"min_border_left\":10,\"min_border_right\":10,\"output_backend\":\"webgl\"}},{\"type\":\"object\",\"name\":\"Spacer\",\"id\":\"p2177\",\"attributes\":{\"name\":\"HSpacer02909\",\"stylesheets\":[\"\\n:host(.pn-loading):before, .pn-loading:before {\\n  background-color: #c3c3c3;\\n  mask-size: auto calc(min(50%, 400px));\\n  -webkit-mask-size: auto calc(min(50%, 400px));\\n}\",{\"id\":\"p2123\"},{\"id\":\"p2121\"},{\"id\":\"p2122\"}],\"margin\":0,\"sizing_mode\":\"stretch_width\",\"align\":\"start\"}}]}}],\"defs\":[{\"type\":\"model\",\"name\":\"ReactiveHTML1\"},{\"type\":\"model\",\"name\":\"FlexBox1\",\"properties\":[{\"name\":\"align_content\",\"kind\":\"Any\",\"default\":\"flex-start\"},{\"name\":\"align_items\",\"kind\":\"Any\",\"default\":\"flex-start\"},{\"name\":\"flex_direction\",\"kind\":\"Any\",\"default\":\"row\"},{\"name\":\"flex_wrap\",\"kind\":\"Any\",\"default\":\"wrap\"},{\"name\":\"justify_content\",\"kind\":\"Any\",\"default\":\"flex-start\"},{\"name\":\"gap\",\"kind\":\"Any\",\"default\":\"\"}]},{\"type\":\"model\",\"name\":\"FloatPanel1\",\"properties\":[{\"name\":\"config\",\"kind\":\"Any\",\"default\":{\"type\":\"map\"}},{\"name\":\"contained\",\"kind\":\"Any\",\"default\":true},{\"name\":\"position\",\"kind\":\"Any\",\"default\":\"right-top\"},{\"name\":\"offsetx\",\"kind\":\"Any\",\"default\":null},{\"name\":\"offsety\",\"kind\":\"Any\",\"default\":null},{\"name\":\"theme\",\"kind\":\"Any\",\"default\":\"primary\"},{\"name\":\"status\",\"kind\":\"Any\",\"default\":\"normalized\"}]},{\"type\":\"model\",\"name\":\"GridStack1\",\"properties\":[{\"name\":\"mode\",\"kind\":\"Any\",\"default\":\"warn\"},{\"name\":\"ncols\",\"kind\":\"Any\",\"default\":null},{\"name\":\"nrows\",\"kind\":\"Any\",\"default\":null},{\"name\":\"allow_resize\",\"kind\":\"Any\",\"default\":true},{\"name\":\"allow_drag\",\"kind\":\"Any\",\"default\":true},{\"name\":\"state\",\"kind\":\"Any\",\"default\":[]}]},{\"type\":\"model\",\"name\":\"drag1\",\"properties\":[{\"name\":\"slider_width\",\"kind\":\"Any\",\"default\":5},{\"name\":\"slider_color\",\"kind\":\"Any\",\"default\":\"black\"},{\"name\":\"value\",\"kind\":\"Any\",\"default\":50}]},{\"type\":\"model\",\"name\":\"click1\",\"properties\":[{\"name\":\"terminal_output\",\"kind\":\"Any\",\"default\":\"\"},{\"name\":\"debug_name\",\"kind\":\"Any\",\"default\":\"\"},{\"name\":\"clears\",\"kind\":\"Any\",\"default\":0}]},{\"type\":\"model\",\"name\":\"FastWrapper1\",\"properties\":[{\"name\":\"object\",\"kind\":\"Any\",\"default\":null},{\"name\":\"style\",\"kind\":\"Any\",\"default\":null}]},{\"type\":\"model\",\"name\":\"NotificationAreaBase1\",\"properties\":[{\"name\":\"js_events\",\"kind\":\"Any\",\"default\":{\"type\":\"map\"}},{\"name\":\"position\",\"kind\":\"Any\",\"default\":\"bottom-right\"},{\"name\":\"_clear\",\"kind\":\"Any\",\"default\":0}]},{\"type\":\"model\",\"name\":\"NotificationArea1\",\"properties\":[{\"name\":\"js_events\",\"kind\":\"Any\",\"default\":{\"type\":\"map\"}},{\"name\":\"notifications\",\"kind\":\"Any\",\"default\":[]},{\"name\":\"position\",\"kind\":\"Any\",\"default\":\"bottom-right\"},{\"name\":\"_clear\",\"kind\":\"Any\",\"default\":0},{\"name\":\"types\",\"kind\":\"Any\",\"default\":[{\"type\":\"map\",\"entries\":[[\"type\",\"warning\"],[\"background\",\"#ffc107\"],[\"icon\",{\"type\":\"map\",\"entries\":[[\"className\",\"fas fa-exclamation-triangle\"],[\"tagName\",\"i\"],[\"color\",\"white\"]]}]]},{\"type\":\"map\",\"entries\":[[\"type\",\"info\"],[\"background\",\"#007bff\"],[\"icon\",{\"type\":\"map\",\"entries\":[[\"className\",\"fas fa-info-circle\"],[\"tagName\",\"i\"],[\"color\",\"white\"]]}]]}]}]},{\"type\":\"model\",\"name\":\"Notification\",\"properties\":[{\"name\":\"background\",\"kind\":\"Any\",\"default\":null},{\"name\":\"duration\",\"kind\":\"Any\",\"default\":3000},{\"name\":\"icon\",\"kind\":\"Any\",\"default\":null},{\"name\":\"message\",\"kind\":\"Any\",\"default\":\"\"},{\"name\":\"notification_type\",\"kind\":\"Any\",\"default\":null},{\"name\":\"_destroyed\",\"kind\":\"Any\",\"default\":false}]},{\"type\":\"model\",\"name\":\"TemplateActions1\",\"properties\":[{\"name\":\"open_modal\",\"kind\":\"Any\",\"default\":0},{\"name\":\"close_modal\",\"kind\":\"Any\",\"default\":0}]},{\"type\":\"model\",\"name\":\"BootstrapTemplateActions1\",\"properties\":[{\"name\":\"open_modal\",\"kind\":\"Any\",\"default\":0},{\"name\":\"close_modal\",\"kind\":\"Any\",\"default\":0}]},{\"type\":\"model\",\"name\":\"TemplateEditor1\",\"properties\":[{\"name\":\"layout\",\"kind\":\"Any\",\"default\":[]}]},{\"type\":\"model\",\"name\":\"MaterialTemplateActions1\",\"properties\":[{\"name\":\"open_modal\",\"kind\":\"Any\",\"default\":0},{\"name\":\"close_modal\",\"kind\":\"Any\",\"default\":0}]},{\"type\":\"model\",\"name\":\"copy_to_clipboard1\",\"properties\":[{\"name\":\"fill\",\"kind\":\"Any\",\"default\":\"none\"},{\"name\":\"value\",\"kind\":\"Any\",\"default\":null}]}]}};\n",
       "  var render_items = [{\"docid\":\"5dfa8dfe-499e-40ac-b32d-e3fed60a0ef9\",\"roots\":{\"p2120\":\"a755962d-abe0-4c02-9236-7a9ae77dd165\"},\"root_ids\":[\"p2120\"]}];\n",
       "  var docs = Object.values(docs_json)\n",
       "  if (!docs) {\n",
       "    return\n",
       "  }\n",
       "  const py_version = docs[0].version.replace('rc', '-rc.').replace('.dev', '-dev.')\n",
       "  function embed_document(root) {\n",
       "    var Bokeh = get_bokeh(root)\n",
       "    Bokeh.embed.embed_items_notebook(docs_json, render_items);\n",
       "    for (const render_item of render_items) {\n",
       "      for (const root_id of render_item.root_ids) {\n",
       "\tconst id_el = document.getElementById(root_id)\n",
       "\tif (id_el.children.length && (id_el.children[0].className === 'bk-root')) {\n",
       "\t  const root_el = id_el.children[0]\n",
       "\t  root_el.id = root_el.id + '-rendered'\n",
       "\t}\n",
       "      }\n",
       "    }\n",
       "  }\n",
       "  function get_bokeh(root) {\n",
       "    if (root.Bokeh === undefined) {\n",
       "      return null\n",
       "    } else if (root.Bokeh.version !== py_version) {\n",
       "      if (root.Bokeh.versions === undefined || !root.Bokeh.versions.has(py_version)) {\n",
       "\treturn null\n",
       "      }\n",
       "      return root.Bokeh.versions.get(py_version);\n",
       "    } else if (root.Bokeh.version === py_version) {\n",
       "      return root.Bokeh\n",
       "    }\n",
       "    return null\n",
       "  }\n",
       "  function is_loaded(root) {\n",
       "    var Bokeh = get_bokeh(root)\n",
       "    return (Bokeh != null && Bokeh.Panel !== undefined)\n",
       "  }\n",
       "  if (is_loaded(root)) {\n",
       "    embed_document(root);\n",
       "  } else {\n",
       "    var attempts = 0;\n",
       "    var timer = setInterval(function(root) {\n",
       "      if (is_loaded(root)) {\n",
       "        clearInterval(timer);\n",
       "        embed_document(root);\n",
       "      } else if (document.readyState == \"complete\") {\n",
       "        attempts++;\n",
       "        if (attempts > 200) {\n",
       "          clearInterval(timer);\n",
       "\t  var Bokeh = get_bokeh(root)\n",
       "\t  if (Bokeh == null || Bokeh.Panel == null) {\n",
       "            console.warn(\"Panel: ERROR: Unable to run Panel code because Bokeh or Panel library is missing\");\n",
       "\t  } else {\n",
       "\t    console.warn(\"Panel: WARNING: Attempting to render but not all required libraries could be resolved.\")\n",
       "\t    embed_document(root)\n",
       "\t  }\n",
       "        }\n",
       "      }\n",
       "    }, 25, root)\n",
       "  }\n",
       "})(window);</script>"
      ],
      "text/plain": [
       ":Bars   [descripcion]   (carga)"
      ]
     },
     "execution_count": 115,
     "metadata": {
      "application/vnd.holoviews_exec.v0+json": {
       "id": "p2120"
      }
     },
     "output_type": "execute_result"
    }
   ],
   "source": [
    "sample_data.filter(pl.col('descripcion').is_not_null()).group_by(pl.col('descripcion')).max().sort('carga',descending=True).select(pl.col('descripcion'),pl.col('carga')).head(10).collect().plot.bar(x='descripcion', y='carga',rot=15)"
   ]
  },
  {
   "cell_type": "markdown",
   "metadata": {},
   "source": [
    "**Variable `nivelServicio`**"
   ]
  },
  {
   "cell_type": "code",
   "execution_count": 116,
   "metadata": {},
   "outputs": [
    {
     "data": {
      "text/html": [
       "<div><style>\n",
       ".dataframe > thead > tr,\n",
       ".dataframe > tbody > tr {\n",
       "  text-align: right;\n",
       "  white-space: pre-wrap;\n",
       "}\n",
       "</style>\n",
       "<small>shape: (6, 2)</small><table border=\"1\" class=\"dataframe\"><thead><tr><th>nivelServicio</th><th>count</th></tr><tr><td>i64</td><td>u32</td></tr></thead><tbody><tr><td>null</td><td>354</td></tr><tr><td>2</td><td>68438</td></tr><tr><td>1</td><td>248108</td></tr><tr><td>3</td><td>12612</td></tr><tr><td>-1</td><td>2548</td></tr><tr><td>0</td><td>472236</td></tr></tbody></table></div>"
      ],
      "text/plain": [
       "shape: (6, 2)\n",
       "┌───────────────┬────────┐\n",
       "│ nivelServicio ┆ count  │\n",
       "│ ---           ┆ ---    │\n",
       "│ i64           ┆ u32    │\n",
       "╞═══════════════╪════════╡\n",
       "│ null          ┆ 354    │\n",
       "│ 2             ┆ 68438  │\n",
       "│ 1             ┆ 248108 │\n",
       "│ 3             ┆ 12612  │\n",
       "│ -1            ┆ 2548   │\n",
       "│ 0             ┆ 472236 │\n",
       "└───────────────┴────────┘"
      ]
     },
     "execution_count": 116,
     "metadata": {},
     "output_type": "execute_result"
    }
   ],
   "source": [
    "sample_data.group_by('nivelServicio').count().collect()"
   ]
  },
  {
   "cell_type": "code",
   "execution_count": 117,
   "metadata": {},
   "outputs": [
    {
     "data": {},
     "metadata": {},
     "output_type": "display_data"
    },
    {
     "data": {
      "application/vnd.holoviews_exec.v0+json": "",
      "text/html": [
       "<div id='p2182'>\n",
       "  <div id=\"ebe77e4c-5d89-468f-9559-ce3006bf216e\" data-root-id=\"p2182\" style=\"display: contents;\"></div>\n",
       "</div>\n",
       "<script type=\"application/javascript\">(function(root) {\n",
       "  var docs_json = {\"669946b4-a5f3-4c3b-9ebd-273186a92ceb\":{\"version\":\"3.4.0\",\"title\":\"Bokeh Application\",\"roots\":[{\"type\":\"object\",\"name\":\"Row\",\"id\":\"p2182\",\"attributes\":{\"name\":\"Row03010\",\"tags\":[\"embedded\"],\"stylesheets\":[\"\\n:host(.pn-loading):before, .pn-loading:before {\\n  background-color: #c3c3c3;\\n  mask-size: auto calc(min(50%, 400px));\\n  -webkit-mask-size: auto calc(min(50%, 400px));\\n}\",{\"type\":\"object\",\"name\":\"ImportedStyleSheet\",\"id\":\"p2185\",\"attributes\":{\"url\":\"https://cdn.holoviz.org/panel/1.4.0/dist/css/loading.css\"}},{\"type\":\"object\",\"name\":\"ImportedStyleSheet\",\"id\":\"p2241\",\"attributes\":{\"url\":\"https://cdn.holoviz.org/panel/1.4.0/dist/css/listpanel.css\"}},{\"type\":\"object\",\"name\":\"ImportedStyleSheet\",\"id\":\"p2183\",\"attributes\":{\"url\":\"https://cdn.holoviz.org/panel/1.4.0/dist/bundled/theme/default.css\"}},{\"type\":\"object\",\"name\":\"ImportedStyleSheet\",\"id\":\"p2184\",\"attributes\":{\"url\":\"https://cdn.holoviz.org/panel/1.4.0/dist/bundled/theme/native.css\"}}],\"min_width\":700,\"margin\":0,\"sizing_mode\":\"stretch_width\",\"align\":\"start\",\"children\":[{\"type\":\"object\",\"name\":\"Spacer\",\"id\":\"p2186\",\"attributes\":{\"name\":\"HSpacer03017\",\"stylesheets\":[\"\\n:host(.pn-loading):before, .pn-loading:before {\\n  background-color: #c3c3c3;\\n  mask-size: auto calc(min(50%, 400px));\\n  -webkit-mask-size: auto calc(min(50%, 400px));\\n}\",{\"id\":\"p2185\"},{\"id\":\"p2183\"},{\"id\":\"p2184\"}],\"margin\":0,\"sizing_mode\":\"stretch_width\",\"align\":\"start\"}},{\"type\":\"object\",\"name\":\"Figure\",\"id\":\"p2194\",\"attributes\":{\"width\":700,\"height\":300,\"margin\":[5,10],\"sizing_mode\":\"fixed\",\"align\":\"start\",\"x_range\":{\"type\":\"object\",\"name\":\"FactorRange\",\"id\":\"p2187\",\"attributes\":{\"tags\":[[[\"nivelServicio\",\"nivelServicio\",null]],[]],\"factors\":[\"nan\",\"-1\",\"0\",\"1\",\"2\",\"3\"]}},\"y_range\":{\"type\":\"object\",\"name\":\"Range1d\",\"id\":\"p2188\",\"attributes\":{\"tags\":[[[\"count\",\"count\",null]],{\"type\":\"map\",\"entries\":[[\"invert_yaxis\",false],[\"autorange\",false]]}],\"end\":519424.2,\"reset_start\":0.0,\"reset_end\":519424.2}},\"x_scale\":{\"type\":\"object\",\"name\":\"CategoricalScale\",\"id\":\"p2204\"},\"y_scale\":{\"type\":\"object\",\"name\":\"LinearScale\",\"id\":\"p2205\"},\"title\":{\"type\":\"object\",\"name\":\"Title\",\"id\":\"p2197\",\"attributes\":{\"text_color\":\"black\",\"text_font_size\":\"12pt\"}},\"renderers\":[{\"type\":\"object\",\"name\":\"GlyphRenderer\",\"id\":\"p2234\",\"attributes\":{\"data_source\":{\"type\":\"object\",\"name\":\"ColumnDataSource\",\"id\":\"p2225\",\"attributes\":{\"selected\":{\"type\":\"object\",\"name\":\"Selection\",\"id\":\"p2226\",\"attributes\":{\"indices\":[],\"line_indices\":[]}},\"selection_policy\":{\"type\":\"object\",\"name\":\"UnionRenderers\",\"id\":\"p2227\"},\"data\":{\"type\":\"map\",\"entries\":[[\"nivelServicio\",[\"nan\",\"-1\",\"0\",\"1\",\"2\",\"3\"]],[\"count\",{\"type\":\"ndarray\",\"array\":{\"type\":\"bytes\",\"data\":\"YgEAAPQJAACsNAcALMkDAFYLAQBEMQAA\"},\"shape\":[6],\"dtype\":\"uint32\",\"order\":\"little\"}]]}}},\"view\":{\"type\":\"object\",\"name\":\"CDSView\",\"id\":\"p2235\",\"attributes\":{\"filter\":{\"type\":\"object\",\"name\":\"AllIndices\",\"id\":\"p2236\"}}},\"glyph\":{\"type\":\"object\",\"name\":\"VBar\",\"id\":\"p2231\",\"attributes\":{\"tags\":[\"apply_ranges\"],\"x\":{\"type\":\"field\",\"field\":\"nivelServicio\"},\"width\":{\"type\":\"value\",\"value\":0.8},\"top\":{\"type\":\"field\",\"field\":\"count\"},\"fill_color\":{\"type\":\"value\",\"value\":\"#30a2da\"},\"hatch_color\":{\"type\":\"value\",\"value\":\"#30a2da\"}}},\"selection_glyph\":{\"type\":\"object\",\"name\":\"VBar\",\"id\":\"p2237\",\"attributes\":{\"tags\":[\"apply_ranges\"],\"x\":{\"type\":\"field\",\"field\":\"nivelServicio\"},\"width\":{\"type\":\"value\",\"value\":0.8},\"bottom\":{\"type\":\"value\",\"value\":0},\"top\":{\"type\":\"field\",\"field\":\"count\"},\"line_color\":{\"type\":\"value\",\"value\":\"black\"},\"line_alpha\":{\"type\":\"value\",\"value\":1.0},\"line_width\":{\"type\":\"value\",\"value\":1},\"line_join\":{\"type\":\"value\",\"value\":\"bevel\"},\"line_cap\":{\"type\":\"value\",\"value\":\"butt\"},\"line_dash\":{\"type\":\"value\",\"value\":[]},\"line_dash_offset\":{\"type\":\"value\",\"value\":0},\"fill_color\":{\"type\":\"value\",\"value\":\"#30a2da\"},\"fill_alpha\":{\"type\":\"value\",\"value\":1.0},\"hatch_color\":{\"type\":\"value\",\"value\":\"#30a2da\"},\"hatch_alpha\":{\"type\":\"value\",\"value\":1.0},\"hatch_scale\":{\"type\":\"value\",\"value\":12.0},\"hatch_pattern\":{\"type\":\"value\",\"value\":null},\"hatch_weight\":{\"type\":\"value\",\"value\":1.0}}},\"nonselection_glyph\":{\"type\":\"object\",\"name\":\"VBar\",\"id\":\"p2232\",\"attributes\":{\"tags\":[\"apply_ranges\"],\"x\":{\"type\":\"field\",\"field\":\"nivelServicio\"},\"width\":{\"type\":\"value\",\"value\":0.8},\"top\":{\"type\":\"field\",\"field\":\"count\"},\"line_alpha\":{\"type\":\"value\",\"value\":0.1},\"fill_color\":{\"type\":\"value\",\"value\":\"#30a2da\"},\"fill_alpha\":{\"type\":\"value\",\"value\":0.1},\"hatch_color\":{\"type\":\"value\",\"value\":\"#30a2da\"},\"hatch_alpha\":{\"type\":\"value\",\"value\":0.1}}},\"muted_glyph\":{\"type\":\"object\",\"name\":\"VBar\",\"id\":\"p2233\",\"attributes\":{\"tags\":[\"apply_ranges\"],\"x\":{\"type\":\"field\",\"field\":\"nivelServicio\"},\"width\":{\"type\":\"value\",\"value\":0.8},\"top\":{\"type\":\"field\",\"field\":\"count\"},\"line_alpha\":{\"type\":\"value\",\"value\":0.2},\"fill_color\":{\"type\":\"value\",\"value\":\"#30a2da\"},\"fill_alpha\":{\"type\":\"value\",\"value\":0.2},\"hatch_color\":{\"type\":\"value\",\"value\":\"#30a2da\"},\"hatch_alpha\":{\"type\":\"value\",\"value\":0.2}}}}}],\"toolbar\":{\"type\":\"object\",\"name\":\"Toolbar\",\"id\":\"p2203\",\"attributes\":{\"tools\":[{\"type\":\"object\",\"name\":\"WheelZoomTool\",\"id\":\"p2192\",\"attributes\":{\"tags\":[\"hv_created\"],\"renderers\":\"auto\",\"zoom_together\":\"none\"}},{\"type\":\"object\",\"name\":\"HoverTool\",\"id\":\"p2193\",\"attributes\":{\"tags\":[\"hv_created\"],\"renderers\":[{\"id\":\"p2234\"}],\"tooltips\":[[\"nivelServicio\",\"@{nivelServicio}\"],[\"count\",\"@{count}\"]]}},{\"type\":\"object\",\"name\":\"SaveTool\",\"id\":\"p2216\"},{\"type\":\"object\",\"name\":\"PanTool\",\"id\":\"p2217\"},{\"type\":\"object\",\"name\":\"BoxZoomTool\",\"id\":\"p2218\",\"attributes\":{\"overlay\":{\"type\":\"object\",\"name\":\"BoxAnnotation\",\"id\":\"p2219\",\"attributes\":{\"syncable\":false,\"level\":\"overlay\",\"visible\":false,\"left\":{\"type\":\"number\",\"value\":\"nan\"},\"right\":{\"type\":\"number\",\"value\":\"nan\"},\"top\":{\"type\":\"number\",\"value\":\"nan\"},\"bottom\":{\"type\":\"number\",\"value\":\"nan\"},\"left_units\":\"canvas\",\"right_units\":\"canvas\",\"top_units\":\"canvas\",\"bottom_units\":\"canvas\",\"line_color\":\"black\",\"line_alpha\":1.0,\"line_width\":2,\"line_dash\":[4,4],\"fill_color\":\"lightgrey\",\"fill_alpha\":0.5}}}},{\"type\":\"object\",\"name\":\"ResetTool\",\"id\":\"p2224\"}],\"active_drag\":{\"id\":\"p2217\"},\"active_scroll\":{\"id\":\"p2192\"}}},\"left\":[{\"type\":\"object\",\"name\":\"LinearAxis\",\"id\":\"p2211\",\"attributes\":{\"ticker\":{\"type\":\"object\",\"name\":\"BasicTicker\",\"id\":\"p2212\",\"attributes\":{\"mantissas\":[1,2,5]}},\"formatter\":{\"type\":\"object\",\"name\":\"BasicTickFormatter\",\"id\":\"p2213\"},\"axis_label\":\"count\",\"major_label_policy\":{\"type\":\"object\",\"name\":\"AllLabels\",\"id\":\"p2214\"}}}],\"below\":[{\"type\":\"object\",\"name\":\"CategoricalAxis\",\"id\":\"p2206\",\"attributes\":{\"ticker\":{\"type\":\"object\",\"name\":\"CategoricalTicker\",\"id\":\"p2207\"},\"formatter\":{\"type\":\"object\",\"name\":\"CategoricalTickFormatter\",\"id\":\"p2208\"},\"axis_label\":\"nivelServicio\",\"major_label_policy\":{\"type\":\"object\",\"name\":\"AllLabels\",\"id\":\"p2209\"}}}],\"center\":[{\"type\":\"object\",\"name\":\"Grid\",\"id\":\"p2210\",\"attributes\":{\"axis\":{\"id\":\"p2206\"},\"grid_line_color\":null}},{\"type\":\"object\",\"name\":\"Grid\",\"id\":\"p2215\",\"attributes\":{\"dimension\":1,\"axis\":{\"id\":\"p2211\"},\"grid_line_color\":null}}],\"min_border_top\":10,\"min_border_bottom\":10,\"min_border_left\":10,\"min_border_right\":10,\"output_backend\":\"webgl\"}},{\"type\":\"object\",\"name\":\"Spacer\",\"id\":\"p2239\",\"attributes\":{\"name\":\"HSpacer03018\",\"stylesheets\":[\"\\n:host(.pn-loading):before, .pn-loading:before {\\n  background-color: #c3c3c3;\\n  mask-size: auto calc(min(50%, 400px));\\n  -webkit-mask-size: auto calc(min(50%, 400px));\\n}\",{\"id\":\"p2185\"},{\"id\":\"p2183\"},{\"id\":\"p2184\"}],\"margin\":0,\"sizing_mode\":\"stretch_width\",\"align\":\"start\"}}]}}],\"defs\":[{\"type\":\"model\",\"name\":\"ReactiveHTML1\"},{\"type\":\"model\",\"name\":\"FlexBox1\",\"properties\":[{\"name\":\"align_content\",\"kind\":\"Any\",\"default\":\"flex-start\"},{\"name\":\"align_items\",\"kind\":\"Any\",\"default\":\"flex-start\"},{\"name\":\"flex_direction\",\"kind\":\"Any\",\"default\":\"row\"},{\"name\":\"flex_wrap\",\"kind\":\"Any\",\"default\":\"wrap\"},{\"name\":\"justify_content\",\"kind\":\"Any\",\"default\":\"flex-start\"},{\"name\":\"gap\",\"kind\":\"Any\",\"default\":\"\"}]},{\"type\":\"model\",\"name\":\"FloatPanel1\",\"properties\":[{\"name\":\"config\",\"kind\":\"Any\",\"default\":{\"type\":\"map\"}},{\"name\":\"contained\",\"kind\":\"Any\",\"default\":true},{\"name\":\"position\",\"kind\":\"Any\",\"default\":\"right-top\"},{\"name\":\"offsetx\",\"kind\":\"Any\",\"default\":null},{\"name\":\"offsety\",\"kind\":\"Any\",\"default\":null},{\"name\":\"theme\",\"kind\":\"Any\",\"default\":\"primary\"},{\"name\":\"status\",\"kind\":\"Any\",\"default\":\"normalized\"}]},{\"type\":\"model\",\"name\":\"GridStack1\",\"properties\":[{\"name\":\"mode\",\"kind\":\"Any\",\"default\":\"warn\"},{\"name\":\"ncols\",\"kind\":\"Any\",\"default\":null},{\"name\":\"nrows\",\"kind\":\"Any\",\"default\":null},{\"name\":\"allow_resize\",\"kind\":\"Any\",\"default\":true},{\"name\":\"allow_drag\",\"kind\":\"Any\",\"default\":true},{\"name\":\"state\",\"kind\":\"Any\",\"default\":[]}]},{\"type\":\"model\",\"name\":\"drag1\",\"properties\":[{\"name\":\"slider_width\",\"kind\":\"Any\",\"default\":5},{\"name\":\"slider_color\",\"kind\":\"Any\",\"default\":\"black\"},{\"name\":\"value\",\"kind\":\"Any\",\"default\":50}]},{\"type\":\"model\",\"name\":\"click1\",\"properties\":[{\"name\":\"terminal_output\",\"kind\":\"Any\",\"default\":\"\"},{\"name\":\"debug_name\",\"kind\":\"Any\",\"default\":\"\"},{\"name\":\"clears\",\"kind\":\"Any\",\"default\":0}]},{\"type\":\"model\",\"name\":\"FastWrapper1\",\"properties\":[{\"name\":\"object\",\"kind\":\"Any\",\"default\":null},{\"name\":\"style\",\"kind\":\"Any\",\"default\":null}]},{\"type\":\"model\",\"name\":\"NotificationAreaBase1\",\"properties\":[{\"name\":\"js_events\",\"kind\":\"Any\",\"default\":{\"type\":\"map\"}},{\"name\":\"position\",\"kind\":\"Any\",\"default\":\"bottom-right\"},{\"name\":\"_clear\",\"kind\":\"Any\",\"default\":0}]},{\"type\":\"model\",\"name\":\"NotificationArea1\",\"properties\":[{\"name\":\"js_events\",\"kind\":\"Any\",\"default\":{\"type\":\"map\"}},{\"name\":\"notifications\",\"kind\":\"Any\",\"default\":[]},{\"name\":\"position\",\"kind\":\"Any\",\"default\":\"bottom-right\"},{\"name\":\"_clear\",\"kind\":\"Any\",\"default\":0},{\"name\":\"types\",\"kind\":\"Any\",\"default\":[{\"type\":\"map\",\"entries\":[[\"type\",\"warning\"],[\"background\",\"#ffc107\"],[\"icon\",{\"type\":\"map\",\"entries\":[[\"className\",\"fas fa-exclamation-triangle\"],[\"tagName\",\"i\"],[\"color\",\"white\"]]}]]},{\"type\":\"map\",\"entries\":[[\"type\",\"info\"],[\"background\",\"#007bff\"],[\"icon\",{\"type\":\"map\",\"entries\":[[\"className\",\"fas fa-info-circle\"],[\"tagName\",\"i\"],[\"color\",\"white\"]]}]]}]}]},{\"type\":\"model\",\"name\":\"Notification\",\"properties\":[{\"name\":\"background\",\"kind\":\"Any\",\"default\":null},{\"name\":\"duration\",\"kind\":\"Any\",\"default\":3000},{\"name\":\"icon\",\"kind\":\"Any\",\"default\":null},{\"name\":\"message\",\"kind\":\"Any\",\"default\":\"\"},{\"name\":\"notification_type\",\"kind\":\"Any\",\"default\":null},{\"name\":\"_destroyed\",\"kind\":\"Any\",\"default\":false}]},{\"type\":\"model\",\"name\":\"TemplateActions1\",\"properties\":[{\"name\":\"open_modal\",\"kind\":\"Any\",\"default\":0},{\"name\":\"close_modal\",\"kind\":\"Any\",\"default\":0}]},{\"type\":\"model\",\"name\":\"BootstrapTemplateActions1\",\"properties\":[{\"name\":\"open_modal\",\"kind\":\"Any\",\"default\":0},{\"name\":\"close_modal\",\"kind\":\"Any\",\"default\":0}]},{\"type\":\"model\",\"name\":\"TemplateEditor1\",\"properties\":[{\"name\":\"layout\",\"kind\":\"Any\",\"default\":[]}]},{\"type\":\"model\",\"name\":\"MaterialTemplateActions1\",\"properties\":[{\"name\":\"open_modal\",\"kind\":\"Any\",\"default\":0},{\"name\":\"close_modal\",\"kind\":\"Any\",\"default\":0}]},{\"type\":\"model\",\"name\":\"copy_to_clipboard1\",\"properties\":[{\"name\":\"fill\",\"kind\":\"Any\",\"default\":\"none\"},{\"name\":\"value\",\"kind\":\"Any\",\"default\":null}]}]}};\n",
       "  var render_items = [{\"docid\":\"669946b4-a5f3-4c3b-9ebd-273186a92ceb\",\"roots\":{\"p2182\":\"ebe77e4c-5d89-468f-9559-ce3006bf216e\"},\"root_ids\":[\"p2182\"]}];\n",
       "  var docs = Object.values(docs_json)\n",
       "  if (!docs) {\n",
       "    return\n",
       "  }\n",
       "  const py_version = docs[0].version.replace('rc', '-rc.').replace('.dev', '-dev.')\n",
       "  function embed_document(root) {\n",
       "    var Bokeh = get_bokeh(root)\n",
       "    Bokeh.embed.embed_items_notebook(docs_json, render_items);\n",
       "    for (const render_item of render_items) {\n",
       "      for (const root_id of render_item.root_ids) {\n",
       "\tconst id_el = document.getElementById(root_id)\n",
       "\tif (id_el.children.length && (id_el.children[0].className === 'bk-root')) {\n",
       "\t  const root_el = id_el.children[0]\n",
       "\t  root_el.id = root_el.id + '-rendered'\n",
       "\t}\n",
       "      }\n",
       "    }\n",
       "  }\n",
       "  function get_bokeh(root) {\n",
       "    if (root.Bokeh === undefined) {\n",
       "      return null\n",
       "    } else if (root.Bokeh.version !== py_version) {\n",
       "      if (root.Bokeh.versions === undefined || !root.Bokeh.versions.has(py_version)) {\n",
       "\treturn null\n",
       "      }\n",
       "      return root.Bokeh.versions.get(py_version);\n",
       "    } else if (root.Bokeh.version === py_version) {\n",
       "      return root.Bokeh\n",
       "    }\n",
       "    return null\n",
       "  }\n",
       "  function is_loaded(root) {\n",
       "    var Bokeh = get_bokeh(root)\n",
       "    return (Bokeh != null && Bokeh.Panel !== undefined)\n",
       "  }\n",
       "  if (is_loaded(root)) {\n",
       "    embed_document(root);\n",
       "  } else {\n",
       "    var attempts = 0;\n",
       "    var timer = setInterval(function(root) {\n",
       "      if (is_loaded(root)) {\n",
       "        clearInterval(timer);\n",
       "        embed_document(root);\n",
       "      } else if (document.readyState == \"complete\") {\n",
       "        attempts++;\n",
       "        if (attempts > 200) {\n",
       "          clearInterval(timer);\n",
       "\t  var Bokeh = get_bokeh(root)\n",
       "\t  if (Bokeh == null || Bokeh.Panel == null) {\n",
       "            console.warn(\"Panel: ERROR: Unable to run Panel code because Bokeh or Panel library is missing\");\n",
       "\t  } else {\n",
       "\t    console.warn(\"Panel: WARNING: Attempting to render but not all required libraries could be resolved.\")\n",
       "\t    embed_document(root)\n",
       "\t  }\n",
       "        }\n",
       "      }\n",
       "    }, 25, root)\n",
       "  }\n",
       "})(window);</script>"
      ],
      "text/plain": [
       ":Bars   [nivelServicio]   (count)"
      ]
     },
     "execution_count": 117,
     "metadata": {
      "application/vnd.holoviews_exec.v0+json": {
       "id": "p2182"
      }
     },
     "output_type": "execute_result"
    }
   ],
   "source": [
    "sample_data.group_by('nivelServicio').count().sort('nivelServicio').collect().plot.bar(x='nivelServicio',y='count')"
   ]
  },
  {
   "cell_type": "markdown",
   "metadata": {},
   "source": [
    "Como los valores de esta variable son:\n",
    "- Fluido = 0\n",
    "- Lento = 1\n",
    "- Retenciones = 2\n",
    "- Congestión = 3\n",
    "- Sin datos = -1\n",
    "\n",
    "Nos quedaremos solo con los valores `>=0` ya que son los que nos van a aportar información acerca del tráfico."
   ]
  },
  {
   "cell_type": "code",
   "execution_count": 118,
   "metadata": {},
   "outputs": [],
   "source": [
    "sample_data = sample_data.filter(pl.col('nivelServicio')>=0)"
   ]
  },
  {
   "cell_type": "code",
   "execution_count": 119,
   "metadata": {},
   "outputs": [
    {
     "data": {
      "text/html": [
       "<div><style>\n",
       ".dataframe > thead > tr,\n",
       ".dataframe > tbody > tr {\n",
       "  text-align: right;\n",
       "  white-space: pre-wrap;\n",
       "}\n",
       "</style>\n",
       "<small>shape: (5, 14)</small><table border=\"1\" class=\"dataframe\"><thead><tr><th>idelem</th><th>descripcion</th><th>accesoAsociado</th><th>intensidad</th><th>ocupacion</th><th>carga</th><th>nivelServicio</th><th>intensidadSat</th><th>subarea</th><th>st_x</th><th>st_y</th><th>datetime</th><th>date</th><th>PK</th></tr><tr><td>i64</td><td>str</td><td>i64</td><td>i64</td><td>i64</td><td>i64</td><td>i64</td><td>i64</td><td>i64</td><td>str</td><td>str</td><td>datetime[μs]</td><td>date</td><td>str</td></tr></thead><tbody><tr><td>6711</td><td>null</td><td>null</td><td>3840</td><td>30</td><td>105</td><td>1</td><td>null</td><td>null</td><td>&quot;442306,1965845…</td><td>&quot;4481615,716877…</td><td>2024-03-13 07:55:08</td><td>2024-03-13</td><td>null</td></tr><tr><td>10112</td><td>&quot;Arturo Soria -…</td><td>4604002</td><td>740</td><td>4</td><td>29</td><td>1</td><td>2438</td><td>3203</td><td>&quot;443972,0182132…</td><td>&quot;4478986,477391…</td><td>2024-03-13 07:55:08</td><td>2024-03-13</td><td>&quot;2024-03-13 07:…</td></tr><tr><td>6038</td><td>&quot;Torrelaguna  -…</td><td>4627002</td><td>380</td><td>2</td><td>28</td><td>1</td><td>1390</td><td>3246</td><td>&quot;443981,9555378…</td><td>&quot;4478451,452544…</td><td>2024-03-13 07:55:08</td><td>2024-03-13</td><td>&quot;2024-03-13 07:…</td></tr><tr><td>6039</td><td>&quot;Torrelaguna  -…</td><td>4628002</td><td>840</td><td>6</td><td>24</td><td>0</td><td>3000</td><td>3215</td><td>&quot;443984,1391077…</td><td>&quot;4478277,302264…</td><td>2024-03-13 07:55:08</td><td>2024-03-13</td><td>&quot;2024-03-13 07:…</td></tr><tr><td>6040</td><td>&quot;Torrelaguna  -…</td><td>4628001</td><td>520</td><td>5</td><td>31</td><td>1</td><td>2000</td><td>3215</td><td>&quot;444079,3042011…</td><td>&quot;4478026,603977…</td><td>2024-03-13 07:55:08</td><td>2024-03-13</td><td>&quot;2024-03-13 07:…</td></tr></tbody></table></div>"
      ],
      "text/plain": [
       "shape: (5, 14)\n",
       "┌────────┬────────────┬────────────┬───────────┬───┬───────────┬───────────┬───────────┬───────────┐\n",
       "│ idelem ┆ descripcio ┆ accesoAsoc ┆ intensida ┆ … ┆ st_y      ┆ datetime  ┆ date      ┆ PK        │\n",
       "│ ---    ┆ n          ┆ iado       ┆ d         ┆   ┆ ---       ┆ ---       ┆ ---       ┆ ---       │\n",
       "│ i64    ┆ ---        ┆ ---        ┆ ---       ┆   ┆ str       ┆ datetime[ ┆ date      ┆ str       │\n",
       "│        ┆ str        ┆ i64        ┆ i64       ┆   ┆           ┆ μs]       ┆           ┆           │\n",
       "╞════════╪════════════╪════════════╪═══════════╪═══╪═══════════╪═══════════╪═══════════╪═══════════╡\n",
       "│ 6711   ┆ null       ┆ null       ┆ 3840      ┆ … ┆ 4481615,7 ┆ 2024-03-1 ┆ 2024-03-1 ┆ null      │\n",
       "│        ┆            ┆            ┆           ┆   ┆ 1687789   ┆ 3         ┆ 3         ┆           │\n",
       "│        ┆            ┆            ┆           ┆   ┆           ┆ 07:55:08  ┆           ┆           │\n",
       "│ 10112  ┆ Arturo     ┆ 4604002    ┆ 740       ┆ … ┆ 4478986,4 ┆ 2024-03-1 ┆ 2024-03-1 ┆ 2024-03-1 │\n",
       "│        ┆ Soria -    ┆            ┆           ┆   ┆ 7739102   ┆ 3         ┆ 3         ┆ 3 07:55:0 │\n",
       "│        ┆ Pablo      ┆            ┆           ┆   ┆           ┆ 07:55:08  ┆           ┆ 8.000000_ │\n",
       "│        ┆ Vidal -    ┆            ┆           ┆   ┆           ┆           ┆           ┆ I1011…    │\n",
       "│        ┆ Vic…       ┆            ┆           ┆   ┆           ┆           ┆           ┆           │\n",
       "│ 6038   ┆ Torrelagun ┆ 4627002    ┆ 380       ┆ … ┆ 4478451,4 ┆ 2024-03-1 ┆ 2024-03-1 ┆ 2024-03-1 │\n",
       "│        ┆ a  -       ┆            ┆           ┆   ┆ 5254494   ┆ 3         ┆ 3         ┆ 3 07:55:0 │\n",
       "│        ┆ Arturo Bal ┆            ┆           ┆   ┆           ┆ 07:55:08  ┆           ┆ 8.000000_ │\n",
       "│        ┆ dasano-…   ┆            ┆           ┆   ┆           ┆           ┆           ┆ I6038…    │\n",
       "│ 6039   ┆ Torrelagun ┆ 4628002    ┆ 840       ┆ … ┆ 4478277,3 ┆ 2024-03-1 ┆ 2024-03-1 ┆ 2024-03-1 │\n",
       "│        ┆ a  - Av.   ┆            ┆           ┆   ┆ 0226478   ┆ 3         ┆ 3         ┆ 3 07:55:0 │\n",
       "│        ┆ Ramón y    ┆            ┆           ┆   ┆           ┆ 07:55:08  ┆           ┆ 8.000000_ │\n",
       "│        ┆ Cajal…     ┆            ┆           ┆   ┆           ┆           ┆           ┆ I6039…    │\n",
       "│ 6040   ┆ Torrelagun ┆ 4628001    ┆ 520       ┆ … ┆ 4478026,6 ┆ 2024-03-1 ┆ 2024-03-1 ┆ 2024-03-1 │\n",
       "│        ┆ a  - Sorza ┆            ┆           ┆   ┆ 0397703   ┆ 3         ┆ 3         ┆ 3 07:55:0 │\n",
       "│        ┆ no-Acceso  ┆            ┆           ┆   ┆           ┆ 07:55:08  ┆           ┆ 8.000000_ │\n",
       "│        ┆ M3…        ┆            ┆           ┆   ┆           ┆           ┆           ┆ I6040…    │\n",
       "└────────┴────────────┴────────────┴───────────┴───┴───────────┴───────────┴───────────┴───────────┘"
      ]
     },
     "execution_count": 119,
     "metadata": {},
     "output_type": "execute_result"
    }
   ],
   "source": [
    "sample_data.head().collect()"
   ]
  },
  {
   "cell_type": "markdown",
   "metadata": {},
   "source": [
    "**Variable `intensidadSat`**"
   ]
  },
  {
   "cell_type": "code",
   "execution_count": 120,
   "metadata": {},
   "outputs": [
    {
     "data": {
      "text/html": [
       "<div><style>\n",
       ".dataframe > thead > tr,\n",
       ".dataframe > tbody > tr {\n",
       "  text-align: right;\n",
       "  white-space: pre-wrap;\n",
       "}\n",
       "</style>\n",
       "<small>shape: (5, 2)</small><table border=\"1\" class=\"dataframe\"><thead><tr><th>intensidadSat</th><th>count</th></tr><tr><td>i64</td><td>u32</td></tr></thead><tbody><tr><td>null</td><td>47500</td></tr><tr><td>9000</td><td>179</td></tr><tr><td>7500</td><td>179</td></tr><tr><td>7200</td><td>716</td></tr><tr><td>7100</td><td>98</td></tr></tbody></table></div>"
      ],
      "text/plain": [
       "shape: (5, 2)\n",
       "┌───────────────┬───────┐\n",
       "│ intensidadSat ┆ count │\n",
       "│ ---           ┆ ---   │\n",
       "│ i64           ┆ u32   │\n",
       "╞═══════════════╪═══════╡\n",
       "│ null          ┆ 47500 │\n",
       "│ 9000          ┆ 179   │\n",
       "│ 7500          ┆ 179   │\n",
       "│ 7200          ┆ 716   │\n",
       "│ 7100          ┆ 98    │\n",
       "└───────────────┴───────┘"
      ]
     },
     "execution_count": 120,
     "metadata": {},
     "output_type": "execute_result"
    }
   ],
   "source": [
    "sample_data.group_by(pl.col('intensidadSat')).count().sort('intensidadSat',descending=True).head().collect()"
   ]
  },
  {
   "cell_type": "markdown",
   "metadata": {},
   "source": [
    "Identificadores con mayor intensidad"
   ]
  },
  {
   "cell_type": "code",
   "execution_count": 121,
   "metadata": {},
   "outputs": [
    {
     "data": {},
     "metadata": {},
     "output_type": "display_data"
    },
    {
     "data": {
      "application/vnd.holoviews_exec.v0+json": "",
      "text/html": [
       "<div id='p2244'>\n",
       "  <div id=\"c49acb19-1ea2-49a6-9715-6b86f9362426\" data-root-id=\"p2244\" style=\"display: contents;\"></div>\n",
       "</div>\n",
       "<script type=\"application/javascript\">(function(root) {\n",
       "  var docs_json = {\"968857da-46a1-4299-93cb-78a49f922a58\":{\"version\":\"3.4.0\",\"title\":\"Bokeh Application\",\"roots\":[{\"type\":\"object\",\"name\":\"Row\",\"id\":\"p2244\",\"attributes\":{\"name\":\"Row03119\",\"tags\":[\"embedded\"],\"stylesheets\":[\"\\n:host(.pn-loading):before, .pn-loading:before {\\n  background-color: #c3c3c3;\\n  mask-size: auto calc(min(50%, 400px));\\n  -webkit-mask-size: auto calc(min(50%, 400px));\\n}\",{\"type\":\"object\",\"name\":\"ImportedStyleSheet\",\"id\":\"p2247\",\"attributes\":{\"url\":\"https://cdn.holoviz.org/panel/1.4.0/dist/css/loading.css\"}},{\"type\":\"object\",\"name\":\"ImportedStyleSheet\",\"id\":\"p2303\",\"attributes\":{\"url\":\"https://cdn.holoviz.org/panel/1.4.0/dist/css/listpanel.css\"}},{\"type\":\"object\",\"name\":\"ImportedStyleSheet\",\"id\":\"p2245\",\"attributes\":{\"url\":\"https://cdn.holoviz.org/panel/1.4.0/dist/bundled/theme/default.css\"}},{\"type\":\"object\",\"name\":\"ImportedStyleSheet\",\"id\":\"p2246\",\"attributes\":{\"url\":\"https://cdn.holoviz.org/panel/1.4.0/dist/bundled/theme/native.css\"}}],\"min_width\":700,\"margin\":0,\"sizing_mode\":\"stretch_width\",\"align\":\"start\",\"children\":[{\"type\":\"object\",\"name\":\"Spacer\",\"id\":\"p2248\",\"attributes\":{\"name\":\"HSpacer03126\",\"stylesheets\":[\"\\n:host(.pn-loading):before, .pn-loading:before {\\n  background-color: #c3c3c3;\\n  mask-size: auto calc(min(50%, 400px));\\n  -webkit-mask-size: auto calc(min(50%, 400px));\\n}\",{\"id\":\"p2247\"},{\"id\":\"p2245\"},{\"id\":\"p2246\"}],\"margin\":0,\"sizing_mode\":\"stretch_width\",\"align\":\"start\"}},{\"type\":\"object\",\"name\":\"Figure\",\"id\":\"p2256\",\"attributes\":{\"width\":700,\"height\":300,\"margin\":[5,10],\"sizing_mode\":\"fixed\",\"align\":\"start\",\"x_range\":{\"type\":\"object\",\"name\":\"FactorRange\",\"id\":\"p2249\",\"attributes\":{\"tags\":[[[\"idelem\",\"idelem\",null]],[]],\"factors\":[\"9977\",\"10397\",\"3522\",\"5762\",\"4823\",\"10871\",\"3716\",\"3860\",\"10862\",\"3882\"]}},\"y_range\":{\"type\":\"object\",\"name\":\"Range1d\",\"id\":\"p2250\",\"attributes\":{\"tags\":[[[\"intensidadSat\",\"intensidadSat\",null]],{\"type\":\"map\",\"entries\":[[\"invert_yaxis\",false],[\"autorange\",false]]}],\"end\":9245.0,\"reset_start\":0.0,\"reset_end\":9245.0}},\"x_scale\":{\"type\":\"object\",\"name\":\"CategoricalScale\",\"id\":\"p2266\"},\"y_scale\":{\"type\":\"object\",\"name\":\"LinearScale\",\"id\":\"p2267\"},\"title\":{\"type\":\"object\",\"name\":\"Title\",\"id\":\"p2259\",\"attributes\":{\"text_color\":\"black\",\"text_font_size\":\"12pt\"}},\"renderers\":[{\"type\":\"object\",\"name\":\"GlyphRenderer\",\"id\":\"p2296\",\"attributes\":{\"data_source\":{\"type\":\"object\",\"name\":\"ColumnDataSource\",\"id\":\"p2287\",\"attributes\":{\"selected\":{\"type\":\"object\",\"name\":\"Selection\",\"id\":\"p2288\",\"attributes\":{\"indices\":[],\"line_indices\":[]}},\"selection_policy\":{\"type\":\"object\",\"name\":\"UnionRenderers\",\"id\":\"p2289\"},\"data\":{\"type\":\"map\",\"entries\":[[\"idelem\",[\"9977\",\"10397\",\"3522\",\"5762\",\"4823\",\"10871\",\"3716\",\"3860\",\"10862\",\"3882\"]],[\"intensidadSat\",{\"type\":\"ndarray\",\"array\":{\"type\":\"bytes\",\"data\":\"KCMAAEwdAAAgHAAAIBwAACAcAAAgHAAAvBsAAJAaAABAGgAAlhkAAA==\"},\"shape\":[10],\"dtype\":\"int32\",\"order\":\"little\"}]]}}},\"view\":{\"type\":\"object\",\"name\":\"CDSView\",\"id\":\"p2297\",\"attributes\":{\"filter\":{\"type\":\"object\",\"name\":\"AllIndices\",\"id\":\"p2298\"}}},\"glyph\":{\"type\":\"object\",\"name\":\"VBar\",\"id\":\"p2293\",\"attributes\":{\"tags\":[\"apply_ranges\"],\"x\":{\"type\":\"field\",\"field\":\"idelem\"},\"width\":{\"type\":\"value\",\"value\":0.8},\"top\":{\"type\":\"field\",\"field\":\"intensidadSat\"},\"fill_color\":{\"type\":\"value\",\"value\":\"#30a2da\"},\"hatch_color\":{\"type\":\"value\",\"value\":\"#30a2da\"}}},\"selection_glyph\":{\"type\":\"object\",\"name\":\"VBar\",\"id\":\"p2299\",\"attributes\":{\"tags\":[\"apply_ranges\"],\"x\":{\"type\":\"field\",\"field\":\"idelem\"},\"width\":{\"type\":\"value\",\"value\":0.8},\"bottom\":{\"type\":\"value\",\"value\":0},\"top\":{\"type\":\"field\",\"field\":\"intensidadSat\"},\"line_color\":{\"type\":\"value\",\"value\":\"black\"},\"line_alpha\":{\"type\":\"value\",\"value\":1.0},\"line_width\":{\"type\":\"value\",\"value\":1},\"line_join\":{\"type\":\"value\",\"value\":\"bevel\"},\"line_cap\":{\"type\":\"value\",\"value\":\"butt\"},\"line_dash\":{\"type\":\"value\",\"value\":[]},\"line_dash_offset\":{\"type\":\"value\",\"value\":0},\"fill_color\":{\"type\":\"value\",\"value\":\"#30a2da\"},\"fill_alpha\":{\"type\":\"value\",\"value\":1.0},\"hatch_color\":{\"type\":\"value\",\"value\":\"#30a2da\"},\"hatch_alpha\":{\"type\":\"value\",\"value\":1.0},\"hatch_scale\":{\"type\":\"value\",\"value\":12.0},\"hatch_pattern\":{\"type\":\"value\",\"value\":null},\"hatch_weight\":{\"type\":\"value\",\"value\":1.0}}},\"nonselection_glyph\":{\"type\":\"object\",\"name\":\"VBar\",\"id\":\"p2294\",\"attributes\":{\"tags\":[\"apply_ranges\"],\"x\":{\"type\":\"field\",\"field\":\"idelem\"},\"width\":{\"type\":\"value\",\"value\":0.8},\"top\":{\"type\":\"field\",\"field\":\"intensidadSat\"},\"line_alpha\":{\"type\":\"value\",\"value\":0.1},\"fill_color\":{\"type\":\"value\",\"value\":\"#30a2da\"},\"fill_alpha\":{\"type\":\"value\",\"value\":0.1},\"hatch_color\":{\"type\":\"value\",\"value\":\"#30a2da\"},\"hatch_alpha\":{\"type\":\"value\",\"value\":0.1}}},\"muted_glyph\":{\"type\":\"object\",\"name\":\"VBar\",\"id\":\"p2295\",\"attributes\":{\"tags\":[\"apply_ranges\"],\"x\":{\"type\":\"field\",\"field\":\"idelem\"},\"width\":{\"type\":\"value\",\"value\":0.8},\"top\":{\"type\":\"field\",\"field\":\"intensidadSat\"},\"line_alpha\":{\"type\":\"value\",\"value\":0.2},\"fill_color\":{\"type\":\"value\",\"value\":\"#30a2da\"},\"fill_alpha\":{\"type\":\"value\",\"value\":0.2},\"hatch_color\":{\"type\":\"value\",\"value\":\"#30a2da\"},\"hatch_alpha\":{\"type\":\"value\",\"value\":0.2}}}}}],\"toolbar\":{\"type\":\"object\",\"name\":\"Toolbar\",\"id\":\"p2265\",\"attributes\":{\"tools\":[{\"type\":\"object\",\"name\":\"WheelZoomTool\",\"id\":\"p2254\",\"attributes\":{\"tags\":[\"hv_created\"],\"renderers\":\"auto\",\"zoom_together\":\"none\"}},{\"type\":\"object\",\"name\":\"HoverTool\",\"id\":\"p2255\",\"attributes\":{\"tags\":[\"hv_created\"],\"renderers\":[{\"id\":\"p2296\"}],\"tooltips\":[[\"idelem\",\"@{idelem}\"],[\"intensidadSat\",\"@{intensidadSat}\"]]}},{\"type\":\"object\",\"name\":\"SaveTool\",\"id\":\"p2278\"},{\"type\":\"object\",\"name\":\"PanTool\",\"id\":\"p2279\"},{\"type\":\"object\",\"name\":\"BoxZoomTool\",\"id\":\"p2280\",\"attributes\":{\"overlay\":{\"type\":\"object\",\"name\":\"BoxAnnotation\",\"id\":\"p2281\",\"attributes\":{\"syncable\":false,\"level\":\"overlay\",\"visible\":false,\"left\":{\"type\":\"number\",\"value\":\"nan\"},\"right\":{\"type\":\"number\",\"value\":\"nan\"},\"top\":{\"type\":\"number\",\"value\":\"nan\"},\"bottom\":{\"type\":\"number\",\"value\":\"nan\"},\"left_units\":\"canvas\",\"right_units\":\"canvas\",\"top_units\":\"canvas\",\"bottom_units\":\"canvas\",\"line_color\":\"black\",\"line_alpha\":1.0,\"line_width\":2,\"line_dash\":[4,4],\"fill_color\":\"lightgrey\",\"fill_alpha\":0.5}}}},{\"type\":\"object\",\"name\":\"ResetTool\",\"id\":\"p2286\"}],\"active_drag\":{\"id\":\"p2279\"},\"active_scroll\":{\"id\":\"p2254\"}}},\"left\":[{\"type\":\"object\",\"name\":\"LinearAxis\",\"id\":\"p2273\",\"attributes\":{\"ticker\":{\"type\":\"object\",\"name\":\"BasicTicker\",\"id\":\"p2274\",\"attributes\":{\"mantissas\":[1,2,5]}},\"formatter\":{\"type\":\"object\",\"name\":\"BasicTickFormatter\",\"id\":\"p2275\"},\"axis_label\":\"intensidadSat\",\"major_label_policy\":{\"type\":\"object\",\"name\":\"AllLabels\",\"id\":\"p2276\"}}}],\"below\":[{\"type\":\"object\",\"name\":\"CategoricalAxis\",\"id\":\"p2268\",\"attributes\":{\"ticker\":{\"type\":\"object\",\"name\":\"CategoricalTicker\",\"id\":\"p2269\"},\"formatter\":{\"type\":\"object\",\"name\":\"CategoricalTickFormatter\",\"id\":\"p2270\"},\"axis_label\":\"idelem\",\"major_label_policy\":{\"type\":\"object\",\"name\":\"AllLabels\",\"id\":\"p2271\"}}}],\"center\":[{\"type\":\"object\",\"name\":\"Grid\",\"id\":\"p2272\",\"attributes\":{\"axis\":{\"id\":\"p2268\"},\"grid_line_color\":null}},{\"type\":\"object\",\"name\":\"Grid\",\"id\":\"p2277\",\"attributes\":{\"dimension\":1,\"axis\":{\"id\":\"p2273\"},\"grid_line_color\":null}}],\"min_border_top\":10,\"min_border_bottom\":10,\"min_border_left\":10,\"min_border_right\":10,\"output_backend\":\"webgl\"}},{\"type\":\"object\",\"name\":\"Spacer\",\"id\":\"p2301\",\"attributes\":{\"name\":\"HSpacer03127\",\"stylesheets\":[\"\\n:host(.pn-loading):before, .pn-loading:before {\\n  background-color: #c3c3c3;\\n  mask-size: auto calc(min(50%, 400px));\\n  -webkit-mask-size: auto calc(min(50%, 400px));\\n}\",{\"id\":\"p2247\"},{\"id\":\"p2245\"},{\"id\":\"p2246\"}],\"margin\":0,\"sizing_mode\":\"stretch_width\",\"align\":\"start\"}}]}}],\"defs\":[{\"type\":\"model\",\"name\":\"ReactiveHTML1\"},{\"type\":\"model\",\"name\":\"FlexBox1\",\"properties\":[{\"name\":\"align_content\",\"kind\":\"Any\",\"default\":\"flex-start\"},{\"name\":\"align_items\",\"kind\":\"Any\",\"default\":\"flex-start\"},{\"name\":\"flex_direction\",\"kind\":\"Any\",\"default\":\"row\"},{\"name\":\"flex_wrap\",\"kind\":\"Any\",\"default\":\"wrap\"},{\"name\":\"justify_content\",\"kind\":\"Any\",\"default\":\"flex-start\"},{\"name\":\"gap\",\"kind\":\"Any\",\"default\":\"\"}]},{\"type\":\"model\",\"name\":\"FloatPanel1\",\"properties\":[{\"name\":\"config\",\"kind\":\"Any\",\"default\":{\"type\":\"map\"}},{\"name\":\"contained\",\"kind\":\"Any\",\"default\":true},{\"name\":\"position\",\"kind\":\"Any\",\"default\":\"right-top\"},{\"name\":\"offsetx\",\"kind\":\"Any\",\"default\":null},{\"name\":\"offsety\",\"kind\":\"Any\",\"default\":null},{\"name\":\"theme\",\"kind\":\"Any\",\"default\":\"primary\"},{\"name\":\"status\",\"kind\":\"Any\",\"default\":\"normalized\"}]},{\"type\":\"model\",\"name\":\"GridStack1\",\"properties\":[{\"name\":\"mode\",\"kind\":\"Any\",\"default\":\"warn\"},{\"name\":\"ncols\",\"kind\":\"Any\",\"default\":null},{\"name\":\"nrows\",\"kind\":\"Any\",\"default\":null},{\"name\":\"allow_resize\",\"kind\":\"Any\",\"default\":true},{\"name\":\"allow_drag\",\"kind\":\"Any\",\"default\":true},{\"name\":\"state\",\"kind\":\"Any\",\"default\":[]}]},{\"type\":\"model\",\"name\":\"drag1\",\"properties\":[{\"name\":\"slider_width\",\"kind\":\"Any\",\"default\":5},{\"name\":\"slider_color\",\"kind\":\"Any\",\"default\":\"black\"},{\"name\":\"value\",\"kind\":\"Any\",\"default\":50}]},{\"type\":\"model\",\"name\":\"click1\",\"properties\":[{\"name\":\"terminal_output\",\"kind\":\"Any\",\"default\":\"\"},{\"name\":\"debug_name\",\"kind\":\"Any\",\"default\":\"\"},{\"name\":\"clears\",\"kind\":\"Any\",\"default\":0}]},{\"type\":\"model\",\"name\":\"FastWrapper1\",\"properties\":[{\"name\":\"object\",\"kind\":\"Any\",\"default\":null},{\"name\":\"style\",\"kind\":\"Any\",\"default\":null}]},{\"type\":\"model\",\"name\":\"NotificationAreaBase1\",\"properties\":[{\"name\":\"js_events\",\"kind\":\"Any\",\"default\":{\"type\":\"map\"}},{\"name\":\"position\",\"kind\":\"Any\",\"default\":\"bottom-right\"},{\"name\":\"_clear\",\"kind\":\"Any\",\"default\":0}]},{\"type\":\"model\",\"name\":\"NotificationArea1\",\"properties\":[{\"name\":\"js_events\",\"kind\":\"Any\",\"default\":{\"type\":\"map\"}},{\"name\":\"notifications\",\"kind\":\"Any\",\"default\":[]},{\"name\":\"position\",\"kind\":\"Any\",\"default\":\"bottom-right\"},{\"name\":\"_clear\",\"kind\":\"Any\",\"default\":0},{\"name\":\"types\",\"kind\":\"Any\",\"default\":[{\"type\":\"map\",\"entries\":[[\"type\",\"warning\"],[\"background\",\"#ffc107\"],[\"icon\",{\"type\":\"map\",\"entries\":[[\"className\",\"fas fa-exclamation-triangle\"],[\"tagName\",\"i\"],[\"color\",\"white\"]]}]]},{\"type\":\"map\",\"entries\":[[\"type\",\"info\"],[\"background\",\"#007bff\"],[\"icon\",{\"type\":\"map\",\"entries\":[[\"className\",\"fas fa-info-circle\"],[\"tagName\",\"i\"],[\"color\",\"white\"]]}]]}]}]},{\"type\":\"model\",\"name\":\"Notification\",\"properties\":[{\"name\":\"background\",\"kind\":\"Any\",\"default\":null},{\"name\":\"duration\",\"kind\":\"Any\",\"default\":3000},{\"name\":\"icon\",\"kind\":\"Any\",\"default\":null},{\"name\":\"message\",\"kind\":\"Any\",\"default\":\"\"},{\"name\":\"notification_type\",\"kind\":\"Any\",\"default\":null},{\"name\":\"_destroyed\",\"kind\":\"Any\",\"default\":false}]},{\"type\":\"model\",\"name\":\"TemplateActions1\",\"properties\":[{\"name\":\"open_modal\",\"kind\":\"Any\",\"default\":0},{\"name\":\"close_modal\",\"kind\":\"Any\",\"default\":0}]},{\"type\":\"model\",\"name\":\"BootstrapTemplateActions1\",\"properties\":[{\"name\":\"open_modal\",\"kind\":\"Any\",\"default\":0},{\"name\":\"close_modal\",\"kind\":\"Any\",\"default\":0}]},{\"type\":\"model\",\"name\":\"TemplateEditor1\",\"properties\":[{\"name\":\"layout\",\"kind\":\"Any\",\"default\":[]}]},{\"type\":\"model\",\"name\":\"MaterialTemplateActions1\",\"properties\":[{\"name\":\"open_modal\",\"kind\":\"Any\",\"default\":0},{\"name\":\"close_modal\",\"kind\":\"Any\",\"default\":0}]},{\"type\":\"model\",\"name\":\"copy_to_clipboard1\",\"properties\":[{\"name\":\"fill\",\"kind\":\"Any\",\"default\":\"none\"},{\"name\":\"value\",\"kind\":\"Any\",\"default\":null}]}]}};\n",
       "  var render_items = [{\"docid\":\"968857da-46a1-4299-93cb-78a49f922a58\",\"roots\":{\"p2244\":\"c49acb19-1ea2-49a6-9715-6b86f9362426\"},\"root_ids\":[\"p2244\"]}];\n",
       "  var docs = Object.values(docs_json)\n",
       "  if (!docs) {\n",
       "    return\n",
       "  }\n",
       "  const py_version = docs[0].version.replace('rc', '-rc.').replace('.dev', '-dev.')\n",
       "  function embed_document(root) {\n",
       "    var Bokeh = get_bokeh(root)\n",
       "    Bokeh.embed.embed_items_notebook(docs_json, render_items);\n",
       "    for (const render_item of render_items) {\n",
       "      for (const root_id of render_item.root_ids) {\n",
       "\tconst id_el = document.getElementById(root_id)\n",
       "\tif (id_el.children.length && (id_el.children[0].className === 'bk-root')) {\n",
       "\t  const root_el = id_el.children[0]\n",
       "\t  root_el.id = root_el.id + '-rendered'\n",
       "\t}\n",
       "      }\n",
       "    }\n",
       "  }\n",
       "  function get_bokeh(root) {\n",
       "    if (root.Bokeh === undefined) {\n",
       "      return null\n",
       "    } else if (root.Bokeh.version !== py_version) {\n",
       "      if (root.Bokeh.versions === undefined || !root.Bokeh.versions.has(py_version)) {\n",
       "\treturn null\n",
       "      }\n",
       "      return root.Bokeh.versions.get(py_version);\n",
       "    } else if (root.Bokeh.version === py_version) {\n",
       "      return root.Bokeh\n",
       "    }\n",
       "    return null\n",
       "  }\n",
       "  function is_loaded(root) {\n",
       "    var Bokeh = get_bokeh(root)\n",
       "    return (Bokeh != null && Bokeh.Panel !== undefined)\n",
       "  }\n",
       "  if (is_loaded(root)) {\n",
       "    embed_document(root);\n",
       "  } else {\n",
       "    var attempts = 0;\n",
       "    var timer = setInterval(function(root) {\n",
       "      if (is_loaded(root)) {\n",
       "        clearInterval(timer);\n",
       "        embed_document(root);\n",
       "      } else if (document.readyState == \"complete\") {\n",
       "        attempts++;\n",
       "        if (attempts > 200) {\n",
       "          clearInterval(timer);\n",
       "\t  var Bokeh = get_bokeh(root)\n",
       "\t  if (Bokeh == null || Bokeh.Panel == null) {\n",
       "            console.warn(\"Panel: ERROR: Unable to run Panel code because Bokeh or Panel library is missing\");\n",
       "\t  } else {\n",
       "\t    console.warn(\"Panel: WARNING: Attempting to render but not all required libraries could be resolved.\")\n",
       "\t    embed_document(root)\n",
       "\t  }\n",
       "        }\n",
       "      }\n",
       "    }, 25, root)\n",
       "  }\n",
       "})(window);</script>"
      ],
      "text/plain": [
       ":Bars   [idelem]   (intensidadSat)"
      ]
     },
     "execution_count": 121,
     "metadata": {
      "application/vnd.holoviews_exec.v0+json": {
       "id": "p2244"
      }
     },
     "output_type": "execute_result"
    }
   ],
   "source": [
    "sample_data.filter(pl.col('intensidadSat').is_not_null()).group_by(pl.col('idelem')).max().sort('intensidadSat',descending=True).select(pl.col('idelem'),pl.col('intensidadSat')).head(10).collect().plot.bar(x='idelem', y='intensidadSat')"
   ]
  },
  {
   "cell_type": "markdown",
   "metadata": {},
   "source": [
    "Zonas con mayor intensidad"
   ]
  },
  {
   "cell_type": "code",
   "execution_count": 122,
   "metadata": {},
   "outputs": [
    {
     "data": {},
     "metadata": {},
     "output_type": "display_data"
    },
    {
     "data": {
      "application/vnd.holoviews_exec.v0+json": "",
      "text/html": [
       "<div id='p2306'>\n",
       "  <div id=\"ef629466-c1b4-43b7-86b8-c2c1691e82ec\" data-root-id=\"p2306\" style=\"display: contents;\"></div>\n",
       "</div>\n",
       "<script type=\"application/javascript\">(function(root) {\n",
       "  var docs_json = {\"8a9445e2-032d-49ff-ba71-8b1d47256608\":{\"version\":\"3.4.0\",\"title\":\"Bokeh Application\",\"roots\":[{\"type\":\"object\",\"name\":\"Row\",\"id\":\"p2306\",\"attributes\":{\"name\":\"Row03228\",\"tags\":[\"embedded\"],\"stylesheets\":[\"\\n:host(.pn-loading):before, .pn-loading:before {\\n  background-color: #c3c3c3;\\n  mask-size: auto calc(min(50%, 400px));\\n  -webkit-mask-size: auto calc(min(50%, 400px));\\n}\",{\"type\":\"object\",\"name\":\"ImportedStyleSheet\",\"id\":\"p2309\",\"attributes\":{\"url\":\"https://cdn.holoviz.org/panel/1.4.0/dist/css/loading.css\"}},{\"type\":\"object\",\"name\":\"ImportedStyleSheet\",\"id\":\"p2365\",\"attributes\":{\"url\":\"https://cdn.holoviz.org/panel/1.4.0/dist/css/listpanel.css\"}},{\"type\":\"object\",\"name\":\"ImportedStyleSheet\",\"id\":\"p2307\",\"attributes\":{\"url\":\"https://cdn.holoviz.org/panel/1.4.0/dist/bundled/theme/default.css\"}},{\"type\":\"object\",\"name\":\"ImportedStyleSheet\",\"id\":\"p2308\",\"attributes\":{\"url\":\"https://cdn.holoviz.org/panel/1.4.0/dist/bundled/theme/native.css\"}}],\"min_width\":700,\"margin\":0,\"sizing_mode\":\"stretch_width\",\"align\":\"start\",\"children\":[{\"type\":\"object\",\"name\":\"Spacer\",\"id\":\"p2310\",\"attributes\":{\"name\":\"HSpacer03235\",\"stylesheets\":[\"\\n:host(.pn-loading):before, .pn-loading:before {\\n  background-color: #c3c3c3;\\n  mask-size: auto calc(min(50%, 400px));\\n  -webkit-mask-size: auto calc(min(50%, 400px));\\n}\",{\"id\":\"p2309\"},{\"id\":\"p2307\"},{\"id\":\"p2308\"}],\"margin\":0,\"sizing_mode\":\"stretch_width\",\"align\":\"start\"}},{\"type\":\"object\",\"name\":\"Figure\",\"id\":\"p2318\",\"attributes\":{\"width\":700,\"height\":300,\"margin\":[5,10],\"sizing_mode\":\"fixed\",\"align\":\"start\",\"x_range\":{\"type\":\"object\",\"name\":\"FactorRange\",\"id\":\"p2311\",\"attributes\":{\"tags\":[[[\"descripcion\",\"descripcion\",null]],[]],\"factors\":[\"Cea Bermudez - Blasco Garay-Galileo\",\"PSO. EXTREMADURA, 393 S-N (ILLESCAS-CTRA. BOADILLA)\",\"M\\u00e9ndez \\u00c1lvaro O-E - (Ariel - M-30)\",\"Av.America 27  E-O - Cartagena - Fco.Silvela\",\"AV. ANDALUCIA \\u00d87 (S-N(UNANIMIDAD-M-40)\",\"AV. ANDALUCIA \\u00d858 N-S(ALCOCER-AMPUERO)\",\"REYES CATOLICOS N-S (DR. JIMENEZ DIAZ - AV. MEMORIA)\",\"(AFOROS) DR. ESQUERDO S-N(ALCALDE SAINZ BARANDA-IBIZA)\",\"Rotonda - A-1 Via de Servicio - Francisco pi y Margall\",\"(AFOROS) Po INFATA ISABEL N-S(GTA. CARLOS V-ALFONSO XII)\"]}},\"y_range\":{\"type\":\"object\",\"name\":\"Range1d\",\"id\":\"p2312\",\"attributes\":{\"tags\":[[[\"intensidadSat\",\"intensidadSat\",null]],{\"type\":\"map\",\"entries\":[[\"invert_yaxis\",false],[\"autorange\",false]]}],\"end\":9245.0,\"reset_start\":0.0,\"reset_end\":9245.0}},\"x_scale\":{\"type\":\"object\",\"name\":\"CategoricalScale\",\"id\":\"p2328\"},\"y_scale\":{\"type\":\"object\",\"name\":\"LinearScale\",\"id\":\"p2329\"},\"title\":{\"type\":\"object\",\"name\":\"Title\",\"id\":\"p2321\",\"attributes\":{\"text_color\":\"black\",\"text_font_size\":\"12pt\"}},\"renderers\":[{\"type\":\"object\",\"name\":\"GlyphRenderer\",\"id\":\"p2358\",\"attributes\":{\"data_source\":{\"type\":\"object\",\"name\":\"ColumnDataSource\",\"id\":\"p2349\",\"attributes\":{\"selected\":{\"type\":\"object\",\"name\":\"Selection\",\"id\":\"p2350\",\"attributes\":{\"indices\":[],\"line_indices\":[]}},\"selection_policy\":{\"type\":\"object\",\"name\":\"UnionRenderers\",\"id\":\"p2351\"},\"data\":{\"type\":\"map\",\"entries\":[[\"descripcion\",[\"Cea Bermudez - Blasco Garay-Galileo\",\"PSO. EXTREMADURA, 393 S-N (ILLESCAS-CTRA. BOADILLA)\",\"M\\u00e9ndez \\u00c1lvaro O-E - (Ariel - M-30)\",\"Av.America 27  E-O - Cartagena - Fco.Silvela\",\"AV. ANDALUCIA \\u00d87 (S-N(UNANIMIDAD-M-40)\",\"AV. ANDALUCIA \\u00d858 N-S(ALCOCER-AMPUERO)\",\"REYES CATOLICOS N-S (DR. JIMENEZ DIAZ - AV. MEMORIA)\",\"(AFOROS) DR. ESQUERDO S-N(ALCALDE SAINZ BARANDA-IBIZA)\",\"Rotonda - A-1 Via de Servicio - Francisco pi y Margall\",\"(AFOROS) Po INFATA ISABEL N-S(GTA. CARLOS V-ALFONSO XII)\"]],[\"intensidadSat\",{\"type\":\"ndarray\",\"array\":{\"type\":\"bytes\",\"data\":\"KCMAAEwdAAAgHAAAIBwAACAcAAAgHAAAvBsAAJAaAABAGgAAlhkAAA==\"},\"shape\":[10],\"dtype\":\"int32\",\"order\":\"little\"}]]}}},\"view\":{\"type\":\"object\",\"name\":\"CDSView\",\"id\":\"p2359\",\"attributes\":{\"filter\":{\"type\":\"object\",\"name\":\"AllIndices\",\"id\":\"p2360\"}}},\"glyph\":{\"type\":\"object\",\"name\":\"VBar\",\"id\":\"p2355\",\"attributes\":{\"tags\":[\"apply_ranges\"],\"x\":{\"type\":\"field\",\"field\":\"descripcion\"},\"width\":{\"type\":\"value\",\"value\":0.8},\"top\":{\"type\":\"field\",\"field\":\"intensidadSat\"},\"fill_color\":{\"type\":\"value\",\"value\":\"#30a2da\"},\"hatch_color\":{\"type\":\"value\",\"value\":\"#30a2da\"}}},\"selection_glyph\":{\"type\":\"object\",\"name\":\"VBar\",\"id\":\"p2361\",\"attributes\":{\"tags\":[\"apply_ranges\"],\"x\":{\"type\":\"field\",\"field\":\"descripcion\"},\"width\":{\"type\":\"value\",\"value\":0.8},\"bottom\":{\"type\":\"value\",\"value\":0},\"top\":{\"type\":\"field\",\"field\":\"intensidadSat\"},\"line_color\":{\"type\":\"value\",\"value\":\"black\"},\"line_alpha\":{\"type\":\"value\",\"value\":1.0},\"line_width\":{\"type\":\"value\",\"value\":1},\"line_join\":{\"type\":\"value\",\"value\":\"bevel\"},\"line_cap\":{\"type\":\"value\",\"value\":\"butt\"},\"line_dash\":{\"type\":\"value\",\"value\":[]},\"line_dash_offset\":{\"type\":\"value\",\"value\":0},\"fill_color\":{\"type\":\"value\",\"value\":\"#30a2da\"},\"fill_alpha\":{\"type\":\"value\",\"value\":1.0},\"hatch_color\":{\"type\":\"value\",\"value\":\"#30a2da\"},\"hatch_alpha\":{\"type\":\"value\",\"value\":1.0},\"hatch_scale\":{\"type\":\"value\",\"value\":12.0},\"hatch_pattern\":{\"type\":\"value\",\"value\":null},\"hatch_weight\":{\"type\":\"value\",\"value\":1.0}}},\"nonselection_glyph\":{\"type\":\"object\",\"name\":\"VBar\",\"id\":\"p2356\",\"attributes\":{\"tags\":[\"apply_ranges\"],\"x\":{\"type\":\"field\",\"field\":\"descripcion\"},\"width\":{\"type\":\"value\",\"value\":0.8},\"top\":{\"type\":\"field\",\"field\":\"intensidadSat\"},\"line_alpha\":{\"type\":\"value\",\"value\":0.1},\"fill_color\":{\"type\":\"value\",\"value\":\"#30a2da\"},\"fill_alpha\":{\"type\":\"value\",\"value\":0.1},\"hatch_color\":{\"type\":\"value\",\"value\":\"#30a2da\"},\"hatch_alpha\":{\"type\":\"value\",\"value\":0.1}}},\"muted_glyph\":{\"type\":\"object\",\"name\":\"VBar\",\"id\":\"p2357\",\"attributes\":{\"tags\":[\"apply_ranges\"],\"x\":{\"type\":\"field\",\"field\":\"descripcion\"},\"width\":{\"type\":\"value\",\"value\":0.8},\"top\":{\"type\":\"field\",\"field\":\"intensidadSat\"},\"line_alpha\":{\"type\":\"value\",\"value\":0.2},\"fill_color\":{\"type\":\"value\",\"value\":\"#30a2da\"},\"fill_alpha\":{\"type\":\"value\",\"value\":0.2},\"hatch_color\":{\"type\":\"value\",\"value\":\"#30a2da\"},\"hatch_alpha\":{\"type\":\"value\",\"value\":0.2}}}}}],\"toolbar\":{\"type\":\"object\",\"name\":\"Toolbar\",\"id\":\"p2327\",\"attributes\":{\"tools\":[{\"type\":\"object\",\"name\":\"WheelZoomTool\",\"id\":\"p2316\",\"attributes\":{\"tags\":[\"hv_created\"],\"renderers\":\"auto\",\"zoom_together\":\"none\"}},{\"type\":\"object\",\"name\":\"HoverTool\",\"id\":\"p2317\",\"attributes\":{\"tags\":[\"hv_created\"],\"renderers\":[{\"id\":\"p2358\"}],\"tooltips\":[[\"descripcion\",\"@{descripcion}\"],[\"intensidadSat\",\"@{intensidadSat}\"]]}},{\"type\":\"object\",\"name\":\"SaveTool\",\"id\":\"p2340\"},{\"type\":\"object\",\"name\":\"PanTool\",\"id\":\"p2341\"},{\"type\":\"object\",\"name\":\"BoxZoomTool\",\"id\":\"p2342\",\"attributes\":{\"overlay\":{\"type\":\"object\",\"name\":\"BoxAnnotation\",\"id\":\"p2343\",\"attributes\":{\"syncable\":false,\"level\":\"overlay\",\"visible\":false,\"left\":{\"type\":\"number\",\"value\":\"nan\"},\"right\":{\"type\":\"number\",\"value\":\"nan\"},\"top\":{\"type\":\"number\",\"value\":\"nan\"},\"bottom\":{\"type\":\"number\",\"value\":\"nan\"},\"left_units\":\"canvas\",\"right_units\":\"canvas\",\"top_units\":\"canvas\",\"bottom_units\":\"canvas\",\"line_color\":\"black\",\"line_alpha\":1.0,\"line_width\":2,\"line_dash\":[4,4],\"fill_color\":\"lightgrey\",\"fill_alpha\":0.5}}}},{\"type\":\"object\",\"name\":\"ResetTool\",\"id\":\"p2348\"}],\"active_drag\":{\"id\":\"p2341\"},\"active_scroll\":{\"id\":\"p2316\"}}},\"left\":[{\"type\":\"object\",\"name\":\"LinearAxis\",\"id\":\"p2335\",\"attributes\":{\"ticker\":{\"type\":\"object\",\"name\":\"BasicTicker\",\"id\":\"p2336\",\"attributes\":{\"mantissas\":[1,2,5]}},\"formatter\":{\"type\":\"object\",\"name\":\"BasicTickFormatter\",\"id\":\"p2337\"},\"axis_label\":\"intensidadSat\",\"major_label_policy\":{\"type\":\"object\",\"name\":\"AllLabels\",\"id\":\"p2338\"}}}],\"below\":[{\"type\":\"object\",\"name\":\"CategoricalAxis\",\"id\":\"p2330\",\"attributes\":{\"ticker\":{\"type\":\"object\",\"name\":\"CategoricalTicker\",\"id\":\"p2331\"},\"formatter\":{\"type\":\"object\",\"name\":\"CategoricalTickFormatter\",\"id\":\"p2332\"},\"axis_label\":\"descripcion\",\"major_label_orientation\":0.2617993877991494,\"major_label_policy\":{\"type\":\"object\",\"name\":\"AllLabels\",\"id\":\"p2333\"}}}],\"center\":[{\"type\":\"object\",\"name\":\"Grid\",\"id\":\"p2334\",\"attributes\":{\"axis\":{\"id\":\"p2330\"},\"grid_line_color\":null}},{\"type\":\"object\",\"name\":\"Grid\",\"id\":\"p2339\",\"attributes\":{\"dimension\":1,\"axis\":{\"id\":\"p2335\"},\"grid_line_color\":null}}],\"min_border_top\":10,\"min_border_bottom\":10,\"min_border_left\":10,\"min_border_right\":10,\"output_backend\":\"webgl\"}},{\"type\":\"object\",\"name\":\"Spacer\",\"id\":\"p2363\",\"attributes\":{\"name\":\"HSpacer03236\",\"stylesheets\":[\"\\n:host(.pn-loading):before, .pn-loading:before {\\n  background-color: #c3c3c3;\\n  mask-size: auto calc(min(50%, 400px));\\n  -webkit-mask-size: auto calc(min(50%, 400px));\\n}\",{\"id\":\"p2309\"},{\"id\":\"p2307\"},{\"id\":\"p2308\"}],\"margin\":0,\"sizing_mode\":\"stretch_width\",\"align\":\"start\"}}]}}],\"defs\":[{\"type\":\"model\",\"name\":\"ReactiveHTML1\"},{\"type\":\"model\",\"name\":\"FlexBox1\",\"properties\":[{\"name\":\"align_content\",\"kind\":\"Any\",\"default\":\"flex-start\"},{\"name\":\"align_items\",\"kind\":\"Any\",\"default\":\"flex-start\"},{\"name\":\"flex_direction\",\"kind\":\"Any\",\"default\":\"row\"},{\"name\":\"flex_wrap\",\"kind\":\"Any\",\"default\":\"wrap\"},{\"name\":\"justify_content\",\"kind\":\"Any\",\"default\":\"flex-start\"},{\"name\":\"gap\",\"kind\":\"Any\",\"default\":\"\"}]},{\"type\":\"model\",\"name\":\"FloatPanel1\",\"properties\":[{\"name\":\"config\",\"kind\":\"Any\",\"default\":{\"type\":\"map\"}},{\"name\":\"contained\",\"kind\":\"Any\",\"default\":true},{\"name\":\"position\",\"kind\":\"Any\",\"default\":\"right-top\"},{\"name\":\"offsetx\",\"kind\":\"Any\",\"default\":null},{\"name\":\"offsety\",\"kind\":\"Any\",\"default\":null},{\"name\":\"theme\",\"kind\":\"Any\",\"default\":\"primary\"},{\"name\":\"status\",\"kind\":\"Any\",\"default\":\"normalized\"}]},{\"type\":\"model\",\"name\":\"GridStack1\",\"properties\":[{\"name\":\"mode\",\"kind\":\"Any\",\"default\":\"warn\"},{\"name\":\"ncols\",\"kind\":\"Any\",\"default\":null},{\"name\":\"nrows\",\"kind\":\"Any\",\"default\":null},{\"name\":\"allow_resize\",\"kind\":\"Any\",\"default\":true},{\"name\":\"allow_drag\",\"kind\":\"Any\",\"default\":true},{\"name\":\"state\",\"kind\":\"Any\",\"default\":[]}]},{\"type\":\"model\",\"name\":\"drag1\",\"properties\":[{\"name\":\"slider_width\",\"kind\":\"Any\",\"default\":5},{\"name\":\"slider_color\",\"kind\":\"Any\",\"default\":\"black\"},{\"name\":\"value\",\"kind\":\"Any\",\"default\":50}]},{\"type\":\"model\",\"name\":\"click1\",\"properties\":[{\"name\":\"terminal_output\",\"kind\":\"Any\",\"default\":\"\"},{\"name\":\"debug_name\",\"kind\":\"Any\",\"default\":\"\"},{\"name\":\"clears\",\"kind\":\"Any\",\"default\":0}]},{\"type\":\"model\",\"name\":\"FastWrapper1\",\"properties\":[{\"name\":\"object\",\"kind\":\"Any\",\"default\":null},{\"name\":\"style\",\"kind\":\"Any\",\"default\":null}]},{\"type\":\"model\",\"name\":\"NotificationAreaBase1\",\"properties\":[{\"name\":\"js_events\",\"kind\":\"Any\",\"default\":{\"type\":\"map\"}},{\"name\":\"position\",\"kind\":\"Any\",\"default\":\"bottom-right\"},{\"name\":\"_clear\",\"kind\":\"Any\",\"default\":0}]},{\"type\":\"model\",\"name\":\"NotificationArea1\",\"properties\":[{\"name\":\"js_events\",\"kind\":\"Any\",\"default\":{\"type\":\"map\"}},{\"name\":\"notifications\",\"kind\":\"Any\",\"default\":[]},{\"name\":\"position\",\"kind\":\"Any\",\"default\":\"bottom-right\"},{\"name\":\"_clear\",\"kind\":\"Any\",\"default\":0},{\"name\":\"types\",\"kind\":\"Any\",\"default\":[{\"type\":\"map\",\"entries\":[[\"type\",\"warning\"],[\"background\",\"#ffc107\"],[\"icon\",{\"type\":\"map\",\"entries\":[[\"className\",\"fas fa-exclamation-triangle\"],[\"tagName\",\"i\"],[\"color\",\"white\"]]}]]},{\"type\":\"map\",\"entries\":[[\"type\",\"info\"],[\"background\",\"#007bff\"],[\"icon\",{\"type\":\"map\",\"entries\":[[\"className\",\"fas fa-info-circle\"],[\"tagName\",\"i\"],[\"color\",\"white\"]]}]]}]}]},{\"type\":\"model\",\"name\":\"Notification\",\"properties\":[{\"name\":\"background\",\"kind\":\"Any\",\"default\":null},{\"name\":\"duration\",\"kind\":\"Any\",\"default\":3000},{\"name\":\"icon\",\"kind\":\"Any\",\"default\":null},{\"name\":\"message\",\"kind\":\"Any\",\"default\":\"\"},{\"name\":\"notification_type\",\"kind\":\"Any\",\"default\":null},{\"name\":\"_destroyed\",\"kind\":\"Any\",\"default\":false}]},{\"type\":\"model\",\"name\":\"TemplateActions1\",\"properties\":[{\"name\":\"open_modal\",\"kind\":\"Any\",\"default\":0},{\"name\":\"close_modal\",\"kind\":\"Any\",\"default\":0}]},{\"type\":\"model\",\"name\":\"BootstrapTemplateActions1\",\"properties\":[{\"name\":\"open_modal\",\"kind\":\"Any\",\"default\":0},{\"name\":\"close_modal\",\"kind\":\"Any\",\"default\":0}]},{\"type\":\"model\",\"name\":\"TemplateEditor1\",\"properties\":[{\"name\":\"layout\",\"kind\":\"Any\",\"default\":[]}]},{\"type\":\"model\",\"name\":\"MaterialTemplateActions1\",\"properties\":[{\"name\":\"open_modal\",\"kind\":\"Any\",\"default\":0},{\"name\":\"close_modal\",\"kind\":\"Any\",\"default\":0}]},{\"type\":\"model\",\"name\":\"copy_to_clipboard1\",\"properties\":[{\"name\":\"fill\",\"kind\":\"Any\",\"default\":\"none\"},{\"name\":\"value\",\"kind\":\"Any\",\"default\":null}]}]}};\n",
       "  var render_items = [{\"docid\":\"8a9445e2-032d-49ff-ba71-8b1d47256608\",\"roots\":{\"p2306\":\"ef629466-c1b4-43b7-86b8-c2c1691e82ec\"},\"root_ids\":[\"p2306\"]}];\n",
       "  var docs = Object.values(docs_json)\n",
       "  if (!docs) {\n",
       "    return\n",
       "  }\n",
       "  const py_version = docs[0].version.replace('rc', '-rc.').replace('.dev', '-dev.')\n",
       "  function embed_document(root) {\n",
       "    var Bokeh = get_bokeh(root)\n",
       "    Bokeh.embed.embed_items_notebook(docs_json, render_items);\n",
       "    for (const render_item of render_items) {\n",
       "      for (const root_id of render_item.root_ids) {\n",
       "\tconst id_el = document.getElementById(root_id)\n",
       "\tif (id_el.children.length && (id_el.children[0].className === 'bk-root')) {\n",
       "\t  const root_el = id_el.children[0]\n",
       "\t  root_el.id = root_el.id + '-rendered'\n",
       "\t}\n",
       "      }\n",
       "    }\n",
       "  }\n",
       "  function get_bokeh(root) {\n",
       "    if (root.Bokeh === undefined) {\n",
       "      return null\n",
       "    } else if (root.Bokeh.version !== py_version) {\n",
       "      if (root.Bokeh.versions === undefined || !root.Bokeh.versions.has(py_version)) {\n",
       "\treturn null\n",
       "      }\n",
       "      return root.Bokeh.versions.get(py_version);\n",
       "    } else if (root.Bokeh.version === py_version) {\n",
       "      return root.Bokeh\n",
       "    }\n",
       "    return null\n",
       "  }\n",
       "  function is_loaded(root) {\n",
       "    var Bokeh = get_bokeh(root)\n",
       "    return (Bokeh != null && Bokeh.Panel !== undefined)\n",
       "  }\n",
       "  if (is_loaded(root)) {\n",
       "    embed_document(root);\n",
       "  } else {\n",
       "    var attempts = 0;\n",
       "    var timer = setInterval(function(root) {\n",
       "      if (is_loaded(root)) {\n",
       "        clearInterval(timer);\n",
       "        embed_document(root);\n",
       "      } else if (document.readyState == \"complete\") {\n",
       "        attempts++;\n",
       "        if (attempts > 200) {\n",
       "          clearInterval(timer);\n",
       "\t  var Bokeh = get_bokeh(root)\n",
       "\t  if (Bokeh == null || Bokeh.Panel == null) {\n",
       "            console.warn(\"Panel: ERROR: Unable to run Panel code because Bokeh or Panel library is missing\");\n",
       "\t  } else {\n",
       "\t    console.warn(\"Panel: WARNING: Attempting to render but not all required libraries could be resolved.\")\n",
       "\t    embed_document(root)\n",
       "\t  }\n",
       "        }\n",
       "      }\n",
       "    }, 25, root)\n",
       "  }\n",
       "})(window);</script>"
      ],
      "text/plain": [
       ":Bars   [descripcion]   (intensidadSat)"
      ]
     },
     "execution_count": 122,
     "metadata": {
      "application/vnd.holoviews_exec.v0+json": {
       "id": "p2306"
      }
     },
     "output_type": "execute_result"
    }
   ],
   "source": [
    "sample_data.filter((pl.col('descripcion').is_not_null()) & (pl.col('intensidadSat').is_not_null())).group_by(pl.col('descripcion')).max().sort('intensidadSat',descending=True).select(pl.col('descripcion'),pl.col('intensidadSat')).head(10).collect().plot.bar(x='descripcion', y='intensidadSat',rot=15)"
   ]
  },
  {
   "cell_type": "markdown",
   "metadata": {},
   "source": [
    "Eliminamos los valores nulos"
   ]
  },
  {
   "cell_type": "code",
   "execution_count": 126,
   "metadata": {},
   "outputs": [
    {
     "data": {
      "text/html": [
       "<div><style>\n",
       ".dataframe > thead > tr,\n",
       ".dataframe > tbody > tr {\n",
       "  text-align: right;\n",
       "  white-space: pre-wrap;\n",
       "}\n",
       "</style>\n",
       "<small>shape: (5, 13)</small><table border=\"1\" class=\"dataframe\"><thead><tr><th>idelem</th><th>descripcion</th><th>intensidad</th><th>ocupacion</th><th>carga</th><th>nivelServicio</th><th>intensidadSat</th><th>subarea</th><th>st_x</th><th>st_y</th><th>datetime</th><th>date</th><th>PK</th></tr><tr><td>i64</td><td>str</td><td>i64</td><td>i64</td><td>i64</td><td>i64</td><td>i64</td><td>i64</td><td>str</td><td>str</td><td>datetime[μs]</td><td>date</td><td>str</td></tr></thead><tbody><tr><td>10112</td><td>&quot;Arturo Soria -…</td><td>740</td><td>4</td><td>29</td><td>1</td><td>2438</td><td>3203</td><td>&quot;443972,0182132…</td><td>&quot;4478986,477391…</td><td>2024-03-13 07:55:08</td><td>2024-03-13</td><td>&quot;2024-03-13 07:…</td></tr><tr><td>6038</td><td>&quot;Torrelaguna  -…</td><td>380</td><td>2</td><td>28</td><td>1</td><td>1390</td><td>3246</td><td>&quot;443981,9555378…</td><td>&quot;4478451,452544…</td><td>2024-03-13 07:55:08</td><td>2024-03-13</td><td>&quot;2024-03-13 07:…</td></tr><tr><td>6039</td><td>&quot;Torrelaguna  -…</td><td>840</td><td>6</td><td>24</td><td>0</td><td>3000</td><td>3215</td><td>&quot;443984,1391077…</td><td>&quot;4478277,302264…</td><td>2024-03-13 07:55:08</td><td>2024-03-13</td><td>&quot;2024-03-13 07:…</td></tr><tr><td>6040</td><td>&quot;Torrelaguna  -…</td><td>520</td><td>5</td><td>31</td><td>1</td><td>2000</td><td>3215</td><td>&quot;444079,3042011…</td><td>&quot;4478026,603977…</td><td>2024-03-13 07:55:08</td><td>2024-03-13</td><td>&quot;2024-03-13 07:…</td></tr><tr><td>6041</td><td>&quot;Av. Ramón y Ca…</td><td>1400</td><td>4</td><td>34</td><td>1</td><td>3380</td><td>3215</td><td>&quot;443837,9341675…</td><td>&quot;4478283,278897…</td><td>2024-03-13 07:55:08</td><td>2024-03-13</td><td>&quot;2024-03-13 07:…</td></tr></tbody></table></div>"
      ],
      "text/plain": [
       "shape: (5, 13)\n",
       "┌────────┬────────────┬────────────┬───────────┬───┬───────────┬───────────┬───────────┬───────────┐\n",
       "│ idelem ┆ descripcio ┆ intensidad ┆ ocupacion ┆ … ┆ st_y      ┆ datetime  ┆ date      ┆ PK        │\n",
       "│ ---    ┆ n          ┆ ---        ┆ ---       ┆   ┆ ---       ┆ ---       ┆ ---       ┆ ---       │\n",
       "│ i64    ┆ ---        ┆ i64        ┆ i64       ┆   ┆ str       ┆ datetime[ ┆ date      ┆ str       │\n",
       "│        ┆ str        ┆            ┆           ┆   ┆           ┆ μs]       ┆           ┆           │\n",
       "╞════════╪════════════╪════════════╪═══════════╪═══╪═══════════╪═══════════╪═══════════╪═══════════╡\n",
       "│ 10112  ┆ Arturo     ┆ 740        ┆ 4         ┆ … ┆ 4478986,4 ┆ 2024-03-1 ┆ 2024-03-1 ┆ 2024-03-1 │\n",
       "│        ┆ Soria -    ┆            ┆           ┆   ┆ 7739102   ┆ 3         ┆ 3         ┆ 3 07:55:0 │\n",
       "│        ┆ Pablo      ┆            ┆           ┆   ┆           ┆ 07:55:08  ┆           ┆ 8.000000_ │\n",
       "│        ┆ Vidal -    ┆            ┆           ┆   ┆           ┆           ┆           ┆ I1011…    │\n",
       "│        ┆ Vic…       ┆            ┆           ┆   ┆           ┆           ┆           ┆           │\n",
       "│ 6038   ┆ Torrelagun ┆ 380        ┆ 2         ┆ … ┆ 4478451,4 ┆ 2024-03-1 ┆ 2024-03-1 ┆ 2024-03-1 │\n",
       "│        ┆ a  -       ┆            ┆           ┆   ┆ 5254494   ┆ 3         ┆ 3         ┆ 3 07:55:0 │\n",
       "│        ┆ Arturo Bal ┆            ┆           ┆   ┆           ┆ 07:55:08  ┆           ┆ 8.000000_ │\n",
       "│        ┆ dasano-…   ┆            ┆           ┆   ┆           ┆           ┆           ┆ I6038…    │\n",
       "│ 6039   ┆ Torrelagun ┆ 840        ┆ 6         ┆ … ┆ 4478277,3 ┆ 2024-03-1 ┆ 2024-03-1 ┆ 2024-03-1 │\n",
       "│        ┆ a  - Av.   ┆            ┆           ┆   ┆ 0226478   ┆ 3         ┆ 3         ┆ 3 07:55:0 │\n",
       "│        ┆ Ramón y    ┆            ┆           ┆   ┆           ┆ 07:55:08  ┆           ┆ 8.000000_ │\n",
       "│        ┆ Cajal…     ┆            ┆           ┆   ┆           ┆           ┆           ┆ I6039…    │\n",
       "│ 6040   ┆ Torrelagun ┆ 520        ┆ 5         ┆ … ┆ 4478026,6 ┆ 2024-03-1 ┆ 2024-03-1 ┆ 2024-03-1 │\n",
       "│        ┆ a  - Sorza ┆            ┆           ┆   ┆ 0397703   ┆ 3         ┆ 3         ┆ 3 07:55:0 │\n",
       "│        ┆ no-Acceso  ┆            ┆           ┆   ┆           ┆ 07:55:08  ┆           ┆ 8.000000_ │\n",
       "│        ┆ M3…        ┆            ┆           ┆   ┆           ┆           ┆           ┆ I6040…    │\n",
       "│ 6041   ┆ Av. Ramón  ┆ 1400       ┆ 4         ┆ … ┆ 4478283,2 ┆ 2024-03-1 ┆ 2024-03-1 ┆ 2024-03-1 │\n",
       "│        ┆ y Cajal  - ┆            ┆           ┆   ┆ 7889757   ┆ 3         ┆ 3         ┆ 3 07:55:0 │\n",
       "│        ┆ Puente     ┆            ┆           ┆   ┆           ┆ 07:55:08  ┆           ┆ 8.000000_ │\n",
       "│        ┆ M30-…      ┆            ┆           ┆   ┆           ┆           ┆           ┆ I6041…    │\n",
       "└────────┴────────────┴────────────┴───────────┴───┴───────────┴───────────┴───────────┴───────────┘"
      ]
     },
     "execution_count": 126,
     "metadata": {},
     "output_type": "execute_result"
    }
   ],
   "source": [
    "sample_data = sample_data.filter(pl.col('intensidadSat').is_not_null())\n",
    "sample_data.head().collect()"
   ]
  },
  {
   "cell_type": "markdown",
   "metadata": {},
   "source": [
    "**Variable `accesoAsociado`**"
   ]
  },
  {
   "cell_type": "code",
   "execution_count": 124,
   "metadata": {},
   "outputs": [
    {
     "data": {
      "text/html": [
       "<div><style>\n",
       ".dataframe > thead > tr,\n",
       ".dataframe > tbody > tr {\n",
       "  text-align: right;\n",
       "  white-space: pre-wrap;\n",
       "}\n",
       "</style>\n",
       "<small>shape: (5, 2)</small><table border=\"1\" class=\"dataframe\"><thead><tr><th>accesoAsociado</th><th>count</th></tr><tr><td>i64</td><td>u32</td></tr></thead><tbody><tr><td>null</td><td>70477</td></tr><tr><td>9905004</td><td>177</td></tr><tr><td>9905003</td><td>177</td></tr><tr><td>9905002</td><td>171</td></tr><tr><td>9905001</td><td>160</td></tr></tbody></table></div>"
      ],
      "text/plain": [
       "shape: (5, 2)\n",
       "┌────────────────┬───────┐\n",
       "│ accesoAsociado ┆ count │\n",
       "│ ---            ┆ ---   │\n",
       "│ i64            ┆ u32   │\n",
       "╞════════════════╪═══════╡\n",
       "│ null           ┆ 70477 │\n",
       "│ 9905004        ┆ 177   │\n",
       "│ 9905003        ┆ 177   │\n",
       "│ 9905002        ┆ 171   │\n",
       "│ 9905001        ┆ 160   │\n",
       "└────────────────┴───────┘"
      ]
     },
     "execution_count": 124,
     "metadata": {},
     "output_type": "execute_result"
    }
   ],
   "source": [
    "sample_data.group_by('accesoAsociado').count().sort('accesoAsociado',descending=True).head().collect()"
   ]
  },
  {
   "cell_type": "markdown",
   "metadata": {},
   "source": [
    "Como no tenemos información de esta variable, decidimos eliminarla ya que tampoco posee una gran correlación con el resto de variables"
   ]
  },
  {
   "cell_type": "code",
   "execution_count": 125,
   "metadata": {},
   "outputs": [],
   "source": [
    "sample_data = sample_data.drop('accesoAsociado')"
   ]
  },
  {
   "cell_type": "markdown",
   "metadata": {},
   "source": [
    "## Conclusión\n",
    "\n",
    "Para el primer experimetno terminamos con un dataset con las siguientes columnas:\n",
    "\n",
    "- `idelem`: str\n",
    "- `descripcion`: str\n",
    "- `intensidad`: int\n",
    "- `ocupacion`: int\n",
    "- `carga`: int\n",
    "- `nivelServicio`: int\n",
    "- `intensidadSat`: int\n",
    "- `subarea`: str\n",
    "- `st_x`: str\n",
    "- `st_y`: str\n",
    "- `datetime`: datetime\n",
    "- `date`: date\n",
    "- `PK`: str\n"
   ]
  }
 ],
 "metadata": {
  "kernelspec": {
   "display_name": "venv",
   "language": "python",
   "name": "python3"
  },
  "language_info": {
   "codemirror_mode": {
    "name": "ipython",
    "version": 3
   },
   "file_extension": ".py",
   "mimetype": "text/x-python",
   "name": "python",
   "nbconvert_exporter": "python",
   "pygments_lexer": "ipython3",
   "version": "3.10.12"
  },
  "orig_nbformat": 4
 },
 "nbformat": 4,
 "nbformat_minor": 2
}
