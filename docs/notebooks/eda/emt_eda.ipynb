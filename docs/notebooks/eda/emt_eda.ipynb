{
 "cells": [
  {
   "cell_type": "markdown",
   "metadata": {},
   "source": [
    "<div id=\"top\">\n",
    "<!-- <div style=\"background-image: url(https://www.emtmadrid.es/getattachment/da3be644-cb9d-44db-8011-e3f40f1c5c34); opacity: 0.2\"/> -->\n",
    "<img src=\"https://www.gmv.com/sites/default/files/content/image/2021/11/03/115/gmv_rgbredblack.png\" alt=\"GMV Logo\" style=\"width: 200px\">\n",
    "<img src=\"https://www.upm.es/sfs/Rectorado/Gabinete%20del%20Rector/Logos/UPM/CEI/LOGOTIPO%20leyenda%20color%20JPG%20p.png\" alt=\"UPM Logo\" style=\"float: right; width: 200px\">\n",
    "<h1><b>EDA: EMT dataset 🚦</b></h1>\n",
    "<h5 style=\"text-align: right\">INESDATA-MOV</h5>\n",
    "</div>\n",
    "\n",
    "\n",
    "# Análisis EDA\n",
    "\n",
    "En este cuaderno se realiza el análisis de datos exploratorio (EDA) del dataset de la [EMT](https://www.emtmadrid.es/Home). Una vez realizado el análisis de calidad se estudiará para el dataset resultante:\n",
    "\n",
    "* Valores nulos y unicidad de las variables\n",
    "* Correlaciones entre las variables\n",
    "* Correlaciones entre las variables y la variable de estudio `estimateArrive`\n",
    "\n",
    "Con ello se pretende hacer un filtrado de las variables que no dispongan de información relevante para el modelo o variables con la misma información. Por otro lado se hará un estudio de los valores nulos para, en caso de que sea pertinente, reconstruir estos datos. "
   ]
  },
  {
   "cell_type": "code",
   "execution_count": 1,
   "metadata": {},
   "outputs": [],
   "source": [
    "import os\n",
    "import statistics\n",
    "import random\n",
    "import polars as pl\n",
    "import pandas as pd\n",
    "import seaborn as sns\n",
    "import polars.selectors as cs\n",
    "import matplotlib.pyplot as plt\n",
    "from datetime import datetime, timedelta\n",
    "\n",
    "import warnings\n",
    "\n",
    "warnings.filterwarnings(\"ignore\")"
   ]
  },
  {
   "cell_type": "code",
   "execution_count": 2,
   "metadata": {},
   "outputs": [],
   "source": [
    "ROOT_PATH = os.path.dirname(os.path.dirname(os.path.dirname(os.path.abspath(os.getcwd()))))\n",
    "DATA_PATH = os.path.join(ROOT_PATH, \"data\", \"processed\")\n",
    "EMT_DATA_PATH = os.path.join(DATA_PATH, \"emt\")\n"
   ]
  },
  {
   "cell_type": "markdown",
   "metadata": {},
   "source": [
    "## Dataset"
   ]
  },
  {
   "cell_type": "code",
   "execution_count": 3,
   "metadata": {},
   "outputs": [],
   "source": [
    "sample_data = pl.scan_csv(os.path.join(EMT_DATA_PATH, \"2024\", \"03\",\"13\", f\"emt_20240313.csv\"))"
   ]
  },
  {
   "cell_type": "code",
   "execution_count": 4,
   "metadata": {},
   "outputs": [
    {
     "data": {
      "text/html": [
       "<div><style>\n",
       ".dataframe > thead > tr,\n",
       ".dataframe > tbody > tr {\n",
       "  text-align: right;\n",
       "  white-space: pre-wrap;\n",
       "}\n",
       "</style>\n",
       "<small>shape: (1_134_462, 19)</small><table border=\"1\" class=\"dataframe\"><thead><tr><th>date</th><th>datetime</th><th>bus</th><th>line</th><th>stop</th><th>positionBusLon</th><th>positionBusLat</th><th>positionTypeBus</th><th>DistanceBus</th><th>destination</th><th>deviation</th><th>StartTime</th><th>StopTime</th><th>MinimunFrequency</th><th>MaximumFrequency</th><th>isHead</th><th>dayType</th><th>strike</th><th>estimateArrive</th></tr><tr><td>str</td><td>str</td><td>i64</td><td>str</td><td>i64</td><td>f64</td><td>f64</td><td>i64</td><td>i64</td><td>str</td><td>i64</td><td>str</td><td>str</td><td>i64</td><td>i64</td><td>bool</td><td>str</td><td>str</td><td>i64</td></tr></thead><tbody><tr><td>&quot;2024-03-13&quot;</td><td>&quot;2024-03-13 08:…</td><td>513</td><td>&quot;27&quot;</td><td>56</td><td>-3.690542</td><td>40.423739</td><td>0</td><td>1841</td><td>&quot;PLAZA CASTILLA…</td><td>0</td><td>&quot;05:55&quot;</td><td>&quot;23:30&quot;</td><td>3</td><td>12</td><td>false</td><td>&quot;LA&quot;</td><td>&quot;N&quot;</td><td>473</td></tr><tr><td>&quot;2024-03-13&quot;</td><td>&quot;2024-03-13 08:…</td><td>521</td><td>&quot;27&quot;</td><td>56</td><td>-3.689019</td><td>40.429011</td><td>0</td><td>1221</td><td>&quot;PLAZA CASTILLA…</td><td>0</td><td>&quot;05:55&quot;</td><td>&quot;23:30&quot;</td><td>3</td><td>12</td><td>false</td><td>&quot;LA&quot;</td><td>&quot;N&quot;</td><td>313</td></tr><tr><td>&quot;2024-03-13&quot;</td><td>&quot;2024-03-13 08:…</td><td>2549</td><td>&quot;150&quot;</td><td>56</td><td>-3.691608</td><td>40.421366</td><td>0</td><td>2081</td><td>&quot;VIRGEN CORTIJO…</td><td>0</td><td>null</td><td>null</td><td>null</td><td>null</td><td>false</td><td>null</td><td>null</td><td>547</td></tr><tr><td>&quot;2024-03-13&quot;</td><td>&quot;2024-03-13 08:…</td><td>2561</td><td>&quot;150&quot;</td><td>56</td><td>-3.698411</td><td>40.418013</td><td>0</td><td>2779</td><td>&quot;VIRGEN CORTIJO…</td><td>0</td><td>null</td><td>null</td><td>null</td><td>null</td><td>false</td><td>null</td><td>null</td><td>1080</td></tr><tr><td>&quot;2024-03-13&quot;</td><td>&quot;2024-03-13 08:…</td><td>5571</td><td>&quot;14&quot;</td><td>56</td><td>-3.687918</td><td>40.43285</td><td>0</td><td>679</td><td>&quot;PIO XII&quot;</td><td>0</td><td>null</td><td>null</td><td>null</td><td>null</td><td>false</td><td>null</td><td>null</td><td>197</td></tr><tr><td>&hellip;</td><td>&hellip;</td><td>&hellip;</td><td>&hellip;</td><td>&hellip;</td><td>&hellip;</td><td>&hellip;</td><td>&hellip;</td><td>&hellip;</td><td>&hellip;</td><td>&hellip;</td><td>&hellip;</td><td>&hellip;</td><td>&hellip;</td><td>&hellip;</td><td>&hellip;</td><td>&hellip;</td><td>&hellip;</td><td>&hellip;</td></tr><tr><td>&quot;2024-03-13&quot;</td><td>&quot;2024-03-13 22:…</td><td>2141</td><td>&quot;174&quot;</td><td>51023</td><td>-3.667048</td><td>40.489136</td><td>0</td><td>8114</td><td>&quot;VALDEBEBAS&quot;</td><td>0</td><td>&quot;06:00&quot;</td><td>&quot;23:45&quot;</td><td>7</td><td>22</td><td>false</td><td>&quot;LA&quot;</td><td>&quot;N&quot;</td><td>1225</td></tr><tr><td>&quot;2024-03-13&quot;</td><td>&quot;2024-03-13 22:…</td><td>8810</td><td>&quot;171&quot;</td><td>51023</td><td>0.0</td><td>0.0</td><td>0</td><td>13290</td><td>&quot;VALDEBEBAS&quot;</td><td>0</td><td>null</td><td>null</td><td>null</td><td>null</td><td>false</td><td>null</td><td>null</td><td>2163</td></tr><tr><td>&quot;2024-03-13&quot;</td><td>&quot;2024-03-13 22:…</td><td>8829</td><td>&quot;171&quot;</td><td>51023</td><td>0.0</td><td>0.0</td><td>0</td><td>2088</td><td>&quot;VALDEBEBAS&quot;</td><td>0</td><td>null</td><td>null</td><td>null</td><td>null</td><td>false</td><td>null</td><td>null</td><td>396</td></tr><tr><td>&quot;2024-03-13&quot;</td><td>&quot;2024-03-13 22:…</td><td>2290</td><td>&quot;174&quot;</td><td>3256</td><td>-3.623092</td><td>40.48233</td><td>0</td><td>13847</td><td>&quot;VALDEBEBAS&quot;</td><td>0</td><td>&quot;06:00&quot;</td><td>&quot;23:45&quot;</td><td>7</td><td>22</td><td>false</td><td>&quot;LA&quot;</td><td>&quot;N&quot;</td><td>1960</td></tr><tr><td>&quot;2024-03-13&quot;</td><td>&quot;2024-03-13 22:…</td><td>8879</td><td>&quot;174&quot;</td><td>3256</td><td>-3.676137</td><td>40.46962</td><td>0</td><td>4891</td><td>&quot;VALDEBEBAS&quot;</td><td>0</td><td>&quot;06:00&quot;</td><td>&quot;23:45&quot;</td><td>7</td><td>22</td><td>false</td><td>&quot;LA&quot;</td><td>&quot;N&quot;</td><td>746</td></tr></tbody></table></div>"
      ],
      "text/plain": [
       "shape: (1_134_462, 19)\n",
       "┌────────────┬─────────────────┬──────┬──────┬───┬────────┬─────────┬────────┬────────────────┐\n",
       "│ date       ┆ datetime        ┆ bus  ┆ line ┆ … ┆ isHead ┆ dayType ┆ strike ┆ estimateArrive │\n",
       "│ ---        ┆ ---             ┆ ---  ┆ ---  ┆   ┆ ---    ┆ ---     ┆ ---    ┆ ---            │\n",
       "│ str        ┆ str             ┆ i64  ┆ str  ┆   ┆ bool   ┆ str     ┆ str    ┆ i64            │\n",
       "╞════════════╪═════════════════╪══════╪══════╪═══╪════════╪═════════╪════════╪════════════════╡\n",
       "│ 2024-03-13 ┆ 2024-03-13      ┆ 513  ┆ 27   ┆ … ┆ false  ┆ LA      ┆ N      ┆ 473            │\n",
       "│            ┆ 08:00:01.765317 ┆      ┆      ┆   ┆        ┆         ┆        ┆                │\n",
       "│ 2024-03-13 ┆ 2024-03-13      ┆ 521  ┆ 27   ┆ … ┆ false  ┆ LA      ┆ N      ┆ 313            │\n",
       "│            ┆ 08:00:01.765317 ┆      ┆      ┆   ┆        ┆         ┆        ┆                │\n",
       "│ 2024-03-13 ┆ 2024-03-13      ┆ 2549 ┆ 150  ┆ … ┆ false  ┆ null    ┆ null   ┆ 547            │\n",
       "│            ┆ 08:00:01.765317 ┆      ┆      ┆   ┆        ┆         ┆        ┆                │\n",
       "│ 2024-03-13 ┆ 2024-03-13      ┆ 2561 ┆ 150  ┆ … ┆ false  ┆ null    ┆ null   ┆ 1080           │\n",
       "│            ┆ 08:00:01.765317 ┆      ┆      ┆   ┆        ┆         ┆        ┆                │\n",
       "│ 2024-03-13 ┆ 2024-03-13      ┆ 5571 ┆ 14   ┆ … ┆ false  ┆ null    ┆ null   ┆ 197            │\n",
       "│            ┆ 08:00:01.765317 ┆      ┆      ┆   ┆        ┆         ┆        ┆                │\n",
       "│ …          ┆ …               ┆ …    ┆ …    ┆ … ┆ …      ┆ …       ┆ …      ┆ …              │\n",
       "│ 2024-03-13 ┆ 2024-03-13      ┆ 2141 ┆ 174  ┆ … ┆ false  ┆ LA      ┆ N      ┆ 1225           │\n",
       "│            ┆ 22:59:07.770061 ┆      ┆      ┆   ┆        ┆         ┆        ┆                │\n",
       "│ 2024-03-13 ┆ 2024-03-13      ┆ 8810 ┆ 171  ┆ … ┆ false  ┆ null    ┆ null   ┆ 2163           │\n",
       "│            ┆ 22:59:07.770061 ┆      ┆      ┆   ┆        ┆         ┆        ┆                │\n",
       "│ 2024-03-13 ┆ 2024-03-13      ┆ 8829 ┆ 171  ┆ … ┆ false  ┆ null    ┆ null   ┆ 396            │\n",
       "│            ┆ 22:59:07.770061 ┆      ┆      ┆   ┆        ┆         ┆        ┆                │\n",
       "│ 2024-03-13 ┆ 2024-03-13      ┆ 2290 ┆ 174  ┆ … ┆ false  ┆ LA      ┆ N      ┆ 1960           │\n",
       "│            ┆ 22:59:36.378432 ┆      ┆      ┆   ┆        ┆         ┆        ┆                │\n",
       "│ 2024-03-13 ┆ 2024-03-13      ┆ 8879 ┆ 174  ┆ … ┆ false  ┆ LA      ┆ N      ┆ 746            │\n",
       "│            ┆ 22:59:36.378432 ┆      ┆      ┆   ┆        ┆         ┆        ┆                │\n",
       "└────────────┴─────────────────┴──────┴──────┴───┴────────┴─────────┴────────┴────────────────┘"
      ]
     },
     "execution_count": 4,
     "metadata": {},
     "output_type": "execute_result"
    }
   ],
   "source": [
    "sample_data.collect()"
   ]
  },
  {
   "cell_type": "markdown",
   "metadata": {},
   "source": [
    "### Variables numéricas"
   ]
  },
  {
   "cell_type": "code",
   "execution_count": 5,
   "metadata": {},
   "outputs": [
    {
     "data": {
      "text/html": [
       "<div><style>\n",
       ".dataframe > thead > tr,\n",
       ".dataframe > tbody > tr {\n",
       "  text-align: right;\n",
       "  white-space: pre-wrap;\n",
       "}\n",
       "</style>\n",
       "<small>shape: (5, 10)</small><table border=\"1\" class=\"dataframe\"><thead><tr><th>bus</th><th>stop</th><th>positionBusLon</th><th>positionBusLat</th><th>positionTypeBus</th><th>DistanceBus</th><th>deviation</th><th>MinimunFrequency</th><th>MaximumFrequency</th><th>estimateArrive</th></tr><tr><td>i64</td><td>i64</td><td>f64</td><td>f64</td><td>i64</td><td>i64</td><td>i64</td><td>i64</td><td>i64</td><td>i64</td></tr></thead><tbody><tr><td>513</td><td>56</td><td>-3.690542</td><td>40.423739</td><td>0</td><td>1841</td><td>0</td><td>3</td><td>12</td><td>473</td></tr><tr><td>521</td><td>56</td><td>-3.689019</td><td>40.429011</td><td>0</td><td>1221</td><td>0</td><td>3</td><td>12</td><td>313</td></tr><tr><td>2549</td><td>56</td><td>-3.691608</td><td>40.421366</td><td>0</td><td>2081</td><td>0</td><td>null</td><td>null</td><td>547</td></tr><tr><td>2561</td><td>56</td><td>-3.698411</td><td>40.418013</td><td>0</td><td>2779</td><td>0</td><td>null</td><td>null</td><td>1080</td></tr><tr><td>5571</td><td>56</td><td>-3.687918</td><td>40.43285</td><td>0</td><td>679</td><td>0</td><td>null</td><td>null</td><td>197</td></tr></tbody></table></div>"
      ],
      "text/plain": [
       "shape: (5, 10)\n",
       "┌──────┬──────┬─────────────┬─────────────┬───┬───────────┬─────────────┬─────────────┬────────────┐\n",
       "│ bus  ┆ stop ┆ positionBus ┆ positionBus ┆ … ┆ deviation ┆ MinimunFreq ┆ MaximumFreq ┆ estimateAr │\n",
       "│ ---  ┆ ---  ┆ Lon         ┆ Lat         ┆   ┆ ---       ┆ uency       ┆ uency       ┆ rive       │\n",
       "│ i64  ┆ i64  ┆ ---         ┆ ---         ┆   ┆ i64       ┆ ---         ┆ ---         ┆ ---        │\n",
       "│      ┆      ┆ f64         ┆ f64         ┆   ┆           ┆ i64         ┆ i64         ┆ i64        │\n",
       "╞══════╪══════╪═════════════╪═════════════╪═══╪═══════════╪═════════════╪═════════════╪════════════╡\n",
       "│ 513  ┆ 56   ┆ -3.690542   ┆ 40.423739   ┆ … ┆ 0         ┆ 3           ┆ 12          ┆ 473        │\n",
       "│ 521  ┆ 56   ┆ -3.689019   ┆ 40.429011   ┆ … ┆ 0         ┆ 3           ┆ 12          ┆ 313        │\n",
       "│ 2549 ┆ 56   ┆ -3.691608   ┆ 40.421366   ┆ … ┆ 0         ┆ null        ┆ null        ┆ 547        │\n",
       "│ 2561 ┆ 56   ┆ -3.698411   ┆ 40.418013   ┆ … ┆ 0         ┆ null        ┆ null        ┆ 1080       │\n",
       "│ 5571 ┆ 56   ┆ -3.687918   ┆ 40.43285    ┆ … ┆ 0         ┆ null        ┆ null        ┆ 197        │\n",
       "└──────┴──────┴─────────────┴─────────────┴───┴───────────┴─────────────┴─────────────┴────────────┘"
      ]
     },
     "execution_count": 5,
     "metadata": {},
     "output_type": "execute_result"
    }
   ],
   "source": [
    "sample_data.select(cs.numeric()).head().collect()"
   ]
  },
  {
   "cell_type": "markdown",
   "metadata": {},
   "source": [
    "### Variables categóricas"
   ]
  },
  {
   "cell_type": "code",
   "execution_count": 6,
   "metadata": {},
   "outputs": [
    {
     "data": {
      "text/html": [
       "<div><style>\n",
       ".dataframe > thead > tr,\n",
       ".dataframe > tbody > tr {\n",
       "  text-align: right;\n",
       "  white-space: pre-wrap;\n",
       "}\n",
       "</style>\n",
       "<small>shape: (5, 8)</small><table border=\"1\" class=\"dataframe\"><thead><tr><th>date</th><th>datetime</th><th>line</th><th>destination</th><th>StartTime</th><th>StopTime</th><th>dayType</th><th>strike</th></tr><tr><td>str</td><td>str</td><td>str</td><td>str</td><td>str</td><td>str</td><td>str</td><td>str</td></tr></thead><tbody><tr><td>&quot;2024-03-13&quot;</td><td>&quot;2024-03-13 08:…</td><td>&quot;27&quot;</td><td>&quot;PLAZA CASTILLA…</td><td>&quot;05:55&quot;</td><td>&quot;23:30&quot;</td><td>&quot;LA&quot;</td><td>&quot;N&quot;</td></tr><tr><td>&quot;2024-03-13&quot;</td><td>&quot;2024-03-13 08:…</td><td>&quot;27&quot;</td><td>&quot;PLAZA CASTILLA…</td><td>&quot;05:55&quot;</td><td>&quot;23:30&quot;</td><td>&quot;LA&quot;</td><td>&quot;N&quot;</td></tr><tr><td>&quot;2024-03-13&quot;</td><td>&quot;2024-03-13 08:…</td><td>&quot;150&quot;</td><td>&quot;VIRGEN CORTIJO…</td><td>null</td><td>null</td><td>null</td><td>null</td></tr><tr><td>&quot;2024-03-13&quot;</td><td>&quot;2024-03-13 08:…</td><td>&quot;150&quot;</td><td>&quot;VIRGEN CORTIJO…</td><td>null</td><td>null</td><td>null</td><td>null</td></tr><tr><td>&quot;2024-03-13&quot;</td><td>&quot;2024-03-13 08:…</td><td>&quot;14&quot;</td><td>&quot;PIO XII&quot;</td><td>null</td><td>null</td><td>null</td><td>null</td></tr></tbody></table></div>"
      ],
      "text/plain": [
       "shape: (5, 8)\n",
       "┌────────────┬───────────────────┬──────┬────────────────┬───────────┬──────────┬─────────┬────────┐\n",
       "│ date       ┆ datetime          ┆ line ┆ destination    ┆ StartTime ┆ StopTime ┆ dayType ┆ strike │\n",
       "│ ---        ┆ ---               ┆ ---  ┆ ---            ┆ ---       ┆ ---      ┆ ---     ┆ ---    │\n",
       "│ str        ┆ str               ┆ str  ┆ str            ┆ str       ┆ str      ┆ str     ┆ str    │\n",
       "╞════════════╪═══════════════════╪══════╪════════════════╪═══════════╪══════════╪═════════╪════════╡\n",
       "│ 2024-03-13 ┆ 2024-03-13        ┆ 27   ┆ PLAZA CASTILLA ┆ 05:55     ┆ 23:30    ┆ LA      ┆ N      │\n",
       "│            ┆ 08:00:01.765317   ┆      ┆                ┆           ┆          ┆         ┆        │\n",
       "│ 2024-03-13 ┆ 2024-03-13        ┆ 27   ┆ PLAZA CASTILLA ┆ 05:55     ┆ 23:30    ┆ LA      ┆ N      │\n",
       "│            ┆ 08:00:01.765317   ┆      ┆                ┆           ┆          ┆         ┆        │\n",
       "│ 2024-03-13 ┆ 2024-03-13        ┆ 150  ┆ VIRGEN CORTIJO ┆ null      ┆ null     ┆ null    ┆ null   │\n",
       "│            ┆ 08:00:01.765317   ┆      ┆                ┆           ┆          ┆         ┆        │\n",
       "│ 2024-03-13 ┆ 2024-03-13        ┆ 150  ┆ VIRGEN CORTIJO ┆ null      ┆ null     ┆ null    ┆ null   │\n",
       "│            ┆ 08:00:01.765317   ┆      ┆                ┆           ┆          ┆         ┆        │\n",
       "│ 2024-03-13 ┆ 2024-03-13        ┆ 14   ┆ PIO XII        ┆ null      ┆ null     ┆ null    ┆ null   │\n",
       "│            ┆ 08:00:01.765317   ┆      ┆                ┆           ┆          ┆         ┆        │\n",
       "└────────────┴───────────────────┴──────┴────────────────┴───────────┴──────────┴─────────┴────────┘"
      ]
     },
     "execution_count": 6,
     "metadata": {},
     "output_type": "execute_result"
    }
   ],
   "source": [
    "sample_data.select(cs.string()).head().collect()"
   ]
  },
  {
   "cell_type": "markdown",
   "metadata": {},
   "source": [
    "## Preprocesamiento previo \n",
    "### Creamos la PK"
   ]
  },
  {
   "cell_type": "code",
   "execution_count": 7,
   "metadata": {},
   "outputs": [
    {
     "data": {
      "text/html": [
       "<div><style>\n",
       ".dataframe > thead > tr,\n",
       ".dataframe > tbody > tr {\n",
       "  text-align: right;\n",
       "  white-space: pre-wrap;\n",
       "}\n",
       "</style>\n",
       "<small>shape: (5, 20)</small><table border=\"1\" class=\"dataframe\"><thead><tr><th>date</th><th>datetime</th><th>bus</th><th>line</th><th>stop</th><th>positionBusLon</th><th>positionBusLat</th><th>positionTypeBus</th><th>DistanceBus</th><th>destination</th><th>deviation</th><th>StartTime</th><th>StopTime</th><th>MinimunFrequency</th><th>MaximumFrequency</th><th>isHead</th><th>dayType</th><th>strike</th><th>estimateArrive</th><th>PK</th></tr><tr><td>str</td><td>str</td><td>i64</td><td>str</td><td>i64</td><td>f64</td><td>f64</td><td>i64</td><td>i64</td><td>str</td><td>i64</td><td>str</td><td>str</td><td>i64</td><td>i64</td><td>bool</td><td>str</td><td>str</td><td>i64</td><td>str</td></tr></thead><tbody><tr><td>&quot;2024-03-13&quot;</td><td>&quot;2024-03-13 08:…</td><td>513</td><td>&quot;27&quot;</td><td>56</td><td>-3.690542</td><td>40.423739</td><td>0</td><td>1841</td><td>&quot;PLAZA CASTILLA…</td><td>0</td><td>&quot;05:55&quot;</td><td>&quot;23:30&quot;</td><td>3</td><td>12</td><td>false</td><td>&quot;LA&quot;</td><td>&quot;N&quot;</td><td>473</td><td>&quot;2024-03-13 08:…</td></tr><tr><td>&quot;2024-03-13&quot;</td><td>&quot;2024-03-13 08:…</td><td>521</td><td>&quot;27&quot;</td><td>56</td><td>-3.689019</td><td>40.429011</td><td>0</td><td>1221</td><td>&quot;PLAZA CASTILLA…</td><td>0</td><td>&quot;05:55&quot;</td><td>&quot;23:30&quot;</td><td>3</td><td>12</td><td>false</td><td>&quot;LA&quot;</td><td>&quot;N&quot;</td><td>313</td><td>&quot;2024-03-13 08:…</td></tr><tr><td>&quot;2024-03-13&quot;</td><td>&quot;2024-03-13 08:…</td><td>2549</td><td>&quot;150&quot;</td><td>56</td><td>-3.691608</td><td>40.421366</td><td>0</td><td>2081</td><td>&quot;VIRGEN CORTIJO…</td><td>0</td><td>null</td><td>null</td><td>null</td><td>null</td><td>false</td><td>null</td><td>null</td><td>547</td><td>&quot;2024-03-13 08:…</td></tr><tr><td>&quot;2024-03-13&quot;</td><td>&quot;2024-03-13 08:…</td><td>2561</td><td>&quot;150&quot;</td><td>56</td><td>-3.698411</td><td>40.418013</td><td>0</td><td>2779</td><td>&quot;VIRGEN CORTIJO…</td><td>0</td><td>null</td><td>null</td><td>null</td><td>null</td><td>false</td><td>null</td><td>null</td><td>1080</td><td>&quot;2024-03-13 08:…</td></tr><tr><td>&quot;2024-03-13&quot;</td><td>&quot;2024-03-13 08:…</td><td>5571</td><td>&quot;14&quot;</td><td>56</td><td>-3.687918</td><td>40.43285</td><td>0</td><td>679</td><td>&quot;PIO XII&quot;</td><td>0</td><td>null</td><td>null</td><td>null</td><td>null</td><td>false</td><td>null</td><td>null</td><td>197</td><td>&quot;2024-03-13 08:…</td></tr></tbody></table></div>"
      ],
      "text/plain": [
       "shape: (5, 20)\n",
       "┌────────────┬────────────────┬──────┬──────┬───┬─────────┬────────┬───────────────┬───────────────┐\n",
       "│ date       ┆ datetime       ┆ bus  ┆ line ┆ … ┆ dayType ┆ strike ┆ estimateArriv ┆ PK            │\n",
       "│ ---        ┆ ---            ┆ ---  ┆ ---  ┆   ┆ ---     ┆ ---    ┆ e             ┆ ---           │\n",
       "│ str        ┆ str            ┆ i64  ┆ str  ┆   ┆ str     ┆ str    ┆ ---           ┆ str           │\n",
       "│            ┆                ┆      ┆      ┆   ┆         ┆        ┆ i64           ┆               │\n",
       "╞════════════╪════════════════╪══════╪══════╪═══╪═════════╪════════╪═══════════════╪═══════════════╡\n",
       "│ 2024-03-13 ┆ 2024-03-13 08: ┆ 513  ┆ 27   ┆ … ┆ LA      ┆ N      ┆ 473           ┆ 2024-03-13    │\n",
       "│            ┆ 00:01.765317   ┆      ┆      ┆   ┆         ┆        ┆               ┆ 08:00:01.7653 │\n",
       "│            ┆                ┆      ┆      ┆   ┆         ┆        ┆               ┆ 17_B513_…     │\n",
       "│ 2024-03-13 ┆ 2024-03-13 08: ┆ 521  ┆ 27   ┆ … ┆ LA      ┆ N      ┆ 313           ┆ 2024-03-13    │\n",
       "│            ┆ 00:01.765317   ┆      ┆      ┆   ┆         ┆        ┆               ┆ 08:00:01.7653 │\n",
       "│            ┆                ┆      ┆      ┆   ┆         ┆        ┆               ┆ 17_B521_…     │\n",
       "│ 2024-03-13 ┆ 2024-03-13 08: ┆ 2549 ┆ 150  ┆ … ┆ null    ┆ null   ┆ 547           ┆ 2024-03-13    │\n",
       "│            ┆ 00:01.765317   ┆      ┆      ┆   ┆         ┆        ┆               ┆ 08:00:01.7653 │\n",
       "│            ┆                ┆      ┆      ┆   ┆         ┆        ┆               ┆ 17_B2549…     │\n",
       "│ 2024-03-13 ┆ 2024-03-13 08: ┆ 2561 ┆ 150  ┆ … ┆ null    ┆ null   ┆ 1080          ┆ 2024-03-13    │\n",
       "│            ┆ 00:01.765317   ┆      ┆      ┆   ┆         ┆        ┆               ┆ 08:00:01.7653 │\n",
       "│            ┆                ┆      ┆      ┆   ┆         ┆        ┆               ┆ 17_B2561…     │\n",
       "│ 2024-03-13 ┆ 2024-03-13 08: ┆ 5571 ┆ 14   ┆ … ┆ null    ┆ null   ┆ 197           ┆ 2024-03-13    │\n",
       "│            ┆ 00:01.765317   ┆      ┆      ┆   ┆         ┆        ┆               ┆ 08:00:01.7653 │\n",
       "│            ┆                ┆      ┆      ┆   ┆         ┆        ┆               ┆ 17_B5571…     │\n",
       "└────────────┴────────────────┴──────┴──────┴───┴─────────┴────────┴───────────────┴───────────────┘"
      ]
     },
     "execution_count": 7,
     "metadata": {},
     "output_type": "execute_result"
    }
   ],
   "source": [
    "sample_data = sample_data.with_columns((pl.col('datetime').cast(pl.String)+\"_B\"+pl.col('bus').cast(pl.String)+\"_L\"+ pl.col('line').cast(pl.String)+\"_S\"+pl.col('stop').cast(pl.String)).alias('PK'))\n",
    "sample_data.head().collect()"
   ]
  },
  {
   "cell_type": "markdown",
   "metadata": {},
   "source": [
    "**PK no única**"
   ]
  },
  {
   "cell_type": "code",
   "execution_count": 8,
   "metadata": {},
   "outputs": [
    {
     "data": {
      "text/html": [
       "<div><style>\n",
       ".dataframe > thead > tr,\n",
       ".dataframe > tbody > tr {\n",
       "  text-align: right;\n",
       "  white-space: pre-wrap;\n",
       "}\n",
       "</style>\n",
       "<small>shape: (5, 2)</small><table border=\"1\" class=\"dataframe\"><thead><tr><th>PK</th><th>count</th></tr><tr><td>str</td><td>u32</td></tr></thead><tbody><tr><td>&quot;2024-03-13 22:…</td><td>2</td></tr><tr><td>&quot;2024-03-13 22:…</td><td>2</td></tr><tr><td>&quot;2024-03-13 22:…</td><td>2</td></tr><tr><td>&quot;2024-03-13 22:…</td><td>2</td></tr><tr><td>&quot;2024-03-13 22:…</td><td>2</td></tr></tbody></table></div>"
      ],
      "text/plain": [
       "shape: (5, 2)\n",
       "┌───────────────────────────────────┬───────┐\n",
       "│ PK                                ┆ count │\n",
       "│ ---                               ┆ ---   │\n",
       "│ str                               ┆ u32   │\n",
       "╞═══════════════════════════════════╪═══════╡\n",
       "│ 2024-03-13 22:57:54.826278_B5738… ┆ 2     │\n",
       "│ 2024-03-13 22:58:02.761728_B2260… ┆ 2     │\n",
       "│ 2024-03-13 22:39:53.268162_B5738… ┆ 2     │\n",
       "│ 2024-03-13 22:53:53.748548_B5738… ┆ 2     │\n",
       "│ 2024-03-13 22:54:57.597581_B5413… ┆ 2     │\n",
       "└───────────────────────────────────┴───────┘"
      ]
     },
     "execution_count": 8,
     "metadata": {},
     "output_type": "execute_result"
    }
   ],
   "source": [
    "sample_data.group_by(pl.col('PK')).count().sort('count',descending = True).head().collect()"
   ]
  },
  {
   "cell_type": "markdown",
   "metadata": {},
   "source": [
    "### Eliminamos los valores incorrectos `estimateArrive`"
   ]
  },
  {
   "cell_type": "code",
   "execution_count": 9,
   "metadata": {},
   "outputs": [
    {
     "data": {
      "text/html": [
       "<div><style>\n",
       ".dataframe > thead > tr,\n",
       ".dataframe > tbody > tr {\n",
       "  text-align: right;\n",
       "  white-space: pre-wrap;\n",
       "}\n",
       "</style>\n",
       "<small>shape: (5, 2)</small><table border=\"1\" class=\"dataframe\"><thead><tr><th>estimateArrive</th><th>count</th></tr><tr><td>i64</td><td>u32</td></tr></thead><tbody><tr><td>999999</td><td>2558</td></tr><tr><td>888888</td><td>753</td></tr><tr><td>5389</td><td>1</td></tr><tr><td>5343</td><td>1</td></tr><tr><td>5339</td><td>1</td></tr></tbody></table></div>"
      ],
      "text/plain": [
       "shape: (5, 2)\n",
       "┌────────────────┬───────┐\n",
       "│ estimateArrive ┆ count │\n",
       "│ ---            ┆ ---   │\n",
       "│ i64            ┆ u32   │\n",
       "╞════════════════╪═══════╡\n",
       "│ 999999         ┆ 2558  │\n",
       "│ 888888         ┆ 753   │\n",
       "│ 5389           ┆ 1     │\n",
       "│ 5343           ┆ 1     │\n",
       "│ 5339           ┆ 1     │\n",
       "└────────────────┴───────┘"
      ]
     },
     "execution_count": 9,
     "metadata": {},
     "output_type": "execute_result"
    }
   ],
   "source": [
    "sample_data.group_by(pl.col('estimateArrive')).count().sort('estimateArrive',descending=True).head().collect()"
   ]
  },
  {
   "cell_type": "markdown",
   "metadata": {},
   "source": [
    "Filtramos por un ETA < 88888 ya que es un valor de tiempo erróneo"
   ]
  },
  {
   "cell_type": "code",
   "execution_count": 10,
   "metadata": {},
   "outputs": [],
   "source": [
    "sample_data = sample_data.filter(pl.col('estimateArrive')<888888)"
   ]
  },
  {
   "cell_type": "markdown",
   "metadata": {},
   "source": [
    "**Comprobamos que la PK es única**"
   ]
  },
  {
   "cell_type": "code",
   "execution_count": 11,
   "metadata": {},
   "outputs": [
    {
     "data": {
      "text/html": [
       "<div><style>\n",
       ".dataframe > thead > tr,\n",
       ".dataframe > tbody > tr {\n",
       "  text-align: right;\n",
       "  white-space: pre-wrap;\n",
       "}\n",
       "</style>\n",
       "<small>shape: (5, 2)</small><table border=\"1\" class=\"dataframe\"><thead><tr><th>PK</th><th>count</th></tr><tr><td>str</td><td>u32</td></tr></thead><tbody><tr><td>&quot;2024-03-13 22:…</td><td>2</td></tr><tr><td>&quot;2024-03-13 10:…</td><td>2</td></tr><tr><td>&quot;2024-03-13 10:…</td><td>2</td></tr><tr><td>&quot;2024-03-13 10:…</td><td>2</td></tr><tr><td>&quot;2024-03-13 10:…</td><td>2</td></tr></tbody></table></div>"
      ],
      "text/plain": [
       "shape: (5, 2)\n",
       "┌───────────────────────────────────┬───────┐\n",
       "│ PK                                ┆ count │\n",
       "│ ---                               ┆ ---   │\n",
       "│ str                               ┆ u32   │\n",
       "╞═══════════════════════════════════╪═══════╡\n",
       "│ 2024-03-13 22:56:55.785282_B2263… ┆ 2     │\n",
       "│ 2024-03-13 10:36:31.407876_B2544… ┆ 2     │\n",
       "│ 2024-03-13 10:37:05.685830_B2544… ┆ 2     │\n",
       "│ 2024-03-13 10:55:23.770393_B2539… ┆ 2     │\n",
       "│ 2024-03-13 10:35:57.665293_B2544… ┆ 2     │\n",
       "└───────────────────────────────────┴───────┘"
      ]
     },
     "execution_count": 11,
     "metadata": {},
     "output_type": "execute_result"
    }
   ],
   "source": [
    "sample_data.group_by(pl.col('PK')).count().sort('count',descending = True).head().collect()"
   ]
  },
  {
   "cell_type": "markdown",
   "metadata": {},
   "source": [
    "Sigue habiendo datos duplicados, por lo que para esos casos, cogeremos el que tenga menor ETA"
   ]
  },
  {
   "cell_type": "code",
   "execution_count": 12,
   "metadata": {},
   "outputs": [],
   "source": [
    "sample_data = sample_data.group_by('PK').min()"
   ]
  },
  {
   "cell_type": "code",
   "execution_count": 13,
   "metadata": {},
   "outputs": [
    {
     "data": {
      "text/html": [
       "<div><style>\n",
       ".dataframe > thead > tr,\n",
       ".dataframe > tbody > tr {\n",
       "  text-align: right;\n",
       "  white-space: pre-wrap;\n",
       "}\n",
       "</style>\n",
       "<small>shape: (5, 2)</small><table border=\"1\" class=\"dataframe\"><thead><tr><th>PK</th><th>count</th></tr><tr><td>str</td><td>u32</td></tr></thead><tbody><tr><td>&quot;2024-03-13 15:…</td><td>1</td></tr><tr><td>&quot;2024-03-13 17:…</td><td>1</td></tr><tr><td>&quot;2024-03-13 17:…</td><td>1</td></tr><tr><td>&quot;2024-03-13 12:…</td><td>1</td></tr><tr><td>&quot;2024-03-13 14:…</td><td>1</td></tr></tbody></table></div>"
      ],
      "text/plain": [
       "shape: (5, 2)\n",
       "┌───────────────────────────────────┬───────┐\n",
       "│ PK                                ┆ count │\n",
       "│ ---                               ┆ ---   │\n",
       "│ str                               ┆ u32   │\n",
       "╞═══════════════════════════════════╪═══════╡\n",
       "│ 2024-03-13 15:28:07.888841_B4840… ┆ 1     │\n",
       "│ 2024-03-13 17:50:57.960038_B2260… ┆ 1     │\n",
       "│ 2024-03-13 17:14:02.830113_B4965… ┆ 1     │\n",
       "│ 2024-03-13 12:19:58.867713_B8846… ┆ 1     │\n",
       "│ 2024-03-13 14:27:27.845018_B4723… ┆ 1     │\n",
       "└───────────────────────────────────┴───────┘"
      ]
     },
     "execution_count": 13,
     "metadata": {},
     "output_type": "execute_result"
    }
   ],
   "source": [
    "sample_data.group_by('PK').count().sort('count',descending=True).head().collect()"
   ]
  },
  {
   "cell_type": "markdown",
   "metadata": {},
   "source": [
    "## Matriz de confusión"
   ]
  },
  {
   "cell_type": "markdown",
   "metadata": {},
   "source": [
    "**Pasamos `datetime` a formato fecha**"
   ]
  },
  {
   "cell_type": "code",
   "execution_count": 14,
   "metadata": {},
   "outputs": [],
   "source": [
    "sample_data = sample_data.with_columns(pl.col('datetime').map_elements(lambda x: datetime.strptime(x, \"%Y-%m-%d %H:%M:%S.%f\")))"
   ]
  },
  {
   "cell_type": "markdown",
   "metadata": {},
   "source": [
    "**Pasamos `date` a formato fecha**"
   ]
  },
  {
   "cell_type": "code",
   "execution_count": 15,
   "metadata": {},
   "outputs": [],
   "source": [
    "sample_data = sample_data.with_columns(pl.col(\"date\").cast(pl.Date))"
   ]
  },
  {
   "cell_type": "markdown",
   "metadata": {},
   "source": [
    "**Pasamos la variable `isHead` a numérica**"
   ]
  },
  {
   "cell_type": "code",
   "execution_count": 16,
   "metadata": {},
   "outputs": [],
   "source": [
    "sample_data = sample_data.with_columns(pl.col('isHead').cast(pl.UInt8))"
   ]
  },
  {
   "cell_type": "code",
   "execution_count": 17,
   "metadata": {},
   "outputs": [
    {
     "data": {
      "text/html": [
       "<div><style>\n",
       ".dataframe > thead > tr,\n",
       ".dataframe > tbody > tr {\n",
       "  text-align: right;\n",
       "  white-space: pre-wrap;\n",
       "}\n",
       "</style>\n",
       "<small>shape: (5, 20)</small><table border=\"1\" class=\"dataframe\"><thead><tr><th>PK</th><th>date</th><th>datetime</th><th>bus</th><th>line</th><th>stop</th><th>positionBusLon</th><th>positionBusLat</th><th>positionTypeBus</th><th>DistanceBus</th><th>destination</th><th>deviation</th><th>StartTime</th><th>StopTime</th><th>MinimunFrequency</th><th>MaximumFrequency</th><th>isHead</th><th>dayType</th><th>strike</th><th>estimateArrive</th></tr><tr><td>str</td><td>date</td><td>datetime[μs]</td><td>i64</td><td>str</td><td>i64</td><td>f64</td><td>f64</td><td>i64</td><td>i64</td><td>str</td><td>i64</td><td>str</td><td>str</td><td>i64</td><td>i64</td><td>u8</td><td>str</td><td>str</td><td>i64</td></tr></thead><tbody><tr><td>&quot;2024-03-13 13:…</td><td>2024-03-13</td><td>2024-03-13 13:57:02.921708</td><td>5575</td><td>&quot;14&quot;</td><td>54</td><td>-3.692133</td><td>40.420172</td><td>0</td><td>2227</td><td>&quot;PIO XII&quot;</td><td>0</td><td>null</td><td>null</td><td>null</td><td>null</td><td>0</td><td>null</td><td>null</td><td>844</td></tr><tr><td>&quot;2024-03-13 21:…</td><td>2024-03-13</td><td>2024-03-13 21:53:03.331814</td><td>5667</td><td>&quot;40&quot;</td><td>52</td><td>-3.697028</td><td>40.432398</td><td>0</td><td>4060</td><td>&quot;ALFONSO XIII&quot;</td><td>0</td><td>null</td><td>null</td><td>null</td><td>null</td><td>0</td><td>null</td><td>null</td><td>1406</td></tr><tr><td>&quot;2024-03-13 13:…</td><td>2024-03-13</td><td>2024-03-13 13:41:03.386037</td><td>4793</td><td>&quot;45&quot;</td><td>72</td><td>-3.694743</td><td>40.392751</td><td>0</td><td>2869</td><td>&quot;REINA VICTORIA…</td><td>0</td><td>null</td><td>null</td><td>null</td><td>null</td><td>0</td><td>null</td><td>null</td><td>1085</td></tr><tr><td>&quot;2024-03-13 13:…</td><td>2024-03-13</td><td>2024-03-13 13:56:54.781069</td><td>521</td><td>&quot;27&quot;</td><td>54</td><td>-3.689548</td><td>40.43714</td><td>0</td><td>612</td><td>&quot;PLAZA CASTILLA…</td><td>0</td><td>&quot;05:55&quot;</td><td>&quot;23:30&quot;</td><td>3</td><td>12</td><td>0</td><td>&quot;LA&quot;</td><td>&quot;N&quot;</td><td>194</td></tr><tr><td>&quot;2024-03-13 18:…</td><td>2024-03-13</td><td>2024-03-13 18:24:05.996058</td><td>2468</td><td>&quot;134&quot;</td><td>4968</td><td>-3.713937</td><td>40.483179</td><td>0</td><td>1207</td><td>&quot;MONTECARMELO&quot;</td><td>0</td><td>&quot;06:25&quot;</td><td>&quot;23:45&quot;</td><td>9</td><td>26</td><td>0</td><td>&quot;LA&quot;</td><td>&quot;N&quot;</td><td>283</td></tr></tbody></table></div>"
      ],
      "text/plain": [
       "shape: (5, 20)\n",
       "┌───────────────┬────────────┬───────────────┬──────┬───┬────────┬─────────┬────────┬──────────────┐\n",
       "│ PK            ┆ date       ┆ datetime      ┆ bus  ┆ … ┆ isHead ┆ dayType ┆ strike ┆ estimateArri │\n",
       "│ ---           ┆ ---        ┆ ---           ┆ ---  ┆   ┆ ---    ┆ ---     ┆ ---    ┆ ve           │\n",
       "│ str           ┆ date       ┆ datetime[μs]  ┆ i64  ┆   ┆ u8     ┆ str     ┆ str    ┆ ---          │\n",
       "│               ┆            ┆               ┆      ┆   ┆        ┆         ┆        ┆ i64          │\n",
       "╞═══════════════╪════════════╪═══════════════╪══════╪═══╪════════╪═════════╪════════╪══════════════╡\n",
       "│ 2024-03-13    ┆ 2024-03-13 ┆ 2024-03-13    ┆ 5575 ┆ … ┆ 0      ┆ null    ┆ null   ┆ 844          │\n",
       "│ 13:57:02.9217 ┆            ┆ 13:57:02.9217 ┆      ┆   ┆        ┆         ┆        ┆              │\n",
       "│ 08_B5575…     ┆            ┆ 08            ┆      ┆   ┆        ┆         ┆        ┆              │\n",
       "│ 2024-03-13    ┆ 2024-03-13 ┆ 2024-03-13    ┆ 5667 ┆ … ┆ 0      ┆ null    ┆ null   ┆ 1406         │\n",
       "│ 21:53:03.3318 ┆            ┆ 21:53:03.3318 ┆      ┆   ┆        ┆         ┆        ┆              │\n",
       "│ 14_B5667…     ┆            ┆ 14            ┆      ┆   ┆        ┆         ┆        ┆              │\n",
       "│ 2024-03-13    ┆ 2024-03-13 ┆ 2024-03-13    ┆ 4793 ┆ … ┆ 0      ┆ null    ┆ null   ┆ 1085         │\n",
       "│ 13:41:03.3860 ┆            ┆ 13:41:03.3860 ┆      ┆   ┆        ┆         ┆        ┆              │\n",
       "│ 37_B4793…     ┆            ┆ 37            ┆      ┆   ┆        ┆         ┆        ┆              │\n",
       "│ 2024-03-13    ┆ 2024-03-13 ┆ 2024-03-13    ┆ 521  ┆ … ┆ 0      ┆ LA      ┆ N      ┆ 194          │\n",
       "│ 13:56:54.7810 ┆            ┆ 13:56:54.7810 ┆      ┆   ┆        ┆         ┆        ┆              │\n",
       "│ 69_B521_…     ┆            ┆ 69            ┆      ┆   ┆        ┆         ┆        ┆              │\n",
       "│ 2024-03-13    ┆ 2024-03-13 ┆ 2024-03-13    ┆ 2468 ┆ … ┆ 0      ┆ LA      ┆ N      ┆ 283          │\n",
       "│ 18:24:05.9960 ┆            ┆ 18:24:05.9960 ┆      ┆   ┆        ┆         ┆        ┆              │\n",
       "│ 58_B2468…     ┆            ┆ 58            ┆      ┆   ┆        ┆         ┆        ┆              │\n",
       "└───────────────┴────────────┴───────────────┴──────┴───┴────────┴─────────┴────────┴──────────────┘"
      ]
     },
     "execution_count": 17,
     "metadata": {},
     "output_type": "execute_result"
    }
   ],
   "source": [
    "sample_data.head().collect()"
   ]
  },
  {
   "cell_type": "code",
   "execution_count": 18,
   "metadata": {},
   "outputs": [],
   "source": [
    "numeric_var = ['bus', 'line','stop',\n",
    " 'positionBusLon',\n",
    " 'positionBusLat',\n",
    " 'DistanceBus',\n",
    " 'deviation',\n",
    " 'MinimunFrequency',\n",
    " 'MaximumFrequency',\n",
    " 'isHead',\n",
    " 'estimateArrive',]"
   ]
  },
  {
   "cell_type": "code",
   "execution_count": 19,
   "metadata": {},
   "outputs": [],
   "source": [
    "sample_data_df = sample_data.collect()"
   ]
  },
  {
   "cell_type": "code",
   "execution_count": 20,
   "metadata": {},
   "outputs": [],
   "source": [
    "matrix = [[0] * len(numeric_var) for _ in range(len(numeric_var))]\n",
    "for i in range(0,len(numeric_var)):\n",
    "    for j in range(0,len(numeric_var)):\n",
    "        matrix[i][j] = sample_data_df.select(pl.corr(numeric_var[i],numeric_var[j])).item()"
   ]
  },
  {
   "cell_type": "code",
   "execution_count": 21,
   "metadata": {},
   "outputs": [],
   "source": [
    "matrix_corr = pd.DataFrame(matrix, columns=numeric_var,index=numeric_var).apply(lambda col: col.round(2))"
   ]
  },
  {
   "cell_type": "code",
   "execution_count": 22,
   "metadata": {},
   "outputs": [
    {
     "data": {
      "text/html": [
       "<div>\n",
       "<style scoped>\n",
       "    .dataframe tbody tr th:only-of-type {\n",
       "        vertical-align: middle;\n",
       "    }\n",
       "\n",
       "    .dataframe tbody tr th {\n",
       "        vertical-align: top;\n",
       "    }\n",
       "\n",
       "    .dataframe thead th {\n",
       "        text-align: right;\n",
       "    }\n",
       "</style>\n",
       "<table border=\"1\" class=\"dataframe\">\n",
       "  <thead>\n",
       "    <tr style=\"text-align: right;\">\n",
       "      <th></th>\n",
       "      <th>bus</th>\n",
       "      <th>line</th>\n",
       "      <th>stop</th>\n",
       "      <th>positionBusLon</th>\n",
       "      <th>positionBusLat</th>\n",
       "      <th>DistanceBus</th>\n",
       "      <th>deviation</th>\n",
       "      <th>MinimunFrequency</th>\n",
       "      <th>MaximumFrequency</th>\n",
       "      <th>isHead</th>\n",
       "      <th>estimateArrive</th>\n",
       "    </tr>\n",
       "  </thead>\n",
       "  <tbody>\n",
       "    <tr>\n",
       "      <th>bus</th>\n",
       "      <td>1.00</td>\n",
       "      <td>0.04</td>\n",
       "      <td>0.11</td>\n",
       "      <td>0.27</td>\n",
       "      <td>-0.27</td>\n",
       "      <td>0.00</td>\n",
       "      <td>0.09</td>\n",
       "      <td>0.10</td>\n",
       "      <td>0.28</td>\n",
       "      <td>0.01</td>\n",
       "      <td>0.07</td>\n",
       "    </tr>\n",
       "    <tr>\n",
       "      <th>line</th>\n",
       "      <td>0.04</td>\n",
       "      <td>1.00</td>\n",
       "      <td>0.24</td>\n",
       "      <td>-0.08</td>\n",
       "      <td>0.09</td>\n",
       "      <td>0.27</td>\n",
       "      <td>0.01</td>\n",
       "      <td>0.43</td>\n",
       "      <td>0.39</td>\n",
       "      <td>0.08</td>\n",
       "      <td>0.12</td>\n",
       "    </tr>\n",
       "    <tr>\n",
       "      <th>stop</th>\n",
       "      <td>0.11</td>\n",
       "      <td>0.24</td>\n",
       "      <td>1.00</td>\n",
       "      <td>0.08</td>\n",
       "      <td>-0.07</td>\n",
       "      <td>0.13</td>\n",
       "      <td>-0.02</td>\n",
       "      <td>0.01</td>\n",
       "      <td>0.07</td>\n",
       "      <td>0.26</td>\n",
       "      <td>0.06</td>\n",
       "    </tr>\n",
       "    <tr>\n",
       "      <th>positionBusLon</th>\n",
       "      <td>0.27</td>\n",
       "      <td>-0.08</td>\n",
       "      <td>0.08</td>\n",
       "      <td>1.00</td>\n",
       "      <td>-1.00</td>\n",
       "      <td>0.12</td>\n",
       "      <td>-0.01</td>\n",
       "      <td>0.02</td>\n",
       "      <td>-0.02</td>\n",
       "      <td>-0.02</td>\n",
       "      <td>0.11</td>\n",
       "    </tr>\n",
       "    <tr>\n",
       "      <th>positionBusLat</th>\n",
       "      <td>-0.27</td>\n",
       "      <td>0.09</td>\n",
       "      <td>-0.07</td>\n",
       "      <td>-1.00</td>\n",
       "      <td>1.00</td>\n",
       "      <td>-0.11</td>\n",
       "      <td>0.01</td>\n",
       "      <td>0.02</td>\n",
       "      <td>0.02</td>\n",
       "      <td>0.02</td>\n",
       "      <td>-0.10</td>\n",
       "    </tr>\n",
       "    <tr>\n",
       "      <th>DistanceBus</th>\n",
       "      <td>0.00</td>\n",
       "      <td>0.27</td>\n",
       "      <td>0.13</td>\n",
       "      <td>0.12</td>\n",
       "      <td>-0.11</td>\n",
       "      <td>1.00</td>\n",
       "      <td>0.00</td>\n",
       "      <td>0.24</td>\n",
       "      <td>0.22</td>\n",
       "      <td>-0.06</td>\n",
       "      <td>0.86</td>\n",
       "    </tr>\n",
       "    <tr>\n",
       "      <th>deviation</th>\n",
       "      <td>0.09</td>\n",
       "      <td>0.01</td>\n",
       "      <td>-0.02</td>\n",
       "      <td>-0.01</td>\n",
       "      <td>0.01</td>\n",
       "      <td>0.00</td>\n",
       "      <td>1.00</td>\n",
       "      <td>-0.00</td>\n",
       "      <td>-0.00</td>\n",
       "      <td>-0.02</td>\n",
       "      <td>0.02</td>\n",
       "    </tr>\n",
       "    <tr>\n",
       "      <th>MinimunFrequency</th>\n",
       "      <td>0.10</td>\n",
       "      <td>0.43</td>\n",
       "      <td>0.01</td>\n",
       "      <td>0.02</td>\n",
       "      <td>0.02</td>\n",
       "      <td>0.24</td>\n",
       "      <td>-0.00</td>\n",
       "      <td>1.00</td>\n",
       "      <td>0.78</td>\n",
       "      <td>0.03</td>\n",
       "      <td>0.30</td>\n",
       "    </tr>\n",
       "    <tr>\n",
       "      <th>MaximumFrequency</th>\n",
       "      <td>0.28</td>\n",
       "      <td>0.39</td>\n",
       "      <td>0.07</td>\n",
       "      <td>-0.02</td>\n",
       "      <td>0.02</td>\n",
       "      <td>0.22</td>\n",
       "      <td>-0.00</td>\n",
       "      <td>0.78</td>\n",
       "      <td>1.00</td>\n",
       "      <td>0.04</td>\n",
       "      <td>0.26</td>\n",
       "    </tr>\n",
       "    <tr>\n",
       "      <th>isHead</th>\n",
       "      <td>0.01</td>\n",
       "      <td>0.08</td>\n",
       "      <td>0.26</td>\n",
       "      <td>-0.02</td>\n",
       "      <td>0.02</td>\n",
       "      <td>-0.06</td>\n",
       "      <td>-0.02</td>\n",
       "      <td>0.03</td>\n",
       "      <td>0.04</td>\n",
       "      <td>1.00</td>\n",
       "      <td>0.02</td>\n",
       "    </tr>\n",
       "    <tr>\n",
       "      <th>estimateArrive</th>\n",
       "      <td>0.07</td>\n",
       "      <td>0.12</td>\n",
       "      <td>0.06</td>\n",
       "      <td>0.11</td>\n",
       "      <td>-0.10</td>\n",
       "      <td>0.86</td>\n",
       "      <td>0.02</td>\n",
       "      <td>0.30</td>\n",
       "      <td>0.26</td>\n",
       "      <td>0.02</td>\n",
       "      <td>1.00</td>\n",
       "    </tr>\n",
       "  </tbody>\n",
       "</table>\n",
       "</div>"
      ],
      "text/plain": [
       "                   bus  line  stop  positionBusLon  positionBusLat  \\\n",
       "bus               1.00  0.04  0.11            0.27           -0.27   \n",
       "line              0.04  1.00  0.24           -0.08            0.09   \n",
       "stop              0.11  0.24  1.00            0.08           -0.07   \n",
       "positionBusLon    0.27 -0.08  0.08            1.00           -1.00   \n",
       "positionBusLat   -0.27  0.09 -0.07           -1.00            1.00   \n",
       "DistanceBus       0.00  0.27  0.13            0.12           -0.11   \n",
       "deviation         0.09  0.01 -0.02           -0.01            0.01   \n",
       "MinimunFrequency  0.10  0.43  0.01            0.02            0.02   \n",
       "MaximumFrequency  0.28  0.39  0.07           -0.02            0.02   \n",
       "isHead            0.01  0.08  0.26           -0.02            0.02   \n",
       "estimateArrive    0.07  0.12  0.06            0.11           -0.10   \n",
       "\n",
       "                  DistanceBus  deviation  MinimunFrequency  MaximumFrequency  \\\n",
       "bus                      0.00       0.09              0.10              0.28   \n",
       "line                     0.27       0.01              0.43              0.39   \n",
       "stop                     0.13      -0.02              0.01              0.07   \n",
       "positionBusLon           0.12      -0.01              0.02             -0.02   \n",
       "positionBusLat          -0.11       0.01              0.02              0.02   \n",
       "DistanceBus              1.00       0.00              0.24              0.22   \n",
       "deviation                0.00       1.00             -0.00             -0.00   \n",
       "MinimunFrequency         0.24      -0.00              1.00              0.78   \n",
       "MaximumFrequency         0.22      -0.00              0.78              1.00   \n",
       "isHead                  -0.06      -0.02              0.03              0.04   \n",
       "estimateArrive           0.86       0.02              0.30              0.26   \n",
       "\n",
       "                  isHead  estimateArrive  \n",
       "bus                 0.01            0.07  \n",
       "line                0.08            0.12  \n",
       "stop                0.26            0.06  \n",
       "positionBusLon     -0.02            0.11  \n",
       "positionBusLat      0.02           -0.10  \n",
       "DistanceBus        -0.06            0.86  \n",
       "deviation          -0.02            0.02  \n",
       "MinimunFrequency    0.03            0.30  \n",
       "MaximumFrequency    0.04            0.26  \n",
       "isHead              1.00            0.02  \n",
       "estimateArrive      0.02            1.00  "
      ]
     },
     "execution_count": 22,
     "metadata": {},
     "output_type": "execute_result"
    }
   ],
   "source": [
    "matrix_corr"
   ]
  },
  {
   "cell_type": "code",
   "execution_count": 23,
   "metadata": {},
   "outputs": [
    {
     "data": {
      "text/plain": [
       "<Axes: >"
      ]
     },
     "execution_count": 23,
     "metadata": {},
     "output_type": "execute_result"
    },
    {
     "data": {
      "image/png": "[encoded data removed]",
      "text/plain": [
       "<Figure size 640x480 with 2 Axes>"
      ]
     },
     "metadata": {},
     "output_type": "display_data"
    }
   ],
   "source": [
    "sns.heatmap(matrix_corr, cmap='coolwarm',vmin=-1, vmax=1,annot= True)"
   ]
  },
  {
   "cell_type": "code",
   "execution_count": 24,
   "metadata": {},
   "outputs": [],
   "source": [
    "matrix_corr.to_csv('/home/mlia/proyectos/data-generation/docs/notebooks/aux/matrix_corr_emt.csv', index=False)"
   ]
  },
  {
   "cell_type": "markdown",
   "metadata": {},
   "source": [
    "Obtenemos que las variables más correladas entre sí son:\n",
    "- `positionBusLon` y `positionBusLat`\n",
    "- `MinimunFrequency` y `MaximumFrequency`\n",
    "\n",
    "Además la variable más correlada con `estimateArrive` es `DistanceBus`"
   ]
  },
  {
   "cell_type": "markdown",
   "metadata": {},
   "source": [
    "## Estudio por variables\n",
    "\n",
    "Para cada variable:\n",
    "1. Comprobaremos si tiene valores nulos \n",
    "2. Calcularemos la correlación con la variable `estimateArrive`\n",
    "3. Dibujaremos el tiempo medio de llegada según sus categorías en el caso en el que fuera posible\n",
    "4. Decidiremos si la mantenemos o la eliminamos"
   ]
  },
  {
   "cell_type": "code",
   "execution_count": 25,
   "metadata": {},
   "outputs": [
    {
     "data": {
      "text/html": [
       "<div><style>\n",
       ".dataframe > thead > tr,\n",
       ".dataframe > tbody > tr {\n",
       "  text-align: right;\n",
       "  white-space: pre-wrap;\n",
       "}\n",
       "</style>\n",
       "<small>shape: (9, 21)</small><table border=\"1\" class=\"dataframe\"><thead><tr><th>statistic</th><th>PK</th><th>date</th><th>datetime</th><th>bus</th><th>line</th><th>stop</th><th>positionBusLon</th><th>positionBusLat</th><th>positionTypeBus</th><th>DistanceBus</th><th>destination</th><th>deviation</th><th>StartTime</th><th>StopTime</th><th>MinimunFrequency</th><th>MaximumFrequency</th><th>isHead</th><th>dayType</th><th>strike</th><th>estimateArrive</th></tr><tr><td>str</td><td>str</td><td>str</td><td>str</td><td>f64</td><td>str</td><td>f64</td><td>f64</td><td>f64</td><td>f64</td><td>f64</td><td>str</td><td>f64</td><td>str</td><td>str</td><td>f64</td><td>f64</td><td>f64</td><td>str</td><td>str</td><td>f64</td></tr></thead><tbody><tr><td>&quot;count&quot;</td><td>&quot;5&quot;</td><td>&quot;5&quot;</td><td>&quot;5&quot;</td><td>5.0</td><td>&quot;5&quot;</td><td>5.0</td><td>5.0</td><td>5.0</td><td>5.0</td><td>5.0</td><td>&quot;5&quot;</td><td>5.0</td><td>&quot;4&quot;</td><td>&quot;4&quot;</td><td>4.0</td><td>4.0</td><td>5.0</td><td>&quot;4&quot;</td><td>&quot;4&quot;</td><td>5.0</td></tr><tr><td>&quot;null_count&quot;</td><td>&quot;0&quot;</td><td>&quot;0&quot;</td><td>&quot;0&quot;</td><td>0.0</td><td>&quot;0&quot;</td><td>0.0</td><td>0.0</td><td>0.0</td><td>0.0</td><td>0.0</td><td>&quot;0&quot;</td><td>0.0</td><td>&quot;1&quot;</td><td>&quot;1&quot;</td><td>1.0</td><td>1.0</td><td>0.0</td><td>&quot;1&quot;</td><td>&quot;1&quot;</td><td>0.0</td></tr><tr><td>&quot;mean&quot;</td><td>null</td><td>&quot;2024-03-13&quot;</td><td>null</td><td>2826.6</td><td>null</td><td>2255.0</td><td>-3.679584</td><td>40.464248</td><td>0.0</td><td>3542.0</td><td>null</td><td>0.0</td><td>null</td><td>null</td><td>5.75</td><td>20.25</td><td>0.0</td><td>null</td><td>null</td><td>742.2</td></tr><tr><td>&quot;std&quot;</td><td>null</td><td>null</td><td>null</td><td>3510.668711</td><td>null</td><td>2304.700631</td><td>0.015201</td><td>0.034255</td><td>0.0</td><td>2000.683633</td><td>null</td><td>0.0</td><td>null</td><td>null</td><td>1.258306</td><td>2.362908</td><td>0.0</td><td>null</td><td>null</td><td>544.644104</td></tr><tr><td>&quot;min&quot;</td><td>&quot;2024-03-13 11:…</td><td>&quot;2024-03-13&quot;</td><td>null</td><td>122.0</td><td>&quot;174&quot;</td><td>78.0</td><td>-3.702037</td><td>40.405106</td><td>0.0</td><td>339.0</td><td>&quot;ALSACIA&quot;</td><td>0.0</td><td>&quot;05:30&quot;</td><td>&quot;23:45&quot;</td><td>4.0</td><td>17.0</td><td>0.0</td><td>&quot;LA&quot;</td><td>&quot;N&quot;</td><td>76.0</td></tr><tr><td>&quot;25%&quot;</td><td>null</td><td>&quot;2024-03-13&quot;</td><td>null</td><td>584.0</td><td>null</td><td>246.0</td><td>-3.685782</td><td>40.464995</td><td>0.0</td><td>3195.0</td><td>null</td><td>0.0</td><td>null</td><td>null</td><td>6.0</td><td>20.0</td><td>0.0</td><td>null</td><td>null</td><td>281.0</td></tr><tr><td>&quot;50%&quot;</td><td>null</td><td>&quot;2024-03-13&quot;</td><td>null</td><td>2071.0</td><td>null</td><td>1762.0</td><td>-3.678519</td><td>40.478297</td><td>0.0</td><td>3891.0</td><td>null</td><td>0.0</td><td>null</td><td>null</td><td>6.0</td><td>22.0</td><td>0.0</td><td>null</td><td>null</td><td>860.0</td></tr><tr><td>&quot;75%&quot;</td><td>null</td><td>&quot;2024-03-13&quot;</td><td>null</td><td>2506.0</td><td>null</td><td>3794.0</td><td>-3.666058</td><td>40.483716</td><td>0.0</td><td>4703.0</td><td>null</td><td>0.0</td><td>null</td><td>null</td><td>6.0</td><td>22.0</td><td>0.0</td><td>null</td><td>null</td><td>1190.0</td></tr><tr><td>&quot;max&quot;</td><td>&quot;2024-03-13 22:…</td><td>&quot;2024-03-13&quot;</td><td>null</td><td>8850.0</td><td>&quot;C03&quot;</td><td>5395.0</td><td>-3.665525</td><td>40.489127</td><td>0.0</td><td>5582.0</td><td>&quot;VALDEBEBAS&quot;</td><td>0.0</td><td>&quot;06:00&quot;</td><td>&quot;23:45&quot;</td><td>7.0</td><td>22.0</td><td>0.0</td><td>&quot;LA&quot;</td><td>&quot;N&quot;</td><td>1304.0</td></tr></tbody></table></div>"
      ],
      "text/plain": [
       "shape: (9, 21)\n",
       "┌────────────┬──────────────┬────────────┬──────────┬───┬────────┬─────────┬────────┬──────────────┐\n",
       "│ statistic  ┆ PK           ┆ date       ┆ datetime ┆ … ┆ isHead ┆ dayType ┆ strike ┆ estimateArri │\n",
       "│ ---        ┆ ---          ┆ ---        ┆ ---      ┆   ┆ ---    ┆ ---     ┆ ---    ┆ ve           │\n",
       "│ str        ┆ str          ┆ str        ┆ str      ┆   ┆ f64    ┆ str     ┆ str    ┆ ---          │\n",
       "│            ┆              ┆            ┆          ┆   ┆        ┆         ┆        ┆ f64          │\n",
       "╞════════════╪══════════════╪════════════╪══════════╪═══╪════════╪═════════╪════════╪══════════════╡\n",
       "│ count      ┆ 5            ┆ 5          ┆ 5        ┆ … ┆ 5.0    ┆ 4       ┆ 4      ┆ 5.0          │\n",
       "│ null_count ┆ 0            ┆ 0          ┆ 0        ┆ … ┆ 0.0    ┆ 1       ┆ 1      ┆ 0.0          │\n",
       "│ mean       ┆ null         ┆ 2024-03-13 ┆ null     ┆ … ┆ 0.0    ┆ null    ┆ null   ┆ 742.2        │\n",
       "│ std        ┆ null         ┆ null       ┆ null     ┆ … ┆ 0.0    ┆ null    ┆ null   ┆ 544.644104   │\n",
       "│ min        ┆ 2024-03-13   ┆ 2024-03-13 ┆ null     ┆ … ┆ 0.0    ┆ LA      ┆ N      ┆ 76.0         │\n",
       "│            ┆ 11:11:06.651 ┆            ┆          ┆   ┆        ┆         ┆        ┆              │\n",
       "│            ┆ 553_B2071…   ┆            ┆          ┆   ┆        ┆         ┆        ┆              │\n",
       "│ 25%        ┆ null         ┆ 2024-03-13 ┆ null     ┆ … ┆ 0.0    ┆ null    ┆ null   ┆ 281.0        │\n",
       "│ 50%        ┆ null         ┆ 2024-03-13 ┆ null     ┆ … ┆ 0.0    ┆ null    ┆ null   ┆ 860.0        │\n",
       "│ 75%        ┆ null         ┆ 2024-03-13 ┆ null     ┆ … ┆ 0.0    ┆ null    ┆ null   ┆ 1190.0       │\n",
       "│ max        ┆ 2024-03-13   ┆ 2024-03-13 ┆ null     ┆ … ┆ 0.0    ┆ LA      ┆ N      ┆ 1304.0       │\n",
       "│            ┆ 22:04:04.171 ┆            ┆          ┆   ┆        ┆         ┆        ┆              │\n",
       "│            ┆ 556_B2506…   ┆            ┆          ┆   ┆        ┆         ┆        ┆              │\n",
       "└────────────┴──────────────┴────────────┴──────────┴───┴────────┴─────────┴────────┴──────────────┘"
      ]
     },
     "execution_count": 25,
     "metadata": {},
     "output_type": "execute_result"
    }
   ],
   "source": [
    "sample_data.head().describe() "
   ]
  },
  {
   "cell_type": "markdown",
   "metadata": {},
   "source": [
    "**Variable `date`**"
   ]
  },
  {
   "cell_type": "markdown",
   "metadata": {},
   "source": [
    "Valores nulos"
   ]
  },
  {
   "cell_type": "code",
   "execution_count": 26,
   "metadata": {},
   "outputs": [
    {
     "data": {
      "text/html": [
       "<div><style>\n",
       ".dataframe > thead > tr,\n",
       ".dataframe > tbody > tr {\n",
       "  text-align: right;\n",
       "  white-space: pre-wrap;\n",
       "}\n",
       "</style>\n",
       "<small>shape: (1, 2)</small><table border=\"1\" class=\"dataframe\"><thead><tr><th>date</th><th>count</th></tr><tr><td>date</td><td>u32</td></tr></thead><tbody><tr><td>2024-03-13</td><td>1131139</td></tr></tbody></table></div>"
      ],
      "text/plain": [
       "shape: (1, 2)\n",
       "┌────────────┬─────────┐\n",
       "│ date       ┆ count   │\n",
       "│ ---        ┆ ---     │\n",
       "│ date       ┆ u32     │\n",
       "╞════════════╪═════════╡\n",
       "│ 2024-03-13 ┆ 1131139 │\n",
       "└────────────┴─────────┘"
      ]
     },
     "execution_count": 26,
     "metadata": {},
     "output_type": "execute_result"
    }
   ],
   "source": [
    "sample_data.group_by(pl.col('date')).count().head().collect()"
   ]
  },
  {
   "cell_type": "markdown",
   "metadata": {},
   "source": [
    "**Variable `datetime`**"
   ]
  },
  {
   "cell_type": "markdown",
   "metadata": {},
   "source": [
    "Valores nulos"
   ]
  },
  {
   "cell_type": "code",
   "execution_count": 27,
   "metadata": {},
   "outputs": [
    {
     "data": {
      "text/html": [
       "<div><style>\n",
       ".dataframe > thead > tr,\n",
       ".dataframe > tbody > tr {\n",
       "  text-align: right;\n",
       "  white-space: pre-wrap;\n",
       "}\n",
       "</style>\n",
       "<small>shape: (5, 2)</small><table border=\"1\" class=\"dataframe\"><thead><tr><th>datetime</th><th>count</th></tr><tr><td>datetime[μs]</td><td>u32</td></tr></thead><tbody><tr><td>2024-03-13 11:37:57.321267</td><td>2</td></tr><tr><td>2024-03-13 13:26:54.208612</td><td>12</td></tr><tr><td>2024-03-13 09:59:29.140672</td><td>4</td></tr><tr><td>2024-03-13 10:52:58.664917</td><td>4</td></tr><tr><td>2024-03-13 21:01:54.748638</td><td>2</td></tr></tbody></table></div>"
      ],
      "text/plain": [
       "shape: (5, 2)\n",
       "┌────────────────────────────┬───────┐\n",
       "│ datetime                   ┆ count │\n",
       "│ ---                        ┆ ---   │\n",
       "│ datetime[μs]               ┆ u32   │\n",
       "╞════════════════════════════╪═══════╡\n",
       "│ 2024-03-13 11:37:57.321267 ┆ 2     │\n",
       "│ 2024-03-13 13:26:54.208612 ┆ 12    │\n",
       "│ 2024-03-13 09:59:29.140672 ┆ 4     │\n",
       "│ 2024-03-13 10:52:58.664917 ┆ 4     │\n",
       "│ 2024-03-13 21:01:54.748638 ┆ 2     │\n",
       "└────────────────────────────┴───────┘"
      ]
     },
     "execution_count": 27,
     "metadata": {},
     "output_type": "execute_result"
    }
   ],
   "source": [
    "sample_data.group_by(pl.col('datetime')).count().head().collect()"
   ]
  },
  {
   "cell_type": "markdown",
   "metadata": {},
   "source": [
    "**Variable `bus`**"
   ]
  },
  {
   "cell_type": "markdown",
   "metadata": {},
   "source": [
    "Valores nulos"
   ]
  },
  {
   "cell_type": "code",
   "execution_count": 28,
   "metadata": {},
   "outputs": [
    {
     "data": {
      "text/html": [
       "<div><style>\n",
       ".dataframe > thead > tr,\n",
       ".dataframe > tbody > tr {\n",
       "  text-align: right;\n",
       "  white-space: pre-wrap;\n",
       "}\n",
       "</style>\n",
       "<small>shape: (5, 2)</small><table border=\"1\" class=\"dataframe\"><thead><tr><th>bus</th><th>count</th></tr><tr><td>i64</td><td>u32</td></tr></thead><tbody><tr><td>3317</td><td>1260</td></tr><tr><td>4329</td><td>59</td></tr><tr><td>2266</td><td>515</td></tr><tr><td>4758</td><td>17</td></tr><tr><td>548</td><td>229</td></tr></tbody></table></div>"
      ],
      "text/plain": [
       "shape: (5, 2)\n",
       "┌──────┬───────┐\n",
       "│ bus  ┆ count │\n",
       "│ ---  ┆ ---   │\n",
       "│ i64  ┆ u32   │\n",
       "╞══════╪═══════╡\n",
       "│ 3317 ┆ 1260  │\n",
       "│ 4329 ┆ 59    │\n",
       "│ 2266 ┆ 515   │\n",
       "│ 4758 ┆ 17    │\n",
       "│ 548  ┆ 229   │\n",
       "└──────┴───────┘"
      ]
     },
     "execution_count": 28,
     "metadata": {},
     "output_type": "execute_result"
    }
   ],
   "source": [
    "sample_data.group_by(pl.col('bus')).count().head().collect()"
   ]
  },
  {
   "cell_type": "markdown",
   "metadata": {},
   "source": [
    "Correlación"
   ]
  },
  {
   "cell_type": "code",
   "execution_count": 29,
   "metadata": {},
   "outputs": [
    {
     "data": {
      "text/html": [
       "<div><style>\n",
       ".dataframe > thead > tr,\n",
       ".dataframe > tbody > tr {\n",
       "  text-align: right;\n",
       "  white-space: pre-wrap;\n",
       "}\n",
       "</style>\n",
       "<small>shape: (1, 1)</small><table border=\"1\" class=\"dataframe\"><thead><tr><th>bus</th></tr><tr><td>f64</td></tr></thead><tbody><tr><td>0.06748</td></tr></tbody></table></div>"
      ],
      "text/plain": [
       "shape: (1, 1)\n",
       "┌─────────┐\n",
       "│ bus     │\n",
       "│ ---     │\n",
       "│ f64     │\n",
       "╞═════════╡\n",
       "│ 0.06748 │\n",
       "└─────────┘"
      ]
     },
     "execution_count": 29,
     "metadata": {},
     "output_type": "execute_result"
    }
   ],
   "source": [
    "sample_data.select(pl.corr('bus','estimateArrive')).head().collect()"
   ]
  },
  {
   "cell_type": "markdown",
   "metadata": {},
   "source": [
    "Tiempo medio de espera según autobús"
   ]
  },
  {
   "cell_type": "code",
   "execution_count": 30,
   "metadata": {},
   "outputs": [
    {
     "data": {
      "text/html": [
       "<div><style>\n",
       ".dataframe > thead > tr,\n",
       ".dataframe > tbody > tr {\n",
       "  text-align: right;\n",
       "  white-space: pre-wrap;\n",
       "}\n",
       "</style>\n",
       "<small>shape: (5, 2)</small><table border=\"1\" class=\"dataframe\"><thead><tr><th>bus</th><th>estimateArrive</th></tr><tr><td>i64</td><td>f64</td></tr></thead><tbody><tr><td>4755</td><td>398.504202</td></tr><tr><td>2504</td><td>1082.137097</td></tr><tr><td>5654</td><td>380.661765</td></tr><tr><td>560</td><td>442.948276</td></tr><tr><td>563</td><td>528.829897</td></tr></tbody></table></div>"
      ],
      "text/plain": [
       "shape: (5, 2)\n",
       "┌──────┬────────────────┐\n",
       "│ bus  ┆ estimateArrive │\n",
       "│ ---  ┆ ---            │\n",
       "│ i64  ┆ f64            │\n",
       "╞══════╪════════════════╡\n",
       "│ 4755 ┆ 398.504202     │\n",
       "│ 2504 ┆ 1082.137097    │\n",
       "│ 5654 ┆ 380.661765     │\n",
       "│ 560  ┆ 442.948276     │\n",
       "│ 563  ┆ 528.829897     │\n",
       "└──────┴────────────────┘"
      ]
     },
     "execution_count": 30,
     "metadata": {},
     "output_type": "execute_result"
    }
   ],
   "source": [
    "sample_data.group_by(pl.col('bus')).mean().select(pl.col('bus'),pl.col('estimateArrive')).head().collect()"
   ]
  },
  {
   "cell_type": "markdown",
   "metadata": {},
   "source": [
    "Según que autobús sea, el tiempo medio de espera varia bastante. Por lo que esta variable va a ser necesaria a la hora de la creación de nuestro modelo."
   ]
  },
  {
   "cell_type": "markdown",
   "metadata": {},
   "source": [
    "**Variable `line`**"
   ]
  },
  {
   "cell_type": "markdown",
   "metadata": {},
   "source": [
    "Valores nulos"
   ]
  },
  {
   "cell_type": "code",
   "execution_count": 31,
   "metadata": {},
   "outputs": [
    {
     "data": {
      "text/html": [
       "<div><style>\n",
       ".dataframe > thead > tr,\n",
       ".dataframe > tbody > tr {\n",
       "  text-align: right;\n",
       "  white-space: pre-wrap;\n",
       "}\n",
       "</style>\n",
       "<small>shape: (5, 2)</small><table border=\"1\" class=\"dataframe\"><thead><tr><th>line</th><th>count</th></tr><tr><td>str</td><td>u32</td></tr></thead><tbody><tr><td>&quot;167&quot;</td><td>3352</td></tr><tr><td>&quot;67&quot;</td><td>46138</td></tr><tr><td>&quot;48&quot;</td><td>13481</td></tr><tr><td>&quot;173&quot;</td><td>23933</td></tr><tr><td>&quot;C2&quot;</td><td>1650</td></tr></tbody></table></div>"
      ],
      "text/plain": [
       "shape: (5, 2)\n",
       "┌──────┬───────┐\n",
       "│ line ┆ count │\n",
       "│ ---  ┆ ---   │\n",
       "│ str  ┆ u32   │\n",
       "╞══════╪═══════╡\n",
       "│ 167  ┆ 3352  │\n",
       "│ 67   ┆ 46138 │\n",
       "│ 48   ┆ 13481 │\n",
       "│ 173  ┆ 23933 │\n",
       "│ C2   ┆ 1650  │\n",
       "└──────┴───────┘"
      ]
     },
     "execution_count": 31,
     "metadata": {},
     "output_type": "execute_result"
    }
   ],
   "source": [
    "sample_data.group_by(pl.col('line')).count().head().collect()"
   ]
  },
  {
   "cell_type": "markdown",
   "metadata": {},
   "source": [
    "Correlación"
   ]
  },
  {
   "cell_type": "code",
   "execution_count": 32,
   "metadata": {},
   "outputs": [
    {
     "data": {
      "text/html": [
       "<div><style>\n",
       ".dataframe > thead > tr,\n",
       ".dataframe > tbody > tr {\n",
       "  text-align: right;\n",
       "  white-space: pre-wrap;\n",
       "}\n",
       "</style>\n",
       "<small>shape: (1, 1)</small><table border=\"1\" class=\"dataframe\"><thead><tr><th>line</th></tr><tr><td>f64</td></tr></thead><tbody><tr><td>0.120876</td></tr></tbody></table></div>"
      ],
      "text/plain": [
       "shape: (1, 1)\n",
       "┌──────────┐\n",
       "│ line     │\n",
       "│ ---      │\n",
       "│ f64      │\n",
       "╞══════════╡\n",
       "│ 0.120876 │\n",
       "└──────────┘"
      ]
     },
     "execution_count": 32,
     "metadata": {},
     "output_type": "execute_result"
    }
   ],
   "source": [
    "sample_data.select(pl.corr('line','estimateArrive')).head().collect()"
   ]
  },
  {
   "cell_type": "markdown",
   "metadata": {},
   "source": [
    "Tiempo medio de espera según línea"
   ]
  },
  {
   "cell_type": "code",
   "execution_count": 33,
   "metadata": {},
   "outputs": [
    {
     "data": {
      "application/javascript": "(function(root) {\n  function now() {\n    return new Date();\n  }\n\n  var force = true;\n  var py_version = '3.4.0'.replace('rc', '-rc.').replace('.dev', '-dev.');\n  var reloading = false;\n  var Bokeh = root.Bokeh;\n\n  if (typeof (root._bokeh_timeout) === \"undefined\" || force) {\n    root._bokeh_timeout = Date.now() + 5000;\n    root._bokeh_failed_load = false;\n  }\n\n  function run_callbacks() {\n    try {\n      root._bokeh_onload_callbacks.forEach(function(callback) {\n        if (callback != null)\n          callback();\n      });\n    } finally {\n      delete root._bokeh_onload_callbacks;\n    }\n    console.debug(\"Bokeh: all callbacks have finished\");\n  }\n\n  function load_libs(css_urls, js_urls, js_modules, js_exports, callback) {\n    if (css_urls == null) css_urls = [];\n    if (js_urls == null) js_urls = [];\n    if (js_modules == null) js_modules = [];\n    if (js_exports == null) js_exports = {};\n\n    root._bokeh_onload_callbacks.push(callback);\n\n    if (root._bokeh_is_loading > 0) {\n      console.debug(\"Bokeh: BokehJS is being loaded, scheduling callback at\", now());\n      return null;\n    }\n    if (js_urls.length === 0 && js_modules.length === 0 && Object.keys(js_exports).length === 0) {\n      run_callbacks();\n      return null;\n    }\n    if (!reloading) {\n      console.debug(\"Bokeh: BokehJS not loaded, scheduling load and callback at\", now());\n    }\n\n    function on_load() {\n      root._bokeh_is_loading--;\n      if (root._bokeh_is_loading === 0) {\n        console.debug(\"Bokeh: all BokehJS libraries/stylesheets loaded\");\n        run_callbacks()\n      }\n    }\n    window._bokeh_on_load = on_load\n\n    function on_error() {\n      console.error(\"failed to load \" + url);\n    }\n\n    var skip = [];\n    if (window.requirejs) {\n      window.requirejs.config({'packages': {}, 'paths': {}, 'shim': {}});\n      root._bokeh_is_loading = css_urls.length + 0;\n    } else {\n      root._bokeh_is_loading = css_urls.length + js_urls.length + js_modules.length + Object.keys(js_exports).length;\n    }\n\n    var existing_stylesheets = []\n    var links = document.getElementsByTagName('link')\n    for (var i = 0; i < links.length; i++) {\n      var link = links[i]\n      if (link.href != null) {\n\texisting_stylesheets.push(link.href)\n      }\n    }\n    for (var i = 0; i < css_urls.length; i++) {\n      var url = css_urls[i];\n      if (existing_stylesheets.indexOf(url) !== -1) {\n\ton_load()\n\tcontinue;\n      }\n      const element = document.createElement(\"link\");\n      element.onload = on_load;\n      element.onerror = on_error;\n      element.rel = \"stylesheet\";\n      element.type = \"text/css\";\n      element.href = url;\n      console.debug(\"Bokeh: injecting link tag for BokehJS stylesheet: \", url);\n      document.body.appendChild(element);\n    }    var existing_scripts = []\n    var scripts = document.getElementsByTagName('script')\n    for (var i = 0; i < scripts.length; i++) {\n      var script = scripts[i]\n      if (script.src != null) {\n\texisting_scripts.push(script.src)\n      }\n    }\n    for (var i = 0; i < js_urls.length; i++) {\n      var url = js_urls[i];\n      if (skip.indexOf(url) !== -1 || existing_scripts.indexOf(url) !== -1) {\n\tif (!window.requirejs) {\n\t  on_load();\n\t}\n\tcontinue;\n      }\n      var element = document.createElement('script');\n      element.onload = on_load;\n      element.onerror = on_error;\n      element.async = false;\n      element.src = url;\n      console.debug(\"Bokeh: injecting script tag for BokehJS library: \", url);\n      document.head.appendChild(element);\n    }\n    for (var i = 0; i < js_modules.length; i++) {\n      var url = js_modules[i];\n      if (skip.indexOf(url) !== -1 || existing_scripts.indexOf(url) !== -1) {\n\tif (!window.requirejs) {\n\t  on_load();\n\t}\n\tcontinue;\n      }\n      var element = document.createElement('script');\n      element.onload = on_load;\n      element.onerror = on_error;\n      element.async = false;\n      element.src = url;\n      element.type = \"module\";\n      console.debug(\"Bokeh: injecting script tag for BokehJS library: \", url);\n      document.head.appendChild(element);\n    }\n    for (const name in js_exports) {\n      var url = js_exports[name];\n      if (skip.indexOf(url) >= 0 || root[name] != null) {\n\tif (!window.requirejs) {\n\t  on_load();\n\t}\n\tcontinue;\n      }\n      var element = document.createElement('script');\n      element.onerror = on_error;\n      element.async = false;\n      element.type = \"module\";\n      console.debug(\"Bokeh: injecting script tag for BokehJS library: \", url);\n      element.textContent = `\n      import ${name} from \"${url}\"\n      window.${name} = ${name}\n      window._bokeh_on_load()\n      `\n      document.head.appendChild(element);\n    }\n    if (!js_urls.length && !js_modules.length) {\n      on_load()\n    }\n  };\n\n  function inject_raw_css(css) {\n    const element = document.createElement(\"style\");\n    element.appendChild(document.createTextNode(css));\n    document.body.appendChild(element);\n  }\n\n  var js_urls = [\"https://cdn.bokeh.org/bokeh/release/bokeh-3.4.0.min.js\", \"https://cdn.bokeh.org/bokeh/release/bokeh-gl-3.4.0.min.js\", \"https://cdn.bokeh.org/bokeh/release/bokeh-widgets-3.4.0.min.js\", \"https://cdn.bokeh.org/bokeh/release/bokeh-tables-3.4.0.min.js\", \"https://cdn.holoviz.org/panel/1.4.0/dist/panel.min.js\"];\n  var js_modules = [];\n  var js_exports = {};\n  var css_urls = [];\n  var inline_js = [    function(Bokeh) {\n      Bokeh.set_log_level(\"info\");\n    },\nfunction(Bokeh) {} // ensure no trailing comma for IE\n  ];\n\n  function run_inline_js() {\n    if ((root.Bokeh !== undefined) || (force === true)) {\n      for (var i = 0; i < inline_js.length; i++) {\n\ttry {\n          inline_js[i].call(root, root.Bokeh);\n\t} catch(e) {\n\t  if (!reloading) {\n\t    throw e;\n\t  }\n\t}\n      }\n      // Cache old bokeh versions\n      if (Bokeh != undefined && !reloading) {\n\tvar NewBokeh = root.Bokeh;\n\tif (Bokeh.versions === undefined) {\n\t  Bokeh.versions = new Map();\n\t}\n\tif (NewBokeh.version !== Bokeh.version) {\n\t  Bokeh.versions.set(NewBokeh.version, NewBokeh)\n\t}\n\troot.Bokeh = Bokeh;\n      }} else if (Date.now() < root._bokeh_timeout) {\n      setTimeout(run_inline_js, 100);\n    } else if (!root._bokeh_failed_load) {\n      console.log(\"Bokeh: BokehJS failed to load within specified timeout.\");\n      root._bokeh_failed_load = true;\n    }\n    root._bokeh_is_initializing = false\n  }\n\n  function load_or_wait() {\n    // Implement a backoff loop that tries to ensure we do not load multiple\n    // versions of Bokeh and its dependencies at the same time.\n    // In recent versions we use the root._bokeh_is_initializing flag\n    // to determine whether there is an ongoing attempt to initialize\n    // bokeh, however for backward compatibility we also try to ensure\n    // that we do not start loading a newer (Panel>=1.0 and Bokeh>3) version\n    // before older versions are fully initialized.\n    if (root._bokeh_is_initializing && Date.now() > root._bokeh_timeout) {\n      root._bokeh_is_initializing = false;\n      root._bokeh_onload_callbacks = undefined;\n      console.log(\"Bokeh: BokehJS was loaded multiple times but one version failed to initialize.\");\n      load_or_wait();\n    } else if (root._bokeh_is_initializing || (typeof root._bokeh_is_initializing === \"undefined\" && root._bokeh_onload_callbacks !== undefined)) {\n      setTimeout(load_or_wait, 100);\n    } else {\n      root._bokeh_is_initializing = true\n      root._bokeh_onload_callbacks = []\n      var bokeh_loaded = Bokeh != null && (Bokeh.version === py_version || (Bokeh.versions !== undefined && Bokeh.versions.has(py_version)));\n      if (!reloading && !bokeh_loaded) {\n\troot.Bokeh = undefined;\n      }\n      load_libs(css_urls, js_urls, js_modules, js_exports, function() {\n\tconsole.debug(\"Bokeh: BokehJS plotting callback run at\", now());\n\trun_inline_js();\n      });\n    }\n  }\n  // Give older versions of the autoload script a head-start to ensure\n  // they initialize before we start loading newer version.\n  setTimeout(load_or_wait, 100)\n}(window));",
      "application/vnd.holoviews_load.v0+json": ""
     },
     "metadata": {},
     "output_type": "display_data"
    },
    {
     "data": {
      "application/javascript": "\nif ((window.PyViz === undefined) || (window.PyViz instanceof HTMLElement)) {\n  window.PyViz = {comms: {}, comm_status:{}, kernels:{}, receivers: {}, plot_index: []}\n}\n\n\n    function JupyterCommManager() {\n    }\n\n    JupyterCommManager.prototype.register_target = function(plot_id, comm_id, msg_handler) {\n      if (window.comm_manager || ((window.Jupyter !== undefined) && (Jupyter.notebook.kernel != null))) {\n        var comm_manager = window.comm_manager || Jupyter.notebook.kernel.comm_manager;\n        comm_manager.register_target(comm_id, function(comm) {\n          comm.on_msg(msg_handler);\n        });\n      } else if ((plot_id in window.PyViz.kernels) && (window.PyViz.kernels[plot_id])) {\n        window.PyViz.kernels[plot_id].registerCommTarget(comm_id, function(comm) {\n          comm.onMsg = msg_handler;\n        });\n      } else if (typeof google != 'undefined' && google.colab.kernel != null) {\n        google.colab.kernel.comms.registerTarget(comm_id, (comm) => {\n          var messages = comm.messages[Symbol.asyncIterator]();\n          function processIteratorResult(result) {\n            var message = result.value;\n            console.log(message)\n            var content = {data: message.data, comm_id};\n            var buffers = []\n            for (var buffer of message.buffers || []) {\n              buffers.push(new DataView(buffer))\n            }\n            var metadata = message.metadata || {};\n            var msg = {content, buffers, metadata}\n            msg_handler(msg);\n            return messages.next().then(processIteratorResult);\n          }\n          return messages.next().then(processIteratorResult);\n        })\n      }\n    }\n\n    JupyterCommManager.prototype.get_client_comm = function(plot_id, comm_id, msg_handler) {\n      if (comm_id in window.PyViz.comms) {\n        return window.PyViz.comms[comm_id];\n      } else if (window.comm_manager || ((window.Jupyter !== undefined) && (Jupyter.notebook.kernel != null))) {\n        var comm_manager = window.comm_manager || Jupyter.notebook.kernel.comm_manager;\n        var comm = comm_manager.new_comm(comm_id, {}, {}, {}, comm_id);\n        if (msg_handler) {\n          comm.on_msg(msg_handler);\n        }\n      } else if ((plot_id in window.PyViz.kernels) && (window.PyViz.kernels[plot_id])) {\n        var comm = window.PyViz.kernels[plot_id].connectToComm(comm_id);\n        comm.open();\n        if (msg_handler) {\n          comm.onMsg = msg_handler;\n        }\n      } else if (typeof google != 'undefined' && google.colab.kernel != null) {\n        var comm_promise = google.colab.kernel.comms.open(comm_id)\n        comm_promise.then((comm) => {\n          window.PyViz.comms[comm_id] = comm;\n          if (msg_handler) {\n            var messages = comm.messages[Symbol.asyncIterator]();\n            function processIteratorResult(result) {\n              var message = result.value;\n              var content = {data: message.data};\n              var metadata = message.metadata || {comm_id};\n              var msg = {content, metadata}\n              msg_handler(msg);\n              return messages.next().then(processIteratorResult);\n            }\n            return messages.next().then(processIteratorResult);\n          }\n        }) \n        var sendClosure = (data, metadata, buffers, disposeOnDone) => {\n          return comm_promise.then((comm) => {\n            comm.send(data, metadata, buffers, disposeOnDone);\n          });\n        };\n        var comm = {\n          send: sendClosure\n        };\n      }\n      window.PyViz.comms[comm_id] = comm;\n      return comm;\n    }\n    window.PyViz.comm_manager = new JupyterCommManager();\n    \n\n\nvar JS_MIME_TYPE = 'application/javascript';\nvar HTML_MIME_TYPE = 'text/html';\nvar EXEC_MIME_TYPE = 'application/vnd.holoviews_exec.v0+json';\nvar CLASS_NAME = 'output';\n\n/**\n * Render data to the DOM node\n */\nfunction render(props, node) {\n  var div = document.createElement(\"div\");\n  var script = document.createElement(\"script\");\n  node.appendChild(div);\n  node.appendChild(script);\n}\n\n/**\n * Handle when a new output is added\n */\nfunction handle_add_output(event, handle) {\n  var output_area = handle.output_area;\n  var output = handle.output;\n  if ((output.data == undefined) || (!output.data.hasOwnProperty(EXEC_MIME_TYPE))) {\n    return\n  }\n  var id = output.metadata[EXEC_MIME_TYPE][\"id\"];\n  var toinsert = output_area.element.find(\".\" + CLASS_NAME.split(' ')[0]);\n  if (id !== undefined) {\n    var nchildren = toinsert.length;\n    var html_node = toinsert[nchildren-1].children[0];\n    html_node.innerHTML = output.data[HTML_MIME_TYPE];\n    var scripts = [];\n    var nodelist = html_node.querySelectorAll(\"script\");\n    for (var i in nodelist) {\n      if (nodelist.hasOwnProperty(i)) {\n        scripts.push(nodelist[i])\n      }\n    }\n\n    scripts.forEach( function (oldScript) {\n      var newScript = document.createElement(\"script\");\n      var attrs = [];\n      var nodemap = oldScript.attributes;\n      for (var j in nodemap) {\n        if (nodemap.hasOwnProperty(j)) {\n          attrs.push(nodemap[j])\n        }\n      }\n      attrs.forEach(function(attr) { newScript.setAttribute(attr.name, attr.value) });\n      newScript.appendChild(document.createTextNode(oldScript.innerHTML));\n      oldScript.parentNode.replaceChild(newScript, oldScript);\n    });\n    if (JS_MIME_TYPE in output.data) {\n      toinsert[nchildren-1].children[1].textContent = output.data[JS_MIME_TYPE];\n    }\n    output_area._hv_plot_id = id;\n    if ((window.Bokeh !== undefined) && (id in Bokeh.index)) {\n      window.PyViz.plot_index[id] = Bokeh.index[id];\n    } else {\n      window.PyViz.plot_index[id] = null;\n    }\n  } else if (output.metadata[EXEC_MIME_TYPE][\"server_id\"] !== undefined) {\n    var bk_div = document.createElement(\"div\");\n    bk_div.innerHTML = output.data[HTML_MIME_TYPE];\n    var script_attrs = bk_div.children[0].attributes;\n    for (var i = 0; i < script_attrs.length; i++) {\n      toinsert[toinsert.length - 1].childNodes[1].setAttribute(script_attrs[i].name, script_attrs[i].value);\n    }\n    // store reference to server id on output_area\n    output_area._bokeh_server_id = output.metadata[EXEC_MIME_TYPE][\"server_id\"];\n  }\n}\n\n/**\n * Handle when an output is cleared or removed\n */\nfunction handle_clear_output(event, handle) {\n  var id = handle.cell.output_area._hv_plot_id;\n  var server_id = handle.cell.output_area._bokeh_server_id;\n  if (((id === undefined) || !(id in PyViz.plot_index)) && (server_id !== undefined)) { return; }\n  var comm = window.PyViz.comm_manager.get_client_comm(\"hv-extension-comm\", \"hv-extension-comm\", function () {});\n  if (server_id !== null) {\n    comm.send({event_type: 'server_delete', 'id': server_id});\n    return;\n  } else if (comm !== null) {\n    comm.send({event_type: 'delete', 'id': id});\n  }\n  delete PyViz.plot_index[id];\n  if ((window.Bokeh !== undefined) & (id in window.Bokeh.index)) {\n    var doc = window.Bokeh.index[id].model.document\n    doc.clear();\n    const i = window.Bokeh.documents.indexOf(doc);\n    if (i > -1) {\n      window.Bokeh.documents.splice(i, 1);\n    }\n  }\n}\n\n/**\n * Handle kernel restart event\n */\nfunction handle_kernel_cleanup(event, handle) {\n  delete PyViz.comms[\"hv-extension-comm\"];\n  window.PyViz.plot_index = {}\n}\n\n/**\n * Handle update_display_data messages\n */\nfunction handle_update_output(event, handle) {\n  handle_clear_output(event, {cell: {output_area: handle.output_area}})\n  handle_add_output(event, handle)\n}\n\nfunction register_renderer(events, OutputArea) {\n  function append_mime(data, metadata, element) {\n    // create a DOM node to render to\n    var toinsert = this.create_output_subarea(\n    metadata,\n    CLASS_NAME,\n    EXEC_MIME_TYPE\n    );\n    this.keyboard_manager.register_events(toinsert);\n    // Render to node\n    var props = {data: data, metadata: metadata[EXEC_MIME_TYPE]};\n    render(props, toinsert[0]);\n    element.append(toinsert);\n    return toinsert\n  }\n\n  events.on('output_added.OutputArea', handle_add_output);\n  events.on('output_updated.OutputArea', handle_update_output);\n  events.on('clear_output.CodeCell', handle_clear_output);\n  events.on('delete.Cell', handle_clear_output);\n  events.on('kernel_ready.Kernel', handle_kernel_cleanup);\n\n  OutputArea.prototype.register_mime_type(EXEC_MIME_TYPE, append_mime, {\n    safe: true,\n    index: 0\n  });\n}\n\nif (window.Jupyter !== undefined) {\n  try {\n    var events = require('base/js/events');\n    var OutputArea = require('notebook/js/outputarea').OutputArea;\n    if (OutputArea.prototype.mime_types().indexOf(EXEC_MIME_TYPE) == -1) {\n      register_renderer(events, OutputArea);\n    }\n  } catch(err) {\n  }\n}\n",
      "application/vnd.holoviews_load.v0+json": ""
     },
     "metadata": {},
     "output_type": "display_data"
    },
    {
     "data": {
      "text/html": [
       "<style>*[data-root-id],\n",
       "*[data-root-id] > * {\n",
       "  box-sizing: border-box;\n",
       "  font-family: var(--jp-ui-font-family);\n",
       "  font-size: var(--jp-ui-font-size1);\n",
       "  color: var(--vscode-editor-foreground, var(--jp-ui-font-color1));\n",
       "}\n",
       "\n",
       "/* Override VSCode background color */\n",
       ".cell-output-ipywidget-background:has(\n",
       "    > .cell-output-ipywidget-background > .lm-Widget > *[data-root-id]\n",
       "  ),\n",
       ".cell-output-ipywidget-background:has(> .lm-Widget > *[data-root-id]) {\n",
       "  background-color: transparent !important;\n",
       "}\n",
       "</style>"
      ]
     },
     "metadata": {},
     "output_type": "display_data"
    },
    {
     "data": {
      "application/vnd.holoviews_exec.v0+json": "",
      "text/html": [
       "<div id='p1002'>\n",
       "  <div id=\"d557b756-cbe0-4f9b-a36c-9371427f5341\" data-root-id=\"p1002\" style=\"display: contents;\"></div>\n",
       "</div>\n",
       "<script type=\"application/javascript\">(function(root) {\n",
       "  var docs_json = {\"888a3420-df10-412a-9804-feb42f9f6048\":{\"version\":\"3.4.0\",\"title\":\"Bokeh Application\",\"roots\":[{\"type\":\"object\",\"name\":\"panel.models.browser.BrowserInfo\",\"id\":\"p1002\"},{\"type\":\"object\",\"name\":\"panel.models.comm_manager.CommManager\",\"id\":\"p1003\",\"attributes\":{\"plot_id\":\"p1002\",\"comm_id\":\"3d224d7ff42b4118abca2ef36bdaa2d9\",\"client_comm_id\":\"c4f003ceab1a4d3d9af26d67938d8ddf\"}}],\"defs\":[{\"type\":\"model\",\"name\":\"ReactiveHTML1\"},{\"type\":\"model\",\"name\":\"FlexBox1\",\"properties\":[{\"name\":\"align_content\",\"kind\":\"Any\",\"default\":\"flex-start\"},{\"name\":\"align_items\",\"kind\":\"Any\",\"default\":\"flex-start\"},{\"name\":\"flex_direction\",\"kind\":\"Any\",\"default\":\"row\"},{\"name\":\"flex_wrap\",\"kind\":\"Any\",\"default\":\"wrap\"},{\"name\":\"justify_content\",\"kind\":\"Any\",\"default\":\"flex-start\"},{\"name\":\"gap\",\"kind\":\"Any\",\"default\":\"\"}]},{\"type\":\"model\",\"name\":\"FloatPanel1\",\"properties\":[{\"name\":\"config\",\"kind\":\"Any\",\"default\":{\"type\":\"map\"}},{\"name\":\"contained\",\"kind\":\"Any\",\"default\":true},{\"name\":\"position\",\"kind\":\"Any\",\"default\":\"right-top\"},{\"name\":\"offsetx\",\"kind\":\"Any\",\"default\":null},{\"name\":\"offsety\",\"kind\":\"Any\",\"default\":null},{\"name\":\"theme\",\"kind\":\"Any\",\"default\":\"primary\"},{\"name\":\"status\",\"kind\":\"Any\",\"default\":\"normalized\"}]},{\"type\":\"model\",\"name\":\"GridStack1\",\"properties\":[{\"name\":\"mode\",\"kind\":\"Any\",\"default\":\"warn\"},{\"name\":\"ncols\",\"kind\":\"Any\",\"default\":null},{\"name\":\"nrows\",\"kind\":\"Any\",\"default\":null},{\"name\":\"allow_resize\",\"kind\":\"Any\",\"default\":true},{\"name\":\"allow_drag\",\"kind\":\"Any\",\"default\":true},{\"name\":\"state\",\"kind\":\"Any\",\"default\":[]}]},{\"type\":\"model\",\"name\":\"drag1\",\"properties\":[{\"name\":\"slider_width\",\"kind\":\"Any\",\"default\":5},{\"name\":\"slider_color\",\"kind\":\"Any\",\"default\":\"black\"},{\"name\":\"value\",\"kind\":\"Any\",\"default\":50}]},{\"type\":\"model\",\"name\":\"click1\",\"properties\":[{\"name\":\"terminal_output\",\"kind\":\"Any\",\"default\":\"\"},{\"name\":\"debug_name\",\"kind\":\"Any\",\"default\":\"\"},{\"name\":\"clears\",\"kind\":\"Any\",\"default\":0}]},{\"type\":\"model\",\"name\":\"FastWrapper1\",\"properties\":[{\"name\":\"object\",\"kind\":\"Any\",\"default\":null},{\"name\":\"style\",\"kind\":\"Any\",\"default\":null}]},{\"type\":\"model\",\"name\":\"NotificationAreaBase1\",\"properties\":[{\"name\":\"js_events\",\"kind\":\"Any\",\"default\":{\"type\":\"map\"}},{\"name\":\"position\",\"kind\":\"Any\",\"default\":\"bottom-right\"},{\"name\":\"_clear\",\"kind\":\"Any\",\"default\":0}]},{\"type\":\"model\",\"name\":\"NotificationArea1\",\"properties\":[{\"name\":\"js_events\",\"kind\":\"Any\",\"default\":{\"type\":\"map\"}},{\"name\":\"notifications\",\"kind\":\"Any\",\"default\":[]},{\"name\":\"position\",\"kind\":\"Any\",\"default\":\"bottom-right\"},{\"name\":\"_clear\",\"kind\":\"Any\",\"default\":0},{\"name\":\"types\",\"kind\":\"Any\",\"default\":[{\"type\":\"map\",\"entries\":[[\"type\",\"warning\"],[\"background\",\"#ffc107\"],[\"icon\",{\"type\":\"map\",\"entries\":[[\"className\",\"fas fa-exclamation-triangle\"],[\"tagName\",\"i\"],[\"color\",\"white\"]]}]]},{\"type\":\"map\",\"entries\":[[\"type\",\"info\"],[\"background\",\"#007bff\"],[\"icon\",{\"type\":\"map\",\"entries\":[[\"className\",\"fas fa-info-circle\"],[\"tagName\",\"i\"],[\"color\",\"white\"]]}]]}]}]},{\"type\":\"model\",\"name\":\"Notification\",\"properties\":[{\"name\":\"background\",\"kind\":\"Any\",\"default\":null},{\"name\":\"duration\",\"kind\":\"Any\",\"default\":3000},{\"name\":\"icon\",\"kind\":\"Any\",\"default\":null},{\"name\":\"message\",\"kind\":\"Any\",\"default\":\"\"},{\"name\":\"notification_type\",\"kind\":\"Any\",\"default\":null},{\"name\":\"_destroyed\",\"kind\":\"Any\",\"default\":false}]},{\"type\":\"model\",\"name\":\"TemplateActions1\",\"properties\":[{\"name\":\"open_modal\",\"kind\":\"Any\",\"default\":0},{\"name\":\"close_modal\",\"kind\":\"Any\",\"default\":0}]},{\"type\":\"model\",\"name\":\"BootstrapTemplateActions1\",\"properties\":[{\"name\":\"open_modal\",\"kind\":\"Any\",\"default\":0},{\"name\":\"close_modal\",\"kind\":\"Any\",\"default\":0}]},{\"type\":\"model\",\"name\":\"TemplateEditor1\",\"properties\":[{\"name\":\"layout\",\"kind\":\"Any\",\"default\":[]}]},{\"type\":\"model\",\"name\":\"MaterialTemplateActions1\",\"properties\":[{\"name\":\"open_modal\",\"kind\":\"Any\",\"default\":0},{\"name\":\"close_modal\",\"kind\":\"Any\",\"default\":0}]},{\"type\":\"model\",\"name\":\"copy_to_clipboard1\",\"properties\":[{\"name\":\"fill\",\"kind\":\"Any\",\"default\":\"none\"},{\"name\":\"value\",\"kind\":\"Any\",\"default\":null}]}]}};\n",
       "  var render_items = [{\"docid\":\"888a3420-df10-412a-9804-feb42f9f6048\",\"roots\":{\"p1002\":\"d557b756-cbe0-4f9b-a36c-9371427f5341\"},\"root_ids\":[\"p1002\"]}];\n",
       "  var docs = Object.values(docs_json)\n",
       "  if (!docs) {\n",
       "    return\n",
       "  }\n",
       "  const py_version = docs[0].version.replace('rc', '-rc.').replace('.dev', '-dev.')\n",
       "  function embed_document(root) {\n",
       "    var Bokeh = get_bokeh(root)\n",
       "    Bokeh.embed.embed_items_notebook(docs_json, render_items);\n",
       "    for (const render_item of render_items) {\n",
       "      for (const root_id of render_item.root_ids) {\n",
       "\tconst id_el = document.getElementById(root_id)\n",
       "\tif (id_el.children.length && (id_el.children[0].className === 'bk-root')) {\n",
       "\t  const root_el = id_el.children[0]\n",
       "\t  root_el.id = root_el.id + '-rendered'\n",
       "\t}\n",
       "      }\n",
       "    }\n",
       "  }\n",
       "  function get_bokeh(root) {\n",
       "    if (root.Bokeh === undefined) {\n",
       "      return null\n",
       "    } else if (root.Bokeh.version !== py_version) {\n",
       "      if (root.Bokeh.versions === undefined || !root.Bokeh.versions.has(py_version)) {\n",
       "\treturn null\n",
       "      }\n",
       "      return root.Bokeh.versions.get(py_version);\n",
       "    } else if (root.Bokeh.version === py_version) {\n",
       "      return root.Bokeh\n",
       "    }\n",
       "    return null\n",
       "  }\n",
       "  function is_loaded(root) {\n",
       "    var Bokeh = get_bokeh(root)\n",
       "    return (Bokeh != null && Bokeh.Panel !== undefined)\n",
       "  }\n",
       "  if (is_loaded(root)) {\n",
       "    embed_document(root);\n",
       "  } else {\n",
       "    var attempts = 0;\n",
       "    var timer = setInterval(function(root) {\n",
       "      if (is_loaded(root)) {\n",
       "        clearInterval(timer);\n",
       "        embed_document(root);\n",
       "      } else if (document.readyState == \"complete\") {\n",
       "        attempts++;\n",
       "        if (attempts > 200) {\n",
       "          clearInterval(timer);\n",
       "\t  var Bokeh = get_bokeh(root)\n",
       "\t  if (Bokeh == null || Bokeh.Panel == null) {\n",
       "            console.warn(\"Panel: ERROR: Unable to run Panel code because Bokeh or Panel library is missing\");\n",
       "\t  } else {\n",
       "\t    console.warn(\"Panel: WARNING: Attempting to render but not all required libraries could be resolved.\")\n",
       "\t    embed_document(root)\n",
       "\t  }\n",
       "        }\n",
       "      }\n",
       "    }, 25, root)\n",
       "  }\n",
       "})(window);</script>"
      ]
     },
     "metadata": {
      "application/vnd.holoviews_exec.v0+json": {
       "id": "p1002"
      }
     },
     "output_type": "display_data"
    },
    {
     "data": {},
     "metadata": {},
     "output_type": "display_data"
    },
    {
     "data": {
      "application/vnd.holoviews_exec.v0+json": "",
      "text/html": [
       "<div id='p1004'>\n",
       "  <div id=\"b66e069f-8237-43f6-bede-3cdc2310d5f4\" data-root-id=\"p1004\" style=\"display: contents;\"></div>\n",
       "</div>\n",
       "<script type=\"application/javascript\">(function(root) {\n",
       "  var docs_json = {\"b99f0367-dc15-40c6-b543-986065db8c57\":{\"version\":\"3.4.0\",\"title\":\"Bokeh Application\",\"roots\":[{\"type\":\"object\",\"name\":\"Row\",\"id\":\"p1004\",\"attributes\":{\"name\":\"Row00939\",\"tags\":[\"embedded\"],\"stylesheets\":[\"\\n:host(.pn-loading):before, .pn-loading:before {\\n  background-color: #c3c3c3;\\n  mask-size: auto calc(min(50%, 400px));\\n  -webkit-mask-size: auto calc(min(50%, 400px));\\n}\",{\"type\":\"object\",\"name\":\"ImportedStyleSheet\",\"id\":\"p1007\",\"attributes\":{\"url\":\"https://cdn.holoviz.org/panel/1.4.0/dist/css/loading.css\"}},{\"type\":\"object\",\"name\":\"ImportedStyleSheet\",\"id\":\"p1063\",\"attributes\":{\"url\":\"https://cdn.holoviz.org/panel/1.4.0/dist/css/listpanel.css\"}},{\"type\":\"object\",\"name\":\"ImportedStyleSheet\",\"id\":\"p1005\",\"attributes\":{\"url\":\"https://cdn.holoviz.org/panel/1.4.0/dist/bundled/theme/default.css\"}},{\"type\":\"object\",\"name\":\"ImportedStyleSheet\",\"id\":\"p1006\",\"attributes\":{\"url\":\"https://cdn.holoviz.org/panel/1.4.0/dist/bundled/theme/native.css\"}}],\"min_width\":700,\"margin\":0,\"sizing_mode\":\"stretch_width\",\"align\":\"start\",\"children\":[{\"type\":\"object\",\"name\":\"Spacer\",\"id\":\"p1008\",\"attributes\":{\"name\":\"HSpacer00946\",\"stylesheets\":[\"\\n:host(.pn-loading):before, .pn-loading:before {\\n  background-color: #c3c3c3;\\n  mask-size: auto calc(min(50%, 400px));\\n  -webkit-mask-size: auto calc(min(50%, 400px));\\n}\",{\"id\":\"p1007\"},{\"id\":\"p1005\"},{\"id\":\"p1006\"}],\"margin\":0,\"sizing_mode\":\"stretch_width\",\"align\":\"start\"}},{\"type\":\"object\",\"name\":\"Figure\",\"id\":\"p1016\",\"attributes\":{\"width\":700,\"height\":300,\"margin\":[5,10],\"sizing_mode\":\"fixed\",\"align\":\"start\",\"x_range\":{\"type\":\"object\",\"name\":\"FactorRange\",\"id\":\"p1009\",\"attributes\":{\"tags\":[[[\"line\",\"line\",null]],[]],\"factors\":[\"135\",\"40\",\"45\",\"178\",\"1\",\"64\",\"831\",\"67\",\"53\",\"127\",\"150\",\"83\",\"29\",\"27\",\"69\",\"134\",\"167\",\"10\",\"5\",\"41\",\"NC2\",\"42\",\"C2\",\"38\",\"132\",\"128\",\"174\",\"124\",\"170\",\"177\",\"176\",\"105\",\"6\",\"66\",\"11\",\"19\",\"129\",\"119\",\"73\",\"165\",\"137\",\"122\",\"361\",\"34\",\"125\",\"166\",\"36\",\"C03\",\"N23\",\"N24\",\"E1\",\"82\",\"14\",\"401\",\"107\",\"49\",\"7\",\"72\",\"BR1\",\"172\",\"9\",\"173\",\"70\",\"171\",\"37\",\"363\",\"109\",\"133\",\"4\",\"175\",\"147\",\"48\",\"126\"]}},\"y_range\":{\"type\":\"object\",\"name\":\"Range1d\",\"id\":\"p1010\",\"attributes\":{\"tags\":[[[\"estimateArrive\",\"estimateArrive\",null]],{\"type\":\"map\",\"entries\":[[\"invert_yaxis\",false],[\"autorange\",false]]}],\"end\":5179.267471908534,\"reset_start\":0.0,\"reset_end\":5179.267471908534}},\"x_scale\":{\"type\":\"object\",\"name\":\"CategoricalScale\",\"id\":\"p1026\"},\"y_scale\":{\"type\":\"object\",\"name\":\"LinearScale\",\"id\":\"p1027\"},\"title\":{\"type\":\"object\",\"name\":\"Title\",\"id\":\"p1019\",\"attributes\":{\"text_color\":\"black\",\"text_font_size\":\"12pt\"}},\"renderers\":[{\"type\":\"object\",\"name\":\"GlyphRenderer\",\"id\":\"p1056\",\"attributes\":{\"data_source\":{\"type\":\"object\",\"name\":\"ColumnDataSource\",\"id\":\"p1047\",\"attributes\":{\"selected\":{\"type\":\"object\",\"name\":\"Selection\",\"id\":\"p1048\",\"attributes\":{\"indices\":[],\"line_indices\":[]}},\"selection_policy\":{\"type\":\"object\",\"name\":\"UnionRenderers\",\"id\":\"p1049\"},\"data\":{\"type\":\"map\",\"entries\":[[\"line\",[\"135\",\"40\",\"45\",\"178\",\"1\",\"64\",\"831\",\"67\",\"53\",\"127\",\"150\",\"83\",\"29\",\"27\",\"69\",\"134\",\"167\",\"10\",\"5\",\"41\",\"NC2\",\"42\",\"C2\",\"38\",\"132\",\"128\",\"174\",\"124\",\"170\",\"177\",\"176\",\"105\",\"6\",\"66\",\"11\",\"19\",\"129\",\"119\",\"73\",\"165\",\"137\",\"122\",\"361\",\"34\",\"125\",\"166\",\"36\",\"C03\",\"N23\",\"N24\",\"E1\",\"82\",\"14\",\"401\",\"107\",\"49\",\"7\",\"72\",\"BR1\",\"172\",\"9\",\"173\",\"70\",\"171\",\"37\",\"363\",\"109\",\"133\",\"4\",\"175\",\"147\",\"48\",\"126\"]],[\"estimateArrive\",{\"type\":\"ndarray\",\"array\":{\"type\":\"bytes\",\"data\":\"x+gAyE23hECKc5vV752FQCnFgCJwhIJARNJ0jbjghUAUpuZyISCCQPUcnI62RYVAf/SjH/0klUCVrEBsaXSDQH2VMDYL+oBAvsCvoMNKhUB2SyXIhWaCQEQK5/SSeIBAXyhUe68lhED7HjrRq3R1QAAAAAAAIINAu+ModALEhUB8R/l4fgiLQBbcnQ4ZfIFAtGgwYNEqhUCbFZKpt0mRQAAAAAAANq1AlAktd/RigUB3d3d3d/d2QC/OQ8eQp4FAmJFYDVcdgEAAnNFGEm+AQMQ9mWnSgIVAy+5T1C1mgkDYRhKPEwaJQEXe2TfzhYlAzILYPkNSgEAxxZ2ZTvWNQGIaRHQCmIFAsW/yqypmhkBg+FSW4hqMQNB2b5WmgHVAH8L0X6i1iUAg/hOAVIWOQAAAAACAJ4hAwArp1TKpkED6DvDvaz+MQNzXE7mrpIZAU0oppZRekEA6ZKVDVimAQO6YRNUjvYJA6iU3UAC/l0BHDN9rVsSKQIR24cxDUIdAIiIiIqKDskAAAAAAADeyQEYrNgVjUYhAxo8ng6Hwf0Be5DXF4Z6CQKuqqqqqpJVAEz5fXWDqhUDrmC38EgJ5QArsDZ8OJopA/avFEGCfiEAtuEpFtx2JQFwfl57mFY9A5kPPQiqQg0C5MBmRfwKBQBzt5FQWWXtAk7pxzwqTkEC0kK4OHB+IQAUxuYKY5JRAe7Sxqx6hkkAKM2PinCR9QCKecNZbXIZAlzJtvjhJhEDeXbLohKB9QLDjGri53IZAUl2mTRjihUA=\"},\"shape\":[73],\"dtype\":\"float64\",\"order\":\"little\"}]]}}},\"view\":{\"type\":\"object\",\"name\":\"CDSView\",\"id\":\"p1057\",\"attributes\":{\"filter\":{\"type\":\"object\",\"name\":\"AllIndices\",\"id\":\"p1058\"}}},\"glyph\":{\"type\":\"object\",\"name\":\"VBar\",\"id\":\"p1053\",\"attributes\":{\"tags\":[\"apply_ranges\"],\"x\":{\"type\":\"field\",\"field\":\"line\"},\"width\":{\"type\":\"value\",\"value\":0.8},\"top\":{\"type\":\"field\",\"field\":\"estimateArrive\"},\"fill_color\":{\"type\":\"value\",\"value\":\"#30a2da\"},\"hatch_color\":{\"type\":\"value\",\"value\":\"#30a2da\"}}},\"selection_glyph\":{\"type\":\"object\",\"name\":\"VBar\",\"id\":\"p1059\",\"attributes\":{\"tags\":[\"apply_ranges\"],\"x\":{\"type\":\"field\",\"field\":\"line\"},\"width\":{\"type\":\"value\",\"value\":0.8},\"bottom\":{\"type\":\"value\",\"value\":0},\"top\":{\"type\":\"field\",\"field\":\"estimateArrive\"},\"line_color\":{\"type\":\"value\",\"value\":\"black\"},\"line_alpha\":{\"type\":\"value\",\"value\":1.0},\"line_width\":{\"type\":\"value\",\"value\":1},\"line_join\":{\"type\":\"value\",\"value\":\"bevel\"},\"line_cap\":{\"type\":\"value\",\"value\":\"butt\"},\"line_dash\":{\"type\":\"value\",\"value\":[]},\"line_dash_offset\":{\"type\":\"value\",\"value\":0},\"fill_color\":{\"type\":\"value\",\"value\":\"#30a2da\"},\"fill_alpha\":{\"type\":\"value\",\"value\":1.0},\"hatch_color\":{\"type\":\"value\",\"value\":\"#30a2da\"},\"hatch_alpha\":{\"type\":\"value\",\"value\":1.0},\"hatch_scale\":{\"type\":\"value\",\"value\":12.0},\"hatch_pattern\":{\"type\":\"value\",\"value\":null},\"hatch_weight\":{\"type\":\"value\",\"value\":1.0}}},\"nonselection_glyph\":{\"type\":\"object\",\"name\":\"VBar\",\"id\":\"p1054\",\"attributes\":{\"tags\":[\"apply_ranges\"],\"x\":{\"type\":\"field\",\"field\":\"line\"},\"width\":{\"type\":\"value\",\"value\":0.8},\"top\":{\"type\":\"field\",\"field\":\"estimateArrive\"},\"line_alpha\":{\"type\":\"value\",\"value\":0.1},\"fill_color\":{\"type\":\"value\",\"value\":\"#30a2da\"},\"fill_alpha\":{\"type\":\"value\",\"value\":0.1},\"hatch_color\":{\"type\":\"value\",\"value\":\"#30a2da\"},\"hatch_alpha\":{\"type\":\"value\",\"value\":0.1}}},\"muted_glyph\":{\"type\":\"object\",\"name\":\"VBar\",\"id\":\"p1055\",\"attributes\":{\"tags\":[\"apply_ranges\"],\"x\":{\"type\":\"field\",\"field\":\"line\"},\"width\":{\"type\":\"value\",\"value\":0.8},\"top\":{\"type\":\"field\",\"field\":\"estimateArrive\"},\"line_alpha\":{\"type\":\"value\",\"value\":0.2},\"fill_color\":{\"type\":\"value\",\"value\":\"#30a2da\"},\"fill_alpha\":{\"type\":\"value\",\"value\":0.2},\"hatch_color\":{\"type\":\"value\",\"value\":\"#30a2da\"},\"hatch_alpha\":{\"type\":\"value\",\"value\":0.2}}}}}],\"toolbar\":{\"type\":\"object\",\"name\":\"Toolbar\",\"id\":\"p1025\",\"attributes\":{\"tools\":[{\"type\":\"object\",\"name\":\"WheelZoomTool\",\"id\":\"p1014\",\"attributes\":{\"tags\":[\"hv_created\"],\"renderers\":\"auto\",\"zoom_together\":\"none\"}},{\"type\":\"object\",\"name\":\"HoverTool\",\"id\":\"p1015\",\"attributes\":{\"tags\":[\"hv_created\"],\"renderers\":[{\"id\":\"p1056\"}],\"tooltips\":[[\"line\",\"@{line}\"],[\"estimateArrive\",\"@{estimateArrive}\"]]}},{\"type\":\"object\",\"name\":\"SaveTool\",\"id\":\"p1038\"},{\"type\":\"object\",\"name\":\"PanTool\",\"id\":\"p1039\"},{\"type\":\"object\",\"name\":\"BoxZoomTool\",\"id\":\"p1040\",\"attributes\":{\"overlay\":{\"type\":\"object\",\"name\":\"BoxAnnotation\",\"id\":\"p1041\",\"attributes\":{\"syncable\":false,\"level\":\"overlay\",\"visible\":false,\"left\":{\"type\":\"number\",\"value\":\"nan\"},\"right\":{\"type\":\"number\",\"value\":\"nan\"},\"top\":{\"type\":\"number\",\"value\":\"nan\"},\"bottom\":{\"type\":\"number\",\"value\":\"nan\"},\"left_units\":\"canvas\",\"right_units\":\"canvas\",\"top_units\":\"canvas\",\"bottom_units\":\"canvas\",\"line_color\":\"black\",\"line_alpha\":1.0,\"line_width\":2,\"line_dash\":[4,4],\"fill_color\":\"lightgrey\",\"fill_alpha\":0.5}}}},{\"type\":\"object\",\"name\":\"ResetTool\",\"id\":\"p1046\"}],\"active_drag\":{\"id\":\"p1039\"},\"active_scroll\":{\"id\":\"p1014\"}}},\"left\":[{\"type\":\"object\",\"name\":\"LinearAxis\",\"id\":\"p1033\",\"attributes\":{\"ticker\":{\"type\":\"object\",\"name\":\"BasicTicker\",\"id\":\"p1034\",\"attributes\":{\"mantissas\":[1,2,5]}},\"formatter\":{\"type\":\"object\",\"name\":\"BasicTickFormatter\",\"id\":\"p1035\"},\"axis_label\":\"estimateArrive\",\"major_label_policy\":{\"type\":\"object\",\"name\":\"AllLabels\",\"id\":\"p1036\"}}}],\"below\":[{\"type\":\"object\",\"name\":\"CategoricalAxis\",\"id\":\"p1028\",\"attributes\":{\"ticker\":{\"type\":\"object\",\"name\":\"CategoricalTicker\",\"id\":\"p1029\"},\"formatter\":{\"type\":\"object\",\"name\":\"CategoricalTickFormatter\",\"id\":\"p1030\"},\"axis_label\":\"line\",\"major_label_orientation\":1.5707963267948966,\"major_label_policy\":{\"type\":\"object\",\"name\":\"AllLabels\",\"id\":\"p1031\"}}}],\"center\":[{\"type\":\"object\",\"name\":\"Grid\",\"id\":\"p1032\",\"attributes\":{\"axis\":{\"id\":\"p1028\"},\"grid_line_color\":null}},{\"type\":\"object\",\"name\":\"Grid\",\"id\":\"p1037\",\"attributes\":{\"dimension\":1,\"axis\":{\"id\":\"p1033\"},\"grid_line_color\":null}}],\"min_border_top\":10,\"min_border_bottom\":10,\"min_border_left\":10,\"min_border_right\":10,\"output_backend\":\"webgl\"}},{\"type\":\"object\",\"name\":\"Spacer\",\"id\":\"p1061\",\"attributes\":{\"name\":\"HSpacer00947\",\"stylesheets\":[\"\\n:host(.pn-loading):before, .pn-loading:before {\\n  background-color: #c3c3c3;\\n  mask-size: auto calc(min(50%, 400px));\\n  -webkit-mask-size: auto calc(min(50%, 400px));\\n}\",{\"id\":\"p1007\"},{\"id\":\"p1005\"},{\"id\":\"p1006\"}],\"margin\":0,\"sizing_mode\":\"stretch_width\",\"align\":\"start\"}}]}}],\"defs\":[{\"type\":\"model\",\"name\":\"ReactiveHTML1\"},{\"type\":\"model\",\"name\":\"FlexBox1\",\"properties\":[{\"name\":\"align_content\",\"kind\":\"Any\",\"default\":\"flex-start\"},{\"name\":\"align_items\",\"kind\":\"Any\",\"default\":\"flex-start\"},{\"name\":\"flex_direction\",\"kind\":\"Any\",\"default\":\"row\"},{\"name\":\"flex_wrap\",\"kind\":\"Any\",\"default\":\"wrap\"},{\"name\":\"justify_content\",\"kind\":\"Any\",\"default\":\"flex-start\"},{\"name\":\"gap\",\"kind\":\"Any\",\"default\":\"\"}]},{\"type\":\"model\",\"name\":\"FloatPanel1\",\"properties\":[{\"name\":\"config\",\"kind\":\"Any\",\"default\":{\"type\":\"map\"}},{\"name\":\"contained\",\"kind\":\"Any\",\"default\":true},{\"name\":\"position\",\"kind\":\"Any\",\"default\":\"right-top\"},{\"name\":\"offsetx\",\"kind\":\"Any\",\"default\":null},{\"name\":\"offsety\",\"kind\":\"Any\",\"default\":null},{\"name\":\"theme\",\"kind\":\"Any\",\"default\":\"primary\"},{\"name\":\"status\",\"kind\":\"Any\",\"default\":\"normalized\"}]},{\"type\":\"model\",\"name\":\"GridStack1\",\"properties\":[{\"name\":\"mode\",\"kind\":\"Any\",\"default\":\"warn\"},{\"name\":\"ncols\",\"kind\":\"Any\",\"default\":null},{\"name\":\"nrows\",\"kind\":\"Any\",\"default\":null},{\"name\":\"allow_resize\",\"kind\":\"Any\",\"default\":true},{\"name\":\"allow_drag\",\"kind\":\"Any\",\"default\":true},{\"name\":\"state\",\"kind\":\"Any\",\"default\":[]}]},{\"type\":\"model\",\"name\":\"drag1\",\"properties\":[{\"name\":\"slider_width\",\"kind\":\"Any\",\"default\":5},{\"name\":\"slider_color\",\"kind\":\"Any\",\"default\":\"black\"},{\"name\":\"value\",\"kind\":\"Any\",\"default\":50}]},{\"type\":\"model\",\"name\":\"click1\",\"properties\":[{\"name\":\"terminal_output\",\"kind\":\"Any\",\"default\":\"\"},{\"name\":\"debug_name\",\"kind\":\"Any\",\"default\":\"\"},{\"name\":\"clears\",\"kind\":\"Any\",\"default\":0}]},{\"type\":\"model\",\"name\":\"FastWrapper1\",\"properties\":[{\"name\":\"object\",\"kind\":\"Any\",\"default\":null},{\"name\":\"style\",\"kind\":\"Any\",\"default\":null}]},{\"type\":\"model\",\"name\":\"NotificationAreaBase1\",\"properties\":[{\"name\":\"js_events\",\"kind\":\"Any\",\"default\":{\"type\":\"map\"}},{\"name\":\"position\",\"kind\":\"Any\",\"default\":\"bottom-right\"},{\"name\":\"_clear\",\"kind\":\"Any\",\"default\":0}]},{\"type\":\"model\",\"name\":\"NotificationArea1\",\"properties\":[{\"name\":\"js_events\",\"kind\":\"Any\",\"default\":{\"type\":\"map\"}},{\"name\":\"notifications\",\"kind\":\"Any\",\"default\":[]},{\"name\":\"position\",\"kind\":\"Any\",\"default\":\"bottom-right\"},{\"name\":\"_clear\",\"kind\":\"Any\",\"default\":0},{\"name\":\"types\",\"kind\":\"Any\",\"default\":[{\"type\":\"map\",\"entries\":[[\"type\",\"warning\"],[\"background\",\"#ffc107\"],[\"icon\",{\"type\":\"map\",\"entries\":[[\"className\",\"fas fa-exclamation-triangle\"],[\"tagName\",\"i\"],[\"color\",\"white\"]]}]]},{\"type\":\"map\",\"entries\":[[\"type\",\"info\"],[\"background\",\"#007bff\"],[\"icon\",{\"type\":\"map\",\"entries\":[[\"className\",\"fas fa-info-circle\"],[\"tagName\",\"i\"],[\"color\",\"white\"]]}]]}]}]},{\"type\":\"model\",\"name\":\"Notification\",\"properties\":[{\"name\":\"background\",\"kind\":\"Any\",\"default\":null},{\"name\":\"duration\",\"kind\":\"Any\",\"default\":3000},{\"name\":\"icon\",\"kind\":\"Any\",\"default\":null},{\"name\":\"message\",\"kind\":\"Any\",\"default\":\"\"},{\"name\":\"notification_type\",\"kind\":\"Any\",\"default\":null},{\"name\":\"_destroyed\",\"kind\":\"Any\",\"default\":false}]},{\"type\":\"model\",\"name\":\"TemplateActions1\",\"properties\":[{\"name\":\"open_modal\",\"kind\":\"Any\",\"default\":0},{\"name\":\"close_modal\",\"kind\":\"Any\",\"default\":0}]},{\"type\":\"model\",\"name\":\"BootstrapTemplateActions1\",\"properties\":[{\"name\":\"open_modal\",\"kind\":\"Any\",\"default\":0},{\"name\":\"close_modal\",\"kind\":\"Any\",\"default\":0}]},{\"type\":\"model\",\"name\":\"TemplateEditor1\",\"properties\":[{\"name\":\"layout\",\"kind\":\"Any\",\"default\":[]}]},{\"type\":\"model\",\"name\":\"MaterialTemplateActions1\",\"properties\":[{\"name\":\"open_modal\",\"kind\":\"Any\",\"default\":0},{\"name\":\"close_modal\",\"kind\":\"Any\",\"default\":0}]},{\"type\":\"model\",\"name\":\"copy_to_clipboard1\",\"properties\":[{\"name\":\"fill\",\"kind\":\"Any\",\"default\":\"none\"},{\"name\":\"value\",\"kind\":\"Any\",\"default\":null}]}]}};\n",
       "  var render_items = [{\"docid\":\"b99f0367-dc15-40c6-b543-986065db8c57\",\"roots\":{\"p1004\":\"b66e069f-8237-43f6-bede-3cdc2310d5f4\"},\"root_ids\":[\"p1004\"]}];\n",
       "  var docs = Object.values(docs_json)\n",
       "  if (!docs) {\n",
       "    return\n",
       "  }\n",
       "  const py_version = docs[0].version.replace('rc', '-rc.').replace('.dev', '-dev.')\n",
       "  function embed_document(root) {\n",
       "    var Bokeh = get_bokeh(root)\n",
       "    Bokeh.embed.embed_items_notebook(docs_json, render_items);\n",
       "    for (const render_item of render_items) {\n",
       "      for (const root_id of render_item.root_ids) {\n",
       "\tconst id_el = document.getElementById(root_id)\n",
       "\tif (id_el.children.length && (id_el.children[0].className === 'bk-root')) {\n",
       "\t  const root_el = id_el.children[0]\n",
       "\t  root_el.id = root_el.id + '-rendered'\n",
       "\t}\n",
       "      }\n",
       "    }\n",
       "  }\n",
       "  function get_bokeh(root) {\n",
       "    if (root.Bokeh === undefined) {\n",
       "      return null\n",
       "    } else if (root.Bokeh.version !== py_version) {\n",
       "      if (root.Bokeh.versions === undefined || !root.Bokeh.versions.has(py_version)) {\n",
       "\treturn null\n",
       "      }\n",
       "      return root.Bokeh.versions.get(py_version);\n",
       "    } else if (root.Bokeh.version === py_version) {\n",
       "      return root.Bokeh\n",
       "    }\n",
       "    return null\n",
       "  }\n",
       "  function is_loaded(root) {\n",
       "    var Bokeh = get_bokeh(root)\n",
       "    return (Bokeh != null && Bokeh.Panel !== undefined)\n",
       "  }\n",
       "  if (is_loaded(root)) {\n",
       "    embed_document(root);\n",
       "  } else {\n",
       "    var attempts = 0;\n",
       "    var timer = setInterval(function(root) {\n",
       "      if (is_loaded(root)) {\n",
       "        clearInterval(timer);\n",
       "        embed_document(root);\n",
       "      } else if (document.readyState == \"complete\") {\n",
       "        attempts++;\n",
       "        if (attempts > 200) {\n",
       "          clearInterval(timer);\n",
       "\t  var Bokeh = get_bokeh(root)\n",
       "\t  if (Bokeh == null || Bokeh.Panel == null) {\n",
       "            console.warn(\"Panel: ERROR: Unable to run Panel code because Bokeh or Panel library is missing\");\n",
       "\t  } else {\n",
       "\t    console.warn(\"Panel: WARNING: Attempting to render but not all required libraries could be resolved.\")\n",
       "\t    embed_document(root)\n",
       "\t  }\n",
       "        }\n",
       "      }\n",
       "    }, 25, root)\n",
       "  }\n",
       "})(window);</script>"
      ],
      "text/plain": [
       ":Bars   [line]   (estimateArrive)"
      ]
     },
     "execution_count": 33,
     "metadata": {
      "application/vnd.holoviews_exec.v0+json": {
       "id": "p1004"
      }
     },
     "output_type": "execute_result"
    }
   ],
   "source": [
    "sample_data.group_by(pl.col('line')).mean().select(pl.col('line'),pl.col('estimateArrive')).collect().plot.bar(x='line',rot=90)"
   ]
  },
  {
   "cell_type": "markdown",
   "metadata": {},
   "source": [
    "Según que línea sea, el tiempo medio de espera varia bastante. Por lo que esta variable va a ser necesaria a la hora de la creación de nuestro modelo."
   ]
  },
  {
   "cell_type": "markdown",
   "metadata": {},
   "source": [
    "**Variable `stop`**"
   ]
  },
  {
   "cell_type": "markdown",
   "metadata": {},
   "source": [
    "Valores nulos"
   ]
  },
  {
   "cell_type": "code",
   "execution_count": 34,
   "metadata": {},
   "outputs": [
    {
     "data": {
      "text/html": [
       "<div><style>\n",
       ".dataframe > thead > tr,\n",
       ".dataframe > tbody > tr {\n",
       "  text-align: right;\n",
       "  white-space: pre-wrap;\n",
       "}\n",
       "</style>\n",
       "<small>shape: (5, 2)</small><table border=\"1\" class=\"dataframe\"><thead><tr><th>stop</th><th>count</th></tr><tr><td>i64</td><td>u32</td></tr></thead><tbody><tr><td>1745</td><td>3446</td></tr><tr><td>5919</td><td>3435</td></tr><tr><td>5803</td><td>1707</td></tr><tr><td>30</td><td>6801</td></tr><tr><td>271</td><td>1721</td></tr></tbody></table></div>"
      ],
      "text/plain": [
       "shape: (5, 2)\n",
       "┌──────┬───────┐\n",
       "│ stop ┆ count │\n",
       "│ ---  ┆ ---   │\n",
       "│ i64  ┆ u32   │\n",
       "╞══════╪═══════╡\n",
       "│ 1745 ┆ 3446  │\n",
       "│ 5919 ┆ 3435  │\n",
       "│ 5803 ┆ 1707  │\n",
       "│ 30   ┆ 6801  │\n",
       "│ 271  ┆ 1721  │\n",
       "└──────┴───────┘"
      ]
     },
     "execution_count": 34,
     "metadata": {},
     "output_type": "execute_result"
    }
   ],
   "source": [
    "sample_data.group_by(pl.col('stop')).count().head().collect()"
   ]
  },
  {
   "cell_type": "markdown",
   "metadata": {},
   "source": [
    "Correlación"
   ]
  },
  {
   "cell_type": "code",
   "execution_count": 35,
   "metadata": {},
   "outputs": [
    {
     "data": {
      "text/html": [
       "<div><style>\n",
       ".dataframe > thead > tr,\n",
       ".dataframe > tbody > tr {\n",
       "  text-align: right;\n",
       "  white-space: pre-wrap;\n",
       "}\n",
       "</style>\n",
       "<small>shape: (1, 1)</small><table border=\"1\" class=\"dataframe\"><thead><tr><th>stop</th></tr><tr><td>f64</td></tr></thead><tbody><tr><td>0.063389</td></tr></tbody></table></div>"
      ],
      "text/plain": [
       "shape: (1, 1)\n",
       "┌──────────┐\n",
       "│ stop     │\n",
       "│ ---      │\n",
       "│ f64      │\n",
       "╞══════════╡\n",
       "│ 0.063389 │\n",
       "└──────────┘"
      ]
     },
     "execution_count": 35,
     "metadata": {},
     "output_type": "execute_result"
    }
   ],
   "source": [
    "sample_data.select(pl.corr('stop','estimateArrive')).head().collect()"
   ]
  },
  {
   "cell_type": "markdown",
   "metadata": {},
   "source": [
    "Tiempo medio de espera según parada"
   ]
  },
  {
   "cell_type": "code",
   "execution_count": 36,
   "metadata": {},
   "outputs": [
    {
     "data": {
      "text/html": [
       "<div><style>\n",
       ".dataframe > thead > tr,\n",
       ".dataframe > tbody > tr {\n",
       "  text-align: right;\n",
       "  white-space: pre-wrap;\n",
       "}\n",
       "</style>\n",
       "<small>shape: (5, 2)</small><table border=\"1\" class=\"dataframe\"><thead><tr><th>stop</th><th>estimateArrive</th></tr><tr><td>i64</td><td>f64</td></tr></thead><tbody><tr><td>5800</td><td>804.162099</td></tr><tr><td>4493</td><td>711.560164</td></tr><tr><td>1608</td><td>605.882045</td></tr><tr><td>5919</td><td>773.480058</td></tr><tr><td>5803</td><td>786.485647</td></tr></tbody></table></div>"
      ],
      "text/plain": [
       "shape: (5, 2)\n",
       "┌──────┬────────────────┐\n",
       "│ stop ┆ estimateArrive │\n",
       "│ ---  ┆ ---            │\n",
       "│ i64  ┆ f64            │\n",
       "╞══════╪════════════════╡\n",
       "│ 5800 ┆ 804.162099     │\n",
       "│ 4493 ┆ 711.560164     │\n",
       "│ 1608 ┆ 605.882045     │\n",
       "│ 5919 ┆ 773.480058     │\n",
       "│ 5803 ┆ 786.485647     │\n",
       "└──────┴────────────────┘"
      ]
     },
     "execution_count": 36,
     "metadata": {},
     "output_type": "execute_result"
    }
   ],
   "source": [
    "sample_data.group_by(pl.col('stop')).mean().select(pl.col('stop'),pl.col('estimateArrive')).head().collect()"
   ]
  },
  {
   "cell_type": "markdown",
   "metadata": {},
   "source": [
    "Según que parada sea, el tiempo medio de espera varia bastante. Por lo que esta variable va a ser necesaria a la hora de la creación de nuestro modelo."
   ]
  },
  {
   "cell_type": "markdown",
   "metadata": {},
   "source": [
    "**Variable `positionBusLon`**"
   ]
  },
  {
   "cell_type": "markdown",
   "metadata": {},
   "source": [
    "Valores nulos"
   ]
  },
  {
   "cell_type": "code",
   "execution_count": 37,
   "metadata": {},
   "outputs": [
    {
     "data": {
      "text/html": [
       "<div><style>\n",
       ".dataframe > thead > tr,\n",
       ".dataframe > tbody > tr {\n",
       "  text-align: right;\n",
       "  white-space: pre-wrap;\n",
       "}\n",
       "</style>\n",
       "<small>shape: (5, 2)</small><table border=\"1\" class=\"dataframe\"><thead><tr><th>positionBusLon</th><th>count</th></tr><tr><td>f64</td><td>u32</td></tr></thead><tbody><tr><td>-3.697979</td><td>3</td></tr><tr><td>-3.647153</td><td>1</td></tr><tr><td>-3.6347</td><td>7</td></tr><tr><td>-3.711168</td><td>2</td></tr><tr><td>-3.713401</td><td>23</td></tr></tbody></table></div>"
      ],
      "text/plain": [
       "shape: (5, 2)\n",
       "┌────────────────┬───────┐\n",
       "│ positionBusLon ┆ count │\n",
       "│ ---            ┆ ---   │\n",
       "│ f64            ┆ u32   │\n",
       "╞════════════════╪═══════╡\n",
       "│ -3.697979      ┆ 3     │\n",
       "│ -3.647153      ┆ 1     │\n",
       "│ -3.6347        ┆ 7     │\n",
       "│ -3.711168      ┆ 2     │\n",
       "│ -3.713401      ┆ 23    │\n",
       "└────────────────┴───────┘"
      ]
     },
     "execution_count": 37,
     "metadata": {},
     "output_type": "execute_result"
    }
   ],
   "source": [
    "sample_data.group_by(pl.col('positionBusLon')).count().head().collect()"
   ]
  },
  {
   "cell_type": "markdown",
   "metadata": {},
   "source": [
    "Correlación"
   ]
  },
  {
   "cell_type": "code",
   "execution_count": 38,
   "metadata": {},
   "outputs": [
    {
     "data": {
      "text/html": [
       "<div><style>\n",
       ".dataframe > thead > tr,\n",
       ".dataframe > tbody > tr {\n",
       "  text-align: right;\n",
       "  white-space: pre-wrap;\n",
       "}\n",
       "</style>\n",
       "<small>shape: (1, 1)</small><table border=\"1\" class=\"dataframe\"><thead><tr><th>positionBusLon</th></tr><tr><td>f64</td></tr></thead><tbody><tr><td>0.10522</td></tr></tbody></table></div>"
      ],
      "text/plain": [
       "shape: (1, 1)\n",
       "┌────────────────┐\n",
       "│ positionBusLon │\n",
       "│ ---            │\n",
       "│ f64            │\n",
       "╞════════════════╡\n",
       "│ 0.10522        │\n",
       "└────────────────┘"
      ]
     },
     "execution_count": 38,
     "metadata": {},
     "output_type": "execute_result"
    }
   ],
   "source": [
    "sample_data.select(pl.corr('positionBusLon','estimateArrive')).head().collect()"
   ]
  },
  {
   "cell_type": "markdown",
   "metadata": {},
   "source": [
    "**Variable `positionBusLat`**"
   ]
  },
  {
   "cell_type": "markdown",
   "metadata": {},
   "source": [
    "Valores nulos"
   ]
  },
  {
   "cell_type": "code",
   "execution_count": 39,
   "metadata": {},
   "outputs": [
    {
     "data": {
      "text/html": [
       "<div><style>\n",
       ".dataframe > thead > tr,\n",
       ".dataframe > tbody > tr {\n",
       "  text-align: right;\n",
       "  white-space: pre-wrap;\n",
       "}\n",
       "</style>\n",
       "<small>shape: (5, 2)</small><table border=\"1\" class=\"dataframe\"><thead><tr><th>positionBusLat</th><th>count</th></tr><tr><td>f64</td><td>u32</td></tr></thead><tbody><tr><td>40.481868</td><td>9</td></tr><tr><td>40.467639</td><td>17</td></tr><tr><td>40.424176</td><td>2</td></tr><tr><td>40.469551</td><td>24</td></tr><tr><td>40.475646</td><td>9</td></tr></tbody></table></div>"
      ],
      "text/plain": [
       "shape: (5, 2)\n",
       "┌────────────────┬───────┐\n",
       "│ positionBusLat ┆ count │\n",
       "│ ---            ┆ ---   │\n",
       "│ f64            ┆ u32   │\n",
       "╞════════════════╪═══════╡\n",
       "│ 40.481868      ┆ 9     │\n",
       "│ 40.467639      ┆ 17    │\n",
       "│ 40.424176      ┆ 2     │\n",
       "│ 40.469551      ┆ 24    │\n",
       "│ 40.475646      ┆ 9     │\n",
       "└────────────────┴───────┘"
      ]
     },
     "execution_count": 39,
     "metadata": {},
     "output_type": "execute_result"
    }
   ],
   "source": [
    "sample_data.group_by(pl.col('positionBusLat')).count().head().collect()"
   ]
  },
  {
   "cell_type": "markdown",
   "metadata": {},
   "source": [
    "Correlación"
   ]
  },
  {
   "cell_type": "code",
   "execution_count": 40,
   "metadata": {},
   "outputs": [
    {
     "data": {
      "text/html": [
       "<div><style>\n",
       ".dataframe > thead > tr,\n",
       ".dataframe > tbody > tr {\n",
       "  text-align: right;\n",
       "  white-space: pre-wrap;\n",
       "}\n",
       "</style>\n",
       "<small>shape: (1, 1)</small><table border=\"1\" class=\"dataframe\"><thead><tr><th>positionBusLat</th></tr><tr><td>f64</td></tr></thead><tbody><tr><td>-0.103452</td></tr></tbody></table></div>"
      ],
      "text/plain": [
       "shape: (1, 1)\n",
       "┌────────────────┐\n",
       "│ positionBusLat │\n",
       "│ ---            │\n",
       "│ f64            │\n",
       "╞════════════════╡\n",
       "│ -0.103452      │\n",
       "└────────────────┘"
      ]
     },
     "execution_count": 40,
     "metadata": {},
     "output_type": "execute_result"
    }
   ],
   "source": [
    "sample_data.select(pl.corr('positionBusLat','estimateArrive')).head().collect()"
   ]
  },
  {
   "cell_type": "markdown",
   "metadata": {},
   "source": [
    "**Variable `positionTypeBus`**"
   ]
  },
  {
   "cell_type": "markdown",
   "metadata": {},
   "source": [
    "Valores nulos"
   ]
  },
  {
   "cell_type": "code",
   "execution_count": 41,
   "metadata": {},
   "outputs": [
    {
     "data": {
      "text/html": [
       "<div><style>\n",
       ".dataframe > thead > tr,\n",
       ".dataframe > tbody > tr {\n",
       "  text-align: right;\n",
       "  white-space: pre-wrap;\n",
       "}\n",
       "</style>\n",
       "<small>shape: (3, 2)</small><table border=\"1\" class=\"dataframe\"><thead><tr><th>positionTypeBus</th><th>count</th></tr><tr><td>i64</td><td>u32</td></tr></thead><tbody><tr><td>1</td><td>11</td></tr><tr><td>5</td><td>1356</td></tr><tr><td>0</td><td>1129772</td></tr></tbody></table></div>"
      ],
      "text/plain": [
       "shape: (3, 2)\n",
       "┌─────────────────┬─────────┐\n",
       "│ positionTypeBus ┆ count   │\n",
       "│ ---             ┆ ---     │\n",
       "│ i64             ┆ u32     │\n",
       "╞═════════════════╪═════════╡\n",
       "│ 1               ┆ 11      │\n",
       "│ 5               ┆ 1356    │\n",
       "│ 0               ┆ 1129772 │\n",
       "└─────────────────┴─────────┘"
      ]
     },
     "execution_count": 41,
     "metadata": {},
     "output_type": "execute_result"
    }
   ],
   "source": [
    "sample_data.group_by(pl.col('positionTypeBus')).count().head().collect()"
   ]
  },
  {
   "cell_type": "markdown",
   "metadata": {},
   "source": [
    "Correlación"
   ]
  },
  {
   "cell_type": "code",
   "execution_count": 42,
   "metadata": {},
   "outputs": [
    {
     "data": {
      "text/html": [
       "<div><style>\n",
       ".dataframe > thead > tr,\n",
       ".dataframe > tbody > tr {\n",
       "  text-align: right;\n",
       "  white-space: pre-wrap;\n",
       "}\n",
       "</style>\n",
       "<small>shape: (1, 1)</small><table border=\"1\" class=\"dataframe\"><thead><tr><th>positionTypeBus</th></tr><tr><td>f64</td></tr></thead><tbody><tr><td>0.028544</td></tr></tbody></table></div>"
      ],
      "text/plain": [
       "shape: (1, 1)\n",
       "┌─────────────────┐\n",
       "│ positionTypeBus │\n",
       "│ ---             │\n",
       "│ f64             │\n",
       "╞═════════════════╡\n",
       "│ 0.028544        │\n",
       "└─────────────────┘"
      ]
     },
     "execution_count": 42,
     "metadata": {},
     "output_type": "execute_result"
    }
   ],
   "source": [
    "sample_data.select(pl.corr('positionTypeBus','estimateArrive')).head().collect()"
   ]
  },
  {
   "cell_type": "markdown",
   "metadata": {},
   "source": [
    "Como no tenemos información acerca del significado de esta variable, no podemos entenderla por lo que decidimos eliminarla"
   ]
  },
  {
   "cell_type": "code",
   "execution_count": 43,
   "metadata": {},
   "outputs": [],
   "source": [
    "sample_data = sample_data.drop('positionBusType')"
   ]
  },
  {
   "cell_type": "markdown",
   "metadata": {},
   "source": [
    "**Variable `DistanceBus`**"
   ]
  },
  {
   "cell_type": "markdown",
   "metadata": {},
   "source": [
    "Valores nulos"
   ]
  },
  {
   "cell_type": "code",
   "execution_count": 44,
   "metadata": {},
   "outputs": [
    {
     "data": {
      "text/html": [
       "<div><style>\n",
       ".dataframe > thead > tr,\n",
       ".dataframe > tbody > tr {\n",
       "  text-align: right;\n",
       "  white-space: pre-wrap;\n",
       "}\n",
       "</style>\n",
       "<small>shape: (5, 2)</small><table border=\"1\" class=\"dataframe\"><thead><tr><th>DistanceBus</th><th>count</th></tr><tr><td>i64</td><td>u32</td></tr></thead><tbody><tr><td>10888</td><td>3</td></tr><tr><td>5651</td><td>48</td></tr><tr><td>6443</td><td>37</td></tr><tr><td>2385</td><td>248</td></tr><tr><td>670</td><td>284</td></tr></tbody></table></div>"
      ],
      "text/plain": [
       "shape: (5, 2)\n",
       "┌─────────────┬───────┐\n",
       "│ DistanceBus ┆ count │\n",
       "│ ---         ┆ ---   │\n",
       "│ i64         ┆ u32   │\n",
       "╞═════════════╪═══════╡\n",
       "│ 10888       ┆ 3     │\n",
       "│ 5651        ┆ 48    │\n",
       "│ 6443        ┆ 37    │\n",
       "│ 2385        ┆ 248   │\n",
       "│ 670         ┆ 284   │\n",
       "└─────────────┴───────┘"
      ]
     },
     "execution_count": 44,
     "metadata": {},
     "output_type": "execute_result"
    }
   ],
   "source": [
    "sample_data.group_by(pl.col('DistanceBus')).count().head().collect()"
   ]
  },
  {
   "cell_type": "markdown",
   "metadata": {},
   "source": [
    "Correlación"
   ]
  },
  {
   "cell_type": "code",
   "execution_count": 45,
   "metadata": {},
   "outputs": [
    {
     "data": {
      "text/html": [
       "<div><style>\n",
       ".dataframe > thead > tr,\n",
       ".dataframe > tbody > tr {\n",
       "  text-align: right;\n",
       "  white-space: pre-wrap;\n",
       "}\n",
       "</style>\n",
       "<small>shape: (1, 1)</small><table border=\"1\" class=\"dataframe\"><thead><tr><th>DistanceBus</th></tr><tr><td>f64</td></tr></thead><tbody><tr><td>0.857959</td></tr></tbody></table></div>"
      ],
      "text/plain": [
       "shape: (1, 1)\n",
       "┌─────────────┐\n",
       "│ DistanceBus │\n",
       "│ ---         │\n",
       "│ f64         │\n",
       "╞═════════════╡\n",
       "│ 0.857959    │\n",
       "└─────────────┘"
      ]
     },
     "execution_count": 45,
     "metadata": {},
     "output_type": "execute_result"
    }
   ],
   "source": [
    "sample_data.select(pl.corr('DistanceBus','estimateArrive')).head().collect()"
   ]
  },
  {
   "cell_type": "markdown",
   "metadata": {},
   "source": [
    "Como era de esperar, es la variable que mayor correlación tiene con el `ETA`"
   ]
  },
  {
   "cell_type": "markdown",
   "metadata": {},
   "source": [
    "**Variable `destination`**"
   ]
  },
  {
   "cell_type": "markdown",
   "metadata": {},
   "source": [
    "Valores nulos"
   ]
  },
  {
   "cell_type": "code",
   "execution_count": 46,
   "metadata": {},
   "outputs": [
    {
     "data": {
      "text/html": [
       "<div><style>\n",
       ".dataframe > thead > tr,\n",
       ".dataframe > tbody > tr {\n",
       "  text-align: right;\n",
       "  white-space: pre-wrap;\n",
       "}\n",
       "</style>\n",
       "<small>shape: (5, 2)</small><table border=\"1\" class=\"dataframe\"><thead><tr><th>destination</th><th>count</th></tr><tr><td>str</td><td>u32</td></tr></thead><tbody><tr><td>&quot;TELEFONICA&quot;</td><td>5120</td></tr><tr><td>&quot;SANCHINARRO&quot;</td><td>37472</td></tr><tr><td>&quot;BARRIO DEL PIL…</td><td>54330</td></tr><tr><td>&quot;PLAZA CATALUÑA…</td><td>1672</td></tr><tr><td>&quot;REINA VICTORIA…</td><td>18282</td></tr></tbody></table></div>"
      ],
      "text/plain": [
       "shape: (5, 2)\n",
       "┌──────────────────┬───────┐\n",
       "│ destination      ┆ count │\n",
       "│ ---              ┆ ---   │\n",
       "│ str              ┆ u32   │\n",
       "╞══════════════════╪═══════╡\n",
       "│ TELEFONICA       ┆ 5120  │\n",
       "│ SANCHINARRO      ┆ 37472 │\n",
       "│ BARRIO DEL PILAR ┆ 54330 │\n",
       "│ PLAZA CATALUÑA   ┆ 1672  │\n",
       "│ REINA VICTORIA   ┆ 18282 │\n",
       "└──────────────────┴───────┘"
      ]
     },
     "execution_count": 46,
     "metadata": {},
     "output_type": "execute_result"
    }
   ],
   "source": [
    "sample_data.group_by(pl.col('destination')).count().head().collect()"
   ]
  },
  {
   "cell_type": "markdown",
   "metadata": {},
   "source": [
    "Tiempo medio de espera según destino"
   ]
  },
  {
   "cell_type": "code",
   "execution_count": 47,
   "metadata": {},
   "outputs": [
    {
     "data": {},
     "metadata": {},
     "output_type": "display_data"
    },
    {
     "data": {
      "application/vnd.holoviews_exec.v0+json": "",
      "text/html": [
       "<div id='p1066'>\n",
       "  <div id=\"d530be2e-edc4-49d5-8474-b097ba4464fc\" data-root-id=\"p1066\" style=\"display: contents;\"></div>\n",
       "</div>\n",
       "<script type=\"application/javascript\">(function(root) {\n",
       "  var docs_json = {\"d323b56f-9e03-4d5f-8fc7-5365e5caf3e9\":{\"version\":\"3.4.0\",\"title\":\"Bokeh Application\",\"roots\":[{\"type\":\"object\",\"name\":\"Row\",\"id\":\"p1066\",\"attributes\":{\"name\":\"Row01048\",\"tags\":[\"embedded\"],\"stylesheets\":[\"\\n:host(.pn-loading):before, .pn-loading:before {\\n  background-color: #c3c3c3;\\n  mask-size: auto calc(min(50%, 400px));\\n  -webkit-mask-size: auto calc(min(50%, 400px));\\n}\",{\"type\":\"object\",\"name\":\"ImportedStyleSheet\",\"id\":\"p1069\",\"attributes\":{\"url\":\"https://cdn.holoviz.org/panel/1.4.0/dist/css/loading.css\"}},{\"type\":\"object\",\"name\":\"ImportedStyleSheet\",\"id\":\"p1125\",\"attributes\":{\"url\":\"https://cdn.holoviz.org/panel/1.4.0/dist/css/listpanel.css\"}},{\"type\":\"object\",\"name\":\"ImportedStyleSheet\",\"id\":\"p1067\",\"attributes\":{\"url\":\"https://cdn.holoviz.org/panel/1.4.0/dist/bundled/theme/default.css\"}},{\"type\":\"object\",\"name\":\"ImportedStyleSheet\",\"id\":\"p1068\",\"attributes\":{\"url\":\"https://cdn.holoviz.org/panel/1.4.0/dist/bundled/theme/native.css\"}}],\"min_width\":700,\"margin\":0,\"sizing_mode\":\"stretch_width\",\"align\":\"start\",\"children\":[{\"type\":\"object\",\"name\":\"Spacer\",\"id\":\"p1070\",\"attributes\":{\"name\":\"HSpacer01055\",\"stylesheets\":[\"\\n:host(.pn-loading):before, .pn-loading:before {\\n  background-color: #c3c3c3;\\n  mask-size: auto calc(min(50%, 400px));\\n  -webkit-mask-size: auto calc(min(50%, 400px));\\n}\",{\"id\":\"p1069\"},{\"id\":\"p1067\"},{\"id\":\"p1068\"}],\"margin\":0,\"sizing_mode\":\"stretch_width\",\"align\":\"start\"}},{\"type\":\"object\",\"name\":\"Figure\",\"id\":\"p1078\",\"attributes\":{\"width\":700,\"height\":300,\"margin\":[5,10],\"sizing_mode\":\"fixed\",\"align\":\"start\",\"x_range\":{\"type\":\"object\",\"name\":\"FactorRange\",\"id\":\"p1071\",\"attributes\":{\"tags\":[[[\"destination\",\"destination\",null]],[]],\"factors\":[\"PUERTA HIERRO\",\"MONTECARMELO\",\"PITIS\",\"LAS TABLAS SUR\",\"EMBAJADORES\",\"ATOCHA\",\"PLAZA CASTILLA\",\"ESTACI\\u00d3N DE ATOCHA\",\"ARG\\u00dcELLES\",\"HOSPITAL RAMON Y CAJAL\",\"BARRIO PE\\u00d1AGRANDE\",\"MIRASIERRA\",\"PUERTA ARGANDA\",\"DIEGO DE LEON\",\"CHAMARTIN\",\"CIUDAD LINEAL\",\"ARTURO SORIA\",\"HOSPITAL LA PAZ\",\"SANCHINARRO\",\"MARQUES DE VIANA\",\"BARAJAS\",\"TELEFONICA\",\"AVENIDA AMERICA\",\"BARRIO CANILLEJAS\",\"VALDEBEBAS\",\"MONCLOA\",\"ALFONSO XIII\",\"REINA VICTORIA\",\"ARROYO DEL FRESNO\",\"BENAVENTE\",\"PIO XII\",\"LAS TABLAS NORTE\",\"VIRGEN CORTIJO\",\"FUENCARRAL\",\"BARRIO DE LA PAZ\",\"ALSACIA\",\"CIBELES\",\"BARRIO BLANCO\",\"FELIPE II\",\"CUATRO CAMINOS\",\"BARRIO DEL PILAR\",\"CALLAO\",\"LAS ROSAS\",\"CIRCULAR 2\",\"PLAZA CATALU\\u00d1A\",\"Cuatro Caminos\",\"LACOMA\",\"MANOTERAS\",\"HORTALEZA\",\"SOL SEVILLA\",\"MAR DE CRISTAL\",\"ALONSO MARTINEZ\"]}},\"y_range\":{\"type\":\"object\",\"name\":\"Range1d\",\"id\":\"p1072\",\"attributes\":{\"tags\":[[[\"estimateArrive\",\"estimateArrive\",null]],{\"type\":\"map\",\"entries\":[[\"invert_yaxis\",false],[\"autorange\",false]]}],\"end\":4079.261120943953,\"reset_start\":0.0,\"reset_end\":4079.261120943953}},\"x_scale\":{\"type\":\"object\",\"name\":\"CategoricalScale\",\"id\":\"p1088\"},\"y_scale\":{\"type\":\"object\",\"name\":\"LinearScale\",\"id\":\"p1089\"},\"title\":{\"type\":\"object\",\"name\":\"Title\",\"id\":\"p1081\",\"attributes\":{\"text_color\":\"black\",\"text_font_size\":\"12pt\"}},\"renderers\":[{\"type\":\"object\",\"name\":\"GlyphRenderer\",\"id\":\"p1118\",\"attributes\":{\"data_source\":{\"type\":\"object\",\"name\":\"ColumnDataSource\",\"id\":\"p1109\",\"attributes\":{\"selected\":{\"type\":\"object\",\"name\":\"Selection\",\"id\":\"p1110\",\"attributes\":{\"indices\":[],\"line_indices\":[]}},\"selection_policy\":{\"type\":\"object\",\"name\":\"UnionRenderers\",\"id\":\"p1111\"},\"data\":{\"type\":\"map\",\"entries\":[[\"destination\",[\"PUERTA HIERRO\",\"MONTECARMELO\",\"PITIS\",\"LAS TABLAS SUR\",\"EMBAJADORES\",\"ATOCHA\",\"PLAZA CASTILLA\",\"ESTACI\\u00d3N DE ATOCHA\",\"ARG\\u00dcELLES\",\"HOSPITAL RAMON Y CAJAL\",\"BARRIO PE\\u00d1AGRANDE\",\"MIRASIERRA\",\"PUERTA ARGANDA\",\"DIEGO DE LEON\",\"CHAMARTIN\",\"CIUDAD LINEAL\",\"ARTURO SORIA\",\"HOSPITAL LA PAZ\",\"SANCHINARRO\",\"MARQUES DE VIANA\",\"BARAJAS\",\"TELEFONICA\",\"AVENIDA AMERICA\",\"BARRIO CANILLEJAS\",\"VALDEBEBAS\",\"MONCLOA\",\"ALFONSO XIII\",\"REINA VICTORIA\",\"ARROYO DEL FRESNO\",\"BENAVENTE\",\"PIO XII\",\"LAS TABLAS NORTE\",\"VIRGEN CORTIJO\",\"FUENCARRAL\",\"BARRIO DE LA PAZ\",\"ALSACIA\",\"CIBELES\",\"BARRIO BLANCO\",\"FELIPE II\",\"CUATRO CAMINOS\",\"BARRIO DEL PILAR\",\"CALLAO\",\"LAS ROSAS\",\"CIRCULAR 2\",\"PLAZA CATALU\\u00d1A\",\"Cuatro Caminos\",\"LACOMA\",\"MANOTERAS\",\"HORTALEZA\",\"SOL SEVILLA\",\"MAR DE CRISTAL\",\"ALONSO MARTINEZ\"]],[\"estimateArrive\",{\"type\":\"ndarray\",\"array\":{\"type\":\"bytes\",\"data\":\"DoaeYyHyjECJgPAmjMmFQLAxfmJAFnpAwkypx1w2gECIY3N8OAZ1QEovC3GbnI5A0FR2EprZfUAAAAAAADatQHmkapimY4dAVLMmdn/ThEDiEhlsQXKCQCGi+eoNUnxAIp5w1ltchkAP9lttDKWIQLRoMGDRKoVAe7Sxqx6hkkB9lTA2C/qAQOEmPUHRUH5AAJu59TT1g0BI8X8/dXKJQMW8nSGxyZBAZmZmZoTTj0Dc1xO5q6SGQLDjGri53IZAStSTXHariEBy1c5UdDyBQIpzm9XvnYVAKcWAInCEgkDUzaNm/teJQGIaRHQCmIFAXuQ1xeGegkCaXl2+2xmEQHZLJciFZoJATiAD1zXGiEDTI0vi+Wp/QJfCnPKL7H1AAFPWwcixgUBg+FSW4hqMQMvZPqb6koRALm7AqpbshUDD3SQYllGBQDBvKJqrTX1AL85Dx5CngUD9jy5fu1Z1QNB2b5WmgHVApoJWXyogf0CKOiYL51aCQMotntzisYhAi58wPXa6hUAveyS1cUCEQNZvspU67IhAnYKXU/AOi0A=\"},\"shape\":[52],\"dtype\":\"float64\",\"order\":\"little\"}]]}}},\"view\":{\"type\":\"object\",\"name\":\"CDSView\",\"id\":\"p1119\",\"attributes\":{\"filter\":{\"type\":\"object\",\"name\":\"AllIndices\",\"id\":\"p1120\"}}},\"glyph\":{\"type\":\"object\",\"name\":\"VBar\",\"id\":\"p1115\",\"attributes\":{\"tags\":[\"apply_ranges\"],\"x\":{\"type\":\"field\",\"field\":\"destination\"},\"width\":{\"type\":\"value\",\"value\":0.8},\"top\":{\"type\":\"field\",\"field\":\"estimateArrive\"},\"fill_color\":{\"type\":\"value\",\"value\":\"#30a2da\"},\"hatch_color\":{\"type\":\"value\",\"value\":\"#30a2da\"}}},\"selection_glyph\":{\"type\":\"object\",\"name\":\"VBar\",\"id\":\"p1121\",\"attributes\":{\"tags\":[\"apply_ranges\"],\"x\":{\"type\":\"field\",\"field\":\"destination\"},\"width\":{\"type\":\"value\",\"value\":0.8},\"bottom\":{\"type\":\"value\",\"value\":0},\"top\":{\"type\":\"field\",\"field\":\"estimateArrive\"},\"line_color\":{\"type\":\"value\",\"value\":\"black\"},\"line_alpha\":{\"type\":\"value\",\"value\":1.0},\"line_width\":{\"type\":\"value\",\"value\":1},\"line_join\":{\"type\":\"value\",\"value\":\"bevel\"},\"line_cap\":{\"type\":\"value\",\"value\":\"butt\"},\"line_dash\":{\"type\":\"value\",\"value\":[]},\"line_dash_offset\":{\"type\":\"value\",\"value\":0},\"fill_color\":{\"type\":\"value\",\"value\":\"#30a2da\"},\"fill_alpha\":{\"type\":\"value\",\"value\":1.0},\"hatch_color\":{\"type\":\"value\",\"value\":\"#30a2da\"},\"hatch_alpha\":{\"type\":\"value\",\"value\":1.0},\"hatch_scale\":{\"type\":\"value\",\"value\":12.0},\"hatch_pattern\":{\"type\":\"value\",\"value\":null},\"hatch_weight\":{\"type\":\"value\",\"value\":1.0}}},\"nonselection_glyph\":{\"type\":\"object\",\"name\":\"VBar\",\"id\":\"p1116\",\"attributes\":{\"tags\":[\"apply_ranges\"],\"x\":{\"type\":\"field\",\"field\":\"destination\"},\"width\":{\"type\":\"value\",\"value\":0.8},\"top\":{\"type\":\"field\",\"field\":\"estimateArrive\"},\"line_alpha\":{\"type\":\"value\",\"value\":0.1},\"fill_color\":{\"type\":\"value\",\"value\":\"#30a2da\"},\"fill_alpha\":{\"type\":\"value\",\"value\":0.1},\"hatch_color\":{\"type\":\"value\",\"value\":\"#30a2da\"},\"hatch_alpha\":{\"type\":\"value\",\"value\":0.1}}},\"muted_glyph\":{\"type\":\"object\",\"name\":\"VBar\",\"id\":\"p1117\",\"attributes\":{\"tags\":[\"apply_ranges\"],\"x\":{\"type\":\"field\",\"field\":\"destination\"},\"width\":{\"type\":\"value\",\"value\":0.8},\"top\":{\"type\":\"field\",\"field\":\"estimateArrive\"},\"line_alpha\":{\"type\":\"value\",\"value\":0.2},\"fill_color\":{\"type\":\"value\",\"value\":\"#30a2da\"},\"fill_alpha\":{\"type\":\"value\",\"value\":0.2},\"hatch_color\":{\"type\":\"value\",\"value\":\"#30a2da\"},\"hatch_alpha\":{\"type\":\"value\",\"value\":0.2}}}}}],\"toolbar\":{\"type\":\"object\",\"name\":\"Toolbar\",\"id\":\"p1087\",\"attributes\":{\"tools\":[{\"type\":\"object\",\"name\":\"WheelZoomTool\",\"id\":\"p1076\",\"attributes\":{\"tags\":[\"hv_created\"],\"renderers\":\"auto\",\"zoom_together\":\"none\"}},{\"type\":\"object\",\"name\":\"HoverTool\",\"id\":\"p1077\",\"attributes\":{\"tags\":[\"hv_created\"],\"renderers\":[{\"id\":\"p1118\"}],\"tooltips\":[[\"destination\",\"@{destination}\"],[\"estimateArrive\",\"@{estimateArrive}\"]]}},{\"type\":\"object\",\"name\":\"SaveTool\",\"id\":\"p1100\"},{\"type\":\"object\",\"name\":\"PanTool\",\"id\":\"p1101\"},{\"type\":\"object\",\"name\":\"BoxZoomTool\",\"id\":\"p1102\",\"attributes\":{\"overlay\":{\"type\":\"object\",\"name\":\"BoxAnnotation\",\"id\":\"p1103\",\"attributes\":{\"syncable\":false,\"level\":\"overlay\",\"visible\":false,\"left\":{\"type\":\"number\",\"value\":\"nan\"},\"right\":{\"type\":\"number\",\"value\":\"nan\"},\"top\":{\"type\":\"number\",\"value\":\"nan\"},\"bottom\":{\"type\":\"number\",\"value\":\"nan\"},\"left_units\":\"canvas\",\"right_units\":\"canvas\",\"top_units\":\"canvas\",\"bottom_units\":\"canvas\",\"line_color\":\"black\",\"line_alpha\":1.0,\"line_width\":2,\"line_dash\":[4,4],\"fill_color\":\"lightgrey\",\"fill_alpha\":0.5}}}},{\"type\":\"object\",\"name\":\"ResetTool\",\"id\":\"p1108\"}],\"active_drag\":{\"id\":\"p1101\"},\"active_scroll\":{\"id\":\"p1076\"}}},\"left\":[{\"type\":\"object\",\"name\":\"LinearAxis\",\"id\":\"p1095\",\"attributes\":{\"ticker\":{\"type\":\"object\",\"name\":\"BasicTicker\",\"id\":\"p1096\",\"attributes\":{\"mantissas\":[1,2,5]}},\"formatter\":{\"type\":\"object\",\"name\":\"BasicTickFormatter\",\"id\":\"p1097\"},\"axis_label\":\"estimateArrive\",\"major_label_policy\":{\"type\":\"object\",\"name\":\"AllLabels\",\"id\":\"p1098\"}}}],\"below\":[{\"type\":\"object\",\"name\":\"CategoricalAxis\",\"id\":\"p1090\",\"attributes\":{\"ticker\":{\"type\":\"object\",\"name\":\"CategoricalTicker\",\"id\":\"p1091\"},\"formatter\":{\"type\":\"object\",\"name\":\"CategoricalTickFormatter\",\"id\":\"p1092\"},\"axis_label\":\"destination\",\"major_label_orientation\":1.5707963267948966,\"major_label_policy\":{\"type\":\"object\",\"name\":\"AllLabels\",\"id\":\"p1093\"}}}],\"center\":[{\"type\":\"object\",\"name\":\"Grid\",\"id\":\"p1094\",\"attributes\":{\"axis\":{\"id\":\"p1090\"},\"grid_line_color\":null}},{\"type\":\"object\",\"name\":\"Grid\",\"id\":\"p1099\",\"attributes\":{\"dimension\":1,\"axis\":{\"id\":\"p1095\"},\"grid_line_color\":null}}],\"min_border_top\":10,\"min_border_bottom\":10,\"min_border_left\":10,\"min_border_right\":10,\"output_backend\":\"webgl\"}},{\"type\":\"object\",\"name\":\"Spacer\",\"id\":\"p1123\",\"attributes\":{\"name\":\"HSpacer01056\",\"stylesheets\":[\"\\n:host(.pn-loading):before, .pn-loading:before {\\n  background-color: #c3c3c3;\\n  mask-size: auto calc(min(50%, 400px));\\n  -webkit-mask-size: auto calc(min(50%, 400px));\\n}\",{\"id\":\"p1069\"},{\"id\":\"p1067\"},{\"id\":\"p1068\"}],\"margin\":0,\"sizing_mode\":\"stretch_width\",\"align\":\"start\"}}]}}],\"defs\":[{\"type\":\"model\",\"name\":\"ReactiveHTML1\"},{\"type\":\"model\",\"name\":\"FlexBox1\",\"properties\":[{\"name\":\"align_content\",\"kind\":\"Any\",\"default\":\"flex-start\"},{\"name\":\"align_items\",\"kind\":\"Any\",\"default\":\"flex-start\"},{\"name\":\"flex_direction\",\"kind\":\"Any\",\"default\":\"row\"},{\"name\":\"flex_wrap\",\"kind\":\"Any\",\"default\":\"wrap\"},{\"name\":\"justify_content\",\"kind\":\"Any\",\"default\":\"flex-start\"},{\"name\":\"gap\",\"kind\":\"Any\",\"default\":\"\"}]},{\"type\":\"model\",\"name\":\"FloatPanel1\",\"properties\":[{\"name\":\"config\",\"kind\":\"Any\",\"default\":{\"type\":\"map\"}},{\"name\":\"contained\",\"kind\":\"Any\",\"default\":true},{\"name\":\"position\",\"kind\":\"Any\",\"default\":\"right-top\"},{\"name\":\"offsetx\",\"kind\":\"Any\",\"default\":null},{\"name\":\"offsety\",\"kind\":\"Any\",\"default\":null},{\"name\":\"theme\",\"kind\":\"Any\",\"default\":\"primary\"},{\"name\":\"status\",\"kind\":\"Any\",\"default\":\"normalized\"}]},{\"type\":\"model\",\"name\":\"GridStack1\",\"properties\":[{\"name\":\"mode\",\"kind\":\"Any\",\"default\":\"warn\"},{\"name\":\"ncols\",\"kind\":\"Any\",\"default\":null},{\"name\":\"nrows\",\"kind\":\"Any\",\"default\":null},{\"name\":\"allow_resize\",\"kind\":\"Any\",\"default\":true},{\"name\":\"allow_drag\",\"kind\":\"Any\",\"default\":true},{\"name\":\"state\",\"kind\":\"Any\",\"default\":[]}]},{\"type\":\"model\",\"name\":\"drag1\",\"properties\":[{\"name\":\"slider_width\",\"kind\":\"Any\",\"default\":5},{\"name\":\"slider_color\",\"kind\":\"Any\",\"default\":\"black\"},{\"name\":\"value\",\"kind\":\"Any\",\"default\":50}]},{\"type\":\"model\",\"name\":\"click1\",\"properties\":[{\"name\":\"terminal_output\",\"kind\":\"Any\",\"default\":\"\"},{\"name\":\"debug_name\",\"kind\":\"Any\",\"default\":\"\"},{\"name\":\"clears\",\"kind\":\"Any\",\"default\":0}]},{\"type\":\"model\",\"name\":\"FastWrapper1\",\"properties\":[{\"name\":\"object\",\"kind\":\"Any\",\"default\":null},{\"name\":\"style\",\"kind\":\"Any\",\"default\":null}]},{\"type\":\"model\",\"name\":\"NotificationAreaBase1\",\"properties\":[{\"name\":\"js_events\",\"kind\":\"Any\",\"default\":{\"type\":\"map\"}},{\"name\":\"position\",\"kind\":\"Any\",\"default\":\"bottom-right\"},{\"name\":\"_clear\",\"kind\":\"Any\",\"default\":0}]},{\"type\":\"model\",\"name\":\"NotificationArea1\",\"properties\":[{\"name\":\"js_events\",\"kind\":\"Any\",\"default\":{\"type\":\"map\"}},{\"name\":\"notifications\",\"kind\":\"Any\",\"default\":[]},{\"name\":\"position\",\"kind\":\"Any\",\"default\":\"bottom-right\"},{\"name\":\"_clear\",\"kind\":\"Any\",\"default\":0},{\"name\":\"types\",\"kind\":\"Any\",\"default\":[{\"type\":\"map\",\"entries\":[[\"type\",\"warning\"],[\"background\",\"#ffc107\"],[\"icon\",{\"type\":\"map\",\"entries\":[[\"className\",\"fas fa-exclamation-triangle\"],[\"tagName\",\"i\"],[\"color\",\"white\"]]}]]},{\"type\":\"map\",\"entries\":[[\"type\",\"info\"],[\"background\",\"#007bff\"],[\"icon\",{\"type\":\"map\",\"entries\":[[\"className\",\"fas fa-info-circle\"],[\"tagName\",\"i\"],[\"color\",\"white\"]]}]]}]}]},{\"type\":\"model\",\"name\":\"Notification\",\"properties\":[{\"name\":\"background\",\"kind\":\"Any\",\"default\":null},{\"name\":\"duration\",\"kind\":\"Any\",\"default\":3000},{\"name\":\"icon\",\"kind\":\"Any\",\"default\":null},{\"name\":\"message\",\"kind\":\"Any\",\"default\":\"\"},{\"name\":\"notification_type\",\"kind\":\"Any\",\"default\":null},{\"name\":\"_destroyed\",\"kind\":\"Any\",\"default\":false}]},{\"type\":\"model\",\"name\":\"TemplateActions1\",\"properties\":[{\"name\":\"open_modal\",\"kind\":\"Any\",\"default\":0},{\"name\":\"close_modal\",\"kind\":\"Any\",\"default\":0}]},{\"type\":\"model\",\"name\":\"BootstrapTemplateActions1\",\"properties\":[{\"name\":\"open_modal\",\"kind\":\"Any\",\"default\":0},{\"name\":\"close_modal\",\"kind\":\"Any\",\"default\":0}]},{\"type\":\"model\",\"name\":\"TemplateEditor1\",\"properties\":[{\"name\":\"layout\",\"kind\":\"Any\",\"default\":[]}]},{\"type\":\"model\",\"name\":\"MaterialTemplateActions1\",\"properties\":[{\"name\":\"open_modal\",\"kind\":\"Any\",\"default\":0},{\"name\":\"close_modal\",\"kind\":\"Any\",\"default\":0}]},{\"type\":\"model\",\"name\":\"copy_to_clipboard1\",\"properties\":[{\"name\":\"fill\",\"kind\":\"Any\",\"default\":\"none\"},{\"name\":\"value\",\"kind\":\"Any\",\"default\":null}]}]}};\n",
       "  var render_items = [{\"docid\":\"d323b56f-9e03-4d5f-8fc7-5365e5caf3e9\",\"roots\":{\"p1066\":\"d530be2e-edc4-49d5-8474-b097ba4464fc\"},\"root_ids\":[\"p1066\"]}];\n",
       "  var docs = Object.values(docs_json)\n",
       "  if (!docs) {\n",
       "    return\n",
       "  }\n",
       "  const py_version = docs[0].version.replace('rc', '-rc.').replace('.dev', '-dev.')\n",
       "  function embed_document(root) {\n",
       "    var Bokeh = get_bokeh(root)\n",
       "    Bokeh.embed.embed_items_notebook(docs_json, render_items);\n",
       "    for (const render_item of render_items) {\n",
       "      for (const root_id of render_item.root_ids) {\n",
       "\tconst id_el = document.getElementById(root_id)\n",
       "\tif (id_el.children.length && (id_el.children[0].className === 'bk-root')) {\n",
       "\t  const root_el = id_el.children[0]\n",
       "\t  root_el.id = root_el.id + '-rendered'\n",
       "\t}\n",
       "      }\n",
       "    }\n",
       "  }\n",
       "  function get_bokeh(root) {\n",
       "    if (root.Bokeh === undefined) {\n",
       "      return null\n",
       "    } else if (root.Bokeh.version !== py_version) {\n",
       "      if (root.Bokeh.versions === undefined || !root.Bokeh.versions.has(py_version)) {\n",
       "\treturn null\n",
       "      }\n",
       "      return root.Bokeh.versions.get(py_version);\n",
       "    } else if (root.Bokeh.version === py_version) {\n",
       "      return root.Bokeh\n",
       "    }\n",
       "    return null\n",
       "  }\n",
       "  function is_loaded(root) {\n",
       "    var Bokeh = get_bokeh(root)\n",
       "    return (Bokeh != null && Bokeh.Panel !== undefined)\n",
       "  }\n",
       "  if (is_loaded(root)) {\n",
       "    embed_document(root);\n",
       "  } else {\n",
       "    var attempts = 0;\n",
       "    var timer = setInterval(function(root) {\n",
       "      if (is_loaded(root)) {\n",
       "        clearInterval(timer);\n",
       "        embed_document(root);\n",
       "      } else if (document.readyState == \"complete\") {\n",
       "        attempts++;\n",
       "        if (attempts > 200) {\n",
       "          clearInterval(timer);\n",
       "\t  var Bokeh = get_bokeh(root)\n",
       "\t  if (Bokeh == null || Bokeh.Panel == null) {\n",
       "            console.warn(\"Panel: ERROR: Unable to run Panel code because Bokeh or Panel library is missing\");\n",
       "\t  } else {\n",
       "\t    console.warn(\"Panel: WARNING: Attempting to render but not all required libraries could be resolved.\")\n",
       "\t    embed_document(root)\n",
       "\t  }\n",
       "        }\n",
       "      }\n",
       "    }, 25, root)\n",
       "  }\n",
       "})(window);</script>"
      ],
      "text/plain": [
       ":Bars   [destination]   (estimateArrive)"
      ]
     },
     "execution_count": 47,
     "metadata": {
      "application/vnd.holoviews_exec.v0+json": {
       "id": "p1066"
      }
     },
     "output_type": "execute_result"
    }
   ],
   "source": [
    "sample_data.group_by(pl.col('destination')).mean().select(pl.col('destination'),pl.col('estimateArrive')).collect().plot.bar(x='destination',rot=90)"
   ]
  },
  {
   "cell_type": "markdown",
   "metadata": {},
   "source": [
    "Según que destino sea, el tiempo medio de espera varia bastante. Por lo que esta variable va a ser necesaria a la hora de la creación de nuestro modelo."
   ]
  },
  {
   "cell_type": "markdown",
   "metadata": {},
   "source": [
    "**Variable `deviation`**"
   ]
  },
  {
   "cell_type": "markdown",
   "metadata": {},
   "source": [
    "Valores nulos"
   ]
  },
  {
   "cell_type": "code",
   "execution_count": 48,
   "metadata": {},
   "outputs": [
    {
     "data": {
      "text/html": [
       "<div><style>\n",
       ".dataframe > thead > tr,\n",
       ".dataframe > tbody > tr {\n",
       "  text-align: right;\n",
       "  white-space: pre-wrap;\n",
       "}\n",
       "</style>\n",
       "<small>shape: (5, 2)</small><table border=\"1\" class=\"dataframe\"><thead><tr><th>deviation</th><th>count</th></tr><tr><td>i64</td><td>u32</td></tr></thead><tbody><tr><td>137</td><td>6</td></tr><tr><td>0</td><td>1123941</td></tr><tr><td>5261</td><td>3092</td></tr><tr><td>537</td><td>38</td></tr><tr><td>8585</td><td>4044</td></tr></tbody></table></div>"
      ],
      "text/plain": [
       "shape: (5, 2)\n",
       "┌───────────┬─────────┐\n",
       "│ deviation ┆ count   │\n",
       "│ ---       ┆ ---     │\n",
       "│ i64       ┆ u32     │\n",
       "╞═══════════╪═════════╡\n",
       "│ 137       ┆ 6       │\n",
       "│ 0         ┆ 1123941 │\n",
       "│ 5261      ┆ 3092    │\n",
       "│ 537       ┆ 38      │\n",
       "│ 8585      ┆ 4044    │\n",
       "└───────────┴─────────┘"
      ]
     },
     "execution_count": 48,
     "metadata": {},
     "output_type": "execute_result"
    }
   ],
   "source": [
    "sample_data.group_by(pl.col('deviation')).count().head().collect()"
   ]
  },
  {
   "cell_type": "markdown",
   "metadata": {},
   "source": [
    "Correlación"
   ]
  },
  {
   "cell_type": "code",
   "execution_count": 49,
   "metadata": {},
   "outputs": [
    {
     "data": {
      "text/html": [
       "<div><style>\n",
       ".dataframe > thead > tr,\n",
       ".dataframe > tbody > tr {\n",
       "  text-align: right;\n",
       "  white-space: pre-wrap;\n",
       "}\n",
       "</style>\n",
       "<small>shape: (1, 1)</small><table border=\"1\" class=\"dataframe\"><thead><tr><th>deviation</th></tr><tr><td>f64</td></tr></thead><tbody><tr><td>0.022565</td></tr></tbody></table></div>"
      ],
      "text/plain": [
       "shape: (1, 1)\n",
       "┌───────────┐\n",
       "│ deviation │\n",
       "│ ---       │\n",
       "│ f64       │\n",
       "╞═══════════╡\n",
       "│ 0.022565  │\n",
       "└───────────┘"
      ]
     },
     "execution_count": 49,
     "metadata": {},
     "output_type": "execute_result"
    }
   ],
   "source": [
    "sample_data.select(pl.corr('deviation','estimateArrive')).head().collect()"
   ]
  },
  {
   "cell_type": "code",
   "execution_count": 50,
   "metadata": {},
   "outputs": [
    {
     "data": {
      "text/html": [
       "<div><style>\n",
       ".dataframe > thead > tr,\n",
       ".dataframe > tbody > tr {\n",
       "  text-align: right;\n",
       "  white-space: pre-wrap;\n",
       "}\n",
       "</style>\n",
       "<small>shape: (7, 2)</small><table border=\"1\" class=\"dataframe\"><thead><tr><th>deviation</th><th>estimateArrive</th></tr><tr><td>i64</td><td>f64</td></tr></thead><tbody><tr><td>8585</td><td>799.088279</td></tr><tr><td>5261</td><td>711.674968</td></tr><tr><td>1259</td><td>367.625</td></tr><tr><td>537</td><td>463.5</td></tr><tr><td>288</td><td>517.5</td></tr><tr><td>137</td><td>512.833333</td></tr><tr><td>0</td><td>637.801457</td></tr></tbody></table></div>"
      ],
      "text/plain": [
       "shape: (7, 2)\n",
       "┌───────────┬────────────────┐\n",
       "│ deviation ┆ estimateArrive │\n",
       "│ ---       ┆ ---            │\n",
       "│ i64       ┆ f64            │\n",
       "╞═══════════╪════════════════╡\n",
       "│ 8585      ┆ 799.088279     │\n",
       "│ 5261      ┆ 711.674968     │\n",
       "│ 1259      ┆ 367.625        │\n",
       "│ 537       ┆ 463.5          │\n",
       "│ 288       ┆ 517.5          │\n",
       "│ 137       ┆ 512.833333     │\n",
       "│ 0         ┆ 637.801457     │\n",
       "└───────────┴────────────────┘"
      ]
     },
     "execution_count": 50,
     "metadata": {},
     "output_type": "execute_result"
    }
   ],
   "source": [
    "sample_data.group_by(pl.col('deviation')).mean().select(pl.col('deviation'),pl.col('estimateArrive')).sort('deviation', descending=True).collect()"
   ]
  },
  {
   "cell_type": "markdown",
   "metadata": {},
   "source": [
    "No tenemos información acerca del significado de esta variable. Por lo que la eliminamos también"
   ]
  },
  {
   "cell_type": "code",
   "execution_count": 51,
   "metadata": {},
   "outputs": [],
   "source": [
    "sample_data = sample_data.drop('deviation')"
   ]
  },
  {
   "cell_type": "markdown",
   "metadata": {},
   "source": [
    "**Variable `StartTime`**"
   ]
  },
  {
   "cell_type": "markdown",
   "metadata": {},
   "source": [
    "Valores nulos"
   ]
  },
  {
   "cell_type": "code",
   "execution_count": 52,
   "metadata": {},
   "outputs": [
    {
     "data": {
      "text/html": [
       "<div><style>\n",
       ".dataframe > thead > tr,\n",
       ".dataframe > tbody > tr {\n",
       "  text-align: right;\n",
       "  white-space: pre-wrap;\n",
       "}\n",
       "</style>\n",
       "<small>shape: (9, 2)</small><table border=\"1\" class=\"dataframe\"><thead><tr><th>StartTime</th><th>count</th></tr><tr><td>str</td><td>u32</td></tr></thead><tbody><tr><td>null</td><td>533127</td></tr><tr><td>&quot;06:30&quot;</td><td>13514</td></tr><tr><td>&quot;06:25&quot;</td><td>54669</td></tr><tr><td>&quot;06:20&quot;</td><td>23954</td></tr><tr><td>&quot;06:15&quot;</td><td>41060</td></tr><tr><td>&quot;06:10&quot;</td><td>61758</td></tr><tr><td>&quot;06:00&quot;</td><td>306036</td></tr><tr><td>&quot;05:55&quot;</td><td>47464</td></tr><tr><td>&quot;05:30&quot;</td><td>49557</td></tr></tbody></table></div>"
      ],
      "text/plain": [
       "shape: (9, 2)\n",
       "┌───────────┬────────┐\n",
       "│ StartTime ┆ count  │\n",
       "│ ---       ┆ ---    │\n",
       "│ str       ┆ u32    │\n",
       "╞═══════════╪════════╡\n",
       "│ null      ┆ 533127 │\n",
       "│ 06:30     ┆ 13514  │\n",
       "│ 06:25     ┆ 54669  │\n",
       "│ 06:20     ┆ 23954  │\n",
       "│ 06:15     ┆ 41060  │\n",
       "│ 06:10     ┆ 61758  │\n",
       "│ 06:00     ┆ 306036 │\n",
       "│ 05:55     ┆ 47464  │\n",
       "│ 05:30     ┆ 49557  │\n",
       "└───────────┴────────┘"
      ]
     },
     "execution_count": 52,
     "metadata": {},
     "output_type": "execute_result"
    }
   ],
   "source": [
    "sample_data.group_by(pl.col('StartTime')).count().sort(pl.col('StartTime'),descending=True).collect()"
   ]
  },
  {
   "cell_type": "markdown",
   "metadata": {},
   "source": [
    "**Variable `StopTime`**"
   ]
  },
  {
   "cell_type": "markdown",
   "metadata": {},
   "source": [
    "Valores nulos"
   ]
  },
  {
   "cell_type": "code",
   "execution_count": 53,
   "metadata": {},
   "outputs": [
    {
     "data": {
      "text/html": [
       "<div><style>\n",
       ".dataframe > thead > tr,\n",
       ".dataframe > tbody > tr {\n",
       "  text-align: right;\n",
       "  white-space: pre-wrap;\n",
       "}\n",
       "</style>\n",
       "<small>shape: (3, 2)</small><table border=\"1\" class=\"dataframe\"><thead><tr><th>StopTime</th><th>count</th></tr><tr><td>str</td><td>u32</td></tr></thead><tbody><tr><td>null</td><td>533127</td></tr><tr><td>&quot;23:45&quot;</td><td>526594</td></tr><tr><td>&quot;23:30&quot;</td><td>71418</td></tr></tbody></table></div>"
      ],
      "text/plain": [
       "shape: (3, 2)\n",
       "┌──────────┬────────┐\n",
       "│ StopTime ┆ count  │\n",
       "│ ---      ┆ ---    │\n",
       "│ str      ┆ u32    │\n",
       "╞══════════╪════════╡\n",
       "│ null     ┆ 533127 │\n",
       "│ 23:45    ┆ 526594 │\n",
       "│ 23:30    ┆ 71418  │\n",
       "└──────────┴────────┘"
      ]
     },
     "execution_count": 53,
     "metadata": {},
     "output_type": "execute_result"
    }
   ],
   "source": [
    "sample_data.group_by(pl.col('StopTime')).count().sort(pl.col('StopTime'),descending=True).collect()"
   ]
  },
  {
   "cell_type": "markdown",
   "metadata": {},
   "source": [
    "La información que nos dan las dos variables anteriores refleja que estamos considerando solo autobuses diurnos e ignorando los nocturnos. Por tanto, esta variable no va a inferir en el tiempo de estimación ya que el hecho de que su horario comience a las 6 de la mañana o a las 7 de la mañana no va a depender de que tarde más o menos a lo largo del día. Por tanto consideramos que se pueden borrar también."
   ]
  },
  {
   "cell_type": "code",
   "execution_count": 54,
   "metadata": {},
   "outputs": [],
   "source": [
    "sample_data = sample_data.drop('StartTime','StopTime')"
   ]
  },
  {
   "cell_type": "markdown",
   "metadata": {},
   "source": [
    "**Variable `MinimunFrequency`**"
   ]
  },
  {
   "cell_type": "markdown",
   "metadata": {},
   "source": [
    "Valores nulos"
   ]
  },
  {
   "cell_type": "code",
   "execution_count": 55,
   "metadata": {},
   "outputs": [
    {
     "data": {
      "text/html": [
       "<div><style>\n",
       ".dataframe > thead > tr,\n",
       ".dataframe > tbody > tr {\n",
       "  text-align: right;\n",
       "  white-space: pre-wrap;\n",
       "}\n",
       "</style>\n",
       "<small>shape: (5, 2)</small><table border=\"1\" class=\"dataframe\"><thead><tr><th>MinimunFrequency</th><th>count</th></tr><tr><td>i64</td><td>u32</td></tr></thead><tbody><tr><td>null</td><td>533127</td></tr><tr><td>7</td><td>116427</td></tr><tr><td>3</td><td>47464</td></tr><tr><td>6</td><td>71872</td></tr><tr><td>12</td><td>40808</td></tr></tbody></table></div>"
      ],
      "text/plain": [
       "shape: (5, 2)\n",
       "┌──────────────────┬────────┐\n",
       "│ MinimunFrequency ┆ count  │\n",
       "│ ---              ┆ ---    │\n",
       "│ i64              ┆ u32    │\n",
       "╞══════════════════╪════════╡\n",
       "│ null             ┆ 533127 │\n",
       "│ 7                ┆ 116427 │\n",
       "│ 3                ┆ 47464  │\n",
       "│ 6                ┆ 71872  │\n",
       "│ 12               ┆ 40808  │\n",
       "└──────────────────┴────────┘"
      ]
     },
     "execution_count": 55,
     "metadata": {},
     "output_type": "execute_result"
    }
   ],
   "source": [
    "sample_data.group_by(pl.col('MinimunFrequency')).count().head().collect()"
   ]
  },
  {
   "cell_type": "markdown",
   "metadata": {},
   "source": [
    "Correlación"
   ]
  },
  {
   "cell_type": "code",
   "execution_count": 56,
   "metadata": {},
   "outputs": [
    {
     "data": {
      "text/html": [
       "<div><style>\n",
       ".dataframe > thead > tr,\n",
       ".dataframe > tbody > tr {\n",
       "  text-align: right;\n",
       "  white-space: pre-wrap;\n",
       "}\n",
       "</style>\n",
       "<small>shape: (1, 1)</small><table border=\"1\" class=\"dataframe\"><thead><tr><th>MinimunFrequency</th></tr><tr><td>f64</td></tr></thead><tbody><tr><td>0.302355</td></tr></tbody></table></div>"
      ],
      "text/plain": [
       "shape: (1, 1)\n",
       "┌──────────────────┐\n",
       "│ MinimunFrequency │\n",
       "│ ---              │\n",
       "│ f64              │\n",
       "╞══════════════════╡\n",
       "│ 0.302355         │\n",
       "└──────────────────┘"
      ]
     },
     "execution_count": 56,
     "metadata": {},
     "output_type": "execute_result"
    }
   ],
   "source": [
    "sample_data.select(pl.corr('MinimunFrequency','estimateArrive')).head().collect()"
   ]
  },
  {
   "cell_type": "markdown",
   "metadata": {},
   "source": [
    "**Variable `MaximumFrequency`**"
   ]
  },
  {
   "cell_type": "markdown",
   "metadata": {},
   "source": [
    "Valores nulos"
   ]
  },
  {
   "cell_type": "code",
   "execution_count": 57,
   "metadata": {},
   "outputs": [
    {
     "data": {
      "text/html": [
       "<div><style>\n",
       ".dataframe > thead > tr,\n",
       ".dataframe > tbody > tr {\n",
       "  text-align: right;\n",
       "  white-space: pre-wrap;\n",
       "}\n",
       "</style>\n",
       "<small>shape: (11, 2)</small><table border=\"1\" class=\"dataframe\"><thead><tr><th>MaximumFrequency</th><th>count</th></tr><tr><td>i64</td><td>u32</td></tr></thead><tbody><tr><td>null</td><td>533127</td></tr><tr><td>30</td><td>46138</td></tr><tr><td>29</td><td>13514</td></tr><tr><td>26</td><td>54669</td></tr><tr><td>24</td><td>102448</td></tr><tr><td>&hellip;</td><td>&hellip;</td></tr><tr><td>21</td><td>23933</td></tr><tr><td>20</td><td>37704</td></tr><tr><td>17</td><td>49557</td></tr><tr><td>15</td><td>61758</td></tr><tr><td>12</td><td>47464</td></tr></tbody></table></div>"
      ],
      "text/plain": [
       "shape: (11, 2)\n",
       "┌──────────────────┬────────┐\n",
       "│ MaximumFrequency ┆ count  │\n",
       "│ ---              ┆ ---    │\n",
       "│ i64              ┆ u32    │\n",
       "╞══════════════════╪════════╡\n",
       "│ null             ┆ 533127 │\n",
       "│ 30               ┆ 46138  │\n",
       "│ 29               ┆ 13514  │\n",
       "│ 26               ┆ 54669  │\n",
       "│ 24               ┆ 102448 │\n",
       "│ …                ┆ …      │\n",
       "│ 21               ┆ 23933  │\n",
       "│ 20               ┆ 37704  │\n",
       "│ 17               ┆ 49557  │\n",
       "│ 15               ┆ 61758  │\n",
       "│ 12               ┆ 47464  │\n",
       "└──────────────────┴────────┘"
      ]
     },
     "execution_count": 57,
     "metadata": {},
     "output_type": "execute_result"
    }
   ],
   "source": [
    "sample_data.group_by(pl.col('MaximumFrequency')).count().sort(pl.col('MaximumFrequency'),descending=True).collect()"
   ]
  },
  {
   "cell_type": "markdown",
   "metadata": {},
   "source": [
    "Correlación"
   ]
  },
  {
   "cell_type": "code",
   "execution_count": 58,
   "metadata": {},
   "outputs": [
    {
     "data": {
      "text/html": [
       "<div><style>\n",
       ".dataframe > thead > tr,\n",
       ".dataframe > tbody > tr {\n",
       "  text-align: right;\n",
       "  white-space: pre-wrap;\n",
       "}\n",
       "</style>\n",
       "<small>shape: (1, 1)</small><table border=\"1\" class=\"dataframe\"><thead><tr><th>MaximumFrequency</th></tr><tr><td>f64</td></tr></thead><tbody><tr><td>0.260828</td></tr></tbody></table></div>"
      ],
      "text/plain": [
       "shape: (1, 1)\n",
       "┌──────────────────┐\n",
       "│ MaximumFrequency │\n",
       "│ ---              │\n",
       "│ f64              │\n",
       "╞══════════════════╡\n",
       "│ 0.260828         │\n",
       "└──────────────────┘"
      ]
     },
     "execution_count": 58,
     "metadata": {},
     "output_type": "execute_result"
    }
   ],
   "source": [
    "sample_data.select(pl.corr('MaximumFrequency','estimateArrive')).head().collect()"
   ]
  },
  {
   "cell_type": "markdown",
   "metadata": {},
   "source": [
    "Las variables `MinimunFrequency ` y `MaximumFrequency ` tienen muchos valores nulos pero si que están relacionadas con el `ETA`. Una opción es mantener solo una de ellas ya que es probable que aporten la misma información. De momento mantenemos las dos."
   ]
  },
  {
   "cell_type": "markdown",
   "metadata": {},
   "source": [
    "**Variable `isHead`**"
   ]
  },
  {
   "cell_type": "markdown",
   "metadata": {},
   "source": [
    "Valores nulos"
   ]
  },
  {
   "cell_type": "code",
   "execution_count": 59,
   "metadata": {},
   "outputs": [
    {
     "data": {
      "text/html": [
       "<div><style>\n",
       ".dataframe > thead > tr,\n",
       ".dataframe > tbody > tr {\n",
       "  text-align: right;\n",
       "  white-space: pre-wrap;\n",
       "}\n",
       "</style>\n",
       "<small>shape: (2, 2)</small><table border=\"1\" class=\"dataframe\"><thead><tr><th>isHead</th><th>count</th></tr><tr><td>u8</td><td>u32</td></tr></thead><tbody><tr><td>0</td><td>1068067</td></tr><tr><td>1</td><td>63072</td></tr></tbody></table></div>"
      ],
      "text/plain": [
       "shape: (2, 2)\n",
       "┌────────┬─────────┐\n",
       "│ isHead ┆ count   │\n",
       "│ ---    ┆ ---     │\n",
       "│ u8     ┆ u32     │\n",
       "╞════════╪═════════╡\n",
       "│ 0      ┆ 1068067 │\n",
       "│ 1      ┆ 63072   │\n",
       "└────────┴─────────┘"
      ]
     },
     "execution_count": 59,
     "metadata": {},
     "output_type": "execute_result"
    }
   ],
   "source": [
    "sample_data.group_by(pl.col('isHead')).count().head().collect()"
   ]
  },
  {
   "cell_type": "markdown",
   "metadata": {},
   "source": [
    "Correlación"
   ]
  },
  {
   "cell_type": "code",
   "execution_count": 60,
   "metadata": {},
   "outputs": [
    {
     "data": {
      "text/html": [
       "<div><style>\n",
       ".dataframe > thead > tr,\n",
       ".dataframe > tbody > tr {\n",
       "  text-align: right;\n",
       "  white-space: pre-wrap;\n",
       "}\n",
       "</style>\n",
       "<small>shape: (1, 1)</small><table border=\"1\" class=\"dataframe\"><thead><tr><th>isHead</th></tr><tr><td>f64</td></tr></thead><tbody><tr><td>0.018379</td></tr></tbody></table></div>"
      ],
      "text/plain": [
       "shape: (1, 1)\n",
       "┌──────────┐\n",
       "│ isHead   │\n",
       "│ ---      │\n",
       "│ f64      │\n",
       "╞══════════╡\n",
       "│ 0.018379 │\n",
       "└──────────┘"
      ]
     },
     "execution_count": 60,
     "metadata": {},
     "output_type": "execute_result"
    }
   ],
   "source": [
    "sample_data.select(pl.corr('isHead','estimateArrive')).head().collect()"
   ]
  },
  {
   "cell_type": "markdown",
   "metadata": {},
   "source": [
    "Tiempo medio de espera según si el autobús es cabecera o no"
   ]
  },
  {
   "cell_type": "code",
   "execution_count": 61,
   "metadata": {},
   "outputs": [
    {
     "data": {},
     "metadata": {},
     "output_type": "display_data"
    },
    {
     "data": {
      "application/vnd.holoviews_exec.v0+json": "",
      "text/html": [
       "<div id='p1128'>\n",
       "  <div id=\"b0c442fb-1169-47ef-aca8-40385a618a02\" data-root-id=\"p1128\" style=\"display: contents;\"></div>\n",
       "</div>\n",
       "<script type=\"application/javascript\">(function(root) {\n",
       "  var docs_json = {\"2e8084ff-4d59-40e4-9386-f2dcb22eb1d9\":{\"version\":\"3.4.0\",\"title\":\"Bokeh Application\",\"roots\":[{\"type\":\"object\",\"name\":\"Row\",\"id\":\"p1128\",\"attributes\":{\"name\":\"Row01157\",\"tags\":[\"embedded\"],\"stylesheets\":[\"\\n:host(.pn-loading):before, .pn-loading:before {\\n  background-color: #c3c3c3;\\n  mask-size: auto calc(min(50%, 400px));\\n  -webkit-mask-size: auto calc(min(50%, 400px));\\n}\",{\"type\":\"object\",\"name\":\"ImportedStyleSheet\",\"id\":\"p1131\",\"attributes\":{\"url\":\"https://cdn.holoviz.org/panel/1.4.0/dist/css/loading.css\"}},{\"type\":\"object\",\"name\":\"ImportedStyleSheet\",\"id\":\"p1187\",\"attributes\":{\"url\":\"https://cdn.holoviz.org/panel/1.4.0/dist/css/listpanel.css\"}},{\"type\":\"object\",\"name\":\"ImportedStyleSheet\",\"id\":\"p1129\",\"attributes\":{\"url\":\"https://cdn.holoviz.org/panel/1.4.0/dist/bundled/theme/default.css\"}},{\"type\":\"object\",\"name\":\"ImportedStyleSheet\",\"id\":\"p1130\",\"attributes\":{\"url\":\"https://cdn.holoviz.org/panel/1.4.0/dist/bundled/theme/native.css\"}}],\"min_width\":700,\"margin\":0,\"sizing_mode\":\"stretch_width\",\"align\":\"start\",\"children\":[{\"type\":\"object\",\"name\":\"Spacer\",\"id\":\"p1132\",\"attributes\":{\"name\":\"HSpacer01164\",\"stylesheets\":[\"\\n:host(.pn-loading):before, .pn-loading:before {\\n  background-color: #c3c3c3;\\n  mask-size: auto calc(min(50%, 400px));\\n  -webkit-mask-size: auto calc(min(50%, 400px));\\n}\",{\"id\":\"p1131\"},{\"id\":\"p1129\"},{\"id\":\"p1130\"}],\"margin\":0,\"sizing_mode\":\"stretch_width\",\"align\":\"start\"}},{\"type\":\"object\",\"name\":\"Figure\",\"id\":\"p1140\",\"attributes\":{\"width\":700,\"height\":300,\"margin\":[5,10],\"sizing_mode\":\"fixed\",\"align\":\"start\",\"x_range\":{\"type\":\"object\",\"name\":\"FactorRange\",\"id\":\"p1133\",\"attributes\":{\"tags\":[[[\"isHead\",\"isHead\",null]],[]],\"factors\":[\"0\",\"1\"]}},\"y_range\":{\"type\":\"object\",\"name\":\"Range1d\",\"id\":\"p1134\",\"attributes\":{\"tags\":[[[\"estimateArrive\",\"estimateArrive\",null]],{\"type\":\"map\",\"entries\":[[\"invert_yaxis\",false],[\"autorange\",false]]}],\"end\":676.6793382817709,\"reset_start\":0.0,\"reset_end\":676.6793382817709}},\"x_scale\":{\"type\":\"object\",\"name\":\"CategoricalScale\",\"id\":\"p1150\"},\"y_scale\":{\"type\":\"object\",\"name\":\"LinearScale\",\"id\":\"p1151\"},\"title\":{\"type\":\"object\",\"name\":\"Title\",\"id\":\"p1143\",\"attributes\":{\"text_color\":\"black\",\"text_font_size\":\"12pt\"}},\"renderers\":[{\"type\":\"object\",\"name\":\"GlyphRenderer\",\"id\":\"p1180\",\"attributes\":{\"data_source\":{\"type\":\"object\",\"name\":\"ColumnDataSource\",\"id\":\"p1171\",\"attributes\":{\"selected\":{\"type\":\"object\",\"name\":\"Selection\",\"id\":\"p1172\",\"attributes\":{\"indices\":[],\"line_indices\":[]}},\"selection_policy\":{\"type\":\"object\",\"name\":\"UnionRenderers\",\"id\":\"p1173\"},\"data\":{\"type\":\"map\",\"entries\":[[\"isHead\",[\"0\",\"1\"]],[\"estimateArrive\",{\"type\":\"ndarray\",\"array\":{\"type\":\"bytes\",\"data\":\"qaUQpkbkg0DkQo8LPQiFQA==\"},\"shape\":[2],\"dtype\":\"float64\",\"order\":\"little\"}]]}}},\"view\":{\"type\":\"object\",\"name\":\"CDSView\",\"id\":\"p1181\",\"attributes\":{\"filter\":{\"type\":\"object\",\"name\":\"AllIndices\",\"id\":\"p1182\"}}},\"glyph\":{\"type\":\"object\",\"name\":\"VBar\",\"id\":\"p1177\",\"attributes\":{\"tags\":[\"apply_ranges\"],\"x\":{\"type\":\"field\",\"field\":\"isHead\"},\"width\":{\"type\":\"value\",\"value\":0.8},\"top\":{\"type\":\"field\",\"field\":\"estimateArrive\"},\"fill_color\":{\"type\":\"value\",\"value\":\"#30a2da\"},\"hatch_color\":{\"type\":\"value\",\"value\":\"#30a2da\"}}},\"selection_glyph\":{\"type\":\"object\",\"name\":\"VBar\",\"id\":\"p1183\",\"attributes\":{\"tags\":[\"apply_ranges\"],\"x\":{\"type\":\"field\",\"field\":\"isHead\"},\"width\":{\"type\":\"value\",\"value\":0.8},\"bottom\":{\"type\":\"value\",\"value\":0},\"top\":{\"type\":\"field\",\"field\":\"estimateArrive\"},\"line_color\":{\"type\":\"value\",\"value\":\"black\"},\"line_alpha\":{\"type\":\"value\",\"value\":1.0},\"line_width\":{\"type\":\"value\",\"value\":1},\"line_join\":{\"type\":\"value\",\"value\":\"bevel\"},\"line_cap\":{\"type\":\"value\",\"value\":\"butt\"},\"line_dash\":{\"type\":\"value\",\"value\":[]},\"line_dash_offset\":{\"type\":\"value\",\"value\":0},\"fill_color\":{\"type\":\"value\",\"value\":\"#30a2da\"},\"fill_alpha\":{\"type\":\"value\",\"value\":1.0},\"hatch_color\":{\"type\":\"value\",\"value\":\"#30a2da\"},\"hatch_alpha\":{\"type\":\"value\",\"value\":1.0},\"hatch_scale\":{\"type\":\"value\",\"value\":12.0},\"hatch_pattern\":{\"type\":\"value\",\"value\":null},\"hatch_weight\":{\"type\":\"value\",\"value\":1.0}}},\"nonselection_glyph\":{\"type\":\"object\",\"name\":\"VBar\",\"id\":\"p1178\",\"attributes\":{\"tags\":[\"apply_ranges\"],\"x\":{\"type\":\"field\",\"field\":\"isHead\"},\"width\":{\"type\":\"value\",\"value\":0.8},\"top\":{\"type\":\"field\",\"field\":\"estimateArrive\"},\"line_alpha\":{\"type\":\"value\",\"value\":0.1},\"fill_color\":{\"type\":\"value\",\"value\":\"#30a2da\"},\"fill_alpha\":{\"type\":\"value\",\"value\":0.1},\"hatch_color\":{\"type\":\"value\",\"value\":\"#30a2da\"},\"hatch_alpha\":{\"type\":\"value\",\"value\":0.1}}},\"muted_glyph\":{\"type\":\"object\",\"name\":\"VBar\",\"id\":\"p1179\",\"attributes\":{\"tags\":[\"apply_ranges\"],\"x\":{\"type\":\"field\",\"field\":\"isHead\"},\"width\":{\"type\":\"value\",\"value\":0.8},\"top\":{\"type\":\"field\",\"field\":\"estimateArrive\"},\"line_alpha\":{\"type\":\"value\",\"value\":0.2},\"fill_color\":{\"type\":\"value\",\"value\":\"#30a2da\"},\"fill_alpha\":{\"type\":\"value\",\"value\":0.2},\"hatch_color\":{\"type\":\"value\",\"value\":\"#30a2da\"},\"hatch_alpha\":{\"type\":\"value\",\"value\":0.2}}}}}],\"toolbar\":{\"type\":\"object\",\"name\":\"Toolbar\",\"id\":\"p1149\",\"attributes\":{\"tools\":[{\"type\":\"object\",\"name\":\"WheelZoomTool\",\"id\":\"p1138\",\"attributes\":{\"tags\":[\"hv_created\"],\"renderers\":\"auto\",\"zoom_together\":\"none\"}},{\"type\":\"object\",\"name\":\"HoverTool\",\"id\":\"p1139\",\"attributes\":{\"tags\":[\"hv_created\"],\"renderers\":[{\"id\":\"p1180\"}],\"tooltips\":[[\"isHead\",\"@{isHead}\"],[\"estimateArrive\",\"@{estimateArrive}\"]]}},{\"type\":\"object\",\"name\":\"SaveTool\",\"id\":\"p1162\"},{\"type\":\"object\",\"name\":\"PanTool\",\"id\":\"p1163\"},{\"type\":\"object\",\"name\":\"BoxZoomTool\",\"id\":\"p1164\",\"attributes\":{\"overlay\":{\"type\":\"object\",\"name\":\"BoxAnnotation\",\"id\":\"p1165\",\"attributes\":{\"syncable\":false,\"level\":\"overlay\",\"visible\":false,\"left\":{\"type\":\"number\",\"value\":\"nan\"},\"right\":{\"type\":\"number\",\"value\":\"nan\"},\"top\":{\"type\":\"number\",\"value\":\"nan\"},\"bottom\":{\"type\":\"number\",\"value\":\"nan\"},\"left_units\":\"canvas\",\"right_units\":\"canvas\",\"top_units\":\"canvas\",\"bottom_units\":\"canvas\",\"line_color\":\"black\",\"line_alpha\":1.0,\"line_width\":2,\"line_dash\":[4,4],\"fill_color\":\"lightgrey\",\"fill_alpha\":0.5}}}},{\"type\":\"object\",\"name\":\"ResetTool\",\"id\":\"p1170\"}],\"active_drag\":{\"id\":\"p1163\"},\"active_scroll\":{\"id\":\"p1138\"}}},\"left\":[{\"type\":\"object\",\"name\":\"LinearAxis\",\"id\":\"p1157\",\"attributes\":{\"ticker\":{\"type\":\"object\",\"name\":\"BasicTicker\",\"id\":\"p1158\",\"attributes\":{\"mantissas\":[1,2,5]}},\"formatter\":{\"type\":\"object\",\"name\":\"BasicTickFormatter\",\"id\":\"p1159\"},\"axis_label\":\"estimateArrive\",\"major_label_policy\":{\"type\":\"object\",\"name\":\"AllLabels\",\"id\":\"p1160\"}}}],\"below\":[{\"type\":\"object\",\"name\":\"CategoricalAxis\",\"id\":\"p1152\",\"attributes\":{\"ticker\":{\"type\":\"object\",\"name\":\"CategoricalTicker\",\"id\":\"p1153\"},\"formatter\":{\"type\":\"object\",\"name\":\"CategoricalTickFormatter\",\"id\":\"p1154\"},\"axis_label\":\"isHead\",\"major_label_policy\":{\"type\":\"object\",\"name\":\"AllLabels\",\"id\":\"p1155\"}}}],\"center\":[{\"type\":\"object\",\"name\":\"Grid\",\"id\":\"p1156\",\"attributes\":{\"axis\":{\"id\":\"p1152\"},\"grid_line_color\":null}},{\"type\":\"object\",\"name\":\"Grid\",\"id\":\"p1161\",\"attributes\":{\"dimension\":1,\"axis\":{\"id\":\"p1157\"},\"grid_line_color\":null}}],\"min_border_top\":10,\"min_border_bottom\":10,\"min_border_left\":10,\"min_border_right\":10,\"output_backend\":\"webgl\"}},{\"type\":\"object\",\"name\":\"Spacer\",\"id\":\"p1185\",\"attributes\":{\"name\":\"HSpacer01165\",\"stylesheets\":[\"\\n:host(.pn-loading):before, .pn-loading:before {\\n  background-color: #c3c3c3;\\n  mask-size: auto calc(min(50%, 400px));\\n  -webkit-mask-size: auto calc(min(50%, 400px));\\n}\",{\"id\":\"p1131\"},{\"id\":\"p1129\"},{\"id\":\"p1130\"}],\"margin\":0,\"sizing_mode\":\"stretch_width\",\"align\":\"start\"}}]}}],\"defs\":[{\"type\":\"model\",\"name\":\"ReactiveHTML1\"},{\"type\":\"model\",\"name\":\"FlexBox1\",\"properties\":[{\"name\":\"align_content\",\"kind\":\"Any\",\"default\":\"flex-start\"},{\"name\":\"align_items\",\"kind\":\"Any\",\"default\":\"flex-start\"},{\"name\":\"flex_direction\",\"kind\":\"Any\",\"default\":\"row\"},{\"name\":\"flex_wrap\",\"kind\":\"Any\",\"default\":\"wrap\"},{\"name\":\"justify_content\",\"kind\":\"Any\",\"default\":\"flex-start\"},{\"name\":\"gap\",\"kind\":\"Any\",\"default\":\"\"}]},{\"type\":\"model\",\"name\":\"FloatPanel1\",\"properties\":[{\"name\":\"config\",\"kind\":\"Any\",\"default\":{\"type\":\"map\"}},{\"name\":\"contained\",\"kind\":\"Any\",\"default\":true},{\"name\":\"position\",\"kind\":\"Any\",\"default\":\"right-top\"},{\"name\":\"offsetx\",\"kind\":\"Any\",\"default\":null},{\"name\":\"offsety\",\"kind\":\"Any\",\"default\":null},{\"name\":\"theme\",\"kind\":\"Any\",\"default\":\"primary\"},{\"name\":\"status\",\"kind\":\"Any\",\"default\":\"normalized\"}]},{\"type\":\"model\",\"name\":\"GridStack1\",\"properties\":[{\"name\":\"mode\",\"kind\":\"Any\",\"default\":\"warn\"},{\"name\":\"ncols\",\"kind\":\"Any\",\"default\":null},{\"name\":\"nrows\",\"kind\":\"Any\",\"default\":null},{\"name\":\"allow_resize\",\"kind\":\"Any\",\"default\":true},{\"name\":\"allow_drag\",\"kind\":\"Any\",\"default\":true},{\"name\":\"state\",\"kind\":\"Any\",\"default\":[]}]},{\"type\":\"model\",\"name\":\"drag1\",\"properties\":[{\"name\":\"slider_width\",\"kind\":\"Any\",\"default\":5},{\"name\":\"slider_color\",\"kind\":\"Any\",\"default\":\"black\"},{\"name\":\"value\",\"kind\":\"Any\",\"default\":50}]},{\"type\":\"model\",\"name\":\"click1\",\"properties\":[{\"name\":\"terminal_output\",\"kind\":\"Any\",\"default\":\"\"},{\"name\":\"debug_name\",\"kind\":\"Any\",\"default\":\"\"},{\"name\":\"clears\",\"kind\":\"Any\",\"default\":0}]},{\"type\":\"model\",\"name\":\"FastWrapper1\",\"properties\":[{\"name\":\"object\",\"kind\":\"Any\",\"default\":null},{\"name\":\"style\",\"kind\":\"Any\",\"default\":null}]},{\"type\":\"model\",\"name\":\"NotificationAreaBase1\",\"properties\":[{\"name\":\"js_events\",\"kind\":\"Any\",\"default\":{\"type\":\"map\"}},{\"name\":\"position\",\"kind\":\"Any\",\"default\":\"bottom-right\"},{\"name\":\"_clear\",\"kind\":\"Any\",\"default\":0}]},{\"type\":\"model\",\"name\":\"NotificationArea1\",\"properties\":[{\"name\":\"js_events\",\"kind\":\"Any\",\"default\":{\"type\":\"map\"}},{\"name\":\"notifications\",\"kind\":\"Any\",\"default\":[]},{\"name\":\"position\",\"kind\":\"Any\",\"default\":\"bottom-right\"},{\"name\":\"_clear\",\"kind\":\"Any\",\"default\":0},{\"name\":\"types\",\"kind\":\"Any\",\"default\":[{\"type\":\"map\",\"entries\":[[\"type\",\"warning\"],[\"background\",\"#ffc107\"],[\"icon\",{\"type\":\"map\",\"entries\":[[\"className\",\"fas fa-exclamation-triangle\"],[\"tagName\",\"i\"],[\"color\",\"white\"]]}]]},{\"type\":\"map\",\"entries\":[[\"type\",\"info\"],[\"background\",\"#007bff\"],[\"icon\",{\"type\":\"map\",\"entries\":[[\"className\",\"fas fa-info-circle\"],[\"tagName\",\"i\"],[\"color\",\"white\"]]}]]}]}]},{\"type\":\"model\",\"name\":\"Notification\",\"properties\":[{\"name\":\"background\",\"kind\":\"Any\",\"default\":null},{\"name\":\"duration\",\"kind\":\"Any\",\"default\":3000},{\"name\":\"icon\",\"kind\":\"Any\",\"default\":null},{\"name\":\"message\",\"kind\":\"Any\",\"default\":\"\"},{\"name\":\"notification_type\",\"kind\":\"Any\",\"default\":null},{\"name\":\"_destroyed\",\"kind\":\"Any\",\"default\":false}]},{\"type\":\"model\",\"name\":\"TemplateActions1\",\"properties\":[{\"name\":\"open_modal\",\"kind\":\"Any\",\"default\":0},{\"name\":\"close_modal\",\"kind\":\"Any\",\"default\":0}]},{\"type\":\"model\",\"name\":\"BootstrapTemplateActions1\",\"properties\":[{\"name\":\"open_modal\",\"kind\":\"Any\",\"default\":0},{\"name\":\"close_modal\",\"kind\":\"Any\",\"default\":0}]},{\"type\":\"model\",\"name\":\"TemplateEditor1\",\"properties\":[{\"name\":\"layout\",\"kind\":\"Any\",\"default\":[]}]},{\"type\":\"model\",\"name\":\"MaterialTemplateActions1\",\"properties\":[{\"name\":\"open_modal\",\"kind\":\"Any\",\"default\":0},{\"name\":\"close_modal\",\"kind\":\"Any\",\"default\":0}]},{\"type\":\"model\",\"name\":\"copy_to_clipboard1\",\"properties\":[{\"name\":\"fill\",\"kind\":\"Any\",\"default\":\"none\"},{\"name\":\"value\",\"kind\":\"Any\",\"default\":null}]}]}};\n",
       "  var render_items = [{\"docid\":\"2e8084ff-4d59-40e4-9386-f2dcb22eb1d9\",\"roots\":{\"p1128\":\"b0c442fb-1169-47ef-aca8-40385a618a02\"},\"root_ids\":[\"p1128\"]}];\n",
       "  var docs = Object.values(docs_json)\n",
       "  if (!docs) {\n",
       "    return\n",
       "  }\n",
       "  const py_version = docs[0].version.replace('rc', '-rc.').replace('.dev', '-dev.')\n",
       "  function embed_document(root) {\n",
       "    var Bokeh = get_bokeh(root)\n",
       "    Bokeh.embed.embed_items_notebook(docs_json, render_items);\n",
       "    for (const render_item of render_items) {\n",
       "      for (const root_id of render_item.root_ids) {\n",
       "\tconst id_el = document.getElementById(root_id)\n",
       "\tif (id_el.children.length && (id_el.children[0].className === 'bk-root')) {\n",
       "\t  const root_el = id_el.children[0]\n",
       "\t  root_el.id = root_el.id + '-rendered'\n",
       "\t}\n",
       "      }\n",
       "    }\n",
       "  }\n",
       "  function get_bokeh(root) {\n",
       "    if (root.Bokeh === undefined) {\n",
       "      return null\n",
       "    } else if (root.Bokeh.version !== py_version) {\n",
       "      if (root.Bokeh.versions === undefined || !root.Bokeh.versions.has(py_version)) {\n",
       "\treturn null\n",
       "      }\n",
       "      return root.Bokeh.versions.get(py_version);\n",
       "    } else if (root.Bokeh.version === py_version) {\n",
       "      return root.Bokeh\n",
       "    }\n",
       "    return null\n",
       "  }\n",
       "  function is_loaded(root) {\n",
       "    var Bokeh = get_bokeh(root)\n",
       "    return (Bokeh != null && Bokeh.Panel !== undefined)\n",
       "  }\n",
       "  if (is_loaded(root)) {\n",
       "    embed_document(root);\n",
       "  } else {\n",
       "    var attempts = 0;\n",
       "    var timer = setInterval(function(root) {\n",
       "      if (is_loaded(root)) {\n",
       "        clearInterval(timer);\n",
       "        embed_document(root);\n",
       "      } else if (document.readyState == \"complete\") {\n",
       "        attempts++;\n",
       "        if (attempts > 200) {\n",
       "          clearInterval(timer);\n",
       "\t  var Bokeh = get_bokeh(root)\n",
       "\t  if (Bokeh == null || Bokeh.Panel == null) {\n",
       "            console.warn(\"Panel: ERROR: Unable to run Panel code because Bokeh or Panel library is missing\");\n",
       "\t  } else {\n",
       "\t    console.warn(\"Panel: WARNING: Attempting to render but not all required libraries could be resolved.\")\n",
       "\t    embed_document(root)\n",
       "\t  }\n",
       "        }\n",
       "      }\n",
       "    }, 25, root)\n",
       "  }\n",
       "})(window);</script>"
      ],
      "text/plain": [
       ":Bars   [isHead]   (estimateArrive)"
      ]
     },
     "execution_count": 61,
     "metadata": {
      "application/vnd.holoviews_exec.v0+json": {
       "id": "p1128"
      }
     },
     "output_type": "execute_result"
    }
   ],
   "source": [
    "sample_data.group_by(pl.col('isHead')).mean().select(pl.col('isHead'),pl.col('estimateArrive')).head().collect().plot.bar(x='isHead')"
   ]
  },
  {
   "cell_type": "code",
   "execution_count": 62,
   "metadata": {},
   "outputs": [
    {
     "data": {
      "text/html": [
       "<div><style>\n",
       ".dataframe > thead > tr,\n",
       ".dataframe > tbody > tr {\n",
       "  text-align: right;\n",
       "  white-space: pre-wrap;\n",
       "}\n",
       "</style>\n",
       "<small>shape: (2, 2)</small><table border=\"1\" class=\"dataframe\"><thead><tr><th>isHead</th><th>estimateArrive</th></tr><tr><td>u8</td><td>f64</td></tr></thead><tbody><tr><td>1</td><td>673.029807</td></tr><tr><td>0</td><td>636.534496</td></tr></tbody></table></div>"
      ],
      "text/plain": [
       "shape: (2, 2)\n",
       "┌────────┬────────────────┐\n",
       "│ isHead ┆ estimateArrive │\n",
       "│ ---    ┆ ---            │\n",
       "│ u8     ┆ f64            │\n",
       "╞════════╪════════════════╡\n",
       "│ 1      ┆ 673.029807     │\n",
       "│ 0      ┆ 636.534496     │\n",
       "└────────┴────────────────┘"
      ]
     },
     "execution_count": 62,
     "metadata": {},
     "output_type": "execute_result"
    }
   ],
   "source": [
    "sample_data.group_by(pl.col('isHead')).mean().select(pl.col('isHead'),pl.col('estimateArrive')).head().collect()"
   ]
  },
  {
   "cell_type": "markdown",
   "metadata": {},
   "source": [
    "Mantenemos esta variable ya que está bastante relacionada con el `ETA`"
   ]
  },
  {
   "cell_type": "markdown",
   "metadata": {},
   "source": [
    "**Variable `dayType`**"
   ]
  },
  {
   "cell_type": "markdown",
   "metadata": {},
   "source": [
    "Valores nulos"
   ]
  },
  {
   "cell_type": "code",
   "execution_count": 63,
   "metadata": {},
   "outputs": [
    {
     "data": {
      "text/html": [
       "<div><style>\n",
       ".dataframe > thead > tr,\n",
       ".dataframe > tbody > tr {\n",
       "  text-align: right;\n",
       "  white-space: pre-wrap;\n",
       "}\n",
       "</style>\n",
       "<small>shape: (2, 2)</small><table border=\"1\" class=\"dataframe\"><thead><tr><th>dayType</th><th>count</th></tr><tr><td>str</td><td>u32</td></tr></thead><tbody><tr><td>&quot;LA&quot;</td><td>598012</td></tr><tr><td>null</td><td>533127</td></tr></tbody></table></div>"
      ],
      "text/plain": [
       "shape: (2, 2)\n",
       "┌─────────┬────────┐\n",
       "│ dayType ┆ count  │\n",
       "│ ---     ┆ ---    │\n",
       "│ str     ┆ u32    │\n",
       "╞═════════╪════════╡\n",
       "│ LA      ┆ 598012 │\n",
       "│ null    ┆ 533127 │\n",
       "└─────────┴────────┘"
      ]
     },
     "execution_count": 63,
     "metadata": {},
     "output_type": "execute_result"
    }
   ],
   "source": [
    "sample_data.group_by(pl.col('dayType')).count().head().collect()"
   ]
  },
  {
   "cell_type": "markdown",
   "metadata": {},
   "source": [
    "**Vemos de que tipo son los días nulos utilizando la fecha**"
   ]
  },
  {
   "cell_type": "code",
   "execution_count": 64,
   "metadata": {},
   "outputs": [],
   "source": [
    "def get_type_day(date):\n",
    "    \n",
    "    day = date.strftime(\"%A\")\n",
    "    \n",
    "    if day in ['Monday','Tuesday','Wednesday','Thursday','Friday']:\n",
    "        \n",
    "        type = 'LA'\n",
    "    elif day == 'Saturday':\n",
    "        type = 'SA'\n",
    "    else:\n",
    "        type = 'FE'\n",
    "        \n",
    "    return type"
   ]
  },
  {
   "cell_type": "code",
   "execution_count": 65,
   "metadata": {},
   "outputs": [],
   "source": [
    "sample_data = sample_data.with_columns(pl.when(pl.col('dayType').is_null()).then(pl.col('date').apply(get_type_day)).otherwise(pl.col('dayType')).alias('dayType'))"
   ]
  },
  {
   "cell_type": "code",
   "execution_count": 66,
   "metadata": {},
   "outputs": [
    {
     "data": {
      "text/html": [
       "<div><style>\n",
       ".dataframe > thead > tr,\n",
       ".dataframe > tbody > tr {\n",
       "  text-align: right;\n",
       "  white-space: pre-wrap;\n",
       "}\n",
       "</style>\n",
       "<small>shape: (1, 2)</small><table border=\"1\" class=\"dataframe\"><thead><tr><th>dayType</th><th>count</th></tr><tr><td>str</td><td>u32</td></tr></thead><tbody><tr><td>&quot;LA&quot;</td><td>1131139</td></tr></tbody></table></div>"
      ],
      "text/plain": [
       "shape: (1, 2)\n",
       "┌─────────┬─────────┐\n",
       "│ dayType ┆ count   │\n",
       "│ ---     ┆ ---     │\n",
       "│ str     ┆ u32     │\n",
       "╞═════════╪═════════╡\n",
       "│ LA      ┆ 1131139 │\n",
       "└─────────┴─────────┘"
      ]
     },
     "execution_count": 66,
     "metadata": {},
     "output_type": "execute_result"
    }
   ],
   "source": [
    "sample_data.group_by(pl.col('dayType')).count().head().collect()"
   ]
  },
  {
   "cell_type": "markdown",
   "metadata": {},
   "source": [
    "**Variable `strike`**"
   ]
  },
  {
   "cell_type": "markdown",
   "metadata": {},
   "source": [
    "Valores nulos"
   ]
  },
  {
   "cell_type": "code",
   "execution_count": 67,
   "metadata": {},
   "outputs": [
    {
     "data": {
      "text/html": [
       "<div><style>\n",
       ".dataframe > thead > tr,\n",
       ".dataframe > tbody > tr {\n",
       "  text-align: right;\n",
       "  white-space: pre-wrap;\n",
       "}\n",
       "</style>\n",
       "<small>shape: (2, 2)</small><table border=\"1\" class=\"dataframe\"><thead><tr><th>strike</th><th>count</th></tr><tr><td>str</td><td>u32</td></tr></thead><tbody><tr><td>null</td><td>533127</td></tr><tr><td>&quot;N&quot;</td><td>598012</td></tr></tbody></table></div>"
      ],
      "text/plain": [
       "shape: (2, 2)\n",
       "┌────────┬────────┐\n",
       "│ strike ┆ count  │\n",
       "│ ---    ┆ ---    │\n",
       "│ str    ┆ u32    │\n",
       "╞════════╪════════╡\n",
       "│ null   ┆ 533127 │\n",
       "│ N      ┆ 598012 │\n",
       "└────────┴────────┘"
      ]
     },
     "execution_count": 67,
     "metadata": {},
     "output_type": "execute_result"
    }
   ],
   "source": [
    "sample_data.group_by(pl.col('strike')).count().head().collect()"
   ]
  },
  {
   "cell_type": "code",
   "execution_count": 68,
   "metadata": {},
   "outputs": [
    {
     "data": {
      "text/html": [
       "<div><style>\n",
       ".dataframe > thead > tr,\n",
       ".dataframe > tbody > tr {\n",
       "  text-align: right;\n",
       "  white-space: pre-wrap;\n",
       "}\n",
       "</style>\n",
       "<small>shape: (2, 2)</small><table border=\"1\" class=\"dataframe\"><thead><tr><th>strike</th><th>estimateArrive</th></tr><tr><td>str</td><td>f64</td></tr></thead><tbody><tr><td>null</td><td>687.680016</td></tr><tr><td>&quot;N&quot;</td><td>594.787466</td></tr></tbody></table></div>"
      ],
      "text/plain": [
       "shape: (2, 2)\n",
       "┌────────┬────────────────┐\n",
       "│ strike ┆ estimateArrive │\n",
       "│ ---    ┆ ---            │\n",
       "│ str    ┆ f64            │\n",
       "╞════════╪════════════════╡\n",
       "│ null   ┆ 687.680016     │\n",
       "│ N      ┆ 594.787466     │\n",
       "└────────┴────────────────┘"
      ]
     },
     "execution_count": 68,
     "metadata": {},
     "output_type": "execute_result"
    }
   ],
   "source": [
    "sample_data.group_by(pl.col('strike')).mean().select(pl.col('strike'),pl.col('estimateArrive')).head().collect()"
   ]
  },
  {
   "cell_type": "markdown",
   "metadata": {},
   "source": [
    "- La variable `Strike` toma solo 'N' o nulo, por lo que para ningún día se tiene constancia de que hubo huelga. Por tanto para estos datos esta variable no va a aportar información."
   ]
  },
  {
   "cell_type": "code",
   "execution_count": 69,
   "metadata": {},
   "outputs": [
    {
     "data": {
      "text/html": [
       "<div><style>\n",
       ".dataframe > thead > tr,\n",
       ".dataframe > tbody > tr {\n",
       "  text-align: right;\n",
       "  white-space: pre-wrap;\n",
       "}\n",
       "</style>\n",
       "<small>shape: (5, 16)</small><table border=\"1\" class=\"dataframe\"><thead><tr><th>PK</th><th>date</th><th>datetime</th><th>bus</th><th>line</th><th>stop</th><th>positionBusLon</th><th>positionBusLat</th><th>positionTypeBus</th><th>DistanceBus</th><th>destination</th><th>MinimunFrequency</th><th>MaximumFrequency</th><th>isHead</th><th>dayType</th><th>estimateArrive</th></tr><tr><td>str</td><td>date</td><td>datetime[μs]</td><td>i64</td><td>str</td><td>i64</td><td>f64</td><td>f64</td><td>i64</td><td>i64</td><td>str</td><td>i64</td><td>i64</td><td>u8</td><td>str</td><td>i64</td></tr></thead><tbody><tr><td>&quot;2024-03-13 12:…</td><td>2024-03-13</td><td>2024-03-13 12:14:06.145791</td><td>5552</td><td>&quot;42&quot;</td><td>5018</td><td>-3.689362</td><td>40.467008</td><td>0</td><td>880</td><td>&quot;BARRIO PEÑAGRA…</td><td>7</td><td>24</td><td>0</td><td>&quot;LA&quot;</td><td>232</td></tr><tr><td>&quot;2024-03-13 12:…</td><td>2024-03-13</td><td>2024-03-13 12:58:02.776095</td><td>4757</td><td>&quot;19&quot;</td><td>89</td><td>-3.694772</td><td>40.392075</td><td>0</td><td>1550</td><td>&quot;PLAZA CATALUÑA…</td><td>null</td><td>null</td><td>0</td><td>&quot;LA&quot;</td><td>434</td></tr><tr><td>&quot;2024-03-13 10:…</td><td>2024-03-13</td><td>2024-03-13 10:00:02.709359</td><td>4737</td><td>&quot;49&quot;</td><td>1542</td><td>-3.689145</td><td>40.467685</td><td>0</td><td>2618</td><td>&quot;PITIS&quot;</td><td>4</td><td>15</td><td>0</td><td>&quot;LA&quot;</td><td>707</td></tr><tr><td>&quot;2024-03-13 15:…</td><td>2024-03-13</td><td>2024-03-13 15:07:05.141116</td><td>2132</td><td>&quot;107&quot;</td><td>1841</td><td>-3.6667</td><td>40.469799</td><td>0</td><td>1855</td><td>&quot;HORTALEZA&quot;</td><td>11</td><td>22</td><td>0</td><td>&quot;LA&quot;</td><td>363</td></tr><tr><td>&quot;2024-03-13 15:…</td><td>2024-03-13</td><td>2024-03-13 15:08:07.085498</td><td>4725</td><td>&quot;49&quot;</td><td>5636</td><td>-3.700473</td><td>40.468273</td><td>0</td><td>137</td><td>&quot;PITIS&quot;</td><td>4</td><td>15</td><td>0</td><td>&quot;LA&quot;</td><td>39</td></tr></tbody></table></div>"
      ],
      "text/plain": [
       "shape: (5, 16)\n",
       "┌─────────────┬────────────┬─────────────┬──────┬───┬─────────────┬────────┬─────────┬─────────────┐\n",
       "│ PK          ┆ date       ┆ datetime    ┆ bus  ┆ … ┆ MaximumFreq ┆ isHead ┆ dayType ┆ estimateArr │\n",
       "│ ---         ┆ ---        ┆ ---         ┆ ---  ┆   ┆ uency       ┆ ---    ┆ ---     ┆ ive         │\n",
       "│ str         ┆ date       ┆ datetime[μs ┆ i64  ┆   ┆ ---         ┆ u8     ┆ str     ┆ ---         │\n",
       "│             ┆            ┆ ]           ┆      ┆   ┆ i64         ┆        ┆         ┆ i64         │\n",
       "╞═════════════╪════════════╪═════════════╪══════╪═══╪═════════════╪════════╪═════════╪═════════════╡\n",
       "│ 2024-03-13  ┆ 2024-03-13 ┆ 2024-03-13  ┆ 5552 ┆ … ┆ 24          ┆ 0      ┆ LA      ┆ 232         │\n",
       "│ 12:14:06.14 ┆            ┆ 12:14:06.14 ┆      ┆   ┆             ┆        ┆         ┆             │\n",
       "│ 5791_B5552… ┆            ┆ 5791        ┆      ┆   ┆             ┆        ┆         ┆             │\n",
       "│ 2024-03-13  ┆ 2024-03-13 ┆ 2024-03-13  ┆ 4757 ┆ … ┆ null        ┆ 0      ┆ LA      ┆ 434         │\n",
       "│ 12:58:02.77 ┆            ┆ 12:58:02.77 ┆      ┆   ┆             ┆        ┆         ┆             │\n",
       "│ 6095_B4757… ┆            ┆ 6095        ┆      ┆   ┆             ┆        ┆         ┆             │\n",
       "│ 2024-03-13  ┆ 2024-03-13 ┆ 2024-03-13  ┆ 4737 ┆ … ┆ 15          ┆ 0      ┆ LA      ┆ 707         │\n",
       "│ 10:00:02.70 ┆            ┆ 10:00:02.70 ┆      ┆   ┆             ┆        ┆         ┆             │\n",
       "│ 9359_B4737… ┆            ┆ 9359        ┆      ┆   ┆             ┆        ┆         ┆             │\n",
       "│ 2024-03-13  ┆ 2024-03-13 ┆ 2024-03-13  ┆ 2132 ┆ … ┆ 22          ┆ 0      ┆ LA      ┆ 363         │\n",
       "│ 15:07:05.14 ┆            ┆ 15:07:05.14 ┆      ┆   ┆             ┆        ┆         ┆             │\n",
       "│ 1116_B2132… ┆            ┆ 1116        ┆      ┆   ┆             ┆        ┆         ┆             │\n",
       "│ 2024-03-13  ┆ 2024-03-13 ┆ 2024-03-13  ┆ 4725 ┆ … ┆ 15          ┆ 0      ┆ LA      ┆ 39          │\n",
       "│ 15:08:07.08 ┆            ┆ 15:08:07.08 ┆      ┆   ┆             ┆        ┆         ┆             │\n",
       "│ 5498_B4725… ┆            ┆ 5498        ┆      ┆   ┆             ┆        ┆         ┆             │\n",
       "└─────────────┴────────────┴─────────────┴──────┴───┴─────────────┴────────┴─────────┴─────────────┘"
      ]
     },
     "execution_count": 69,
     "metadata": {},
     "output_type": "execute_result"
    }
   ],
   "source": [
    "sample_data = sample_data.drop('strike')\n",
    "sample_data.head().collect()"
   ]
  },
  {
   "cell_type": "markdown",
   "metadata": {},
   "source": [
    "**Variable `estimateArrive`**"
   ]
  },
  {
   "cell_type": "markdown",
   "metadata": {},
   "source": [
    "Valores nulos"
   ]
  },
  {
   "cell_type": "code",
   "execution_count": 70,
   "metadata": {},
   "outputs": [
    {
     "data": {
      "text/html": [
       "<div><style>\n",
       ".dataframe > thead > tr,\n",
       ".dataframe > tbody > tr {\n",
       "  text-align: right;\n",
       "  white-space: pre-wrap;\n",
       "}\n",
       "</style>\n",
       "<small>shape: (5, 2)</small><table border=\"1\" class=\"dataframe\"><thead><tr><th>estimateArrive</th><th>count</th></tr><tr><td>i64</td><td>u32</td></tr></thead><tbody><tr><td>1727</td><td>78</td></tr><tr><td>828</td><td>750</td></tr><tr><td>2236</td><td>13</td></tr><tr><td>167</td><td>959</td></tr><tr><td>423</td><td>947</td></tr></tbody></table></div>"
      ],
      "text/plain": [
       "shape: (5, 2)\n",
       "┌────────────────┬───────┐\n",
       "│ estimateArrive ┆ count │\n",
       "│ ---            ┆ ---   │\n",
       "│ i64            ┆ u32   │\n",
       "╞════════════════╪═══════╡\n",
       "│ 1727           ┆ 78    │\n",
       "│ 828            ┆ 750   │\n",
       "│ 2236           ┆ 13    │\n",
       "│ 167            ┆ 959   │\n",
       "│ 423            ┆ 947   │\n",
       "└────────────────┴───────┘"
      ]
     },
     "execution_count": 70,
     "metadata": {},
     "output_type": "execute_result"
    }
   ],
   "source": [
    "sample_data.group_by(pl.col('estimateArrive')).count().head().collect()"
   ]
  },
  {
   "cell_type": "markdown",
   "metadata": {},
   "source": [
    "**Resumen**\n"
   ]
  },
  {
   "cell_type": "code",
   "execution_count": 71,
   "metadata": {},
   "outputs": [
    {
     "data": {
      "text/html": [
       "<div><style>\n",
       ".dataframe > thead > tr,\n",
       ".dataframe > tbody > tr {\n",
       "  text-align: right;\n",
       "  white-space: pre-wrap;\n",
       "}\n",
       "</style>\n",
       "<small>shape: (9, 2)</small><table border=\"1\" class=\"dataframe\"><thead><tr><th>statistic</th><th>estimateArrive</th></tr><tr><td>str</td><td>f64</td></tr></thead><tbody><tr><td>&quot;count&quot;</td><td>1.131139e6</td></tr><tr><td>&quot;null_count&quot;</td><td>0.0</td></tr><tr><td>&quot;mean&quot;</td><td>638.569465</td></tr><tr><td>&quot;std&quot;</td><td>455.633197</td></tr><tr><td>&quot;min&quot;</td><td>0.0</td></tr><tr><td>&quot;25%&quot;</td><td>274.0</td></tr><tr><td>&quot;50%&quot;</td><td>566.0</td></tr><tr><td>&quot;75%&quot;</td><td>922.0</td></tr><tr><td>&quot;max&quot;</td><td>5389.0</td></tr></tbody></table></div>"
      ],
      "text/plain": [
       "shape: (9, 2)\n",
       "┌────────────┬────────────────┐\n",
       "│ statistic  ┆ estimateArrive │\n",
       "│ ---        ┆ ---            │\n",
       "│ str        ┆ f64            │\n",
       "╞════════════╪════════════════╡\n",
       "│ count      ┆ 1.131139e6     │\n",
       "│ null_count ┆ 0.0            │\n",
       "│ mean       ┆ 638.569465     │\n",
       "│ std        ┆ 455.633197     │\n",
       "│ min        ┆ 0.0            │\n",
       "│ 25%        ┆ 274.0          │\n",
       "│ 50%        ┆ 566.0          │\n",
       "│ 75%        ┆ 922.0          │\n",
       "│ max        ┆ 5389.0         │\n",
       "└────────────┴────────────────┘"
      ]
     },
     "execution_count": 71,
     "metadata": {},
     "output_type": "execute_result"
    }
   ],
   "source": [
    "sample_data.select(pl.col('estimateArrive')).describe()"
   ]
  },
  {
   "cell_type": "markdown",
   "metadata": {},
   "source": [
    "\n",
    "- Las variables `MinimunFrequency ` y `MaximumFrequency ` están muy relacionadas entre ellas. Se podría dejar tan solo `MinimumFrequency` ya que aporta mas informacion al `ETA` que la otra\n",
    "\n",
    "\n",
    " "
   ]
  },
  {
   "cell_type": "code",
   "execution_count": 72,
   "metadata": {},
   "outputs": [
    {
     "data": {
      "text/html": [
       "<div><style>\n",
       ".dataframe > thead > tr,\n",
       ".dataframe > tbody > tr {\n",
       "  text-align: right;\n",
       "  white-space: pre-wrap;\n",
       "}\n",
       "</style>\n",
       "<small>shape: (5, 15)</small><table border=\"1\" class=\"dataframe\"><thead><tr><th>PK</th><th>date</th><th>datetime</th><th>bus</th><th>line</th><th>stop</th><th>positionBusLon</th><th>positionBusLat</th><th>positionTypeBus</th><th>DistanceBus</th><th>destination</th><th>MinimunFrequency</th><th>isHead</th><th>dayType</th><th>estimateArrive</th></tr><tr><td>str</td><td>date</td><td>datetime[μs]</td><td>i64</td><td>str</td><td>i64</td><td>f64</td><td>f64</td><td>i64</td><td>i64</td><td>str</td><td>i64</td><td>u8</td><td>str</td><td>i64</td></tr></thead><tbody><tr><td>&quot;2024-03-13 09:…</td><td>2024-03-13</td><td>2024-03-13 09:51:55.581672</td><td>4860</td><td>&quot;49&quot;</td><td>1550</td><td>-3.71357</td><td>40.483189</td><td>0</td><td>642</td><td>&quot;PITIS&quot;</td><td>4</td><td>0</td><td>&quot;LA&quot;</td><td>230</td></tr><tr><td>&quot;2024-03-13 16:…</td><td>2024-03-13</td><td>2024-03-13 16:53:04.751456</td><td>2468</td><td>&quot;134&quot;</td><td>2864</td><td>-3.708434</td><td>40.498855</td><td>0</td><td>575</td><td>&quot;MONTECARMELO&quot;</td><td>9</td><td>0</td><td>&quot;LA&quot;</td><td>209</td></tr><tr><td>&quot;2024-03-13 16:…</td><td>2024-03-13</td><td>2024-03-13 16:14:04.487383</td><td>2310</td><td>&quot;178&quot;</td><td>1760</td><td>-3.685786</td><td>40.47828</td><td>0</td><td>3282</td><td>&quot;MONTECARMELO&quot;</td><td>6</td><td>0</td><td>&quot;LA&quot;</td><td>415</td></tr><tr><td>&quot;2024-03-13 16:…</td><td>2024-03-13</td><td>2024-03-13 16:56:06.220714</td><td>9120</td><td>&quot;177&quot;</td><td>5800</td><td>-3.688153</td><td>40.467592</td><td>0</td><td>910</td><td>&quot;MARQUES DE VIA…</td><td>9</td><td>0</td><td>&quot;LA&quot;</td><td>607</td></tr><tr><td>&quot;2024-03-13 08:…</td><td>2024-03-13</td><td>2024-03-13 08:29:03.023408</td><td>5637</td><td>&quot;147&quot;</td><td>29</td><td>-3.690032</td><td>40.455447</td><td>0</td><td>972</td><td>&quot;BARRIO DEL PIL…</td><td>null</td><td>0</td><td>&quot;LA&quot;</td><td>170</td></tr></tbody></table></div>"
      ],
      "text/plain": [
       "shape: (5, 15)\n",
       "┌─────────────┬────────────┬─────────────┬──────┬───┬─────────────┬────────┬─────────┬─────────────┐\n",
       "│ PK          ┆ date       ┆ datetime    ┆ bus  ┆ … ┆ MinimunFreq ┆ isHead ┆ dayType ┆ estimateArr │\n",
       "│ ---         ┆ ---        ┆ ---         ┆ ---  ┆   ┆ uency       ┆ ---    ┆ ---     ┆ ive         │\n",
       "│ str         ┆ date       ┆ datetime[μs ┆ i64  ┆   ┆ ---         ┆ u8     ┆ str     ┆ ---         │\n",
       "│             ┆            ┆ ]           ┆      ┆   ┆ i64         ┆        ┆         ┆ i64         │\n",
       "╞═════════════╪════════════╪═════════════╪══════╪═══╪═════════════╪════════╪═════════╪═════════════╡\n",
       "│ 2024-03-13  ┆ 2024-03-13 ┆ 2024-03-13  ┆ 4860 ┆ … ┆ 4           ┆ 0      ┆ LA      ┆ 230         │\n",
       "│ 09:51:55.58 ┆            ┆ 09:51:55.58 ┆      ┆   ┆             ┆        ┆         ┆             │\n",
       "│ 1672_B4860… ┆            ┆ 1672        ┆      ┆   ┆             ┆        ┆         ┆             │\n",
       "│ 2024-03-13  ┆ 2024-03-13 ┆ 2024-03-13  ┆ 2468 ┆ … ┆ 9           ┆ 0      ┆ LA      ┆ 209         │\n",
       "│ 16:53:04.75 ┆            ┆ 16:53:04.75 ┆      ┆   ┆             ┆        ┆         ┆             │\n",
       "│ 1456_B2468… ┆            ┆ 1456        ┆      ┆   ┆             ┆        ┆         ┆             │\n",
       "│ 2024-03-13  ┆ 2024-03-13 ┆ 2024-03-13  ┆ 2310 ┆ … ┆ 6           ┆ 0      ┆ LA      ┆ 415         │\n",
       "│ 16:14:04.48 ┆            ┆ 16:14:04.48 ┆      ┆   ┆             ┆        ┆         ┆             │\n",
       "│ 7383_B2310… ┆            ┆ 7383        ┆      ┆   ┆             ┆        ┆         ┆             │\n",
       "│ 2024-03-13  ┆ 2024-03-13 ┆ 2024-03-13  ┆ 9120 ┆ … ┆ 9           ┆ 0      ┆ LA      ┆ 607         │\n",
       "│ 16:56:06.22 ┆            ┆ 16:56:06.22 ┆      ┆   ┆             ┆        ┆         ┆             │\n",
       "│ 0714_B9120… ┆            ┆ 0714        ┆      ┆   ┆             ┆        ┆         ┆             │\n",
       "│ 2024-03-13  ┆ 2024-03-13 ┆ 2024-03-13  ┆ 5637 ┆ … ┆ null        ┆ 0      ┆ LA      ┆ 170         │\n",
       "│ 08:29:03.02 ┆            ┆ 08:29:03.02 ┆      ┆   ┆             ┆        ┆         ┆             │\n",
       "│ 3408_B5637… ┆            ┆ 3408        ┆      ┆   ┆             ┆        ┆         ┆             │\n",
       "└─────────────┴────────────┴─────────────┴──────┴───┴─────────────┴────────┴─────────┴─────────────┘"
      ]
     },
     "execution_count": 72,
     "metadata": {},
     "output_type": "execute_result"
    }
   ],
   "source": [
    "sample_data = sample_data.drop('MaximumFrequency')\n",
    "sample_data.head().collect()"
   ]
  },
  {
   "cell_type": "markdown",
   "metadata": {},
   "source": [
    "## Conclusión"
   ]
  },
  {
   "cell_type": "markdown",
   "metadata": {},
   "source": [
    "Para cada _.csv_ de un día concreto vamos a crear otro _.csv_ que tan solo tenga las columnas:\n",
    "- `PK`\n",
    "- `predict_arrival_date`\n",
    "- `reliable_arrival_date`\n",
    "\n",
    "Por otro lado vamos a crear otro _.csv_ que tenga las columnas:\n",
    "- `PK`\n",
    "- `date`\n",
    "- `datetime`\n",
    "- `bus`\n",
    "- `line`\n",
    "- `stop`\n",
    "- `positionBusLon`\n",
    "- `positionBusLat` \n",
    "- `DistanceBus`\n",
    "- `destination`\n",
    "- `MinimunFrequency`\n",
    "- `isHead`\n",
    "- `dayType`\n",
    "- `estimateArrive`\n",
    "\n",
    "El dataset de entrenamiento será la concatenación de todos los días y el join de ambos mediante la `PK`\n"
   ]
  },
  {
   "cell_type": "markdown",
   "metadata": {},
   "source": []
  }
 ],
 "metadata": {
  "kernelspec": {
   "display_name": "venv",
   "language": "python",
   "name": "python3"
  },
  "language_info": {
   "codemirror_mode": {
    "name": "ipython",
    "version": 3
   },
   "file_extension": ".py",
   "mimetype": "text/x-python",
   "name": "python",
   "nbconvert_exporter": "python",
   "pygments_lexer": "ipython3",
   "version": "3.10.12"
  },
  "orig_nbformat": 4
 },
 "nbformat": 4,
 "nbformat_minor": 2
}
